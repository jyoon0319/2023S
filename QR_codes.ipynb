{
  "nbformat": 4,
  "nbformat_minor": 0,
  "metadata": {
    "colab": {
      "provenance": [],
      "authorship_tag": "ABX9TyMmtWBuD1vllWlJgozV524f",
      "include_colab_link": true
    },
    "kernelspec": {
      "name": "python3",
      "display_name": "Python 3"
    },
    "language_info": {
      "name": "python"
    }
  },
  "cells": [
    {
      "cell_type": "markdown",
      "metadata": {
        "id": "view-in-github",
        "colab_type": "text"
      },
      "source": [
        "<a href=\"https://colab.research.google.com/github/jyoon0319/2023S/blob/main/QR_codes.ipynb\" target=\"_parent\"><img src=\"https://colab.research.google.com/assets/colab-badge.svg\" alt=\"Open In Colab\"/></a>"
      ]
    },
    {
      "cell_type": "markdown",
      "source": [
        "# Create a QR code\n",
        "https://www.freecodecamp.org/news/how-to-create-stunning-qr-codes-with-python/"
      ],
      "metadata": {
        "id": "VWqJvonNjDpw"
      }
    },
    {
      "cell_type": "code",
      "execution_count": 5,
      "metadata": {
        "colab": {
          "base_uri": "https://localhost:8080/"
        },
        "id": "r6YTvdyHjB7a",
        "outputId": "a92130d5-0383-418b-adf6-a5b03eb4c55d"
      },
      "outputs": [
        {
          "output_type": "stream",
          "name": "stdout",
          "text": [
            "Looking in indexes: https://pypi.org/simple, https://us-python.pkg.dev/colab-wheels/public/simple/\n",
            "Requirement already satisfied: segno in /usr/local/lib/python3.9/dist-packages (1.5.2)\n"
          ]
        }
      ],
      "source": [
        "#install Segno\n",
        "!pip install segno\n",
        "\n",
        "import segno\n",
        "\n",
        "price_tag = segno.make(\"Hello World\")\n",
        "price_tag.save(\"hello-world.png\")"
      ]
    },
    {
      "cell_type": "markdown",
      "source": [
        "###Save in different formats - .svg .eps  .pdf"
      ],
      "metadata": {
        "id": "MJae71HjksDB"
      }
    },
    {
      "cell_type": "code",
      "source": [
        "qrcode = segno.make('Vampire Blues')\n",
        "qrcode.save('vampire-blues.pdf', border=5)"
      ],
      "metadata": {
        "id": "7Ny_QKkijrla"
      },
      "execution_count": 10,
      "outputs": []
    },
    {
      "cell_type": "markdown",
      "source": [
        "### Bigger QR codes"
      ],
      "metadata": {
        "id": "WwjXiVn3kMMf"
      }
    },
    {
      "cell_type": "code",
      "source": [
        "qrcode = segno.make_qr('Welcome')\n",
        "qrcode.save('welcome.png', scale=10)"
      ],
      "metadata": {
        "id": "bR862kT6kEqW"
      },
      "execution_count": 7,
      "outputs": []
    },
    {
      "cell_type": "markdown",
      "source": [
        "### Colorful QR codes"
      ],
      "metadata": {
        "id": "OwDL0AablTMa"
      }
    },
    {
      "cell_type": "code",
      "source": [
        "import segno\n",
        "qrcode = segno.make(\"Green ave, Kingston\")\n",
        "qrcode.save('address.png', dark='darkred', light='lightblue', scale=10)"
      ],
      "metadata": {
        "id": "Fsa6akvJlZa5"
      },
      "execution_count": 11,
      "outputs": []
    },
    {
      "cell_type": "code",
      "source": [
        "qrcode = segno.make(\"Green ave, Kingston\")\n",
        "# Dark modules with alpha transparency\n",
        "qrcode.save('address2.png', dark='#0000ffcc', scale=10)"
      ],
      "metadata": {
        "id": "RK8MGySolwoC"
      },
      "execution_count": null,
      "outputs": []
    },
    {
      "cell_type": "code",
      "source": [
        "import segno\n",
        "micro_qrcode = segno.make('Rain', error='q')\n",
        "micro_qrcode.save('rain.png', dark='darkblue', data_dark='steelblue', scale=5)"
      ],
      "metadata": {
        "id": "BRxG4oMjl6KO"
      },
      "execution_count": null,
      "outputs": []
    },
    {
      "cell_type": "markdown",
      "source": [
        "### a QR code for URL sharing"
      ],
      "metadata": {
        "id": "v8hRbOzVmnj6"
      }
    },
    {
      "cell_type": "code",
      "source": [
        "import segno\n",
        "\n",
        "video = segno.make('https://www.youtube.com/channel/UCNhFxpk6hGt5uMCKXq0Jl8A')\n",
        "video.save('Video.png', dark=\"yellow\", light=\"#323524\", scale=5)"
      ],
      "metadata": {
        "id": "aTtGN33qmvqR"
      },
      "execution_count": 12,
      "outputs": []
    },
    {
      "cell_type": "markdown",
      "source": [
        "# **a QR code for a WiFi Configuration**"
      ],
      "metadata": {
        "id": "ZyMS9l44m5dh"
      }
    },
    {
      "cell_type": "code",
      "source": [
        "from segno import helpers\n",
        "\n",
        "qrcode = helpers.make_wifi(ssid='MyWifi', password='1234567890', security='WPA')\n",
        "qrcode.designator\n",
        "'3-M'\n",
        "qrcode.save('wifi-access.png', scale=10)"
      ],
      "metadata": {
        "id": "_ryPYyginA32"
      },
      "execution_count": 15,
      "outputs": []
    },
    {
      "cell_type": "code",
      "source": [
        "import segno\n",
        "wifi_settings = {ssid='(Wifi Name)', password='(Wifi Password)', security='WPA'}\n",
        "wifi = segno.helpers.make_wifi(**wifi_settings)\n",
        "wifi.save(\"Wifi.png\", dark=\"yellow\", light=\"#323524\", scale=8)"
      ],
      "metadata": {
        "colab": {
          "base_uri": "https://localhost:8080/",
          "height": 138
        },
        "id": "9STjAMmLoApY",
        "outputId": "2a36d4a6-77a5-41f2-d8ec-1cfa3e37c397"
      },
      "execution_count": 14,
      "outputs": [
        {
          "output_type": "error",
          "ename": "SyntaxError",
          "evalue": "ignored",
          "traceback": [
            "\u001b[0;36m  File \u001b[0;32m\"<ipython-input-14-4f7c149b6afd>\"\u001b[0;36m, line \u001b[0;32m2\u001b[0m\n\u001b[0;31m    wifi_settings = {ssid='(Wifi Name)', password='(Wifi Password)', security='WPA'}\u001b[0m\n\u001b[0m                         ^\u001b[0m\n\u001b[0;31mSyntaxError\u001b[0m\u001b[0;31m:\u001b[0m invalid syntax\n"
          ]
        }
      ]
    },
    {
      "cell_type": "markdown",
      "source": [
        "\n",
        "\n",
        "\n",
        "1.  \"Instead of giving consumers unique access codes, businesses may use QR codes to offer free WiFi acces\"\n",
        "2.   \"Families can use it to grant visitors access to their internet at home.\"\n",
        "\n"
      ],
      "metadata": {
        "id": "TgJRKJHOooYt"
      }
    },
    {
      "cell_type": "markdown",
      "source": [
        "### Encode Contact Details in QR Codes"
      ],
      "metadata": {
        "id": "KGOTPqPZpCZE"
      }
    },
    {
      "cell_type": "markdown",
      "source": [
        "##### helpers.make_mecard()  -> this method  helps us pass in the contact details"
      ],
      "metadata": {
        "id": "f7ZcdJ9WpkRq"
      }
    },
    {
      "cell_type": "code",
      "source": [
        "from segno import helpers\n",
        "qrcode = helpers.make_mecard(name='Shittu Olumide', email='me@example.com', phone='+123456789')\n",
        "qrcode.designator\n",
        "'3-L'\n",
        "# Some params accept multiple values, like email, phone, url\n",
        "qrcode = helpers.make_mecard(name='Shittu Olumide', \n",
        "                             email=('me@example.com', 'email@example.com'),\n",
        "                             url=['http://www.example.com', 'https://example.come/~olu'])\n",
        "qrcode.save('mycontact.png', scale=5)"
      ],
      "metadata": {
        "id": "NyMUAB9jpG0d"
      },
      "execution_count": null,
      "outputs": []
    },
    {
      "cell_type": "markdown",
      "source": [
        "#QR code use cases\n",
        "\n",
        "---\n",
        "\n",
        "\n",
        "\n",
        "1.   Digital payments.\n",
        "2.   Sharing information.\n",
        "\n",
        "1.   QR code menus in restaurants.\n",
        "2.   Facilitating WiFi authentication\n",
        "\n",
        "\n",
        "\n"
      ],
      "metadata": {
        "id": "BweBRO8Bp5P5"
      }
    },
    {
      "cell_type": "markdown",
      "source": [
        "\n",
        "\n",
        "---\n",
        "The end\n"
      ],
      "metadata": {
        "id": "iYBD6cuiqoRt"
      }
    }
  ]
}