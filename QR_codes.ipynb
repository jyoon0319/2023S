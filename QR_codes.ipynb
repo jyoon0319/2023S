{
  "nbformat": 4,
  "nbformat_minor": 0,
  "metadata": {
    "colab": {
      "provenance": [],
      "authorship_tag": "ABX9TyMNG+pCD29q8kub1v4sGd14",
      "include_colab_link": true
    },
    "kernelspec": {
      "name": "python3",
      "display_name": "Python 3"
    },
    "language_info": {
      "name": "python"
    }
  },
  "cells": [
    {
      "cell_type": "markdown",
      "metadata": {
        "id": "view-in-github",
        "colab_type": "text"
      },
      "source": [
        "<a href=\"https://colab.research.google.com/github/jyoon0319/2023S/blob/main/QR_codes.ipynb\" target=\"_parent\"><img src=\"https://colab.research.google.com/assets/colab-badge.svg\" alt=\"Open In Colab\"/></a>"
      ]
    },
    {
      "cell_type": "markdown",
      "source": [
        "# Create a QR code\n",
        "https://www.freecodecamp.org/news/how-to-create-stunning-qr-codes-with-python/"
      ],
      "metadata": {
        "id": "VWqJvonNjDpw"
      }
    },
    {
      "cell_type": "code",
      "execution_count": 5,
      "metadata": {
        "colab": {
          "base_uri": "https://localhost:8080/"
        },
        "id": "r6YTvdyHjB7a",
        "outputId": "a92130d5-0383-418b-adf6-a5b03eb4c55d"
      },
      "outputs": [
        {
          "output_type": "stream",
          "name": "stdout",
          "text": [
            "Looking in indexes: https://pypi.org/simple, https://us-python.pkg.dev/colab-wheels/public/simple/\n",
            "Requirement already satisfied: segno in /usr/local/lib/python3.9/dist-packages (1.5.2)\n"
          ]
        }
      ],
      "source": [
        "#install Segno\n",
        "!pip install segno\n",
        "\n",
        "import segno\n",
        "\n",
        "price_tag = segno.make(\"Hello World\")\n",
        "price_tag.save(\"hello-world.png\")"
      ]
    },
    {
      "cell_type": "markdown",
      "source": [
        "###Save in different formats - .svg .eps  .pdf"
      ],
      "metadata": {
        "id": "MJae71HjksDB"
      }
    },
    {
      "cell_type": "code",
      "source": [
        "qrcode = segno.make('Vampire Blues')\n",
        "qrcode.save('vampire-blues.pdf', border=5)"
      ],
      "metadata": {
        "id": "7Ny_QKkijrla"
      },
      "execution_count": 10,
      "outputs": []
    },
    {
      "cell_type": "markdown",
      "source": [
        "### Bigger QR codes"
      ],
      "metadata": {
        "id": "WwjXiVn3kMMf"
      }
    },
    {
      "cell_type": "code",
      "source": [
        "qrcode = segno.make_qr('Welcome')\n",
        "qrcode.save('welcome.png', scale=10)"
      ],
      "metadata": {
        "id": "bR862kT6kEqW"
      },
      "execution_count": 7,
      "outputs": []
    },
    {
      "cell_type": "markdown",
      "source": [
        "### Colorful QR codes"
      ],
      "metadata": {
        "id": "OwDL0AablTMa"
      }
    },
    {
      "cell_type": "code",
      "source": [
        "import segno\n",
        "qrcode = segno.make(\"Green ave, Kingston\")\n",
        "qrcode.save('address.png', dark='darkred', light='lightblue', scale=10)"
      ],
      "metadata": {
        "id": "Fsa6akvJlZa5"
      },
      "execution_count": 11,
      "outputs": []
    },
    {
      "cell_type": "code",
      "source": [
        "qrcode = segno.make(\"Green ave, Kingston\")\n",
        "# Dark modules with alpha transparency\n",
        "qrcode.save('address2.png', dark='#0000ffcc', scale=10)"
      ],
      "metadata": {
        "id": "RK8MGySolwoC"
      },
      "execution_count": null,
      "outputs": []
    },
    {
      "cell_type": "code",
      "source": [
        "import segno\n",
        "micro_qrcode = segno.make('Rain', error='q')\n",
        "micro_qrcode.save('rain.png', dark='darkblue', data_dark='steelblue', scale=5)"
      ],
      "metadata": {
        "id": "BRxG4oMjl6KO"
      },
      "execution_count": null,
      "outputs": []
    },
    {
      "cell_type": "markdown",
      "source": [
        "### a QR code for URL sharing"
      ],
      "metadata": {
        "id": "v8hRbOzVmnj6"
      }
    },
    {
      "cell_type": "code",
      "source": [
        "import segno\n",
        "\n",
        "video = segno.make('https://www.youtube.com/channel/UCNhFxpk6hGt5uMCKXq0Jl8A')\n",
        "video.save('Video.png', dark=\"yellow\", light=\"#323524\", scale=5)"
      ],
      "metadata": {
        "id": "aTtGN33qmvqR"
      },
      "execution_count": 12,
      "outputs": []
    },
    {
      "cell_type": "markdown",
      "source": [
        "# **a QR code for a WiFi Configuration**"
      ],
      "metadata": {
        "id": "ZyMS9l44m5dh"
      }
    },
    {
      "cell_type": "code",
      "source": [
        "from segno import helpers\n",
        "\n",
        "qrcode = helpers.make_wifi(ssid='MyWifi', password='1234567890', security='WPA')\n",
        "qrcode.designator\n",
        "'3-M'\n",
        "qrcode.save('wifi-access.png', scale=10)"
      ],
      "metadata": {
        "id": "_ryPYyginA32"
      },
      "execution_count": null,
      "outputs": []
    }
  ]
}