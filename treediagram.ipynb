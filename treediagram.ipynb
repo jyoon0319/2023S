{
  "nbformat": 4,
  "nbformat_minor": 0,
  "metadata": {
    "colab": {
      "provenance": [],
      "include_colab_link": true
    },
    "kernelspec": {
      "name": "python3",
      "display_name": "Python 3"
    },
    "language_info": {
      "name": "python"
    }
  },
  "cells": [
    {
      "cell_type": "markdown",
      "metadata": {
        "id": "view-in-github",
        "colab_type": "text"
      },
      "source": [
        "<a href=\"https://colab.research.google.com/github/jyoon0319/2023S/blob/main/treediagram.ipynb\" target=\"_parent\"><img src=\"https://colab.research.google.com/assets/colab-badge.svg\" alt=\"Open In Colab\"/></a>"
      ]
    },
    {
      "cell_type": "markdown",
      "source": [
        "# Syntactic structure of a sentence: Basics"
      ],
      "metadata": {
        "id": "hjF_PYlWvdcE"
      }
    },
    {
      "cell_type": "markdown",
      "source": [
        "# svgling application"
      ],
      "metadata": {
        "id": "XxMvvtyCLtww"
      }
    },
    {
      "cell_type": "markdown",
      "source": [
        "install {svgling}"
      ],
      "metadata": {
        "id": "bFxHQyKRZ486"
      }
    },
    {
      "cell_type": "code",
      "execution_count": null,
      "metadata": {
        "id": "68UDA2L-EiD0"
      },
      "outputs": [],
      "source": [
        "%%capture\n",
        "!pip install svgling\n",
        "\n",
        "import svgling\n",
        "from svgling.figure import Caption, SideBySide, RowByRow"
      ]
    },
    {
      "cell_type": "markdown",
      "source": [
        "# 1. Sentence structure"
      ],
      "metadata": {
        "id": "ZXOkeW1XaH-s"
      }
    },
    {
      "cell_type": "code",
      "source": [
        "mystr0 = (\"Sentence\", (\"S\",\"The sun rises in the East.\"))\n",
        "out = svgling.draw_tree(mystr0)\n",
        "out.set_edge_style((0,0), svgling.core.TriangleEdge())\n",
        "print(\"Sentence: The sun rises in the East.\")\n",
        "Caption(out, \"Fig.1 Sentence structure\")"
      ],
      "metadata": {
        "colab": {
          "base_uri": "https://localhost:8080/",
          "height": 191
        },
        "id": "SjKI9a7Ob6I1",
        "outputId": "3869a903-b705-4c4b-f652-11006ae2a612"
      },
      "execution_count": null,
      "outputs": [
        {
          "output_type": "stream",
          "name": "stdout",
          "text": [
            "Sentence: The sun rises in the East.\n"
          ]
        },
        {
          "output_type": "execute_result",
          "data": {
            "text/plain": [
              "<svgling.figure.Caption at 0x7ff3ab813b80>"
            ],
            "image/svg+xml": "<svg baseProfile=\"full\" height=\"152.5px\" preserveAspectRatio=\"xMidYMid meet\" version=\"1.1\" viewBox=\"0,0,224.0,152.5\" width=\"224px\" xmlns=\"http://www.w3.org/2000/svg\" xmlns:ev=\"http://www.w3.org/2001/xml-events\" xmlns:xlink=\"http://www.w3.org/1999/xlink\"><defs /><svg height=\"120.0\" width=\"224.0\" x=\"0\" y=\"0\"><defs /><svg baseProfile=\"full\" height=\"120px\" preserveAspectRatio=\"xMidYMid meet\" style=\"font-family: times, serif; font-weight:normal; font-style: normal; font-size: 16px;\" version=\"1.1\" viewBox=\"0,0,224.0,120.0\" width=\"224px\" xmlns=\"http://www.w3.org/2000/svg\" xmlns:ev=\"http://www.w3.org/2001/xml-events\" xmlns:xlink=\"http://www.w3.org/1999/xlink\"><defs /><svg width=\"100%\" x=\"0\" y=\"0em\"><defs /><text text-anchor=\"middle\" x=\"50%\" y=\"1em\">Sentence</text></svg><svg width=\"100%\" x=\"0%\" y=\"3em\"><defs /><svg width=\"100%\" x=\"0\" y=\"0em\"><defs /><text text-anchor=\"middle\" x=\"50%\" y=\"1em\">S</text></svg><svg width=\"100%\" x=\"0%\" y=\"3em\"><defs /><svg width=\"100%\" x=\"0\" y=\"0em\"><defs /><text text-anchor=\"middle\" x=\"50%\" y=\"1em\">The sun rises in the East.</text></svg></svg><line stroke=\"black\" x1=\"50%\" x2=\"10%\" y1=\"1.2em\" y2=\"3em\" /><line stroke=\"black\" x1=\"50%\" x2=\"90%\" y1=\"1.2em\" y2=\"3em\" /><line stroke=\"black\" x1=\"10%\" x2=\"90%\" y1=\"3em\" y2=\"3em\" /></svg><line stroke=\"black\" x1=\"50%\" x2=\"50%\" y1=\"1.2em\" y2=\"3em\" /></svg></svg><svg height=\"100%\" width=\"100%\" x=\"0\" y=\"126.5\"><defs /><text style=\"font-family: times, serif; font-weight:normal; font-style: italic; font-size: 13px;\" text-anchor=\"middle\" x=\"50%\" y=\"1em\">Fig.1 Sentence structure</text></svg></svg>"
          },
          "metadata": {},
          "execution_count": 78
        }
      ]
    },
    {
      "cell_type": "markdown",
      "source": [
        "## Branching"
      ],
      "metadata": {
        "id": "yrOMgirKd3yT"
      }
    },
    {
      "cell_type": "markdown",
      "source": [
        "### [1] Sentence structure with branching"
      ],
      "metadata": {
        "id": "DXBQwgyHeuxQ"
      }
    },
    {
      "cell_type": "code",
      "source": [
        "mystr0 = (\"S\", \"The sun\", \"rises\", \"in the East.\")\n",
        "svgling.draw_tree(mystr0)"
      ],
      "metadata": {
        "colab": {
          "base_uri": "https://localhost:8080/",
          "height": 93
        },
        "id": "IJKggWnIaMcb",
        "outputId": "0cca7b4d-3a6d-459f-cdef-3dbb9a6d5aea"
      },
      "execution_count": null,
      "outputs": [
        {
          "output_type": "execute_result",
          "data": {
            "text/plain": [
              "TreeLayout(('S', 'The sun', 'rises', 'in the East.'))"
            ],
            "image/svg+xml": "<svg baseProfile=\"full\" height=\"72px\" preserveAspectRatio=\"xMidYMid meet\" style=\"font-family: times, serif; font-weight:normal; font-style: normal; font-size: 16px;\" version=\"1.1\" viewBox=\"0,0,240.0,72.0\" width=\"240px\" xmlns=\"http://www.w3.org/2000/svg\" xmlns:ev=\"http://www.w3.org/2001/xml-events\" xmlns:xlink=\"http://www.w3.org/1999/xlink\"><defs /><svg width=\"100%\" x=\"0\" y=\"0em\"><defs /><text text-anchor=\"middle\" x=\"50%\" y=\"1em\">S</text></svg><svg width=\"30%\" x=\"0%\" y=\"3em\"><defs /><svg width=\"100%\" x=\"0\" y=\"0em\"><defs /><text text-anchor=\"middle\" x=\"50%\" y=\"1em\">The sun</text></svg></svg><line stroke=\"black\" x1=\"50%\" x2=\"15%\" y1=\"1.2em\" y2=\"3em\" /><svg width=\"23.3333%\" x=\"30%\" y=\"3em\"><defs /><svg width=\"100%\" x=\"0\" y=\"0em\"><defs /><text text-anchor=\"middle\" x=\"50%\" y=\"1em\">rises</text></svg></svg><line stroke=\"black\" x1=\"50%\" x2=\"41.6667%\" y1=\"1.2em\" y2=\"3em\" /><svg width=\"46.6667%\" x=\"53.3333%\" y=\"3em\"><defs /><svg width=\"100%\" x=\"0\" y=\"0em\"><defs /><text text-anchor=\"middle\" x=\"50%\" y=\"1em\">in the East.</text></svg></svg><line stroke=\"black\" x1=\"50%\" x2=\"76.6667%\" y1=\"1.2em\" y2=\"3em\" /></svg>"
          },
          "metadata": {},
          "execution_count": 115
        }
      ]
    },
    {
      "cell_type": "markdown",
      "source": [
        "Node and name"
      ],
      "metadata": {
        "id": "MihALbITlAmm"
      }
    },
    {
      "cell_type": "code",
      "source": [
        "mystr0 = (\"S\", \"NP\\nThe sun\", \"VP\\nrises\", \"PP\\n in the East.\")\n",
        "svgling.draw_tree(mystr0)"
      ],
      "metadata": {
        "colab": {
          "base_uri": "https://localhost:8080/",
          "height": 109
        },
        "id": "kn7L5BSjk5Wc",
        "outputId": "ff05c9b1-5973-4ea1-eb17-f83dfe3e2d16"
      },
      "execution_count": null,
      "outputs": [
        {
          "output_type": "execute_result",
          "data": {
            "text/plain": [
              "TreeLayout(('S', 'NP\\nThe sun', 'VP\\nrises', 'PP\\n in the East.'))"
            ],
            "image/svg+xml": "<svg baseProfile=\"full\" height=\"88px\" preserveAspectRatio=\"xMidYMid meet\" style=\"font-family: times, serif; font-weight:normal; font-style: normal; font-size: 16px;\" version=\"1.1\" viewBox=\"0,0,248.0,88.0\" width=\"248px\" xmlns=\"http://www.w3.org/2000/svg\" xmlns:ev=\"http://www.w3.org/2001/xml-events\" xmlns:xlink=\"http://www.w3.org/1999/xlink\"><defs /><svg width=\"100%\" x=\"0\" y=\"0em\"><defs /><text text-anchor=\"middle\" x=\"50%\" y=\"1em\">S</text></svg><svg width=\"29.0323%\" x=\"0%\" y=\"3em\"><defs /><svg width=\"100%\" x=\"0\" y=\"0em\"><defs /><text text-anchor=\"middle\" x=\"50%\" y=\"1em\">NP</text><text text-anchor=\"middle\" x=\"50%\" y=\"2em\">The sun</text></svg></svg><line stroke=\"black\" x1=\"50%\" x2=\"14.5161%\" y1=\"1.2em\" y2=\"3em\" /><svg width=\"22.5806%\" x=\"29.0323%\" y=\"3em\"><defs /><svg width=\"100%\" x=\"0\" y=\"0em\"><defs /><text text-anchor=\"middle\" x=\"50%\" y=\"1em\">VP</text><text text-anchor=\"middle\" x=\"50%\" y=\"2em\">rises</text></svg></svg><line stroke=\"black\" x1=\"50%\" x2=\"40.3226%\" y1=\"1.2em\" y2=\"3em\" /><svg width=\"48.3871%\" x=\"51.6129%\" y=\"3em\"><defs /><svg width=\"100%\" x=\"0\" y=\"0em\"><defs /><text text-anchor=\"middle\" x=\"50%\" y=\"1em\">PP</text><text text-anchor=\"middle\" x=\"50%\" y=\"2em\"> in the East.</text></svg></svg><line stroke=\"black\" x1=\"50%\" x2=\"75.8065%\" y1=\"1.2em\" y2=\"3em\" /></svg>"
          },
          "metadata": {},
          "execution_count": 116
        }
      ]
    },
    {
      "cell_type": "markdown",
      "source": [
        "### [2] Multi-branching? Any problem?"
      ],
      "metadata": {
        "id": "ep055RDofnF0"
      }
    },
    {
      "cell_type": "code",
      "source": [
        "mystr0 = (\"S\", \"DET\\nThe\", \"Noun\\nsun\", \"Verb\\nrises\", \"Prep\\nin\", \"DET\\nthe\", \"Noun\\nEast.\")\n",
        "svgling.draw_tree(mystr0)"
      ],
      "metadata": {
        "colab": {
          "base_uri": "https://localhost:8080/",
          "height": 109
        },
        "id": "V0Q4VPlqe4nk",
        "outputId": "bca047ea-a5b1-44fe-a7bc-8c1002eadfb1"
      },
      "execution_count": null,
      "outputs": [
        {
          "output_type": "execute_result",
          "data": {
            "text/plain": [
              "TreeLayout(('S', 'DET\\nThe', 'Noun\\nsun', 'Verb\\nrises', 'Prep\\nin', 'DET\\nthe', 'Noun\\nEast.'))"
            ],
            "image/svg+xml": "<svg baseProfile=\"full\" height=\"88px\" preserveAspectRatio=\"xMidYMid meet\" style=\"font-family: times, serif; font-weight:normal; font-style: normal; font-size: 16px;\" version=\"1.1\" viewBox=\"0,0,288.0,88.0\" width=\"288px\" xmlns=\"http://www.w3.org/2000/svg\" xmlns:ev=\"http://www.w3.org/2001/xml-events\" xmlns:xlink=\"http://www.w3.org/1999/xlink\"><defs /><svg width=\"100%\" x=\"0\" y=\"0em\"><defs /><text text-anchor=\"middle\" x=\"50%\" y=\"1em\">S</text></svg><svg width=\"13.8889%\" x=\"0%\" y=\"3em\"><defs /><svg width=\"100%\" x=\"0\" y=\"0em\"><defs /><text text-anchor=\"middle\" x=\"50%\" y=\"1em\">DET</text><text text-anchor=\"middle\" x=\"50%\" y=\"2em\">The</text></svg></svg><line stroke=\"black\" x1=\"50%\" x2=\"6.94444%\" y1=\"1.2em\" y2=\"3em\" /><svg width=\"16.6667%\" x=\"13.8889%\" y=\"3em\"><defs /><svg width=\"100%\" x=\"0\" y=\"0em\"><defs /><text text-anchor=\"middle\" x=\"50%\" y=\"1em\">Noun</text><text text-anchor=\"middle\" x=\"50%\" y=\"2em\">sun</text></svg></svg><line stroke=\"black\" x1=\"50%\" x2=\"22.2222%\" y1=\"1.2em\" y2=\"3em\" /><svg width=\"19.4444%\" x=\"30.5556%\" y=\"3em\"><defs /><svg width=\"100%\" x=\"0\" y=\"0em\"><defs /><text text-anchor=\"middle\" x=\"50%\" y=\"1em\">Verb</text><text text-anchor=\"middle\" x=\"50%\" y=\"2em\">rises</text></svg></svg><line stroke=\"black\" x1=\"50%\" x2=\"40.2778%\" y1=\"1.2em\" y2=\"3em\" /><svg width=\"16.6667%\" x=\"50%\" y=\"3em\"><defs /><svg width=\"100%\" x=\"0\" y=\"0em\"><defs /><text text-anchor=\"middle\" x=\"50%\" y=\"1em\">Prep</text><text text-anchor=\"middle\" x=\"50%\" y=\"2em\">in</text></svg></svg><line stroke=\"black\" x1=\"50%\" x2=\"58.3333%\" y1=\"1.2em\" y2=\"3em\" /><svg width=\"13.8889%\" x=\"66.6667%\" y=\"3em\"><defs /><svg width=\"100%\" x=\"0\" y=\"0em\"><defs /><text text-anchor=\"middle\" x=\"50%\" y=\"1em\">DET</text><text text-anchor=\"middle\" x=\"50%\" y=\"2em\">the</text></svg></svg><line stroke=\"black\" x1=\"50%\" x2=\"73.6111%\" y1=\"1.2em\" y2=\"3em\" /><svg width=\"19.4444%\" x=\"80.5556%\" y=\"3em\"><defs /><svg width=\"100%\" x=\"0\" y=\"0em\"><defs /><text text-anchor=\"middle\" x=\"50%\" y=\"1em\">Noun</text><text text-anchor=\"middle\" x=\"50%\" y=\"2em\">East.</text></svg></svg><line stroke=\"black\" x1=\"50%\" x2=\"90.2778%\" y1=\"1.2em\" y2=\"3em\" /></svg>"
          },
          "metadata": {},
          "execution_count": 88
        }
      ]
    },
    {
      "cell_type": "markdown",
      "source": [
        "## [3] Constituency (source: page 74, Syntax: A Generative Introduction, Third Edition. Andrew Carnie.© 2013 Andrew Carnie. Published 2013 by John Wiley & Sons, Inc.)\n",
        "\n",
        "![캡처_a.carnie_psychological_reality_page74.PNG](data:image/png;base64,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)\n"
      ],
      "metadata": {
        "id": "mCE8sdeNyZNH"
      }
    },
    {
      "cell_type": "markdown",
      "source": [
        "## Binary branching"
      ],
      "metadata": {
        "id": "J5y1bX84fyVr"
      }
    },
    {
      "cell_type": "code",
      "source": [
        "#@markdown Tree structure with binary branching\n",
        "mystr0 = (\"S\", (\"NP\", (\"The sun\")), (\"VP\", (\"V\",\"rises\"), (\"PP\", \"in the East.\")))\n",
        "out = svgling.draw_tree(mystr0)\n",
        "out.set_edge_style((0,0), svgling.core.TriangleEdge())\n",
        "out.set_edge_style((1,1,0), svgling.core.TriangleEdge())\n",
        "Caption(out,\"Triangle (Collapsed node) to hide internal structure.\")"
      ],
      "metadata": {
        "id": "ph5PZtRVf5sm",
        "colab": {
          "base_uri": "https://localhost:8080/",
          "height": 222
        },
        "outputId": "55a84cfb-38d3-4244-99ca-36593891aa6b"
      },
      "execution_count": null,
      "outputs": [
        {
          "output_type": "execute_result",
          "data": {
            "text/plain": [
              "<svgling.figure.Caption at 0x7ff3ab7dad90>"
            ],
            "image/svg+xml": "<svg baseProfile=\"full\" height=\"200.5px\" preserveAspectRatio=\"xMidYMid meet\" version=\"1.1\" viewBox=\"0,0,344.5,200.5\" width=\"344.5px\" xmlns=\"http://www.w3.org/2000/svg\" xmlns:ev=\"http://www.w3.org/2001/xml-events\" xmlns:xlink=\"http://www.w3.org/1999/xlink\"><defs /><svg height=\"168.0\" width=\"240.0\" x=\"52.25\" y=\"0\"><defs /><svg baseProfile=\"full\" height=\"168px\" preserveAspectRatio=\"xMidYMid meet\" style=\"font-family: times, serif; font-weight:normal; font-style: normal; font-size: 16px;\" version=\"1.1\" viewBox=\"0,0,240.0,168.0\" width=\"240px\" xmlns=\"http://www.w3.org/2000/svg\" xmlns:ev=\"http://www.w3.org/2001/xml-events\" xmlns:xlink=\"http://www.w3.org/1999/xlink\"><defs /><svg width=\"100%\" x=\"0\" y=\"0em\"><defs /><text text-anchor=\"middle\" x=\"50%\" y=\"1em\">S</text></svg><svg width=\"30%\" x=\"0%\" y=\"3em\"><defs /><svg width=\"100%\" x=\"0\" y=\"0em\"><defs /><text text-anchor=\"middle\" x=\"50%\" y=\"1em\">NP</text></svg><svg width=\"100%\" x=\"0%\" y=\"3em\"><defs /><svg width=\"100%\" x=\"0\" y=\"0em\"><defs /><text text-anchor=\"middle\" x=\"50%\" y=\"1em\">The sun</text></svg></svg><line stroke=\"black\" x1=\"50%\" x2=\"10%\" y1=\"1.2em\" y2=\"3em\" /><line stroke=\"black\" x1=\"50%\" x2=\"90%\" y1=\"1.2em\" y2=\"3em\" /><line stroke=\"black\" x1=\"10%\" x2=\"90%\" y1=\"3em\" y2=\"3em\" /></svg><line stroke=\"black\" x1=\"50%\" x2=\"15%\" y1=\"1.2em\" y2=\"3em\" /><svg width=\"70%\" x=\"30%\" y=\"3em\"><defs /><svg width=\"100%\" x=\"0\" y=\"0em\"><defs /><text text-anchor=\"middle\" x=\"50%\" y=\"1em\">VP</text></svg><svg width=\"33.3333%\" x=\"0%\" y=\"3em\"><defs /><svg width=\"100%\" x=\"0\" y=\"0em\"><defs /><text text-anchor=\"middle\" x=\"50%\" y=\"1em\">V</text></svg><svg width=\"100%\" x=\"0%\" y=\"3em\"><defs /><svg width=\"100%\" x=\"0\" y=\"0em\"><defs /><text text-anchor=\"middle\" x=\"50%\" y=\"1em\">rises</text></svg></svg><line stroke=\"black\" x1=\"50%\" x2=\"50%\" y1=\"1.2em\" y2=\"3em\" /></svg><line stroke=\"black\" x1=\"50%\" x2=\"16.6667%\" y1=\"1.2em\" y2=\"3em\" /><svg width=\"66.6667%\" x=\"33.3333%\" y=\"3em\"><defs /><svg width=\"100%\" x=\"0\" y=\"0em\"><defs /><text text-anchor=\"middle\" x=\"50%\" y=\"1em\">PP</text></svg><svg width=\"100%\" x=\"0%\" y=\"3em\"><defs /><svg width=\"100%\" x=\"0\" y=\"0em\"><defs /><text text-anchor=\"middle\" x=\"50%\" y=\"1em\">in the East.</text></svg></svg><line stroke=\"black\" x1=\"50%\" x2=\"10%\" y1=\"1.2em\" y2=\"3em\" /><line stroke=\"black\" x1=\"50%\" x2=\"90%\" y1=\"1.2em\" y2=\"3em\" /><line stroke=\"black\" x1=\"10%\" x2=\"90%\" y1=\"3em\" y2=\"3em\" /></svg><line stroke=\"black\" x1=\"50%\" x2=\"66.6667%\" y1=\"1.2em\" y2=\"3em\" /></svg><line stroke=\"black\" x1=\"50%\" x2=\"65%\" y1=\"1.2em\" y2=\"3em\" /></svg></svg><svg height=\"100%\" width=\"100%\" x=\"0\" y=\"174.5\"><defs /><text style=\"font-family: times, serif; font-weight:normal; font-style: italic; font-size: 13px;\" text-anchor=\"middle\" x=\"50%\" y=\"1em\">Triangle (Collapsed node) to hide internal structure.</text></svg></svg>"
          },
          "metadata": {},
          "execution_count": 114
        }
      ]
    },
    {
      "cell_type": "markdown",
      "source": [
        "## Nodes: mother-daughter nodes, finite vs. non-finite nodes"
      ],
      "metadata": {
        "id": "yVcT3fuNmfU0"
      }
    },
    {
      "cell_type": "code",
      "source": [
        "#@markdown Binary structure\n",
        "mystr = (\"S\", (\"A\", \"B\",\"C\"), (\"D\", \"E\",\"F\"))\n",
        "svgling.draw_tree(mystr)\n",
        "# Caption(out, \"Fig. Structure 1\")"
      ],
      "metadata": {
        "colab": {
          "base_uri": "https://localhost:8080/",
          "height": 141
        },
        "id": "VErICIMHrohL",
        "outputId": "387f0f89-3027-44b5-b7fc-8615128bf1fa"
      },
      "execution_count": null,
      "outputs": [
        {
          "output_type": "execute_result",
          "data": {
            "text/plain": [
              "TreeLayout(('S', ('A', 'B', 'C'), ('D', 'E', 'F')))"
            ],
            "image/svg+xml": "<svg baseProfile=\"full\" height=\"120px\" preserveAspectRatio=\"xMidYMid meet\" style=\"font-family: times, serif; font-weight:normal; font-style: normal; font-size: 16px;\" version=\"1.1\" viewBox=\"0,0,96.0,120.0\" width=\"96px\" xmlns=\"http://www.w3.org/2000/svg\" xmlns:ev=\"http://www.w3.org/2001/xml-events\" xmlns:xlink=\"http://www.w3.org/1999/xlink\"><defs /><svg width=\"100%\" x=\"0\" y=\"0em\"><defs /><text text-anchor=\"middle\" x=\"50%\" y=\"1em\">S</text></svg><svg width=\"50%\" x=\"0%\" y=\"3em\"><defs /><svg width=\"100%\" x=\"0\" y=\"0em\"><defs /><text text-anchor=\"middle\" x=\"50%\" y=\"1em\">A</text></svg><svg width=\"50%\" x=\"0%\" y=\"3em\"><defs /><svg width=\"100%\" x=\"0\" y=\"0em\"><defs /><text text-anchor=\"middle\" x=\"50%\" y=\"1em\">B</text></svg></svg><line stroke=\"black\" x1=\"50%\" x2=\"25%\" y1=\"1.2em\" y2=\"3em\" /><svg width=\"50%\" x=\"50%\" y=\"3em\"><defs /><svg width=\"100%\" x=\"0\" y=\"0em\"><defs /><text text-anchor=\"middle\" x=\"50%\" y=\"1em\">C</text></svg></svg><line stroke=\"black\" x1=\"50%\" x2=\"75%\" y1=\"1.2em\" y2=\"3em\" /></svg><line stroke=\"black\" x1=\"50%\" x2=\"25%\" y1=\"1.2em\" y2=\"3em\" /><svg width=\"50%\" x=\"50%\" y=\"3em\"><defs /><svg width=\"100%\" x=\"0\" y=\"0em\"><defs /><text text-anchor=\"middle\" x=\"50%\" y=\"1em\">D</text></svg><svg width=\"50%\" x=\"0%\" y=\"3em\"><defs /><svg width=\"100%\" x=\"0\" y=\"0em\"><defs /><text text-anchor=\"middle\" x=\"50%\" y=\"1em\">E</text></svg></svg><line stroke=\"black\" x1=\"50%\" x2=\"25%\" y1=\"1.2em\" y2=\"3em\" /><svg width=\"50%\" x=\"50%\" y=\"3em\"><defs /><svg width=\"100%\" x=\"0\" y=\"0em\"><defs /><text text-anchor=\"middle\" x=\"50%\" y=\"1em\">F</text></svg></svg><line stroke=\"black\" x1=\"50%\" x2=\"75%\" y1=\"1.2em\" y2=\"3em\" /></svg><line stroke=\"black\" x1=\"50%\" x2=\"75%\" y1=\"1.2em\" y2=\"3em\" /></svg>"
          },
          "metadata": {},
          "execution_count": 149
        }
      ]
    },
    {
      "cell_type": "markdown",
      "source": [
        "Practice binary embedding"
      ],
      "metadata": {
        "id": "33pV2MWRbtVI"
      }
    },
    {
      "cell_type": "code",
      "source": [
        "#@markdown Binary structure\n",
        "mystr = (\"S\", \n",
        "         (\"A\", \"B\",\n",
        "          (\"C\", \"D\", \n",
        "           (\"E\", \"F\", \"G\"))\n",
        "          )\n",
        "         )\n",
        "svgling.draw_tree(mystr)"
      ],
      "metadata": {
        "id": "yITgx7RpaIU6",
        "outputId": "8cc9c3ab-6b57-4fec-b49d-be1083888f39",
        "colab": {
          "base_uri": "https://localhost:8080/",
          "height": 236
        }
      },
      "execution_count": null,
      "outputs": [
        {
          "output_type": "execute_result",
          "data": {
            "text/plain": [
              "TreeLayout(('S', ('A', 'B', ('C', 'D', ('E', 'F', 'G')))))"
            ],
            "image/svg+xml": "<svg baseProfile=\"full\" height=\"216px\" preserveAspectRatio=\"xMidYMid meet\" style=\"font-family: times, serif; font-weight:normal; font-style: normal; font-size: 16px;\" version=\"1.1\" viewBox=\"0,0,96.0,216.0\" width=\"96px\" xmlns=\"http://www.w3.org/2000/svg\" xmlns:ev=\"http://www.w3.org/2001/xml-events\" xmlns:xlink=\"http://www.w3.org/1999/xlink\"><defs /><svg width=\"100%\" x=\"0\" y=\"0em\"><defs /><text text-anchor=\"middle\" x=\"50%\" y=\"1em\">S</text></svg><svg width=\"100%\" x=\"0%\" y=\"3em\"><defs /><svg width=\"100%\" x=\"0\" y=\"0em\"><defs /><text text-anchor=\"middle\" x=\"50%\" y=\"1em\">A</text></svg><svg width=\"25%\" x=\"0%\" y=\"3em\"><defs /><svg width=\"100%\" x=\"0\" y=\"0em\"><defs /><text text-anchor=\"middle\" x=\"50%\" y=\"1em\">B</text></svg></svg><line stroke=\"black\" x1=\"50%\" x2=\"12.5%\" y1=\"1.2em\" y2=\"3em\" /><svg width=\"75%\" x=\"25%\" y=\"3em\"><defs /><svg width=\"100%\" x=\"0\" y=\"0em\"><defs /><text text-anchor=\"middle\" x=\"50%\" y=\"1em\">C</text></svg><svg width=\"33.3333%\" x=\"0%\" y=\"3em\"><defs /><svg width=\"100%\" x=\"0\" y=\"0em\"><defs /><text text-anchor=\"middle\" x=\"50%\" y=\"1em\">D</text></svg></svg><line stroke=\"black\" x1=\"50%\" x2=\"16.6667%\" y1=\"1.2em\" y2=\"3em\" /><svg width=\"66.6667%\" x=\"33.3333%\" y=\"3em\"><defs /><svg width=\"100%\" x=\"0\" y=\"0em\"><defs /><text text-anchor=\"middle\" x=\"50%\" y=\"1em\">E</text></svg><svg width=\"50%\" x=\"0%\" y=\"3em\"><defs /><svg width=\"100%\" x=\"0\" y=\"0em\"><defs /><text text-anchor=\"middle\" x=\"50%\" y=\"1em\">F</text></svg></svg><line stroke=\"black\" x1=\"50%\" x2=\"25%\" y1=\"1.2em\" y2=\"3em\" /><svg width=\"50%\" x=\"50%\" y=\"3em\"><defs /><svg width=\"100%\" x=\"0\" y=\"0em\"><defs /><text text-anchor=\"middle\" x=\"50%\" y=\"1em\">G</text></svg></svg><line stroke=\"black\" x1=\"50%\" x2=\"75%\" y1=\"1.2em\" y2=\"3em\" /></svg><line stroke=\"black\" x1=\"50%\" x2=\"66.6667%\" y1=\"1.2em\" y2=\"3em\" /></svg><line stroke=\"black\" x1=\"50%\" x2=\"62.5%\" y1=\"1.2em\" y2=\"3em\" /></svg><line stroke=\"black\" x1=\"50%\" x2=\"50%\" y1=\"1.2em\" y2=\"3em\" /></svg>"
          },
          "metadata": {},
          "execution_count": 9
        }
      ]
    },
    {
      "cell_type": "code",
      "source": [
        "#@markdown Show nodes; mother-daughter nodes\n",
        "mystr0 = (\"node\", \"node\", \"node\", \"node\")\n",
        "out1 = svgling.draw_tree(mystr0)\n",
        "\n",
        "mystr0 = (\"mother\", \"daughter\", \"daughter\", \"daughter\")\n",
        "out2 = svgling.draw_tree(mystr0)\n",
        "\n",
        "mystr0 = (\"Non-finite\", \"finite\", \"finite\", \"finite\")\n",
        "out3 = svgling.draw_tree(mystr0)\n",
        "\n",
        "Caption(SideBySide(out1,out2,out3), \"Fig.1a Branches and nodes. Fig.1b Mother and daughter nodes. Fig.1c Finite vs. non-finite nodes\")"
      ],
      "metadata": {
        "colab": {
          "base_uri": "https://localhost:8080/",
          "height": 126
        },
        "id": "yh2d7ChKeGKK",
        "outputId": "f7e6a634-3ec5-4821-f09e-f649501c9710"
      },
      "execution_count": null,
      "outputs": [
        {
          "output_type": "execute_result",
          "data": {
            "text/plain": [
              "<svgling.figure.Caption at 0x7ff3ab617430>"
            ],
            "image/svg+xml": "<svg baseProfile=\"full\" height=\"104.5px\" preserveAspectRatio=\"xMidYMid meet\" version=\"1.1\" viewBox=\"0,0,640.0,104.5\" width=\"640px\" xmlns=\"http://www.w3.org/2000/svg\" xmlns:ev=\"http://www.w3.org/2001/xml-events\" xmlns:xlink=\"http://www.w3.org/1999/xlink\"><defs /><svg height=\"72.0\" width=\"640.0\" x=\"0\" y=\"0\"><defs /><svg baseProfile=\"full\" height=\"72px\" preserveAspectRatio=\"xMidYMid meet\" version=\"1.1\" viewBox=\"0,0,640.0,72.0\" width=\"640px\" xmlns=\"http://www.w3.org/2000/svg\" xmlns:ev=\"http://www.w3.org/2001/xml-events\" xmlns:xlink=\"http://www.w3.org/1999/xlink\"><defs /><svg height=\"72.0\" width=\"144.0\" x=\"16\" y=\"0\"><defs /><svg baseProfile=\"full\" height=\"72px\" preserveAspectRatio=\"xMidYMid meet\" style=\"font-family: times, serif; font-weight:normal; font-style: normal; font-size: 16px;\" version=\"1.1\" viewBox=\"0,0,144.0,72.0\" width=\"144px\" xmlns=\"http://www.w3.org/2000/svg\" xmlns:ev=\"http://www.w3.org/2001/xml-events\" xmlns:xlink=\"http://www.w3.org/1999/xlink\"><defs /><svg width=\"100%\" x=\"0\" y=\"0em\"><defs /><text text-anchor=\"middle\" x=\"50%\" y=\"1em\">node</text></svg><svg width=\"33.3333%\" x=\"0%\" y=\"3em\"><defs /><svg width=\"100%\" x=\"0\" y=\"0em\"><defs /><text text-anchor=\"middle\" x=\"50%\" y=\"1em\">node</text></svg></svg><line stroke=\"black\" x1=\"50%\" x2=\"16.6667%\" y1=\"1.2em\" y2=\"3em\" /><svg width=\"33.3333%\" x=\"33.3333%\" y=\"3em\"><defs /><svg width=\"100%\" x=\"0\" y=\"0em\"><defs /><text text-anchor=\"middle\" x=\"50%\" y=\"1em\">node</text></svg></svg><line stroke=\"black\" x1=\"50%\" x2=\"50%\" y1=\"1.2em\" y2=\"3em\" /><svg width=\"33.3333%\" x=\"66.6667%\" y=\"3em\"><defs /><svg width=\"100%\" x=\"0\" y=\"0em\"><defs /><text text-anchor=\"middle\" x=\"50%\" y=\"1em\">node</text></svg></svg><line stroke=\"black\" x1=\"50%\" x2=\"83.3333%\" y1=\"1.2em\" y2=\"3em\" /></svg></svg><svg height=\"72.0\" width=\"240.0\" x=\"176.0\" y=\"0\"><defs /><svg baseProfile=\"full\" height=\"72px\" preserveAspectRatio=\"xMidYMid meet\" style=\"font-family: times, serif; font-weight:normal; font-style: normal; font-size: 16px;\" version=\"1.1\" viewBox=\"0,0,240.0,72.0\" width=\"240px\" xmlns=\"http://www.w3.org/2000/svg\" xmlns:ev=\"http://www.w3.org/2001/xml-events\" xmlns:xlink=\"http://www.w3.org/1999/xlink\"><defs /><svg width=\"100%\" x=\"0\" y=\"0em\"><defs /><text text-anchor=\"middle\" x=\"50%\" y=\"1em\">mother</text></svg><svg width=\"33.3333%\" x=\"0%\" y=\"3em\"><defs /><svg width=\"100%\" x=\"0\" y=\"0em\"><defs /><text text-anchor=\"middle\" x=\"50%\" y=\"1em\">daughter</text></svg></svg><line stroke=\"black\" x1=\"50%\" x2=\"16.6667%\" y1=\"1.2em\" y2=\"3em\" /><svg width=\"33.3333%\" x=\"33.3333%\" y=\"3em\"><defs /><svg width=\"100%\" x=\"0\" y=\"0em\"><defs /><text text-anchor=\"middle\" x=\"50%\" y=\"1em\">daughter</text></svg></svg><line stroke=\"black\" x1=\"50%\" x2=\"50%\" y1=\"1.2em\" y2=\"3em\" /><svg width=\"33.3333%\" x=\"66.6667%\" y=\"3em\"><defs /><svg width=\"100%\" x=\"0\" y=\"0em\"><defs /><text text-anchor=\"middle\" x=\"50%\" y=\"1em\">daughter</text></svg></svg><line stroke=\"black\" x1=\"50%\" x2=\"83.3333%\" y1=\"1.2em\" y2=\"3em\" /></svg></svg><svg height=\"72.0\" width=\"192.0\" x=\"432.0\" y=\"0\"><defs /><svg baseProfile=\"full\" height=\"72px\" preserveAspectRatio=\"xMidYMid meet\" style=\"font-family: times, serif; font-weight:normal; font-style: normal; font-size: 16px;\" version=\"1.1\" viewBox=\"0,0,192.0,72.0\" width=\"192px\" xmlns=\"http://www.w3.org/2000/svg\" xmlns:ev=\"http://www.w3.org/2001/xml-events\" xmlns:xlink=\"http://www.w3.org/1999/xlink\"><defs /><svg width=\"100%\" x=\"0\" y=\"0em\"><defs /><text text-anchor=\"middle\" x=\"50%\" y=\"1em\">Non-finite</text></svg><svg width=\"33.3333%\" x=\"0%\" y=\"3em\"><defs /><svg width=\"100%\" x=\"0\" y=\"0em\"><defs /><text text-anchor=\"middle\" x=\"50%\" y=\"1em\">finite</text></svg></svg><line stroke=\"black\" x1=\"50%\" x2=\"16.6667%\" y1=\"1.2em\" y2=\"3em\" /><svg width=\"33.3333%\" x=\"33.3333%\" y=\"3em\"><defs /><svg width=\"100%\" x=\"0\" y=\"0em\"><defs /><text text-anchor=\"middle\" x=\"50%\" y=\"1em\">finite</text></svg></svg><line stroke=\"black\" x1=\"50%\" x2=\"50%\" y1=\"1.2em\" y2=\"3em\" /><svg width=\"33.3333%\" x=\"66.6667%\" y=\"3em\"><defs /><svg width=\"100%\" x=\"0\" y=\"0em\"><defs /><text text-anchor=\"middle\" x=\"50%\" y=\"1em\">finite</text></svg></svg><line stroke=\"black\" x1=\"50%\" x2=\"83.3333%\" y1=\"1.2em\" y2=\"3em\" /></svg></svg></svg></svg><svg height=\"100%\" width=\"100%\" x=\"0\" y=\"78.5\"><defs /><text style=\"font-family: times, serif; font-weight:normal; font-style: italic; font-size: 13px;\" text-anchor=\"middle\" x=\"50%\" y=\"1em\">Fig.1a Branches and nodes. Fig.1b Mother and daughter nodes. Fig.1c Finite vs. non-finite nodes</text></svg></svg>"
          },
          "metadata": {},
          "execution_count": 134
        }
      ]
    },
    {
      "cell_type": "markdown",
      "source": [
        "## POS (Parts of Speech) and Syntactic categories"
      ],
      "metadata": {
        "id": "GwzNSfdjeB7Q"
      }
    },
    {
      "cell_type": "code",
      "source": [],
      "metadata": {
        "id": "FTBsmIrLeAYw"
      },
      "execution_count": null,
      "outputs": []
    },
    {
      "cell_type": "markdown",
      "source": [
        "# 1st structure: Subject + intransitive verb"
      ],
      "metadata": {
        "id": "W2MF51IYNX-g"
      }
    },
    {
      "cell_type": "markdown",
      "source": [
        "Draw a tress: "
      ],
      "metadata": {
        "id": "7VPfaMfqpQHB"
      }
    },
    {
      "cell_type": "code",
      "source": [
        "#@markdown Two pop up boxes for 1) subject and 2) verb\n",
        "subj = input(\"Type subject: \")\n",
        "verb = input(\"Type verb: \")\n",
        "mystr = (\"S\", (\"NP\", subj), (\"VP\", verb))\n",
        "out = svgling.draw_tree(mystr)\n",
        "Caption(out, \"Fig. Structure 1\")"
      ],
      "metadata": {
        "colab": {
          "base_uri": "https://localhost:8080/",
          "height": 209
        },
        "id": "TaFrNMmCHmZl",
        "outputId": "321fa7de-248a-45c7-9963-ef21ed3ce83b",
        "cellView": "form"
      },
      "execution_count": null,
      "outputs": [
        {
          "name": "stdout",
          "output_type": "stream",
          "text": [
            "Type subject: He\n",
            "Type verb: smiles\n"
          ]
        },
        {
          "output_type": "execute_result",
          "data": {
            "text/plain": [
              "<svgling.figure.Caption at 0x7ff3ab88e610>"
            ],
            "image/svg+xml": "<svg baseProfile=\"full\" height=\"152.5px\" preserveAspectRatio=\"xMidYMid meet\" version=\"1.1\" viewBox=\"0,0,104.0,152.5\" width=\"104px\" xmlns=\"http://www.w3.org/2000/svg\" xmlns:ev=\"http://www.w3.org/2001/xml-events\" xmlns:xlink=\"http://www.w3.org/1999/xlink\"><defs /><svg height=\"120.0\" width=\"96.0\" x=\"4.0\" y=\"0\"><defs /><svg baseProfile=\"full\" height=\"120px\" preserveAspectRatio=\"xMidYMid meet\" style=\"font-family: times, serif; font-weight:normal; font-style: normal; font-size: 16px;\" version=\"1.1\" viewBox=\"0,0,96.0,120.0\" width=\"96px\" xmlns=\"http://www.w3.org/2000/svg\" xmlns:ev=\"http://www.w3.org/2001/xml-events\" xmlns:xlink=\"http://www.w3.org/1999/xlink\"><defs /><svg width=\"100%\" x=\"0\" y=\"0em\"><defs /><text text-anchor=\"middle\" x=\"50%\" y=\"1em\">S</text></svg><svg width=\"33.3333%\" x=\"0%\" y=\"3em\"><defs /><svg width=\"100%\" x=\"0\" y=\"0em\"><defs /><text text-anchor=\"middle\" x=\"50%\" y=\"1em\">NP</text></svg><svg width=\"100%\" x=\"0%\" y=\"3em\"><defs /><svg width=\"100%\" x=\"0\" y=\"0em\"><defs /><text text-anchor=\"middle\" x=\"50%\" y=\"1em\">He</text></svg></svg><line stroke=\"black\" x1=\"50%\" x2=\"50%\" y1=\"1.2em\" y2=\"3em\" /></svg><line stroke=\"black\" x1=\"50%\" x2=\"16.6667%\" y1=\"1.2em\" y2=\"3em\" /><svg width=\"66.6667%\" x=\"33.3333%\" y=\"3em\"><defs /><svg width=\"100%\" x=\"0\" y=\"0em\"><defs /><text text-anchor=\"middle\" x=\"50%\" y=\"1em\">VP</text></svg><svg width=\"100%\" x=\"0%\" y=\"3em\"><defs /><svg width=\"100%\" x=\"0\" y=\"0em\"><defs /><text text-anchor=\"middle\" x=\"50%\" y=\"1em\">smiles</text></svg></svg><line stroke=\"black\" x1=\"50%\" x2=\"50%\" y1=\"1.2em\" y2=\"3em\" /></svg><line stroke=\"black\" x1=\"50%\" x2=\"66.6667%\" y1=\"1.2em\" y2=\"3em\" /></svg></svg><svg height=\"100%\" width=\"100%\" x=\"0\" y=\"126.5\"><defs /><text style=\"font-family: times, serif; font-weight:normal; font-style: italic; font-size: 13px;\" text-anchor=\"middle\" x=\"50%\" y=\"1em\">Fig. Structure 1</text></svg></svg>"
          },
          "metadata": {},
          "execution_count": 135
        }
      ]
    },
    {
      "cell_type": "markdown",
      "source": [
        "# 2nd structure: Subject + Be verb + Adj/Noun"
      ],
      "metadata": {
        "id": "G6aKVeSps8OI"
      }
    },
    {
      "cell_type": "code",
      "source": [
        "#@markdown subject + is/become + complement(adj or noun)\n",
        "subj = \"Sophia\"\n",
        "verb = \"is\"\n",
        "obj = \"smart\"\n",
        "\n",
        "mystr = (\"S\", (\"A\", subj), (\"D\", verb, obj))\n",
        "svgling.draw_tree(mystr)\n",
        "# Caption(out, \"Fig. Structure 1\")"
      ],
      "metadata": {
        "colab": {
          "base_uri": "https://localhost:8080/",
          "height": 141
        },
        "cellView": "form",
        "outputId": "4c10c0f0-307e-427b-f582-535c11470749",
        "id": "yYVrIDRRtHuU"
      },
      "execution_count": null,
      "outputs": [
        {
          "output_type": "execute_result",
          "data": {
            "text/plain": [
              "TreeLayout(('S', ('A', 'Sophia'), ('D', 'is', 'smart')))"
            ],
            "image/svg+xml": "<svg baseProfile=\"full\" height=\"120px\" preserveAspectRatio=\"xMidYMid meet\" style=\"font-family: times, serif; font-weight:normal; font-style: normal; font-size: 16px;\" version=\"1.1\" viewBox=\"0,0,152.0,120.0\" width=\"152px\" xmlns=\"http://www.w3.org/2000/svg\" xmlns:ev=\"http://www.w3.org/2001/xml-events\" xmlns:xlink=\"http://www.w3.org/1999/xlink\"><defs /><svg width=\"100%\" x=\"0\" y=\"0em\"><defs /><text text-anchor=\"middle\" x=\"50%\" y=\"1em\">S</text></svg><svg width=\"42.1053%\" x=\"0%\" y=\"3em\"><defs /><svg width=\"100%\" x=\"0\" y=\"0em\"><defs /><text text-anchor=\"middle\" x=\"50%\" y=\"1em\">A</text></svg><svg width=\"100%\" x=\"0%\" y=\"3em\"><defs /><svg width=\"100%\" x=\"0\" y=\"0em\"><defs /><text text-anchor=\"middle\" x=\"50%\" y=\"1em\">Sophia</text></svg></svg><line stroke=\"black\" x1=\"50%\" x2=\"50%\" y1=\"1.2em\" y2=\"3em\" /></svg><line stroke=\"black\" x1=\"50%\" x2=\"21.0526%\" y1=\"1.2em\" y2=\"3em\" /><svg width=\"57.8947%\" x=\"42.1053%\" y=\"3em\"><defs /><svg width=\"100%\" x=\"0\" y=\"0em\"><defs /><text text-anchor=\"middle\" x=\"50%\" y=\"1em\">D</text></svg><svg width=\"36.3636%\" x=\"0%\" y=\"3em\"><defs /><svg width=\"100%\" x=\"0\" y=\"0em\"><defs /><text text-anchor=\"middle\" x=\"50%\" y=\"1em\">is</text></svg></svg><line stroke=\"black\" x1=\"50%\" x2=\"18.1818%\" y1=\"1.2em\" y2=\"3em\" /><svg width=\"63.6364%\" x=\"36.3636%\" y=\"3em\"><defs /><svg width=\"100%\" x=\"0\" y=\"0em\"><defs /><text text-anchor=\"middle\" x=\"50%\" y=\"1em\">smart</text></svg></svg><line stroke=\"black\" x1=\"50%\" x2=\"68.1818%\" y1=\"1.2em\" y2=\"3em\" /></svg><line stroke=\"black\" x1=\"50%\" x2=\"71.0526%\" y1=\"1.2em\" y2=\"3em\" /></svg>"
          },
          "metadata": {},
          "execution_count": 152
        }
      ]
    },
    {
      "cell_type": "markdown",
      "source": [
        "### Try the structure with other words"
      ],
      "metadata": {
        "id": "I3I7dQhgt9IR"
      }
    },
    {
      "cell_type": "code",
      "source": [
        "#@markdown 3 pop-up boxes for subj, verb, complement(adj or noun)\n",
        "subj = input(\"Subject: \")\n",
        "verb = input(\"Verb: \")\n",
        "obj = input(\"Complement: \")\n",
        "\n",
        "mystr = (\"S\", (\"A\", subj), (\"D\", verb, obj))\n",
        "svgling.draw_tree(mystr)\n",
        "# Caption(out, \"Fig. Structure 1\")"
      ],
      "metadata": {
        "colab": {
          "base_uri": "https://localhost:8080/",
          "height": 194
        },
        "cellView": "form",
        "outputId": "e3e3d9c4-d2d0-4bf3-acee-afbd1ce46afb",
        "id": "YBQjoLtVto5_"
      },
      "execution_count": null,
      "outputs": [
        {
          "name": "stdout",
          "output_type": "stream",
          "text": [
            "Subject: John\n",
            "Verb: is\n",
            "Complement: smart\n"
          ]
        },
        {
          "output_type": "execute_result",
          "data": {
            "text/plain": [
              "TreeLayout(('S', ('A', 'John'), ('D', 'is', 'smart')))"
            ],
            "image/svg+xml": "<svg baseProfile=\"full\" height=\"120px\" preserveAspectRatio=\"xMidYMid meet\" style=\"font-family: times, serif; font-weight:normal; font-style: normal; font-size: 16px;\" version=\"1.1\" viewBox=\"0,0,136.0,120.0\" width=\"136px\" xmlns=\"http://www.w3.org/2000/svg\" xmlns:ev=\"http://www.w3.org/2001/xml-events\" xmlns:xlink=\"http://www.w3.org/1999/xlink\"><defs /><svg width=\"100%\" x=\"0\" y=\"0em\"><defs /><text text-anchor=\"middle\" x=\"50%\" y=\"1em\">S</text></svg><svg width=\"35.2941%\" x=\"0%\" y=\"3em\"><defs /><svg width=\"100%\" x=\"0\" y=\"0em\"><defs /><text text-anchor=\"middle\" x=\"50%\" y=\"1em\">A</text></svg><svg width=\"100%\" x=\"0%\" y=\"3em\"><defs /><svg width=\"100%\" x=\"0\" y=\"0em\"><defs /><text text-anchor=\"middle\" x=\"50%\" y=\"1em\">John</text></svg></svg><line stroke=\"black\" x1=\"50%\" x2=\"50%\" y1=\"1.2em\" y2=\"3em\" /></svg><line stroke=\"black\" x1=\"50%\" x2=\"17.6471%\" y1=\"1.2em\" y2=\"3em\" /><svg width=\"64.7059%\" x=\"35.2941%\" y=\"3em\"><defs /><svg width=\"100%\" x=\"0\" y=\"0em\"><defs /><text text-anchor=\"middle\" x=\"50%\" y=\"1em\">D</text></svg><svg width=\"36.3636%\" x=\"0%\" y=\"3em\"><defs /><svg width=\"100%\" x=\"0\" y=\"0em\"><defs /><text text-anchor=\"middle\" x=\"50%\" y=\"1em\">is</text></svg></svg><line stroke=\"black\" x1=\"50%\" x2=\"18.1818%\" y1=\"1.2em\" y2=\"3em\" /><svg width=\"63.6364%\" x=\"36.3636%\" y=\"3em\"><defs /><svg width=\"100%\" x=\"0\" y=\"0em\"><defs /><text text-anchor=\"middle\" x=\"50%\" y=\"1em\">smart</text></svg></svg><line stroke=\"black\" x1=\"50%\" x2=\"68.1818%\" y1=\"1.2em\" y2=\"3em\" /></svg><line stroke=\"black\" x1=\"50%\" x2=\"67.6471%\" y1=\"1.2em\" y2=\"3em\" /></svg>"
          },
          "metadata": {},
          "execution_count": 151
        }
      ]
    },
    {
      "cell_type": "markdown",
      "source": [
        "# 3rd structure: Subject + Verb + Object"
      ],
      "metadata": {
        "id": "G3kOx6sZqA0O"
      }
    },
    {
      "cell_type": "code",
      "source": [
        "#@markdown subj, verb, obj\n",
        "subj = \"Sarah\"\n",
        "verb = \"made\"\n",
        "obj = \"cookies\"\n",
        "\n",
        "mystr = (\"S\", (\"A\", subj), (\"D\", verb, obj))\n",
        "svgling.draw_tree(mystr)\n",
        "# Caption(out, \"Fig. Structure 1\")"
      ],
      "metadata": {
        "colab": {
          "base_uri": "https://localhost:8080/",
          "height": 141
        },
        "id": "9dU-_KU3qHz8",
        "outputId": "8c06150b-1476-40b7-d3c9-c1937bd51eba"
      },
      "execution_count": null,
      "outputs": [
        {
          "output_type": "execute_result",
          "data": {
            "text/plain": [
              "TreeLayout(('S', ('A', 'Sarah'), ('D', 'made', 'cookies')))"
            ],
            "image/svg+xml": "<svg baseProfile=\"full\" height=\"120px\" preserveAspectRatio=\"xMidYMid meet\" style=\"font-family: times, serif; font-weight:normal; font-style: normal; font-size: 16px;\" version=\"1.1\" viewBox=\"0,0,176.0,120.0\" width=\"176px\" xmlns=\"http://www.w3.org/2000/svg\" xmlns:ev=\"http://www.w3.org/2001/xml-events\" xmlns:xlink=\"http://www.w3.org/1999/xlink\"><defs /><svg width=\"100%\" x=\"0\" y=\"0em\"><defs /><text text-anchor=\"middle\" x=\"50%\" y=\"1em\">S</text></svg><svg width=\"31.8182%\" x=\"0%\" y=\"3em\"><defs /><svg width=\"100%\" x=\"0\" y=\"0em\"><defs /><text text-anchor=\"middle\" x=\"50%\" y=\"1em\">A</text></svg><svg width=\"100%\" x=\"0%\" y=\"3em\"><defs /><svg width=\"100%\" x=\"0\" y=\"0em\"><defs /><text text-anchor=\"middle\" x=\"50%\" y=\"1em\">Sarah</text></svg></svg><line stroke=\"black\" x1=\"50%\" x2=\"50%\" y1=\"1.2em\" y2=\"3em\" /></svg><line stroke=\"black\" x1=\"50%\" x2=\"15.9091%\" y1=\"1.2em\" y2=\"3em\" /><svg width=\"68.1818%\" x=\"31.8182%\" y=\"3em\"><defs /><svg width=\"100%\" x=\"0\" y=\"0em\"><defs /><text text-anchor=\"middle\" x=\"50%\" y=\"1em\">D</text></svg><svg width=\"40%\" x=\"0%\" y=\"3em\"><defs /><svg width=\"100%\" x=\"0\" y=\"0em\"><defs /><text text-anchor=\"middle\" x=\"50%\" y=\"1em\">made</text></svg></svg><line stroke=\"black\" x1=\"50%\" x2=\"20%\" y1=\"1.2em\" y2=\"3em\" /><svg width=\"60%\" x=\"40%\" y=\"3em\"><defs /><svg width=\"100%\" x=\"0\" y=\"0em\"><defs /><text text-anchor=\"middle\" x=\"50%\" y=\"1em\">cookies</text></svg></svg><line stroke=\"black\" x1=\"50%\" x2=\"70%\" y1=\"1.2em\" y2=\"3em\" /></svg><line stroke=\"black\" x1=\"50%\" x2=\"65.9091%\" y1=\"1.2em\" y2=\"3em\" /></svg>"
          },
          "metadata": {},
          "execution_count": 153
        }
      ]
    },
    {
      "cell_type": "markdown",
      "source": [
        "### Try the structure with words"
      ],
      "metadata": {
        "id": "QMoXTg_xuiYK"
      }
    },
    {
      "cell_type": "code",
      "source": [
        "#@markdown 3 pop-up boxes for subj, verb, obj\n",
        "subj = input(\"Subject: \")\n",
        "verb = input(\"Verb: \")\n",
        "obj = input(\"Object: \")\n",
        "\n",
        "mystr = (\"S\", (\"A\", subj), (\"D\", verb, obj))\n",
        "svgling.draw_tree(mystr)\n",
        "# Caption(out, \"Fig. Structure 1\")"
      ],
      "metadata": {
        "colab": {
          "base_uri": "https://localhost:8080/",
          "height": 194
        },
        "outputId": "8087ea40-90cc-4dd5-8398-0b9615888fb2",
        "id": "Ssy_XCazuKxu"
      },
      "execution_count": null,
      "outputs": [
        {
          "name": "stdout",
          "output_type": "stream",
          "text": [
            "Subject: Mary\n",
            "Verb: meets\n",
            "Object: her friend\n"
          ]
        },
        {
          "output_type": "execute_result",
          "data": {
            "text/plain": [
              "TreeLayout(('S', ('A', 'Mary'), ('D', 'meets', 'her friend')))"
            ],
            "image/svg+xml": "<svg baseProfile=\"full\" height=\"120px\" preserveAspectRatio=\"xMidYMid meet\" style=\"font-family: times, serif; font-weight:normal; font-style: normal; font-size: 16px;\" version=\"1.1\" viewBox=\"0,0,200.0,120.0\" width=\"200px\" xmlns=\"http://www.w3.org/2000/svg\" xmlns:ev=\"http://www.w3.org/2001/xml-events\" xmlns:xlink=\"http://www.w3.org/1999/xlink\"><defs /><svg width=\"100%\" x=\"0\" y=\"0em\"><defs /><text text-anchor=\"middle\" x=\"50%\" y=\"1em\">S</text></svg><svg width=\"24%\" x=\"0%\" y=\"3em\"><defs /><svg width=\"100%\" x=\"0\" y=\"0em\"><defs /><text text-anchor=\"middle\" x=\"50%\" y=\"1em\">A</text></svg><svg width=\"100%\" x=\"0%\" y=\"3em\"><defs /><svg width=\"100%\" x=\"0\" y=\"0em\"><defs /><text text-anchor=\"middle\" x=\"50%\" y=\"1em\">Mary</text></svg></svg><line stroke=\"black\" x1=\"50%\" x2=\"50%\" y1=\"1.2em\" y2=\"3em\" /></svg><line stroke=\"black\" x1=\"50%\" x2=\"12%\" y1=\"1.2em\" y2=\"3em\" /><svg width=\"76%\" x=\"24%\" y=\"3em\"><defs /><svg width=\"100%\" x=\"0\" y=\"0em\"><defs /><text text-anchor=\"middle\" x=\"50%\" y=\"1em\">D</text></svg><svg width=\"36.8421%\" x=\"0%\" y=\"3em\"><defs /><svg width=\"100%\" x=\"0\" y=\"0em\"><defs /><text text-anchor=\"middle\" x=\"50%\" y=\"1em\">meets</text></svg></svg><line stroke=\"black\" x1=\"50%\" x2=\"18.4211%\" y1=\"1.2em\" y2=\"3em\" /><svg width=\"63.1579%\" x=\"36.8421%\" y=\"3em\"><defs /><svg width=\"100%\" x=\"0\" y=\"0em\"><defs /><text text-anchor=\"middle\" x=\"50%\" y=\"1em\">her friend</text></svg></svg><line stroke=\"black\" x1=\"50%\" x2=\"68.4211%\" y1=\"1.2em\" y2=\"3em\" /></svg><line stroke=\"black\" x1=\"50%\" x2=\"62%\" y1=\"1.2em\" y2=\"3em\" /></svg>"
          },
          "metadata": {},
          "execution_count": 150
        }
      ]
    },
    {
      "cell_type": "markdown",
      "source": [
        "4th structure: Subject + Verb + C1 + C2 (S + V + iO + dO)"
      ],
      "metadata": {
        "id": "DfBKGP7_ZKqf"
      }
    },
    {
      "cell_type": "code",
      "source": [
        "#@markdown subj, verb, c1, c2\n",
        "subj = \"I\"\n",
        "verb = \"spared\"\n",
        "c1 = \"him\"\n",
        "c2 = \"the trouble\"\n",
        "\n",
        "mystr = (\"S\", (\"NP/Sbj\", subj), (\"VP\", (\"V\", verb), (\"NP/iO\", c1), (\"NP/dO\", c2)))\n",
        "svgling.draw_tree(mystr)\n",
        "# Caption(out, \"Fig. Structure 1\")"
      ],
      "metadata": {
        "id": "VFeRJz_SZRm9",
        "outputId": "718aec5c-d6e4-4221-a828-66c4f2335243",
        "colab": {
          "base_uri": "https://localhost:8080/",
          "height": 188
        }
      },
      "execution_count": null,
      "outputs": [
        {
          "output_type": "execute_result",
          "data": {
            "text/plain": [
              "TreeLayout(('S', ('NP/Sbj', 'I'), ('VP', ('V', 'spared'), ('NP/iO', 'him'), ('NP/dO', 'the trouble'))))"
            ],
            "image/svg+xml": "<svg baseProfile=\"full\" height=\"168px\" preserveAspectRatio=\"xMidYMid meet\" style=\"font-family: times, serif; font-weight:normal; font-style: normal; font-size: 16px;\" version=\"1.1\" viewBox=\"0,0,288.0,168.0\" width=\"288px\" xmlns=\"http://www.w3.org/2000/svg\" xmlns:ev=\"http://www.w3.org/2001/xml-events\" xmlns:xlink=\"http://www.w3.org/1999/xlink\"><defs /><svg width=\"100%\" x=\"0\" y=\"0em\"><defs /><text text-anchor=\"middle\" x=\"50%\" y=\"1em\">S</text></svg><svg width=\"22.2222%\" x=\"0%\" y=\"3em\"><defs /><svg width=\"100%\" x=\"0\" y=\"0em\"><defs /><text text-anchor=\"middle\" x=\"50%\" y=\"1em\">NP/Sbj</text></svg><svg width=\"100%\" x=\"0%\" y=\"3em\"><defs /><svg width=\"100%\" x=\"0\" y=\"0em\"><defs /><text text-anchor=\"middle\" x=\"50%\" y=\"1em\">I</text></svg></svg><line stroke=\"black\" x1=\"50%\" x2=\"50%\" y1=\"1.2em\" y2=\"3em\" /></svg><line stroke=\"black\" x1=\"50%\" x2=\"11.1111%\" y1=\"1.2em\" y2=\"3em\" /><svg width=\"77.7778%\" x=\"22.2222%\" y=\"3em\"><defs /><svg width=\"100%\" x=\"0\" y=\"0em\"><defs /><text text-anchor=\"middle\" x=\"50%\" y=\"1em\">VP</text></svg><svg width=\"28.5714%\" x=\"0%\" y=\"3em\"><defs /><svg width=\"100%\" x=\"0\" y=\"0em\"><defs /><text text-anchor=\"middle\" x=\"50%\" y=\"1em\">V</text></svg><svg width=\"100%\" x=\"0%\" y=\"3em\"><defs /><svg width=\"100%\" x=\"0\" y=\"0em\"><defs /><text text-anchor=\"middle\" x=\"50%\" y=\"1em\">spared</text></svg></svg><line stroke=\"black\" x1=\"50%\" x2=\"50%\" y1=\"1.2em\" y2=\"3em\" /></svg><line stroke=\"black\" x1=\"50%\" x2=\"14.2857%\" y1=\"1.2em\" y2=\"3em\" /><svg width=\"25%\" x=\"28.5714%\" y=\"3em\"><defs /><svg width=\"100%\" x=\"0\" y=\"0em\"><defs /><text text-anchor=\"middle\" x=\"50%\" y=\"1em\">NP/iO</text></svg><svg width=\"100%\" x=\"0%\" y=\"3em\"><defs /><svg width=\"100%\" x=\"0\" y=\"0em\"><defs /><text text-anchor=\"middle\" x=\"50%\" y=\"1em\">him</text></svg></svg><line stroke=\"black\" x1=\"50%\" x2=\"50%\" y1=\"1.2em\" y2=\"3em\" /></svg><line stroke=\"black\" x1=\"50%\" x2=\"41.0714%\" y1=\"1.2em\" y2=\"3em\" /><svg width=\"46.4286%\" x=\"53.5714%\" y=\"3em\"><defs /><svg width=\"100%\" x=\"0\" y=\"0em\"><defs /><text text-anchor=\"middle\" x=\"50%\" y=\"1em\">NP/dO</text></svg><svg width=\"100%\" x=\"0%\" y=\"3em\"><defs /><svg width=\"100%\" x=\"0\" y=\"0em\"><defs /><text text-anchor=\"middle\" x=\"50%\" y=\"1em\">the trouble</text></svg></svg><line stroke=\"black\" x1=\"50%\" x2=\"50%\" y1=\"1.2em\" y2=\"3em\" /></svg><line stroke=\"black\" x1=\"50%\" x2=\"76.7857%\" y1=\"1.2em\" y2=\"3em\" /></svg><line stroke=\"black\" x1=\"50%\" x2=\"61.1111%\" y1=\"1.2em\" y2=\"3em\" /></svg>"
          },
          "metadata": {},
          "execution_count": 28
        }
      ]
    },
    {
      "cell_type": "code",
      "source": [
        "#@markdown 4 pop-up boxes for subj, verb, iO, dO\n",
        "subj = input(\"주어를 입력하세요: \")\n",
        "verb = input(\"동사를 입력하세요: \")\n",
        "iO = input(\"간접목적어를 입력하세요: \")\n",
        "dO = input(\"직접목적어를 입력하세요: \")\n",
        "\n",
        "mystr = (\"S\", (\"NP\", subj), (\"VP\", verb, iO, dO))\n",
        "svgling.draw_tree(mystr)\n",
        "# Caption(out, \"Fig. Structure 1\")"
      ],
      "metadata": {
        "id": "ytgMp_C0aOS3",
        "outputId": "e6b96806-5e05-4793-988e-536f94fca046",
        "colab": {
          "base_uri": "https://localhost:8080/",
          "height": 214
        }
      },
      "execution_count": null,
      "outputs": [
        {
          "name": "stdout",
          "output_type": "stream",
          "text": [
            "주어를 입력하세요: He\n",
            "동사를 입력하세요: gave\n",
            "간접목적어를 입력하세요: me\n",
            "직접목적어를 입력하세요: the candy box.\n"
          ]
        },
        {
          "output_type": "execute_result",
          "data": {
            "text/plain": [
              "TreeLayout(('S', ('NP', 'He'), ('VP', 'gave', 'me', 'the candy box.')))"
            ],
            "image/svg+xml": "<svg baseProfile=\"full\" height=\"120px\" preserveAspectRatio=\"xMidYMid meet\" style=\"font-family: times, serif; font-weight:normal; font-style: normal; font-size: 16px;\" version=\"1.1\" viewBox=\"0,0,240.0,120.0\" width=\"240px\" xmlns=\"http://www.w3.org/2000/svg\" xmlns:ev=\"http://www.w3.org/2001/xml-events\" xmlns:xlink=\"http://www.w3.org/1999/xlink\"><defs /><svg width=\"100%\" x=\"0\" y=\"0em\"><defs /><text text-anchor=\"middle\" x=\"50%\" y=\"1em\">S</text></svg><svg width=\"13.3333%\" x=\"0%\" y=\"3em\"><defs /><svg width=\"100%\" x=\"0\" y=\"0em\"><defs /><text text-anchor=\"middle\" x=\"50%\" y=\"1em\">NP</text></svg><svg width=\"100%\" x=\"0%\" y=\"3em\"><defs /><svg width=\"100%\" x=\"0\" y=\"0em\"><defs /><text text-anchor=\"middle\" x=\"50%\" y=\"1em\">He</text></svg></svg><line stroke=\"black\" x1=\"50%\" x2=\"50%\" y1=\"1.2em\" y2=\"3em\" /></svg><line stroke=\"black\" x1=\"50%\" x2=\"6.66667%\" y1=\"1.2em\" y2=\"3em\" /><svg width=\"86.6667%\" x=\"13.3333%\" y=\"3em\"><defs /><svg width=\"100%\" x=\"0\" y=\"0em\"><defs /><text text-anchor=\"middle\" x=\"50%\" y=\"1em\">VP</text></svg><svg width=\"23.0769%\" x=\"0%\" y=\"3em\"><defs /><svg width=\"100%\" x=\"0\" y=\"0em\"><defs /><text text-anchor=\"middle\" x=\"50%\" y=\"1em\">gave</text></svg></svg><line stroke=\"black\" x1=\"50%\" x2=\"11.5385%\" y1=\"1.2em\" y2=\"3em\" /><svg width=\"15.3846%\" x=\"23.0769%\" y=\"3em\"><defs /><svg width=\"100%\" x=\"0\" y=\"0em\"><defs /><text text-anchor=\"middle\" x=\"50%\" y=\"1em\">me</text></svg></svg><line stroke=\"black\" x1=\"50%\" x2=\"30.7692%\" y1=\"1.2em\" y2=\"3em\" /><svg width=\"61.5385%\" x=\"38.4615%\" y=\"3em\"><defs /><svg width=\"100%\" x=\"0\" y=\"0em\"><defs /><text text-anchor=\"middle\" x=\"50%\" y=\"1em\">the candy box.</text></svg></svg><line stroke=\"black\" x1=\"50%\" x2=\"69.2308%\" y1=\"1.2em\" y2=\"3em\" /></svg><line stroke=\"black\" x1=\"50%\" x2=\"56.6667%\" y1=\"1.2em\" y2=\"3em\" /></svg>"
          },
          "metadata": {},
          "execution_count": 16
        }
      ]
    },
    {
      "cell_type": "markdown",
      "source": [
        "---\n",
        "The end"
      ],
      "metadata": {
        "id": "pCReafXpuno9"
      }
    }
  ]
}