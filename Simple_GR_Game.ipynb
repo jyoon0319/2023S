{
  "nbformat": 4,
  "nbformat_minor": 0,
  "metadata": {
    "colab": {
      "provenance": [],
      "include_colab_link": true
    },
    "kernelspec": {
      "name": "python3",
      "display_name": "Python 3"
    },
    "language_info": {
      "name": "python"
    }
  },
  "cells": [
    {
      "cell_type": "markdown",
      "metadata": {
        "id": "view-in-github",
        "colab_type": "text"
      },
      "source": [
        "<a href=\"https://colab.research.google.com/github/jyoon0319/2023S/blob/main/Simple_GR_Game.ipynb\" target=\"_parent\"><img src=\"https://colab.research.google.com/assets/colab-badge.svg\" alt=\"Open In Colab\"/></a>"
      ]
    },
    {
      "cell_type": "markdown",
      "source": [
        "# Simple Grammar Games\n",
        "\n",
        "- video games: \n",
        "https://ai-creator.tistory.com/m/category/%EC%9C%A0%EC%B9%98%ED%95%9C%20%EA%B2%8C%EC%9E%84\n",
        "\n",
        "-drawing using turtle:\n",
        "https://www.geeksforgeeks.org/draw-circle-in-python-using-turtle/"
      ],
      "metadata": {
        "id": "EVHyMXYIT_85"
      }
    },
    {
      "cell_type": "code",
      "execution_count": 48,
      "metadata": {
        "colab": {
          "base_uri": "https://localhost:8080/"
        },
        "id": "SqQOVQWNicnm",
        "outputId": "4ca80626-e702-462d-f80c-88b3b87b17a1"
      },
      "outputs": [
        {
          "output_type": "stream",
          "name": "stdout",
          "text": [
            "Looking in indexes: https://pypi.org/simple, https://us-python.pkg.dev/colab-wheels/public/simple/\n",
            "Requirement already satisfied: ColabTurtle in /usr/local/lib/python3.10/dist-packages (2.1.0)\n"
          ]
        }
      ],
      "source": [
        "!pip3 install ColabTurtle"
      ]
    },
    {
      "cell_type": "code",
      "source": [
        "from ColabTurtle.Turtle import *"
      ],
      "metadata": {
        "id": "XNjuyzjGj-Hy"
      },
      "execution_count": 49,
      "outputs": []
    },
    {
      "cell_type": "code",
      "source": [
        "initializeTurtle()"
      ],
      "metadata": {
        "colab": {
          "base_uri": "https://localhost:8080/",
          "height": 520
        },
        "id": "UYzj0-QKj_Pa",
        "outputId": "26b64747-7bcf-47a0-eef6-5d08884b3891"
      },
      "execution_count": 50,
      "outputs": [
        {
          "output_type": "display_data",
          "data": {
            "text/plain": [
              "<IPython.core.display.HTML object>"
            ],
            "text/html": [
              "\n",
              "      <svg width=\"800\" height=\"500\">\n",
              "        <rect width=\"100%\" height=\"100%\" fill=\"black\"/>\n",
              "        \n",
              "        <g visibility=visible transform=\"rotate(360,400,250) translate(382, 232)\">\n",
              "<path style=\" stroke:none;fill-rule:evenodd;fill:white;fill-opacity:1;\" d=\"M 18.214844 0.632812 C 16.109375 1.800781 15.011719 4.074219 15.074219 7.132812 L 15.085938 7.652344 L 14.785156 7.496094 C 13.476562 6.824219 11.957031 6.671875 10.40625 7.066406 C 8.46875 7.550781 6.515625 9.15625 4.394531 11.992188 C 3.0625 13.777344 2.679688 14.636719 3.042969 15.027344 L 3.15625 15.152344 L 3.519531 15.152344 C 4.238281 15.152344 4.828125 14.886719 8.1875 13.039062 C 9.386719 12.378906 10.371094 11.839844 10.378906 11.839844 C 10.386719 11.839844 10.355469 11.929688 10.304688 12.035156 C 9.832031 13.09375 9.257812 14.820312 8.96875 16.078125 C 7.914062 20.652344 8.617188 24.53125 11.070312 27.660156 C 11.351562 28.015625 11.363281 27.914062 10.972656 28.382812 C 8.925781 30.84375 7.945312 33.28125 8.238281 35.1875 C 8.289062 35.527344 8.28125 35.523438 8.917969 35.523438 C 10.941406 35.523438 13.074219 34.207031 15.136719 31.6875 C 15.359375 31.417969 15.328125 31.425781 15.5625 31.574219 C 16.292969 32.042969 18.023438 32.964844 18.175781 32.964844 C 18.335938 32.964844 19.941406 32.210938 20.828125 31.71875 C 20.996094 31.625 21.136719 31.554688 21.136719 31.558594 C 21.203125 31.664062 21.898438 32.414062 22.222656 32.730469 C 23.835938 34.300781 25.5625 35.132812 27.582031 35.300781 C 27.90625 35.328125 27.9375 35.308594 28.007812 34.984375 C 28.382812 33.242188 27.625 30.925781 25.863281 28.425781 L 25.542969 27.96875 L 25.699219 27.785156 C 28.945312 23.960938 29.132812 18.699219 26.257812 11.96875 L 26.207031 11.84375 L 27.945312 12.703125 C 31.53125 14.476562 32.316406 14.800781 33.03125 14.800781 C 33.976562 14.800781 33.78125 13.9375 32.472656 12.292969 C 28.519531 7.355469 25.394531 5.925781 21.921875 7.472656 L 21.558594 7.636719 L 21.578125 7.542969 C 21.699219 6.992188 21.761719 5.742188 21.699219 5.164062 C 21.496094 3.296875 20.664062 1.964844 19.003906 0.855469 C 18.480469 0.503906 18.457031 0.5 18.214844 0.632812\"/>\n",
              "</g>\n",
              "      </svg>\n",
              "    "
            ]
          },
          "metadata": {}
        }
      ]
    },
    {
      "cell_type": "code",
      "source": [
        "bgcolor(\"black\")\n",
        "color(\"purple\")\n",
        "speed(10)"
      ],
      "metadata": {
        "colab": {
          "base_uri": "https://localhost:8080/",
          "height": 520
        },
        "id": "bmt1VIrSkBx6",
        "outputId": "dc8a95cd-c901-404a-fc71-d1decb572d7e"
      },
      "execution_count": 51,
      "outputs": [
        {
          "output_type": "display_data",
          "data": {
            "text/plain": [
              "<IPython.core.display.HTML object>"
            ],
            "text/html": [
              "\n",
              "      <svg width=\"800\" height=\"500\">\n",
              "        <rect width=\"100%\" height=\"100%\" fill=\"black\"/>\n",
              "        \n",
              "        <g visibility=visible transform=\"rotate(360,400,250) translate(382, 232)\">\n",
              "<path style=\" stroke:none;fill-rule:evenodd;fill:purple;fill-opacity:1;\" d=\"M 18.214844 0.632812 C 16.109375 1.800781 15.011719 4.074219 15.074219 7.132812 L 15.085938 7.652344 L 14.785156 7.496094 C 13.476562 6.824219 11.957031 6.671875 10.40625 7.066406 C 8.46875 7.550781 6.515625 9.15625 4.394531 11.992188 C 3.0625 13.777344 2.679688 14.636719 3.042969 15.027344 L 3.15625 15.152344 L 3.519531 15.152344 C 4.238281 15.152344 4.828125 14.886719 8.1875 13.039062 C 9.386719 12.378906 10.371094 11.839844 10.378906 11.839844 C 10.386719 11.839844 10.355469 11.929688 10.304688 12.035156 C 9.832031 13.09375 9.257812 14.820312 8.96875 16.078125 C 7.914062 20.652344 8.617188 24.53125 11.070312 27.660156 C 11.351562 28.015625 11.363281 27.914062 10.972656 28.382812 C 8.925781 30.84375 7.945312 33.28125 8.238281 35.1875 C 8.289062 35.527344 8.28125 35.523438 8.917969 35.523438 C 10.941406 35.523438 13.074219 34.207031 15.136719 31.6875 C 15.359375 31.417969 15.328125 31.425781 15.5625 31.574219 C 16.292969 32.042969 18.023438 32.964844 18.175781 32.964844 C 18.335938 32.964844 19.941406 32.210938 20.828125 31.71875 C 20.996094 31.625 21.136719 31.554688 21.136719 31.558594 C 21.203125 31.664062 21.898438 32.414062 22.222656 32.730469 C 23.835938 34.300781 25.5625 35.132812 27.582031 35.300781 C 27.90625 35.328125 27.9375 35.308594 28.007812 34.984375 C 28.382812 33.242188 27.625 30.925781 25.863281 28.425781 L 25.542969 27.96875 L 25.699219 27.785156 C 28.945312 23.960938 29.132812 18.699219 26.257812 11.96875 L 26.207031 11.84375 L 27.945312 12.703125 C 31.53125 14.476562 32.316406 14.800781 33.03125 14.800781 C 33.976562 14.800781 33.78125 13.9375 32.472656 12.292969 C 28.519531 7.355469 25.394531 5.925781 21.921875 7.472656 L 21.558594 7.636719 L 21.578125 7.542969 C 21.699219 6.992188 21.761719 5.742188 21.699219 5.164062 C 21.496094 3.296875 20.664062 1.964844 19.003906 0.855469 C 18.480469 0.503906 18.457031 0.5 18.214844 0.632812\"/>\n",
              "</g>\n",
              "      </svg>\n",
              "    "
            ]
          },
          "metadata": {}
        }
      ]
    },
    {
      "cell_type": "code",
      "source": [
        "for i in range(200):\n",
        "    forward(i)\n",
        "    left(75)"
      ],
      "metadata": {
        "colab": {
          "base_uri": "https://localhost:8080/",
          "height": 520
        },
        "id": "zw-BLyhgkDyj",
        "outputId": "1edb16ab-dfd4-4dfe-be4e-18c37da51ac7"
      },
      "execution_count": 52,
      "outputs": [
        {
          "output_type": "display_data",
          "data": {
            "text/plain": [
              "<IPython.core.display.HTML object>"
            ],
            "text/html": [
              "\n",
              "      <svg width=\"800\" height=\"500\">\n",
              "        <rect width=\"100%\" height=\"100%\" fill=\"black\"/>\n",
              "        <line x1=\"400\" y1=\"250\" x2=\"400.0\" y2=\"250.0\" stroke-linecap=\"round\" style=\"stroke:purple;stroke-width:4\"/><line x1=\"400.0\" y1=\"250.0\" x2=\"399.034\" y2=\"249.741\" stroke-linecap=\"round\" style=\"stroke:purple;stroke-width:4\"/><line x1=\"399.034\" y1=\"249.741\" x2=\"398.034\" y2=\"251.473\" stroke-linecap=\"round\" style=\"stroke:purple;stroke-width:4\"/><line x1=\"398.034\" y1=\"251.473\" x2=\"400.155\" y2=\"253.594\" stroke-linecap=\"round\" style=\"stroke:purple;stroke-width:4\"/><line x1=\"400.155\" y1=\"253.594\" x2=\"403.619\" y2=\"251.594\" stroke-linecap=\"round\" style=\"stroke:purple;stroke-width:4\"/><line x1=\"403.619\" y1=\"251.594\" x2=\"402.325\" y2=\"246.764\" stroke-linecap=\"round\" style=\"stroke:purple;stroke-width:4\"/><line x1=\"402.325\" y1=\"246.764\" x2=\"396.325\" y2=\"246.764\" stroke-linecap=\"round\" style=\"stroke:purple;stroke-width:4\"/><line x1=\"396.325\" y1=\"246.764\" x2=\"394.513\" y2=\"253.525\" stroke-linecap=\"round\" style=\"stroke:purple;stroke-width:4\"/><line x1=\"394.513\" y1=\"253.525\" x2=\"401.441\" y2=\"257.525\" stroke-linecap=\"round\" style=\"stroke:purple;stroke-width:4\"/><line x1=\"401.441\" y1=\"257.525\" x2=\"407.805\" y2=\"251.161\" stroke-linecap=\"round\" style=\"stroke:purple;stroke-width:4\"/><line x1=\"407.805\" y1=\"251.161\" x2=\"402.805\" y2=\"242.501\" stroke-linecap=\"round\" style=\"stroke:purple;stroke-width:4\"/><line x1=\"402.805\" y1=\"242.501\" x2=\"392.18\" y2=\"245.348\" stroke-linecap=\"round\" style=\"stroke:purple;stroke-width:4\"/><line x1=\"392.18\" y1=\"245.348\" x2=\"392.18\" y2=\"257.348\" stroke-linecap=\"round\" style=\"stroke:purple;stroke-width:4\"/><line x1=\"392.18\" y1=\"257.348\" x2=\"404.737\" y2=\"260.713\" stroke-linecap=\"round\" style=\"stroke:purple;stroke-width:4\"/><line x1=\"404.737\" y1=\"260.713\" x2=\"411.737\" y2=\"248.589\" stroke-linecap=\"round\" style=\"stroke:purple;stroke-width:4\"/><line x1=\"411.737\" y1=\"248.589\" x2=\"401.13\" y2=\"237.982\" stroke-linecap=\"round\" style=\"stroke:purple;stroke-width:4\"/><line x1=\"401.13\" y1=\"237.982\" x2=\"387.274\" y2=\"245.982\" stroke-linecap=\"round\" style=\"stroke:purple;stroke-width:4\"/><line x1=\"387.274\" y1=\"245.982\" x2=\"391.674\" y2=\"262.403\" stroke-linecap=\"round\" style=\"stroke:purple;stroke-width:4\"/><line x1=\"391.674\" y1=\"262.403\" x2=\"409.674\" y2=\"262.403\" stroke-linecap=\"round\" style=\"stroke:purple;stroke-width:4\"/><line x1=\"409.674\" y1=\"262.403\" x2=\"414.592\" y2=\"244.05\" stroke-linecap=\"round\" style=\"stroke:purple;stroke-width:4\"/><line x1=\"414.592\" y1=\"244.05\" x2=\"397.271\" y2=\"234.05\" stroke-linecap=\"round\" style=\"stroke:purple;stroke-width:4\"/><line x1=\"397.271\" y1=\"234.05\" x2=\"382.422\" y2=\"248.899\" stroke-linecap=\"round\" style=\"stroke:purple;stroke-width:4\"/><line x1=\"382.422\" y1=\"248.899\" x2=\"393.422\" y2=\"267.952\" stroke-linecap=\"round\" style=\"stroke:purple;stroke-width:4\"/><line x1=\"393.422\" y1=\"267.952\" x2=\"415.638\" y2=\"261.999\" stroke-linecap=\"round\" style=\"stroke:purple;stroke-width:4\"/><line x1=\"415.638\" y1=\"261.999\" x2=\"415.638\" y2=\"237.999\" stroke-linecap=\"round\" style=\"stroke:purple;stroke-width:4\"/><line x1=\"415.638\" y1=\"237.999\" x2=\"391.49\" y2=\"231.529\" stroke-linecap=\"round\" style=\"stroke:purple;stroke-width:4\"/><line x1=\"391.49\" y1=\"231.529\" x2=\"378.49\" y2=\"254.046\" stroke-linecap=\"round\" style=\"stroke:purple;stroke-width:4\"/><line x1=\"378.49\" y1=\"254.046\" x2=\"397.582\" y2=\"273.138\" stroke-linecap=\"round\" style=\"stroke:purple;stroke-width:4\"/><line x1=\"397.582\" y1=\"273.138\" x2=\"421.831\" y2=\"259.138\" stroke-linecap=\"round\" style=\"stroke:purple;stroke-width:4\"/><line x1=\"421.831\" y1=\"259.138\" x2=\"414.325\" y2=\"231.126\" stroke-linecap=\"round\" style=\"stroke:purple;stroke-width:4\"/><line x1=\"414.325\" y1=\"231.126\" x2=\"384.325\" y2=\"231.126\" stroke-linecap=\"round\" style=\"stroke:purple;stroke-width:4\"/><line x1=\"384.325\" y1=\"231.126\" x2=\"376.302\" y2=\"261.07\" stroke-linecap=\"round\" style=\"stroke:purple;stroke-width:4\"/><line x1=\"376.302\" y1=\"261.07\" x2=\"404.015\" y2=\"277.07\" stroke-linecap=\"round\" style=\"stroke:purple;stroke-width:4\"/><line x1=\"404.015\" y1=\"277.07\" x2=\"427.35\" y2=\"253.735\" stroke-linecap=\"round\" style=\"stroke:purple;stroke-width:4\"/><line x1=\"427.35\" y1=\"253.735\" x2=\"410.35\" y2=\"224.29\" stroke-linecap=\"round\" style=\"stroke:purple;stroke-width:4\"/><line x1=\"410.35\" y1=\"224.29\" x2=\"376.543\" y2=\"233.349\" stroke-linecap=\"round\" style=\"stroke:purple;stroke-width:4\"/><line x1=\"376.543\" y1=\"233.349\" x2=\"376.543\" y2=\"269.349\" stroke-linecap=\"round\" style=\"stroke:purple;stroke-width:4\"/><line x1=\"376.543\" y1=\"269.349\" x2=\"412.282\" y2=\"278.925\" stroke-linecap=\"round\" style=\"stroke:purple;stroke-width:4\"/><line x1=\"412.282\" y1=\"278.925\" x2=\"431.282\" y2=\"246.016\" stroke-linecap=\"round\" style=\"stroke:purple;stroke-width:4\"/><line x1=\"431.282\" y1=\"246.016\" x2=\"403.705\" y2=\"218.439\" stroke-linecap=\"round\" style=\"stroke:purple;stroke-width:4\"/><line x1=\"403.705\" y1=\"218.439\" x2=\"369.064\" y2=\"238.439\" stroke-linecap=\"round\" style=\"stroke:purple;stroke-width:4\"/><line x1=\"369.064\" y1=\"238.439\" x2=\"379.676\" y2=\"278.042\" stroke-linecap=\"round\" style=\"stroke:purple;stroke-width:4\"/><line x1=\"379.676\" y1=\"278.042\" x2=\"421.676\" y2=\"278.042\" stroke-linecap=\"round\" style=\"stroke:purple;stroke-width:4\"/><line x1=\"421.676\" y1=\"278.042\" x2=\"432.805\" y2=\"236.507\" stroke-linecap=\"round\" style=\"stroke:purple;stroke-width:4\"/><line x1=\"432.805\" y1=\"236.507\" x2=\"394.7\" y2=\"214.507\" stroke-linecap=\"round\" style=\"stroke:purple;stroke-width:4\"/><line x1=\"394.7\" y1=\"214.507\" x2=\"362.88\" y2=\"246.327\" stroke-linecap=\"round\" style=\"stroke:purple;stroke-width:4\"/><line x1=\"362.88\" y1=\"246.327\" x2=\"385.88\" y2=\"286.164\" stroke-linecap=\"round\" style=\"stroke:purple;stroke-width:4\"/><line x1=\"385.88\" y1=\"286.164\" x2=\"431.279\" y2=\"274.0\" stroke-linecap=\"round\" style=\"stroke:purple;stroke-width:4\"/><line x1=\"431.279\" y1=\"274.0\" x2=\"431.279\" y2=\"226.0\" stroke-linecap=\"round\" style=\"stroke:purple;stroke-width:4\"/><line x1=\"431.279\" y1=\"226.0\" x2=\"383.949\" y2=\"213.318\" stroke-linecap=\"round\" style=\"stroke:purple;stroke-width:4\"/><line x1=\"383.949\" y1=\"213.318\" x2=\"358.949\" y2=\"256.619\" stroke-linecap=\"round\" style=\"stroke:purple;stroke-width:4\"/><line x1=\"358.949\" y1=\"256.619\" x2=\"395.011\" y2=\"292.681\" stroke-linecap=\"round\" style=\"stroke:purple;stroke-width:4\"/><line x1=\"395.011\" y1=\"292.681\" x2=\"440.044\" y2=\"266.681\" stroke-linecap=\"round\" style=\"stroke:purple;stroke-width:4\"/><line x1=\"440.044\" y1=\"266.681\" x2=\"426.327\" y2=\"215.487\" stroke-linecap=\"round\" style=\"stroke:purple;stroke-width:4\"/><line x1=\"426.327\" y1=\"215.487\" x2=\"372.327\" y2=\"215.487\" stroke-linecap=\"round\" style=\"stroke:purple;stroke-width:4\"/><line x1=\"372.327\" y1=\"215.487\" x2=\"358.092\" y2=\"268.613\" stroke-linecap=\"round\" style=\"stroke:purple;stroke-width:4\"/><line x1=\"358.092\" y1=\"268.613\" x2=\"406.589\" y2=\"296.613\" stroke-linecap=\"round\" style=\"stroke:purple;stroke-width:4\"/><line x1=\"406.589\" y1=\"296.613\" x2=\"446.894\" y2=\"256.308\" stroke-linecap=\"round\" style=\"stroke:purple;stroke-width:4\"/><line x1=\"446.894\" y1=\"256.308\" x2=\"417.894\" y2=\"206.079\" stroke-linecap=\"round\" style=\"stroke:purple;stroke-width:4\"/><line x1=\"417.894\" y1=\"206.079\" x2=\"360.904\" y2=\"221.349\" stroke-linecap=\"round\" style=\"stroke:purple;stroke-width:4\"/><line x1=\"360.904\" y1=\"221.349\" x2=\"360.904\" y2=\"281.349\" stroke-linecap=\"round\" style=\"stroke:purple;stroke-width:4\"/><line x1=\"360.904\" y1=\"281.349\" x2=\"419.825\" y2=\"297.137\" stroke-linecap=\"round\" style=\"stroke:purple;stroke-width:4\"/><line x1=\"419.825\" y1=\"297.137\" x2=\"450.825\" y2=\"243.443\" stroke-linecap=\"round\" style=\"stroke:purple;stroke-width:4\"/><line x1=\"450.825\" y1=\"243.443\" x2=\"406.277\" y2=\"198.895\" stroke-linecap=\"round\" style=\"stroke:purple;stroke-width:4\"/><line x1=\"406.277\" y1=\"198.895\" x2=\"350.851\" y2=\"230.895\" stroke-linecap=\"round\" style=\"stroke:purple;stroke-width:4\"/><line x1=\"350.851\" y1=\"230.895\" x2=\"367.674\" y2=\"293.68\" stroke-linecap=\"round\" style=\"stroke:purple;stroke-width:4\"/><line x1=\"367.674\" y1=\"293.68\" x2=\"433.674\" y2=\"293.68\" stroke-linecap=\"round\" style=\"stroke:purple;stroke-width:4\"/><line x1=\"433.674\" y1=\"293.68\" x2=\"451.015\" y2=\"228.963\" stroke-linecap=\"round\" style=\"stroke:purple;stroke-width:4\"/><line x1=\"451.015\" y1=\"228.963\" x2=\"392.125\" y2=\"194.963\" stroke-linecap=\"round\" style=\"stroke:purple;stroke-width:4\"/><line x1=\"392.125\" y1=\"194.963\" x2=\"343.335\" y2=\"243.753\" stroke-linecap=\"round\" style=\"stroke:purple;stroke-width:4\"/><line x1=\"343.335\" y1=\"243.753\" x2=\"378.335\" y2=\"304.375\" stroke-linecap=\"round\" style=\"stroke:purple;stroke-width:4\"/><line x1=\"378.335\" y1=\"304.375\" x2=\"446.916\" y2=\"285.999\" stroke-linecap=\"round\" style=\"stroke:purple;stroke-width:4\"/><line x1=\"446.916\" y1=\"285.999\" x2=\"446.916\" y2=\"213.999\" stroke-linecap=\"round\" style=\"stroke:purple;stroke-width:4\"/><line x1=\"446.916\" y1=\"213.999\" x2=\"376.403\" y2=\"195.105\" stroke-linecap=\"round\" style=\"stroke:purple;stroke-width:4\"/><line x1=\"376.403\" y1=\"195.105\" x2=\"339.403\" y2=\"259.191\" stroke-linecap=\"round\" style=\"stroke:purple;stroke-width:4\"/><line x1=\"339.403\" y1=\"259.191\" x2=\"392.436\" y2=\"312.224\" stroke-linecap=\"round\" style=\"stroke:purple;stroke-width:4\"/><line x1=\"392.436\" y1=\"312.224\" x2=\"458.254\" y2=\"274.224\" stroke-linecap=\"round\" style=\"stroke:purple;stroke-width:4\"/><line x1=\"458.254\" y1=\"274.224\" x2=\"438.325\" y2=\"199.848\" stroke-linecap=\"round\" style=\"stroke:purple;stroke-width:4\"/><line x1=\"438.325\" y1=\"199.848\" x2=\"360.325\" y2=\"199.848\" stroke-linecap=\"round\" style=\"stroke:purple;stroke-width:4\"/><line x1=\"360.325\" y1=\"199.848\" x2=\"339.878\" y2=\"276.156\" stroke-linecap=\"round\" style=\"stroke:purple;stroke-width:4\"/><line x1=\"339.878\" y1=\"276.156\" x2=\"409.16\" y2=\"316.156\" stroke-linecap=\"round\" style=\"stroke:purple;stroke-width:4\"/><line x1=\"409.16\" y1=\"316.156\" x2=\"466.436\" y2=\"258.88\" stroke-linecap=\"round\" style=\"stroke:purple;stroke-width:4\"/><line x1=\"466.436\" y1=\"258.88\" x2=\"425.436\" y2=\"187.866\" stroke-linecap=\"round\" style=\"stroke:purple;stroke-width:4\"/><line x1=\"425.436\" y1=\"187.866\" x2=\"345.264\" y2=\"209.348\" stroke-linecap=\"round\" style=\"stroke:purple;stroke-width:4\"/><line x1=\"345.264\" y1=\"209.348\" x2=\"345.264\" y2=\"293.348\" stroke-linecap=\"round\" style=\"stroke:purple;stroke-width:4\"/><line x1=\"345.264\" y1=\"293.348\" x2=\"427.368\" y2=\"315.348\" stroke-linecap=\"round\" style=\"stroke:purple;stroke-width:4\"/><line x1=\"427.368\" y1=\"315.348\" x2=\"470.368\" y2=\"240.87\" stroke-linecap=\"round\" style=\"stroke:purple;stroke-width:4\"/><line x1=\"470.368\" y1=\"240.87\" x2=\"408.85\" y2=\"179.352\" stroke-linecap=\"round\" style=\"stroke:purple;stroke-width:4\"/><line x1=\"408.85\" y1=\"179.352\" x2=\"332.64\" y2=\"223.352\" stroke-linecap=\"round\" style=\"stroke:purple;stroke-width:4\"/><line x1=\"332.64\" y1=\"223.352\" x2=\"355.675\" y2=\"309.319\" stroke-linecap=\"round\" style=\"stroke:purple;stroke-width:4\"/><line x1=\"355.675\" y1=\"309.319\" x2=\"445.675\" y2=\"309.319\" stroke-linecap=\"round\" style=\"stroke:purple;stroke-width:4\"/><line x1=\"445.675\" y1=\"309.319\" x2=\"469.228\" y2=\"221.42\" stroke-linecap=\"round\" style=\"stroke:purple;stroke-width:4\"/><line x1=\"469.228\" y1=\"221.42\" x2=\"389.554\" y2=\"175.42\" stroke-linecap=\"round\" style=\"stroke:purple;stroke-width:4\"/><line x1=\"389.554\" y1=\"175.42\" x2=\"323.793\" y2=\"241.181\" stroke-linecap=\"round\" style=\"stroke:purple;stroke-width:4\"/><line x1=\"323.793\" y1=\"241.181\" x2=\"370.793\" y2=\"322.587\" stroke-linecap=\"round\" style=\"stroke:purple;stroke-width:4\"/><line x1=\"370.793\" y1=\"322.587\" x2=\"462.556\" y2=\"297.999\" stroke-linecap=\"round\" style=\"stroke:purple;stroke-width:4\"/><line x1=\"462.556\" y1=\"297.999\" x2=\"462.556\" y2=\"201.999\" stroke-linecap=\"round\" style=\"stroke:purple;stroke-width:4\"/><line x1=\"462.556\" y1=\"201.999\" x2=\"368.861\" y2=\"176.894\" stroke-linecap=\"round\" style=\"stroke:purple;stroke-width:4\"/><line x1=\"368.861\" y1=\"176.894\" x2=\"319.861\" y2=\"261.764\" stroke-linecap=\"round\" style=\"stroke:purple;stroke-width:4\"/><line x1=\"319.861\" y1=\"261.764\" x2=\"389.865\" y2=\"331.768\" stroke-linecap=\"round\" style=\"stroke:purple;stroke-width:4\"/><line x1=\"389.865\" y1=\"331.768\" x2=\"476.468\" y2=\"281.768\" stroke-linecap=\"round\" style=\"stroke:purple;stroke-width:4\"/><line x1=\"476.468\" y1=\"281.768\" x2=\"450.327\" y2=\"184.209\" stroke-linecap=\"round\" style=\"stroke:purple;stroke-width:4\"/><line x1=\"450.327\" y1=\"184.209\" x2=\"348.327\" y2=\"184.209\" stroke-linecap=\"round\" style=\"stroke:purple;stroke-width:4\"/><line x1=\"348.327\" y1=\"184.209\" x2=\"321.669\" y2=\"283.699\" stroke-linecap=\"round\" style=\"stroke:purple;stroke-width:4\"/><line x1=\"321.669\" y1=\"283.699\" x2=\"411.736\" y2=\"335.699\" stroke-linecap=\"round\" style=\"stroke:purple;stroke-width:4\"/><line x1=\"411.736\" y1=\"335.699\" x2=\"485.982\" y2=\"261.453\" stroke-linecap=\"round\" style=\"stroke:purple;stroke-width:4\"/><line x1=\"485.982\" y1=\"261.453\" x2=\"432.982\" y2=\"169.654\" stroke-linecap=\"round\" style=\"stroke:purple;stroke-width:4\"/><line x1=\"432.982\" y1=\"169.654\" x2=\"329.628\" y2=\"197.348\" stroke-linecap=\"round\" style=\"stroke:purple;stroke-width:4\"/><line x1=\"329.628\" y1=\"197.348\" x2=\"329.628\" y2=\"305.348\" stroke-linecap=\"round\" style=\"stroke:purple;stroke-width:4\"/><line x1=\"329.628\" y1=\"305.348\" x2=\"434.914\" y2=\"333.559\" stroke-linecap=\"round\" style=\"stroke:purple;stroke-width:4\"/><line x1=\"434.914\" y1=\"333.559\" x2=\"489.914\" y2=\"238.296\" stroke-linecap=\"round\" style=\"stroke:purple;stroke-width:4\"/><line x1=\"489.914\" y1=\"238.296\" x2=\"411.425\" y2=\"159.807\" stroke-linecap=\"round\" style=\"stroke:purple;stroke-width:4\"/><line x1=\"411.425\" y1=\"159.807\" x2=\"314.43\" y2=\"215.807\" stroke-linecap=\"round\" style=\"stroke:purple;stroke-width:4\"/><line x1=\"314.43\" y1=\"215.807\" x2=\"343.677\" y2=\"324.957\" stroke-linecap=\"round\" style=\"stroke:purple;stroke-width:4\"/><line x1=\"343.677\" y1=\"324.957\" x2=\"457.677\" y2=\"324.957\" stroke-linecap=\"round\" style=\"stroke:purple;stroke-width:4\"/><line x1=\"457.677\" y1=\"324.957\" x2=\"487.441\" y2=\"213.876\" stroke-linecap=\"round\" style=\"stroke:purple;stroke-width:4\"/><line x1=\"487.441\" y1=\"213.876\" x2=\"386.982\" y2=\"155.876\" stroke-linecap=\"round\" style=\"stroke:purple;stroke-width:4\"/><line x1=\"386.982\" y1=\"155.876\" x2=\"304.251\" y2=\"238.607\" stroke-linecap=\"round\" style=\"stroke:purple;stroke-width:4\"/><line x1=\"304.251\" y1=\"238.607\" x2=\"363.251\" y2=\"340.798\" stroke-linecap=\"round\" style=\"stroke:purple;stroke-width:4\"/><line x1=\"363.251\" y1=\"340.798\" x2=\"478.196\" y2=\"309.999\" stroke-linecap=\"round\" style=\"stroke:purple;stroke-width:4\"/><line x1=\"478.196\" y1=\"309.999\" x2=\"478.196\" y2=\"189.999\" stroke-linecap=\"round\" style=\"stroke:purple;stroke-width:4\"/><line x1=\"478.196\" y1=\"189.999\" x2=\"361.319\" y2=\"158.682\" stroke-linecap=\"round\" style=\"stroke:purple;stroke-width:4\"/><line x1=\"361.319\" y1=\"158.682\" x2=\"300.319\" y2=\"264.337\" stroke-linecap=\"round\" style=\"stroke:purple;stroke-width:4\"/><line x1=\"300.319\" y1=\"264.337\" x2=\"387.293\" y2=\"351.311\" stroke-linecap=\"round\" style=\"stroke:purple;stroke-width:4\"/><line x1=\"387.293\" y1=\"351.311\" x2=\"494.68\" y2=\"289.311\" stroke-linecap=\"round\" style=\"stroke:purple;stroke-width:4\"/><line x1=\"494.68\" y1=\"289.311\" x2=\"462.328\" y2=\"168.57\" stroke-linecap=\"round\" style=\"stroke:purple;stroke-width:4\"/><line x1=\"462.328\" y1=\"168.57\" x2=\"336.328\" y2=\"168.57\" stroke-linecap=\"round\" style=\"stroke:purple;stroke-width:4\"/><line x1=\"336.328\" y1=\"168.57\" x2=\"303.458\" y2=\"291.243\" stroke-linecap=\"round\" style=\"stroke:purple;stroke-width:4\"/><line x1=\"303.458\" y1=\"291.243\" x2=\"414.309\" y2=\"355.243\" stroke-linecap=\"round\" style=\"stroke:purple;stroke-width:4\"/><line x1=\"414.309\" y1=\"355.243\" x2=\"505.526\" y2=\"264.026\" stroke-linecap=\"round\" style=\"stroke:purple;stroke-width:4\"/><line x1=\"505.526\" y1=\"264.026\" x2=\"440.526\" y2=\"151.443\" stroke-linecap=\"round\" style=\"stroke:purple;stroke-width:4\"/><line x1=\"440.526\" y1=\"151.443\" x2=\"313.99\" y2=\"185.348\" stroke-linecap=\"round\" style=\"stroke:purple;stroke-width:4\"/><line x1=\"313.99\" y1=\"185.348\" x2=\"313.99\" y2=\"317.348\" stroke-linecap=\"round\" style=\"stroke:purple;stroke-width:4\"/><line x1=\"313.99\" y1=\"317.348\" x2=\"442.458\" y2=\"351.771\" stroke-linecap=\"round\" style=\"stroke:purple;stroke-width:4\"/><line x1=\"442.458\" y1=\"351.771\" x2=\"509.458\" y2=\"235.724\" stroke-linecap=\"round\" style=\"stroke:purple;stroke-width:4\"/><line x1=\"509.458\" y1=\"235.724\" x2=\"413.999\" y2=\"140.265\" stroke-linecap=\"round\" style=\"stroke:purple;stroke-width:4\"/><line x1=\"413.999\" y1=\"140.265\" x2=\"296.22\" y2=\"208.265\" stroke-linecap=\"round\" style=\"stroke:purple;stroke-width:4\"/><line x1=\"296.22\" y1=\"208.265\" x2=\"331.678\" y2=\"340.597\" stroke-linecap=\"round\" style=\"stroke:purple;stroke-width:4\"/><line x1=\"331.678\" y1=\"340.597\" x2=\"469.678\" y2=\"340.597\" stroke-linecap=\"round\" style=\"stroke:purple;stroke-width:4\"/><line x1=\"469.678\" y1=\"340.597\" x2=\"505.654\" y2=\"206.333\" stroke-linecap=\"round\" style=\"stroke:purple;stroke-width:4\"/><line x1=\"505.654\" y1=\"206.333\" x2=\"384.41\" y2=\"136.333\" stroke-linecap=\"round\" style=\"stroke:purple;stroke-width:4\"/><line x1=\"384.41\" y1=\"136.333\" x2=\"284.708\" y2=\"236.035\" stroke-linecap=\"round\" style=\"stroke:purple;stroke-width:4\"/><line x1=\"284.708\" y1=\"236.035\" x2=\"355.708\" y2=\"359.011\" stroke-linecap=\"round\" style=\"stroke:purple;stroke-width:4\"/><line x1=\"355.708\" y1=\"359.011\" x2=\"493.835\" y2=\"322.0\" stroke-linecap=\"round\" style=\"stroke:purple;stroke-width:4\"/><line x1=\"493.835\" y1=\"322.0\" x2=\"493.835\" y2=\"178.0\" stroke-linecap=\"round\" style=\"stroke:purple;stroke-width:4\"/><line x1=\"493.835\" y1=\"178.0\" x2=\"353.776\" y2=\"140.471\" stroke-linecap=\"round\" style=\"stroke:purple;stroke-width:4\"/><line x1=\"353.776\" y1=\"140.471\" x2=\"280.776\" y2=\"266.911\" stroke-linecap=\"round\" style=\"stroke:purple;stroke-width:4\"/><line x1=\"280.776\" y1=\"266.911\" x2=\"384.721\" y2=\"370.856\" stroke-linecap=\"round\" style=\"stroke:purple;stroke-width:4\"/><line x1=\"384.721\" y1=\"370.856\" x2=\"512.893\" y2=\"296.856\" stroke-linecap=\"round\" style=\"stroke:purple;stroke-width:4\"/><line x1=\"512.893\" y1=\"296.856\" x2=\"474.329\" y2=\"152.933\" stroke-linecap=\"round\" style=\"stroke:purple;stroke-width:4\"/><line x1=\"474.329\" y1=\"152.933\" x2=\"324.329\" y2=\"152.933\" stroke-linecap=\"round\" style=\"stroke:purple;stroke-width:4\"/><line x1=\"324.329\" y1=\"152.933\" x2=\"285.247\" y2=\"298.788\" stroke-linecap=\"round\" style=\"stroke:purple;stroke-width:4\"/><line x1=\"285.247\" y1=\"298.788\" x2=\"416.883\" y2=\"374.788\" stroke-linecap=\"round\" style=\"stroke:purple;stroke-width:4\"/><line x1=\"416.883\" y1=\"374.788\" x2=\"525.07\" y2=\"266.601\" stroke-linecap=\"round\" style=\"stroke:purple;stroke-width:4\"/><line x1=\"525.07\" y1=\"266.601\" x2=\"448.07\" y2=\"133.233\" stroke-linecap=\"round\" style=\"stroke:purple;stroke-width:4\"/><line x1=\"448.07\" y1=\"133.233\" x2=\"298.351\" y2=\"173.35\" stroke-linecap=\"round\" style=\"stroke:purple;stroke-width:4\"/><line x1=\"298.351\" y1=\"173.35\" x2=\"298.351\" y2=\"329.35\" stroke-linecap=\"round\" style=\"stroke:purple;stroke-width:4\"/><line x1=\"298.351\" y1=\"329.35\" x2=\"450.001\" y2=\"369.985\" stroke-linecap=\"round\" style=\"stroke:purple;stroke-width:4\"/><line x1=\"450.001\" y1=\"369.985\" x2=\"529.001\" y2=\"233.153\" stroke-linecap=\"round\" style=\"stroke:purple;stroke-width:4\"/><line x1=\"529.001\" y1=\"233.153\" x2=\"416.571\" y2=\"120.723\" stroke-linecap=\"round\" style=\"stroke:purple;stroke-width:4\"/><line x1=\"416.571\" y1=\"120.723\" x2=\"278.007\" y2=\"200.723\" stroke-linecap=\"round\" style=\"stroke:purple;stroke-width:4\"/><line x1=\"278.007\" y1=\"200.723\" x2=\"319.677\" y2=\"356.237\" stroke-linecap=\"round\" style=\"stroke:purple;stroke-width:4\"/><line x1=\"319.677\" y1=\"356.237\" x2=\"481.677\" y2=\"356.237\" stroke-linecap=\"round\" style=\"stroke:purple;stroke-width:4\"/><line x1=\"481.677\" y1=\"356.237\" x2=\"523.865\" y2=\"198.791\" stroke-linecap=\"round\" style=\"stroke:purple;stroke-width:4\"/><line x1=\"523.865\" y1=\"198.791\" x2=\"381.837\" y2=\"116.791\" stroke-linecap=\"round\" style=\"stroke:purple;stroke-width:4\"/><line x1=\"381.837\" y1=\"116.791\" x2=\"265.164\" y2=\"233.464\" stroke-linecap=\"round\" style=\"stroke:purple;stroke-width:4\"/><line x1=\"265.164\" y1=\"233.464\" x2=\"348.164\" y2=\"377.224\" stroke-linecap=\"round\" style=\"stroke:purple;stroke-width:4\"/><line x1=\"348.164\" y1=\"377.224\" x2=\"509.474\" y2=\"334.001\" stroke-linecap=\"round\" style=\"stroke:purple;stroke-width:4\"/><line x1=\"509.474\" y1=\"334.001\" x2=\"509.474\" y2=\"166.001\" stroke-linecap=\"round\" style=\"stroke:purple;stroke-width:4\"/><line x1=\"509.474\" y1=\"166.001\" x2=\"346.233\" y2=\"122.261\" stroke-linecap=\"round\" style=\"stroke:purple;stroke-width:4\"/><line x1=\"346.233\" y1=\"122.261\" x2=\"261.233\" y2=\"269.485\" stroke-linecap=\"round\" style=\"stroke:purple;stroke-width:4\"/><line x1=\"261.233\" y1=\"269.485\" x2=\"382.148\" y2=\"390.4\" stroke-linecap=\"round\" style=\"stroke:purple;stroke-width:4\"/><line x1=\"382.148\" y1=\"390.4\" x2=\"531.104\" y2=\"304.4\" stroke-linecap=\"round\" style=\"stroke:purple;stroke-width:4\"/><line x1=\"531.104\" y1=\"304.4\" x2=\"486.328\" y2=\"137.295\" stroke-linecap=\"round\" style=\"stroke:purple;stroke-width:4\"/><line x1=\"486.328\" y1=\"137.295\" x2=\"312.328\" y2=\"137.295\" stroke-linecap=\"round\" style=\"stroke:purple;stroke-width:4\"/><line x1=\"312.328\" y1=\"137.295\" x2=\"267.035\" y2=\"306.332\" stroke-linecap=\"round\" style=\"stroke:purple;stroke-width:4\"/><line x1=\"267.035\" y1=\"306.332\" x2=\"419.455\" y2=\"394.332\" stroke-linecap=\"round\" style=\"stroke:purple;stroke-width:4\"/><line x1=\"419.455\" y1=\"394.332\" x2=\"544.613\" y2=\"269.174\" stroke-linecap=\"round\" style=\"stroke:purple;stroke-width:4\"/><line x1=\"544.613\" y1=\"269.174\" x2=\"455.613\" y2=\"115.021\" stroke-linecap=\"round\" style=\"stroke:purple;stroke-width:4\"/><line x1=\"455.613\" y1=\"115.021\" x2=\"282.712\" y2=\"161.35\" stroke-linecap=\"round\" style=\"stroke:purple;stroke-width:4\"/><line x1=\"282.712\" y1=\"161.35\" x2=\"282.712\" y2=\"341.35\" stroke-linecap=\"round\" style=\"stroke:purple;stroke-width:4\"/><line x1=\"282.712\" y1=\"341.35\" x2=\"457.545\" y2=\"388.196\" stroke-linecap=\"round\" style=\"stroke:purple;stroke-width:4\"/><line x1=\"457.545\" y1=\"388.196\" x2=\"548.545\" y2=\"230.579\" stroke-linecap=\"round\" style=\"stroke:purple;stroke-width:4\"/><line x1=\"548.545\" y1=\"230.579\" x2=\"419.144\" y2=\"101.178\" stroke-linecap=\"round\" style=\"stroke:purple;stroke-width:4\"/><line x1=\"419.144\" y1=\"101.178\" x2=\"259.795\" y2=\"193.178\" stroke-linecap=\"round\" style=\"stroke:purple;stroke-width:4\"/><line x1=\"259.795\" y1=\"193.178\" x2=\"307.677\" y2=\"371.874\" stroke-linecap=\"round\" style=\"stroke:purple;stroke-width:4\"/><line x1=\"307.677\" y1=\"371.874\" x2=\"493.677\" y2=\"371.874\" stroke-linecap=\"round\" style=\"stroke:purple;stroke-width:4\"/><line x1=\"493.677\" y1=\"371.874\" x2=\"542.076\" y2=\"191.246\" stroke-linecap=\"round\" style=\"stroke:purple;stroke-width:4\"/><line x1=\"542.076\" y1=\"191.246\" x2=\"379.263\" y2=\"97.246\" stroke-linecap=\"round\" style=\"stroke:purple;stroke-width:4\"/><line x1=\"379.263\" y1=\"97.246\" x2=\"245.62\" y2=\"230.889\" stroke-linecap=\"round\" style=\"stroke:purple;stroke-width:4\"/><line x1=\"245.62\" y1=\"230.889\" x2=\"340.62\" y2=\"395.434\" stroke-linecap=\"round\" style=\"stroke:purple;stroke-width:4\"/><line x1=\"340.62\" y1=\"395.434\" x2=\"525.112\" y2=\"346.0\" stroke-linecap=\"round\" style=\"stroke:purple;stroke-width:4\"/><line x1=\"525.112\" y1=\"346.0\" x2=\"525.112\" y2=\"154.0\" stroke-linecap=\"round\" style=\"stroke:purple;stroke-width:4\"/><line x1=\"525.112\" y1=\"154.0\" x2=\"338.688\" y2=\"104.048\" stroke-linecap=\"round\" style=\"stroke:purple;stroke-width:4\"/><line x1=\"338.688\" y1=\"104.048\" x2=\"241.688\" y2=\"272.057\" stroke-linecap=\"round\" style=\"stroke:purple;stroke-width:4\"/><line x1=\"241.688\" y1=\"272.057\" x2=\"379.574\" y2=\"409.943\" stroke-linecap=\"round\" style=\"stroke:purple;stroke-width:4\"/><line x1=\"379.574\" y1=\"409.943\" x2=\"549.315\" y2=\"311.943\" stroke-linecap=\"round\" style=\"stroke:purple;stroke-width:4\"/><line x1=\"549.315\" y1=\"311.943\" x2=\"498.328\" y2=\"121.656\" stroke-linecap=\"round\" style=\"stroke:purple;stroke-width:4\"/><line x1=\"498.328\" y1=\"121.656\" x2=\"300.328\" y2=\"121.656\" stroke-linecap=\"round\" style=\"stroke:purple;stroke-width:4\"/><line x1=\"300.328\" y1=\"121.656\" x2=\"248.823\" y2=\"313.875\" stroke-linecap=\"round\" style=\"stroke:purple;stroke-width:4\"/>\n",
              "        <g visibility=visible transform=\"rotate(120,248.823,313.875) translate(230.823, 295.875)\">\n",
              "<path style=\" stroke:none;fill-rule:evenodd;fill:purple;fill-opacity:1;\" d=\"M 18.214844 0.632812 C 16.109375 1.800781 15.011719 4.074219 15.074219 7.132812 L 15.085938 7.652344 L 14.785156 7.496094 C 13.476562 6.824219 11.957031 6.671875 10.40625 7.066406 C 8.46875 7.550781 6.515625 9.15625 4.394531 11.992188 C 3.0625 13.777344 2.679688 14.636719 3.042969 15.027344 L 3.15625 15.152344 L 3.519531 15.152344 C 4.238281 15.152344 4.828125 14.886719 8.1875 13.039062 C 9.386719 12.378906 10.371094 11.839844 10.378906 11.839844 C 10.386719 11.839844 10.355469 11.929688 10.304688 12.035156 C 9.832031 13.09375 9.257812 14.820312 8.96875 16.078125 C 7.914062 20.652344 8.617188 24.53125 11.070312 27.660156 C 11.351562 28.015625 11.363281 27.914062 10.972656 28.382812 C 8.925781 30.84375 7.945312 33.28125 8.238281 35.1875 C 8.289062 35.527344 8.28125 35.523438 8.917969 35.523438 C 10.941406 35.523438 13.074219 34.207031 15.136719 31.6875 C 15.359375 31.417969 15.328125 31.425781 15.5625 31.574219 C 16.292969 32.042969 18.023438 32.964844 18.175781 32.964844 C 18.335938 32.964844 19.941406 32.210938 20.828125 31.71875 C 20.996094 31.625 21.136719 31.554688 21.136719 31.558594 C 21.203125 31.664062 21.898438 32.414062 22.222656 32.730469 C 23.835938 34.300781 25.5625 35.132812 27.582031 35.300781 C 27.90625 35.328125 27.9375 35.308594 28.007812 34.984375 C 28.382812 33.242188 27.625 30.925781 25.863281 28.425781 L 25.542969 27.96875 L 25.699219 27.785156 C 28.945312 23.960938 29.132812 18.699219 26.257812 11.96875 L 26.207031 11.84375 L 27.945312 12.703125 C 31.53125 14.476562 32.316406 14.800781 33.03125 14.800781 C 33.976562 14.800781 33.78125 13.9375 32.472656 12.292969 C 28.519531 7.355469 25.394531 5.925781 21.921875 7.472656 L 21.558594 7.636719 L 21.578125 7.542969 C 21.699219 6.992188 21.761719 5.742188 21.699219 5.164062 C 21.496094 3.296875 20.664062 1.964844 19.003906 0.855469 C 18.480469 0.503906 18.457031 0.5 18.214844 0.632812\"/>\n",
              "</g>\n",
              "      </svg>\n",
              "    "
            ]
          },
          "metadata": {}
        }
      ]
    },
    {
      "cell_type": "markdown",
      "source": [
        "#Simple Shapes"
      ],
      "metadata": {
        "id": "n5vZIk9JaTO3"
      }
    },
    {
      "cell_type": "code",
      "source": [
        "\n",
        "# Square\n",
        "\n",
        "from ColabTurtle.Turtle import *\n",
        "\n",
        "initializeTurtle()\n",
        "bgcolor(\"black\")\n",
        "color(\"yellow\")\n",
        "speed(3)\n",
        "\n",
        "star_size = 200  # Adjust the size of the star\n",
        "\n",
        "for _ in range(4):\n",
        "    forward(100)\n",
        "    right(90)\n"
      ],
      "metadata": {
        "colab": {
          "base_uri": "https://localhost:8080/",
          "height": 520
        },
        "id": "-y8lzcO3aHcO",
        "outputId": "92aa1214-453e-4482-e41f-59695b7423da"
      },
      "execution_count": 62,
      "outputs": [
        {
          "output_type": "display_data",
          "data": {
            "text/plain": [
              "<IPython.core.display.HTML object>"
            ],
            "text/html": [
              "\n",
              "      <svg width=\"800\" height=\"500\">\n",
              "        <rect width=\"100%\" height=\"100%\" fill=\"black\"/>\n",
              "        <line x1=\"400\" y1=\"250\" x2=\"400.0\" y2=\"150.0\" stroke-linecap=\"round\" style=\"stroke:yellow;stroke-width:4\"/><line x1=\"400.0\" y1=\"150.0\" x2=\"500.0\" y2=\"150.0\" stroke-linecap=\"round\" style=\"stroke:yellow;stroke-width:4\"/><line x1=\"500.0\" y1=\"150.0\" x2=\"500.0\" y2=\"250.0\" stroke-linecap=\"round\" style=\"stroke:yellow;stroke-width:4\"/><line x1=\"500.0\" y1=\"250.0\" x2=\"400.0\" y2=\"250.0\" stroke-linecap=\"round\" style=\"stroke:yellow;stroke-width:4\"/>\n",
              "        <g visibility=visible transform=\"rotate(360,400.0,250.0) translate(382.0, 232.0)\">\n",
              "<path style=\" stroke:none;fill-rule:evenodd;fill:yellow;fill-opacity:1;\" d=\"M 18.214844 0.632812 C 16.109375 1.800781 15.011719 4.074219 15.074219 7.132812 L 15.085938 7.652344 L 14.785156 7.496094 C 13.476562 6.824219 11.957031 6.671875 10.40625 7.066406 C 8.46875 7.550781 6.515625 9.15625 4.394531 11.992188 C 3.0625 13.777344 2.679688 14.636719 3.042969 15.027344 L 3.15625 15.152344 L 3.519531 15.152344 C 4.238281 15.152344 4.828125 14.886719 8.1875 13.039062 C 9.386719 12.378906 10.371094 11.839844 10.378906 11.839844 C 10.386719 11.839844 10.355469 11.929688 10.304688 12.035156 C 9.832031 13.09375 9.257812 14.820312 8.96875 16.078125 C 7.914062 20.652344 8.617188 24.53125 11.070312 27.660156 C 11.351562 28.015625 11.363281 27.914062 10.972656 28.382812 C 8.925781 30.84375 7.945312 33.28125 8.238281 35.1875 C 8.289062 35.527344 8.28125 35.523438 8.917969 35.523438 C 10.941406 35.523438 13.074219 34.207031 15.136719 31.6875 C 15.359375 31.417969 15.328125 31.425781 15.5625 31.574219 C 16.292969 32.042969 18.023438 32.964844 18.175781 32.964844 C 18.335938 32.964844 19.941406 32.210938 20.828125 31.71875 C 20.996094 31.625 21.136719 31.554688 21.136719 31.558594 C 21.203125 31.664062 21.898438 32.414062 22.222656 32.730469 C 23.835938 34.300781 25.5625 35.132812 27.582031 35.300781 C 27.90625 35.328125 27.9375 35.308594 28.007812 34.984375 C 28.382812 33.242188 27.625 30.925781 25.863281 28.425781 L 25.542969 27.96875 L 25.699219 27.785156 C 28.945312 23.960938 29.132812 18.699219 26.257812 11.96875 L 26.207031 11.84375 L 27.945312 12.703125 C 31.53125 14.476562 32.316406 14.800781 33.03125 14.800781 C 33.976562 14.800781 33.78125 13.9375 32.472656 12.292969 C 28.519531 7.355469 25.394531 5.925781 21.921875 7.472656 L 21.558594 7.636719 L 21.578125 7.542969 C 21.699219 6.992188 21.761719 5.742188 21.699219 5.164062 C 21.496094 3.296875 20.664062 1.964844 19.003906 0.855469 C 18.480469 0.503906 18.457031 0.5 18.214844 0.632812\"/>\n",
              "</g>\n",
              "      </svg>\n",
              "    "
            ]
          },
          "metadata": {}
        }
      ]
    },
    {
      "cell_type": "code",
      "source": [
        "#Triangle:\n",
        "from ColabTurtle.Turtle import *\n",
        "\n",
        "initializeTurtle()\n",
        "bgcolor(\"black\")\n",
        "color(\"yellow\")\n",
        "speed(3)\n",
        "\n",
        "star_size = 200  # Adjust the size of the star\n",
        "\n",
        "for _ in range(3):\n",
        "    forward(100)\n",
        "    right(120)\n",
        "\n"
      ],
      "metadata": {
        "colab": {
          "base_uri": "https://localhost:8080/",
          "height": 520
        },
        "id": "a5wzcB4aar73",
        "outputId": "e3ee9948-4c14-4ee0-9672-14a29265368f"
      },
      "execution_count": 63,
      "outputs": [
        {
          "output_type": "display_data",
          "data": {
            "text/plain": [
              "<IPython.core.display.HTML object>"
            ],
            "text/html": [
              "\n",
              "      <svg width=\"800\" height=\"500\">\n",
              "        <rect width=\"100%\" height=\"100%\" fill=\"black\"/>\n",
              "        <line x1=\"400\" y1=\"250\" x2=\"400.0\" y2=\"150.0\" stroke-linecap=\"round\" style=\"stroke:yellow;stroke-width:4\"/><line x1=\"400.0\" y1=\"150.0\" x2=\"486.603\" y2=\"200.0\" stroke-linecap=\"round\" style=\"stroke:yellow;stroke-width:4\"/><line x1=\"486.603\" y1=\"200.0\" x2=\"400.0\" y2=\"250.0\" stroke-linecap=\"round\" style=\"stroke:yellow;stroke-width:4\"/>\n",
              "        <g visibility=visible transform=\"rotate(360,400.0,250.0) translate(382.0, 232.0)\">\n",
              "<path style=\" stroke:none;fill-rule:evenodd;fill:yellow;fill-opacity:1;\" d=\"M 18.214844 0.632812 C 16.109375 1.800781 15.011719 4.074219 15.074219 7.132812 L 15.085938 7.652344 L 14.785156 7.496094 C 13.476562 6.824219 11.957031 6.671875 10.40625 7.066406 C 8.46875 7.550781 6.515625 9.15625 4.394531 11.992188 C 3.0625 13.777344 2.679688 14.636719 3.042969 15.027344 L 3.15625 15.152344 L 3.519531 15.152344 C 4.238281 15.152344 4.828125 14.886719 8.1875 13.039062 C 9.386719 12.378906 10.371094 11.839844 10.378906 11.839844 C 10.386719 11.839844 10.355469 11.929688 10.304688 12.035156 C 9.832031 13.09375 9.257812 14.820312 8.96875 16.078125 C 7.914062 20.652344 8.617188 24.53125 11.070312 27.660156 C 11.351562 28.015625 11.363281 27.914062 10.972656 28.382812 C 8.925781 30.84375 7.945312 33.28125 8.238281 35.1875 C 8.289062 35.527344 8.28125 35.523438 8.917969 35.523438 C 10.941406 35.523438 13.074219 34.207031 15.136719 31.6875 C 15.359375 31.417969 15.328125 31.425781 15.5625 31.574219 C 16.292969 32.042969 18.023438 32.964844 18.175781 32.964844 C 18.335938 32.964844 19.941406 32.210938 20.828125 31.71875 C 20.996094 31.625 21.136719 31.554688 21.136719 31.558594 C 21.203125 31.664062 21.898438 32.414062 22.222656 32.730469 C 23.835938 34.300781 25.5625 35.132812 27.582031 35.300781 C 27.90625 35.328125 27.9375 35.308594 28.007812 34.984375 C 28.382812 33.242188 27.625 30.925781 25.863281 28.425781 L 25.542969 27.96875 L 25.699219 27.785156 C 28.945312 23.960938 29.132812 18.699219 26.257812 11.96875 L 26.207031 11.84375 L 27.945312 12.703125 C 31.53125 14.476562 32.316406 14.800781 33.03125 14.800781 C 33.976562 14.800781 33.78125 13.9375 32.472656 12.292969 C 28.519531 7.355469 25.394531 5.925781 21.921875 7.472656 L 21.558594 7.636719 L 21.578125 7.542969 C 21.699219 6.992188 21.761719 5.742188 21.699219 5.164062 C 21.496094 3.296875 20.664062 1.964844 19.003906 0.855469 C 18.480469 0.503906 18.457031 0.5 18.214844 0.632812\"/>\n",
              "</g>\n",
              "      </svg>\n",
              "    "
            ]
          },
          "metadata": {}
        }
      ]
    },
    {
      "cell_type": "code",
      "source": [
        "# Rectangle:\n",
        "from ColabTurtle.Turtle import *\n",
        "\n",
        "initializeTurtle()\n",
        "bgcolor(\"black\")\n",
        "color(\"yellow\")\n",
        "speed(3)\n",
        "\n",
        "for _ in range(2):\n",
        "    forward(200)\n",
        "    right(90)\n",
        "    forward(100)\n",
        "    right(90)\n",
        "\n"
      ],
      "metadata": {
        "colab": {
          "base_uri": "https://localhost:8080/",
          "height": 520
        },
        "id": "qXQhCmlUbN2h",
        "outputId": "c774b638-f368-42ec-b995-4300264ddde0"
      },
      "execution_count": 68,
      "outputs": [
        {
          "output_type": "display_data",
          "data": {
            "text/plain": [
              "<IPython.core.display.HTML object>"
            ],
            "text/html": [
              "\n",
              "      <svg width=\"800\" height=\"500\">\n",
              "        <rect width=\"100%\" height=\"100%\" fill=\"black\"/>\n",
              "        <line x1=\"400\" y1=\"250\" x2=\"400.0\" y2=\"50.0\" stroke-linecap=\"round\" style=\"stroke:yellow;stroke-width:4\"/><line x1=\"400.0\" y1=\"50.0\" x2=\"500.0\" y2=\"50.0\" stroke-linecap=\"round\" style=\"stroke:yellow;stroke-width:4\"/><line x1=\"500.0\" y1=\"50.0\" x2=\"500.0\" y2=\"250.0\" stroke-linecap=\"round\" style=\"stroke:yellow;stroke-width:4\"/><line x1=\"500.0\" y1=\"250.0\" x2=\"400.0\" y2=\"250.0\" stroke-linecap=\"round\" style=\"stroke:yellow;stroke-width:4\"/>\n",
              "        <g visibility=visible transform=\"rotate(360,400.0,250.0) translate(382.0, 232.0)\">\n",
              "<path style=\" stroke:none;fill-rule:evenodd;fill:yellow;fill-opacity:1;\" d=\"M 18.214844 0.632812 C 16.109375 1.800781 15.011719 4.074219 15.074219 7.132812 L 15.085938 7.652344 L 14.785156 7.496094 C 13.476562 6.824219 11.957031 6.671875 10.40625 7.066406 C 8.46875 7.550781 6.515625 9.15625 4.394531 11.992188 C 3.0625 13.777344 2.679688 14.636719 3.042969 15.027344 L 3.15625 15.152344 L 3.519531 15.152344 C 4.238281 15.152344 4.828125 14.886719 8.1875 13.039062 C 9.386719 12.378906 10.371094 11.839844 10.378906 11.839844 C 10.386719 11.839844 10.355469 11.929688 10.304688 12.035156 C 9.832031 13.09375 9.257812 14.820312 8.96875 16.078125 C 7.914062 20.652344 8.617188 24.53125 11.070312 27.660156 C 11.351562 28.015625 11.363281 27.914062 10.972656 28.382812 C 8.925781 30.84375 7.945312 33.28125 8.238281 35.1875 C 8.289062 35.527344 8.28125 35.523438 8.917969 35.523438 C 10.941406 35.523438 13.074219 34.207031 15.136719 31.6875 C 15.359375 31.417969 15.328125 31.425781 15.5625 31.574219 C 16.292969 32.042969 18.023438 32.964844 18.175781 32.964844 C 18.335938 32.964844 19.941406 32.210938 20.828125 31.71875 C 20.996094 31.625 21.136719 31.554688 21.136719 31.558594 C 21.203125 31.664062 21.898438 32.414062 22.222656 32.730469 C 23.835938 34.300781 25.5625 35.132812 27.582031 35.300781 C 27.90625 35.328125 27.9375 35.308594 28.007812 34.984375 C 28.382812 33.242188 27.625 30.925781 25.863281 28.425781 L 25.542969 27.96875 L 25.699219 27.785156 C 28.945312 23.960938 29.132812 18.699219 26.257812 11.96875 L 26.207031 11.84375 L 27.945312 12.703125 C 31.53125 14.476562 32.316406 14.800781 33.03125 14.800781 C 33.976562 14.800781 33.78125 13.9375 32.472656 12.292969 C 28.519531 7.355469 25.394531 5.925781 21.921875 7.472656 L 21.558594 7.636719 L 21.578125 7.542969 C 21.699219 6.992188 21.761719 5.742188 21.699219 5.164062 C 21.496094 3.296875 20.664062 1.964844 19.003906 0.855469 C 18.480469 0.503906 18.457031 0.5 18.214844 0.632812\"/>\n",
              "</g>\n",
              "      </svg>\n",
              "    "
            ]
          },
          "metadata": {}
        }
      ]
    },
    {
      "cell_type": "code",
      "source": [
        "# Hexagon:\n",
        "from ColabTurtle.Turtle import *\n",
        "\n",
        "initializeTurtle()\n",
        "bgcolor(\"black\")\n",
        "color(\"yellow\")\n",
        "speed(3)\n",
        "\n",
        "for _ in range(6):\n",
        "    forward(100)\n",
        "    right(60)"
      ],
      "metadata": {
        "colab": {
          "base_uri": "https://localhost:8080/",
          "height": 520
        },
        "id": "uXUM3VsRcKvF",
        "outputId": "16963f7b-9e2c-477c-a878-e4bddf3faa04"
      },
      "execution_count": 71,
      "outputs": [
        {
          "output_type": "display_data",
          "data": {
            "text/plain": [
              "<IPython.core.display.HTML object>"
            ],
            "text/html": [
              "\n",
              "      <svg width=\"800\" height=\"500\">\n",
              "        <rect width=\"100%\" height=\"100%\" fill=\"black\"/>\n",
              "        <line x1=\"400\" y1=\"250\" x2=\"400.0\" y2=\"150.0\" stroke-linecap=\"round\" style=\"stroke:yellow;stroke-width:4\"/><line x1=\"400.0\" y1=\"150.0\" x2=\"486.603\" y2=\"100.0\" stroke-linecap=\"round\" style=\"stroke:yellow;stroke-width:4\"/><line x1=\"486.603\" y1=\"100.0\" x2=\"573.206\" y2=\"150.0\" stroke-linecap=\"round\" style=\"stroke:yellow;stroke-width:4\"/><line x1=\"573.206\" y1=\"150.0\" x2=\"573.206\" y2=\"250.0\" stroke-linecap=\"round\" style=\"stroke:yellow;stroke-width:4\"/><line x1=\"573.206\" y1=\"250.0\" x2=\"486.603\" y2=\"300.0\" stroke-linecap=\"round\" style=\"stroke:yellow;stroke-width:4\"/><line x1=\"486.603\" y1=\"300.0\" x2=\"400.0\" y2=\"250.0\" stroke-linecap=\"round\" style=\"stroke:yellow;stroke-width:4\"/>\n",
              "        <g visibility=visible transform=\"rotate(360,400.0,250.0) translate(382.0, 232.0)\">\n",
              "<path style=\" stroke:none;fill-rule:evenodd;fill:yellow;fill-opacity:1;\" d=\"M 18.214844 0.632812 C 16.109375 1.800781 15.011719 4.074219 15.074219 7.132812 L 15.085938 7.652344 L 14.785156 7.496094 C 13.476562 6.824219 11.957031 6.671875 10.40625 7.066406 C 8.46875 7.550781 6.515625 9.15625 4.394531 11.992188 C 3.0625 13.777344 2.679688 14.636719 3.042969 15.027344 L 3.15625 15.152344 L 3.519531 15.152344 C 4.238281 15.152344 4.828125 14.886719 8.1875 13.039062 C 9.386719 12.378906 10.371094 11.839844 10.378906 11.839844 C 10.386719 11.839844 10.355469 11.929688 10.304688 12.035156 C 9.832031 13.09375 9.257812 14.820312 8.96875 16.078125 C 7.914062 20.652344 8.617188 24.53125 11.070312 27.660156 C 11.351562 28.015625 11.363281 27.914062 10.972656 28.382812 C 8.925781 30.84375 7.945312 33.28125 8.238281 35.1875 C 8.289062 35.527344 8.28125 35.523438 8.917969 35.523438 C 10.941406 35.523438 13.074219 34.207031 15.136719 31.6875 C 15.359375 31.417969 15.328125 31.425781 15.5625 31.574219 C 16.292969 32.042969 18.023438 32.964844 18.175781 32.964844 C 18.335938 32.964844 19.941406 32.210938 20.828125 31.71875 C 20.996094 31.625 21.136719 31.554688 21.136719 31.558594 C 21.203125 31.664062 21.898438 32.414062 22.222656 32.730469 C 23.835938 34.300781 25.5625 35.132812 27.582031 35.300781 C 27.90625 35.328125 27.9375 35.308594 28.007812 34.984375 C 28.382812 33.242188 27.625 30.925781 25.863281 28.425781 L 25.542969 27.96875 L 25.699219 27.785156 C 28.945312 23.960938 29.132812 18.699219 26.257812 11.96875 L 26.207031 11.84375 L 27.945312 12.703125 C 31.53125 14.476562 32.316406 14.800781 33.03125 14.800781 C 33.976562 14.800781 33.78125 13.9375 32.472656 12.292969 C 28.519531 7.355469 25.394531 5.925781 21.921875 7.472656 L 21.558594 7.636719 L 21.578125 7.542969 C 21.699219 6.992188 21.761719 5.742188 21.699219 5.164062 C 21.496094 3.296875 20.664062 1.964844 19.003906 0.855469 C 18.480469 0.503906 18.457031 0.5 18.214844 0.632812\"/>\n",
              "</g>\n",
              "      </svg>\n",
              "    "
            ]
          },
          "metadata": {}
        }
      ]
    },
    {
      "cell_type": "code",
      "source": [
        "# Spiral:\n",
        "from ColabTurtle.Turtle import *\n",
        "\n",
        "initializeTurtle()\n",
        "bgcolor(\"black\")\n",
        "color(\"yellow\")\n",
        "speed(10)\n",
        "\n",
        "angle = 90\n",
        "length = 5\n",
        "\n",
        "for _ in range(100):\n",
        "    forward(length)\n",
        "    right(angle)\n",
        "    length += 5"
      ],
      "metadata": {
        "colab": {
          "base_uri": "https://localhost:8080/",
          "height": 520
        },
        "id": "L4PxtX1wbreV",
        "outputId": "8aee648d-b052-4e9f-e407-344021be6ed9"
      },
      "execution_count": 70,
      "outputs": [
        {
          "output_type": "display_data",
          "data": {
            "text/plain": [
              "<IPython.core.display.HTML object>"
            ],
            "text/html": [
              "\n",
              "      <svg width=\"800\" height=\"500\">\n",
              "        <rect width=\"100%\" height=\"100%\" fill=\"black\"/>\n",
              "        <line x1=\"400\" y1=\"250\" x2=\"400.0\" y2=\"245.0\" stroke-linecap=\"round\" style=\"stroke:yellow;stroke-width:4\"/><line x1=\"400.0\" y1=\"245.0\" x2=\"410.0\" y2=\"245.0\" stroke-linecap=\"round\" style=\"stroke:yellow;stroke-width:4\"/><line x1=\"410.0\" y1=\"245.0\" x2=\"410.0\" y2=\"260.0\" stroke-linecap=\"round\" style=\"stroke:yellow;stroke-width:4\"/><line x1=\"410.0\" y1=\"260.0\" x2=\"390.0\" y2=\"260.0\" stroke-linecap=\"round\" style=\"stroke:yellow;stroke-width:4\"/><line x1=\"390.0\" y1=\"260.0\" x2=\"390.0\" y2=\"235.0\" stroke-linecap=\"round\" style=\"stroke:yellow;stroke-width:4\"/><line x1=\"390.0\" y1=\"235.0\" x2=\"420.0\" y2=\"235.0\" stroke-linecap=\"round\" style=\"stroke:yellow;stroke-width:4\"/><line x1=\"420.0\" y1=\"235.0\" x2=\"420.0\" y2=\"270.0\" stroke-linecap=\"round\" style=\"stroke:yellow;stroke-width:4\"/><line x1=\"420.0\" y1=\"270.0\" x2=\"380.0\" y2=\"270.0\" stroke-linecap=\"round\" style=\"stroke:yellow;stroke-width:4\"/><line x1=\"380.0\" y1=\"270.0\" x2=\"380.0\" y2=\"225.0\" stroke-linecap=\"round\" style=\"stroke:yellow;stroke-width:4\"/><line x1=\"380.0\" y1=\"225.0\" x2=\"430.0\" y2=\"225.0\" stroke-linecap=\"round\" style=\"stroke:yellow;stroke-width:4\"/><line x1=\"430.0\" y1=\"225.0\" x2=\"430.0\" y2=\"280.0\" stroke-linecap=\"round\" style=\"stroke:yellow;stroke-width:4\"/><line x1=\"430.0\" y1=\"280.0\" x2=\"370.0\" y2=\"280.0\" stroke-linecap=\"round\" style=\"stroke:yellow;stroke-width:4\"/><line x1=\"370.0\" y1=\"280.0\" x2=\"370.0\" y2=\"215.0\" stroke-linecap=\"round\" style=\"stroke:yellow;stroke-width:4\"/><line x1=\"370.0\" y1=\"215.0\" x2=\"440.0\" y2=\"215.0\" stroke-linecap=\"round\" style=\"stroke:yellow;stroke-width:4\"/><line x1=\"440.0\" y1=\"215.0\" x2=\"440.0\" y2=\"290.0\" stroke-linecap=\"round\" style=\"stroke:yellow;stroke-width:4\"/><line x1=\"440.0\" y1=\"290.0\" x2=\"360.0\" y2=\"290.0\" stroke-linecap=\"round\" style=\"stroke:yellow;stroke-width:4\"/><line x1=\"360.0\" y1=\"290.0\" x2=\"360.0\" y2=\"205.0\" stroke-linecap=\"round\" style=\"stroke:yellow;stroke-width:4\"/><line x1=\"360.0\" y1=\"205.0\" x2=\"450.0\" y2=\"205.0\" stroke-linecap=\"round\" style=\"stroke:yellow;stroke-width:4\"/><line x1=\"450.0\" y1=\"205.0\" x2=\"450.0\" y2=\"300.0\" stroke-linecap=\"round\" style=\"stroke:yellow;stroke-width:4\"/><line x1=\"450.0\" y1=\"300.0\" x2=\"350.0\" y2=\"300.0\" stroke-linecap=\"round\" style=\"stroke:yellow;stroke-width:4\"/><line x1=\"350.0\" y1=\"300.0\" x2=\"350.0\" y2=\"195.0\" stroke-linecap=\"round\" style=\"stroke:yellow;stroke-width:4\"/><line x1=\"350.0\" y1=\"195.0\" x2=\"460.0\" y2=\"195.0\" stroke-linecap=\"round\" style=\"stroke:yellow;stroke-width:4\"/><line x1=\"460.0\" y1=\"195.0\" x2=\"460.0\" y2=\"310.0\" stroke-linecap=\"round\" style=\"stroke:yellow;stroke-width:4\"/><line x1=\"460.0\" y1=\"310.0\" x2=\"340.0\" y2=\"310.0\" stroke-linecap=\"round\" style=\"stroke:yellow;stroke-width:4\"/><line x1=\"340.0\" y1=\"310.0\" x2=\"340.0\" y2=\"185.0\" stroke-linecap=\"round\" style=\"stroke:yellow;stroke-width:4\"/><line x1=\"340.0\" y1=\"185.0\" x2=\"470.0\" y2=\"185.0\" stroke-linecap=\"round\" style=\"stroke:yellow;stroke-width:4\"/><line x1=\"470.0\" y1=\"185.0\" x2=\"470.0\" y2=\"320.0\" stroke-linecap=\"round\" style=\"stroke:yellow;stroke-width:4\"/><line x1=\"470.0\" y1=\"320.0\" x2=\"330.0\" y2=\"320.0\" stroke-linecap=\"round\" style=\"stroke:yellow;stroke-width:4\"/><line x1=\"330.0\" y1=\"320.0\" x2=\"330.0\" y2=\"175.0\" stroke-linecap=\"round\" style=\"stroke:yellow;stroke-width:4\"/><line x1=\"330.0\" y1=\"175.0\" x2=\"480.0\" y2=\"175.0\" stroke-linecap=\"round\" style=\"stroke:yellow;stroke-width:4\"/><line x1=\"480.0\" y1=\"175.0\" x2=\"480.0\" y2=\"330.0\" stroke-linecap=\"round\" style=\"stroke:yellow;stroke-width:4\"/><line x1=\"480.0\" y1=\"330.0\" x2=\"320.0\" y2=\"330.0\" stroke-linecap=\"round\" style=\"stroke:yellow;stroke-width:4\"/><line x1=\"320.0\" y1=\"330.0\" x2=\"320.0\" y2=\"165.0\" stroke-linecap=\"round\" style=\"stroke:yellow;stroke-width:4\"/><line x1=\"320.0\" y1=\"165.0\" x2=\"490.0\" y2=\"165.0\" stroke-linecap=\"round\" style=\"stroke:yellow;stroke-width:4\"/><line x1=\"490.0\" y1=\"165.0\" x2=\"490.0\" y2=\"340.0\" stroke-linecap=\"round\" style=\"stroke:yellow;stroke-width:4\"/><line x1=\"490.0\" y1=\"340.0\" x2=\"310.0\" y2=\"340.0\" stroke-linecap=\"round\" style=\"stroke:yellow;stroke-width:4\"/><line x1=\"310.0\" y1=\"340.0\" x2=\"310.0\" y2=\"155.0\" stroke-linecap=\"round\" style=\"stroke:yellow;stroke-width:4\"/><line x1=\"310.0\" y1=\"155.0\" x2=\"500.0\" y2=\"155.0\" stroke-linecap=\"round\" style=\"stroke:yellow;stroke-width:4\"/><line x1=\"500.0\" y1=\"155.0\" x2=\"500.0\" y2=\"350.0\" stroke-linecap=\"round\" style=\"stroke:yellow;stroke-width:4\"/><line x1=\"500.0\" y1=\"350.0\" x2=\"300.0\" y2=\"350.0\" stroke-linecap=\"round\" style=\"stroke:yellow;stroke-width:4\"/><line x1=\"300.0\" y1=\"350.0\" x2=\"300.0\" y2=\"145.0\" stroke-linecap=\"round\" style=\"stroke:yellow;stroke-width:4\"/><line x1=\"300.0\" y1=\"145.0\" x2=\"510.0\" y2=\"145.0\" stroke-linecap=\"round\" style=\"stroke:yellow;stroke-width:4\"/><line x1=\"510.0\" y1=\"145.0\" x2=\"510.0\" y2=\"360.0\" stroke-linecap=\"round\" style=\"stroke:yellow;stroke-width:4\"/><line x1=\"510.0\" y1=\"360.0\" x2=\"290.0\" y2=\"360.0\" stroke-linecap=\"round\" style=\"stroke:yellow;stroke-width:4\"/><line x1=\"290.0\" y1=\"360.0\" x2=\"290.0\" y2=\"135.0\" stroke-linecap=\"round\" style=\"stroke:yellow;stroke-width:4\"/><line x1=\"290.0\" y1=\"135.0\" x2=\"520.0\" y2=\"135.0\" stroke-linecap=\"round\" style=\"stroke:yellow;stroke-width:4\"/><line x1=\"520.0\" y1=\"135.0\" x2=\"520.0\" y2=\"370.0\" stroke-linecap=\"round\" style=\"stroke:yellow;stroke-width:4\"/><line x1=\"520.0\" y1=\"370.0\" x2=\"280.0\" y2=\"370.0\" stroke-linecap=\"round\" style=\"stroke:yellow;stroke-width:4\"/><line x1=\"280.0\" y1=\"370.0\" x2=\"280.0\" y2=\"125.0\" stroke-linecap=\"round\" style=\"stroke:yellow;stroke-width:4\"/><line x1=\"280.0\" y1=\"125.0\" x2=\"530.0\" y2=\"125.0\" stroke-linecap=\"round\" style=\"stroke:yellow;stroke-width:4\"/><line x1=\"530.0\" y1=\"125.0\" x2=\"530.0\" y2=\"380.0\" stroke-linecap=\"round\" style=\"stroke:yellow;stroke-width:4\"/><line x1=\"530.0\" y1=\"380.0\" x2=\"270.0\" y2=\"380.0\" stroke-linecap=\"round\" style=\"stroke:yellow;stroke-width:4\"/><line x1=\"270.0\" y1=\"380.0\" x2=\"270.0\" y2=\"115.0\" stroke-linecap=\"round\" style=\"stroke:yellow;stroke-width:4\"/><line x1=\"270.0\" y1=\"115.0\" x2=\"540.0\" y2=\"115.0\" stroke-linecap=\"round\" style=\"stroke:yellow;stroke-width:4\"/><line x1=\"540.0\" y1=\"115.0\" x2=\"540.0\" y2=\"390.0\" stroke-linecap=\"round\" style=\"stroke:yellow;stroke-width:4\"/><line x1=\"540.0\" y1=\"390.0\" x2=\"260.0\" y2=\"390.0\" stroke-linecap=\"round\" style=\"stroke:yellow;stroke-width:4\"/><line x1=\"260.0\" y1=\"390.0\" x2=\"260.0\" y2=\"105.0\" stroke-linecap=\"round\" style=\"stroke:yellow;stroke-width:4\"/><line x1=\"260.0\" y1=\"105.0\" x2=\"550.0\" y2=\"105.0\" stroke-linecap=\"round\" style=\"stroke:yellow;stroke-width:4\"/><line x1=\"550.0\" y1=\"105.0\" x2=\"550.0\" y2=\"400.0\" stroke-linecap=\"round\" style=\"stroke:yellow;stroke-width:4\"/><line x1=\"550.0\" y1=\"400.0\" x2=\"250.0\" y2=\"400.0\" stroke-linecap=\"round\" style=\"stroke:yellow;stroke-width:4\"/><line x1=\"250.0\" y1=\"400.0\" x2=\"250.0\" y2=\"95.0\" stroke-linecap=\"round\" style=\"stroke:yellow;stroke-width:4\"/><line x1=\"250.0\" y1=\"95.0\" x2=\"560.0\" y2=\"95.0\" stroke-linecap=\"round\" style=\"stroke:yellow;stroke-width:4\"/><line x1=\"560.0\" y1=\"95.0\" x2=\"560.0\" y2=\"410.0\" stroke-linecap=\"round\" style=\"stroke:yellow;stroke-width:4\"/><line x1=\"560.0\" y1=\"410.0\" x2=\"240.0\" y2=\"410.0\" stroke-linecap=\"round\" style=\"stroke:yellow;stroke-width:4\"/><line x1=\"240.0\" y1=\"410.0\" x2=\"240.0\" y2=\"85.0\" stroke-linecap=\"round\" style=\"stroke:yellow;stroke-width:4\"/><line x1=\"240.0\" y1=\"85.0\" x2=\"570.0\" y2=\"85.0\" stroke-linecap=\"round\" style=\"stroke:yellow;stroke-width:4\"/><line x1=\"570.0\" y1=\"85.0\" x2=\"570.0\" y2=\"420.0\" stroke-linecap=\"round\" style=\"stroke:yellow;stroke-width:4\"/><line x1=\"570.0\" y1=\"420.0\" x2=\"230.0\" y2=\"420.0\" stroke-linecap=\"round\" style=\"stroke:yellow;stroke-width:4\"/><line x1=\"230.0\" y1=\"420.0\" x2=\"230.0\" y2=\"75.0\" stroke-linecap=\"round\" style=\"stroke:yellow;stroke-width:4\"/><line x1=\"230.0\" y1=\"75.0\" x2=\"580.0\" y2=\"75.0\" stroke-linecap=\"round\" style=\"stroke:yellow;stroke-width:4\"/><line x1=\"580.0\" y1=\"75.0\" x2=\"580.0\" y2=\"430.0\" stroke-linecap=\"round\" style=\"stroke:yellow;stroke-width:4\"/><line x1=\"580.0\" y1=\"430.0\" x2=\"220.0\" y2=\"430.0\" stroke-linecap=\"round\" style=\"stroke:yellow;stroke-width:4\"/><line x1=\"220.0\" y1=\"430.0\" x2=\"220.0\" y2=\"65.0\" stroke-linecap=\"round\" style=\"stroke:yellow;stroke-width:4\"/><line x1=\"220.0\" y1=\"65.0\" x2=\"590.0\" y2=\"65.0\" stroke-linecap=\"round\" style=\"stroke:yellow;stroke-width:4\"/><line x1=\"590.0\" y1=\"65.0\" x2=\"590.0\" y2=\"440.0\" stroke-linecap=\"round\" style=\"stroke:yellow;stroke-width:4\"/><line x1=\"590.0\" y1=\"440.0\" x2=\"210.0\" y2=\"440.0\" stroke-linecap=\"round\" style=\"stroke:yellow;stroke-width:4\"/><line x1=\"210.0\" y1=\"440.0\" x2=\"210.0\" y2=\"55.0\" stroke-linecap=\"round\" style=\"stroke:yellow;stroke-width:4\"/><line x1=\"210.0\" y1=\"55.0\" x2=\"600.0\" y2=\"55.0\" stroke-linecap=\"round\" style=\"stroke:yellow;stroke-width:4\"/><line x1=\"600.0\" y1=\"55.0\" x2=\"600.0\" y2=\"450.0\" stroke-linecap=\"round\" style=\"stroke:yellow;stroke-width:4\"/><line x1=\"600.0\" y1=\"450.0\" x2=\"200.0\" y2=\"450.0\" stroke-linecap=\"round\" style=\"stroke:yellow;stroke-width:4\"/><line x1=\"200.0\" y1=\"450.0\" x2=\"200.0\" y2=\"45.0\" stroke-linecap=\"round\" style=\"stroke:yellow;stroke-width:4\"/><line x1=\"200.0\" y1=\"45.0\" x2=\"610.0\" y2=\"45.0\" stroke-linecap=\"round\" style=\"stroke:yellow;stroke-width:4\"/><line x1=\"610.0\" y1=\"45.0\" x2=\"610.0\" y2=\"460.0\" stroke-linecap=\"round\" style=\"stroke:yellow;stroke-width:4\"/><line x1=\"610.0\" y1=\"460.0\" x2=\"190.0\" y2=\"460.0\" stroke-linecap=\"round\" style=\"stroke:yellow;stroke-width:4\"/><line x1=\"190.0\" y1=\"460.0\" x2=\"190.0\" y2=\"35.0\" stroke-linecap=\"round\" style=\"stroke:yellow;stroke-width:4\"/><line x1=\"190.0\" y1=\"35.0\" x2=\"620.0\" y2=\"35.0\" stroke-linecap=\"round\" style=\"stroke:yellow;stroke-width:4\"/><line x1=\"620.0\" y1=\"35.0\" x2=\"620.0\" y2=\"470.0\" stroke-linecap=\"round\" style=\"stroke:yellow;stroke-width:4\"/><line x1=\"620.0\" y1=\"470.0\" x2=\"180.0\" y2=\"470.0\" stroke-linecap=\"round\" style=\"stroke:yellow;stroke-width:4\"/><line x1=\"180.0\" y1=\"470.0\" x2=\"180.0\" y2=\"25.0\" stroke-linecap=\"round\" style=\"stroke:yellow;stroke-width:4\"/><line x1=\"180.0\" y1=\"25.0\" x2=\"630.0\" y2=\"25.0\" stroke-linecap=\"round\" style=\"stroke:yellow;stroke-width:4\"/><line x1=\"630.0\" y1=\"25.0\" x2=\"630.0\" y2=\"480.0\" stroke-linecap=\"round\" style=\"stroke:yellow;stroke-width:4\"/><line x1=\"630.0\" y1=\"480.0\" x2=\"170.0\" y2=\"480.0\" stroke-linecap=\"round\" style=\"stroke:yellow;stroke-width:4\"/><line x1=\"170.0\" y1=\"480.0\" x2=\"170.0\" y2=\"15.0\" stroke-linecap=\"round\" style=\"stroke:yellow;stroke-width:4\"/><line x1=\"170.0\" y1=\"15.0\" x2=\"640.0\" y2=\"15.0\" stroke-linecap=\"round\" style=\"stroke:yellow;stroke-width:4\"/><line x1=\"640.0\" y1=\"15.0\" x2=\"640.0\" y2=\"490.0\" stroke-linecap=\"round\" style=\"stroke:yellow;stroke-width:4\"/><line x1=\"640.0\" y1=\"490.0\" x2=\"160.0\" y2=\"490.0\" stroke-linecap=\"round\" style=\"stroke:yellow;stroke-width:4\"/><line x1=\"160.0\" y1=\"490.0\" x2=\"160.0\" y2=\"5.0\" stroke-linecap=\"round\" style=\"stroke:yellow;stroke-width:4\"/><line x1=\"160.0\" y1=\"5.0\" x2=\"650.0\" y2=\"5.0\" stroke-linecap=\"round\" style=\"stroke:yellow;stroke-width:4\"/><line x1=\"650.0\" y1=\"5.0\" x2=\"650.0\" y2=\"500.0\" stroke-linecap=\"round\" style=\"stroke:yellow;stroke-width:4\"/><line x1=\"650.0\" y1=\"500.0\" x2=\"150.0\" y2=\"500.0\" stroke-linecap=\"round\" style=\"stroke:yellow;stroke-width:4\"/>\n",
              "        <g visibility=visible transform=\"rotate(360,150.0,500.0) translate(132.0, 482.0)\">\n",
              "<path style=\" stroke:none;fill-rule:evenodd;fill:yellow;fill-opacity:1;\" d=\"M 18.214844 0.632812 C 16.109375 1.800781 15.011719 4.074219 15.074219 7.132812 L 15.085938 7.652344 L 14.785156 7.496094 C 13.476562 6.824219 11.957031 6.671875 10.40625 7.066406 C 8.46875 7.550781 6.515625 9.15625 4.394531 11.992188 C 3.0625 13.777344 2.679688 14.636719 3.042969 15.027344 L 3.15625 15.152344 L 3.519531 15.152344 C 4.238281 15.152344 4.828125 14.886719 8.1875 13.039062 C 9.386719 12.378906 10.371094 11.839844 10.378906 11.839844 C 10.386719 11.839844 10.355469 11.929688 10.304688 12.035156 C 9.832031 13.09375 9.257812 14.820312 8.96875 16.078125 C 7.914062 20.652344 8.617188 24.53125 11.070312 27.660156 C 11.351562 28.015625 11.363281 27.914062 10.972656 28.382812 C 8.925781 30.84375 7.945312 33.28125 8.238281 35.1875 C 8.289062 35.527344 8.28125 35.523438 8.917969 35.523438 C 10.941406 35.523438 13.074219 34.207031 15.136719 31.6875 C 15.359375 31.417969 15.328125 31.425781 15.5625 31.574219 C 16.292969 32.042969 18.023438 32.964844 18.175781 32.964844 C 18.335938 32.964844 19.941406 32.210938 20.828125 31.71875 C 20.996094 31.625 21.136719 31.554688 21.136719 31.558594 C 21.203125 31.664062 21.898438 32.414062 22.222656 32.730469 C 23.835938 34.300781 25.5625 35.132812 27.582031 35.300781 C 27.90625 35.328125 27.9375 35.308594 28.007812 34.984375 C 28.382812 33.242188 27.625 30.925781 25.863281 28.425781 L 25.542969 27.96875 L 25.699219 27.785156 C 28.945312 23.960938 29.132812 18.699219 26.257812 11.96875 L 26.207031 11.84375 L 27.945312 12.703125 C 31.53125 14.476562 32.316406 14.800781 33.03125 14.800781 C 33.976562 14.800781 33.78125 13.9375 32.472656 12.292969 C 28.519531 7.355469 25.394531 5.925781 21.921875 7.472656 L 21.558594 7.636719 L 21.578125 7.542969 C 21.699219 6.992188 21.761719 5.742188 21.699219 5.164062 C 21.496094 3.296875 20.664062 1.964844 19.003906 0.855469 C 18.480469 0.503906 18.457031 0.5 18.214844 0.632812\"/>\n",
              "</g>\n",
              "      </svg>\n",
              "    "
            ]
          },
          "metadata": {}
        }
      ]
    },
    {
      "cell_type": "code",
      "source": [
        "# Sierpinski Triangle (Fractal):\n",
        "from ColabTurtle.Turtle import *\n",
        "\n",
        "initializeTurtle()\n",
        "bgcolor(\"black\")\n",
        "color(\"yellow\")\n",
        "speed(10)\n",
        "\n",
        "def draw_triangle(length, depth):\n",
        "    if depth == 0:\n",
        "        for _ in range(3):\n",
        "            forward(length)\n",
        "            left(120)\n",
        "    else:\n",
        "        draw_triangle(length / 2, depth - 1)\n",
        "        forward(length / 2)\n",
        "        draw_triangle(length / 2, depth - 1)\n",
        "        backward(length / 2)\n",
        "        left(60)\n",
        "        forward(length / 2)\n",
        "        right(60)\n",
        "        draw_triangle(length / 2, depth - 1)\n",
        "        left(60)\n",
        "        backward(length / 2)\n",
        "        right(60)\n",
        "\n",
        "draw_triangle(200, 4)"
      ],
      "metadata": {
        "colab": {
          "base_uri": "https://localhost:8080/",
          "height": 520
        },
        "id": "CXYgJsSwcWuT",
        "outputId": "50813b8b-8244-485f-b1fc-f419a46da02d"
      },
      "execution_count": 73,
      "outputs": [
        {
          "output_type": "display_data",
          "data": {
            "text/plain": [
              "<IPython.core.display.HTML object>"
            ],
            "text/html": [
              "\n",
              "      <svg width=\"800\" height=\"500\">\n",
              "        <rect width=\"100%\" height=\"100%\" fill=\"black\"/>\n",
              "        <line x1=\"400\" y1=\"250\" x2=\"400.0\" y2=\"237.5\" stroke-linecap=\"round\" style=\"stroke:yellow;stroke-width:4\"/><line x1=\"400.0\" y1=\"237.5\" x2=\"389.175\" y2=\"243.75\" stroke-linecap=\"round\" style=\"stroke:yellow;stroke-width:4\"/><line x1=\"389.175\" y1=\"243.75\" x2=\"400.0\" y2=\"250.0\" stroke-linecap=\"round\" style=\"stroke:yellow;stroke-width:4\"/><line x1=\"400.0\" y1=\"250.0\" x2=\"400.0\" y2=\"237.5\" stroke-linecap=\"round\" style=\"stroke:yellow;stroke-width:4\"/><line x1=\"400.0\" y1=\"237.5\" x2=\"400.0\" y2=\"225.0\" stroke-linecap=\"round\" style=\"stroke:yellow;stroke-width:4\"/><line x1=\"400.0\" y1=\"225.0\" x2=\"389.175\" y2=\"231.25\" stroke-linecap=\"round\" style=\"stroke:yellow;stroke-width:4\"/><line x1=\"389.175\" y1=\"231.25\" x2=\"400.0\" y2=\"237.5\" stroke-linecap=\"round\" style=\"stroke:yellow;stroke-width:4\"/><line x1=\"400.0\" y1=\"237.5\" x2=\"400.0\" y2=\"250.0\" stroke-linecap=\"round\" style=\"stroke:yellow;stroke-width:4\"/><line x1=\"400.0\" y1=\"250.0\" x2=\"389.175\" y2=\"243.75\" stroke-linecap=\"round\" style=\"stroke:yellow;stroke-width:4\"/><line x1=\"389.175\" y1=\"243.75\" x2=\"389.175\" y2=\"231.25\" stroke-linecap=\"round\" style=\"stroke:yellow;stroke-width:4\"/><line x1=\"389.175\" y1=\"231.25\" x2=\"378.35\" y2=\"237.5\" stroke-linecap=\"round\" style=\"stroke:yellow;stroke-width:4\"/><line x1=\"378.35\" y1=\"237.5\" x2=\"389.175\" y2=\"243.75\" stroke-linecap=\"round\" style=\"stroke:yellow;stroke-width:4\"/><line x1=\"389.175\" y1=\"243.75\" x2=\"400.0\" y2=\"250.0\" stroke-linecap=\"round\" style=\"stroke:yellow;stroke-width:4\"/><line x1=\"400.0\" y1=\"250.0\" x2=\"400.0\" y2=\"225.0\" stroke-linecap=\"round\" style=\"stroke:yellow;stroke-width:4\"/><line x1=\"400.0\" y1=\"225.0\" x2=\"400.0\" y2=\"212.5\" stroke-linecap=\"round\" style=\"stroke:yellow;stroke-width:4\"/><line x1=\"400.0\" y1=\"212.5\" x2=\"389.175\" y2=\"218.75\" stroke-linecap=\"round\" style=\"stroke:yellow;stroke-width:4\"/><line x1=\"389.175\" y1=\"218.75\" x2=\"400.0\" y2=\"225.0\" stroke-linecap=\"round\" style=\"stroke:yellow;stroke-width:4\"/><line x1=\"400.0\" y1=\"225.0\" x2=\"400.0\" y2=\"212.5\" stroke-linecap=\"round\" style=\"stroke:yellow;stroke-width:4\"/><line x1=\"400.0\" y1=\"212.5\" x2=\"400.0\" y2=\"200.0\" stroke-linecap=\"round\" style=\"stroke:yellow;stroke-width:4\"/><line x1=\"400.0\" y1=\"200.0\" x2=\"389.175\" y2=\"206.25\" stroke-linecap=\"round\" style=\"stroke:yellow;stroke-width:4\"/><line x1=\"389.175\" y1=\"206.25\" x2=\"400.0\" y2=\"212.5\" stroke-linecap=\"round\" style=\"stroke:yellow;stroke-width:4\"/><line x1=\"400.0\" y1=\"212.5\" x2=\"400.0\" y2=\"225.0\" stroke-linecap=\"round\" style=\"stroke:yellow;stroke-width:4\"/><line x1=\"400.0\" y1=\"225.0\" x2=\"389.175\" y2=\"218.75\" stroke-linecap=\"round\" style=\"stroke:yellow;stroke-width:4\"/><line x1=\"389.175\" y1=\"218.75\" x2=\"389.175\" y2=\"206.25\" stroke-linecap=\"round\" style=\"stroke:yellow;stroke-width:4\"/><line x1=\"389.175\" y1=\"206.25\" x2=\"378.35\" y2=\"212.5\" stroke-linecap=\"round\" style=\"stroke:yellow;stroke-width:4\"/><line x1=\"378.35\" y1=\"212.5\" x2=\"389.175\" y2=\"218.75\" stroke-linecap=\"round\" style=\"stroke:yellow;stroke-width:4\"/><line x1=\"389.175\" y1=\"218.75\" x2=\"400.0\" y2=\"225.0\" stroke-linecap=\"round\" style=\"stroke:yellow;stroke-width:4\"/><line x1=\"400.0\" y1=\"225.0\" x2=\"400.0\" y2=\"250.0\" stroke-linecap=\"round\" style=\"stroke:yellow;stroke-width:4\"/><line x1=\"400.0\" y1=\"250.0\" x2=\"378.349\" y2=\"237.5\" stroke-linecap=\"round\" style=\"stroke:yellow;stroke-width:4\"/><line x1=\"378.349\" y1=\"237.5\" x2=\"378.349\" y2=\"225.0\" stroke-linecap=\"round\" style=\"stroke:yellow;stroke-width:4\"/><line x1=\"378.349\" y1=\"225.0\" x2=\"367.524\" y2=\"231.25\" stroke-linecap=\"round\" style=\"stroke:yellow;stroke-width:4\"/><line x1=\"367.524\" y1=\"231.25\" x2=\"378.349\" y2=\"237.5\" stroke-linecap=\"round\" style=\"stroke:yellow;stroke-width:4\"/><line x1=\"378.349\" y1=\"237.5\" x2=\"378.349\" y2=\"225.0\" stroke-linecap=\"round\" style=\"stroke:yellow;stroke-width:4\"/><line x1=\"378.349\" y1=\"225.0\" x2=\"378.349\" y2=\"212.5\" stroke-linecap=\"round\" style=\"stroke:yellow;stroke-width:4\"/><line x1=\"378.349\" y1=\"212.5\" x2=\"367.524\" y2=\"218.75\" stroke-linecap=\"round\" style=\"stroke:yellow;stroke-width:4\"/><line x1=\"367.524\" y1=\"218.75\" x2=\"378.349\" y2=\"225.0\" stroke-linecap=\"round\" style=\"stroke:yellow;stroke-width:4\"/><line x1=\"378.349\" y1=\"225.0\" x2=\"378.349\" y2=\"237.5\" stroke-linecap=\"round\" style=\"stroke:yellow;stroke-width:4\"/><line x1=\"378.349\" y1=\"237.5\" x2=\"367.524\" y2=\"231.25\" stroke-linecap=\"round\" style=\"stroke:yellow;stroke-width:4\"/><line x1=\"367.524\" y1=\"231.25\" x2=\"367.524\" y2=\"218.75\" stroke-linecap=\"round\" style=\"stroke:yellow;stroke-width:4\"/><line x1=\"367.524\" y1=\"218.75\" x2=\"356.699\" y2=\"225.0\" stroke-linecap=\"round\" style=\"stroke:yellow;stroke-width:4\"/><line x1=\"356.699\" y1=\"225.0\" x2=\"367.524\" y2=\"231.25\" stroke-linecap=\"round\" style=\"stroke:yellow;stroke-width:4\"/><line x1=\"367.524\" y1=\"231.25\" x2=\"378.349\" y2=\"237.5\" stroke-linecap=\"round\" style=\"stroke:yellow;stroke-width:4\"/><line x1=\"378.349\" y1=\"237.5\" x2=\"400.0\" y2=\"250.0\" stroke-linecap=\"round\" style=\"stroke:yellow;stroke-width:4\"/><line x1=\"400.0\" y1=\"250.0\" x2=\"400.0\" y2=\"200.0\" stroke-linecap=\"round\" style=\"stroke:yellow;stroke-width:4\"/><line x1=\"400.0\" y1=\"200.0\" x2=\"400.0\" y2=\"187.5\" stroke-linecap=\"round\" style=\"stroke:yellow;stroke-width:4\"/><line x1=\"400.0\" y1=\"187.5\" x2=\"389.175\" y2=\"193.75\" stroke-linecap=\"round\" style=\"stroke:yellow;stroke-width:4\"/><line x1=\"389.175\" y1=\"193.75\" x2=\"400.0\" y2=\"200.0\" stroke-linecap=\"round\" style=\"stroke:yellow;stroke-width:4\"/><line x1=\"400.0\" y1=\"200.0\" x2=\"400.0\" y2=\"187.5\" stroke-linecap=\"round\" style=\"stroke:yellow;stroke-width:4\"/><line x1=\"400.0\" y1=\"187.5\" x2=\"400.0\" y2=\"175.0\" stroke-linecap=\"round\" style=\"stroke:yellow;stroke-width:4\"/><line x1=\"400.0\" y1=\"175.0\" x2=\"389.175\" y2=\"181.25\" stroke-linecap=\"round\" style=\"stroke:yellow;stroke-width:4\"/><line x1=\"389.175\" y1=\"181.25\" x2=\"400.0\" y2=\"187.5\" stroke-linecap=\"round\" style=\"stroke:yellow;stroke-width:4\"/><line x1=\"400.0\" y1=\"187.5\" x2=\"400.0\" y2=\"200.0\" stroke-linecap=\"round\" style=\"stroke:yellow;stroke-width:4\"/><line x1=\"400.0\" y1=\"200.0\" x2=\"389.175\" y2=\"193.75\" stroke-linecap=\"round\" style=\"stroke:yellow;stroke-width:4\"/><line x1=\"389.175\" y1=\"193.75\" x2=\"389.175\" y2=\"181.25\" stroke-linecap=\"round\" style=\"stroke:yellow;stroke-width:4\"/><line x1=\"389.175\" y1=\"181.25\" x2=\"378.35\" y2=\"187.5\" stroke-linecap=\"round\" style=\"stroke:yellow;stroke-width:4\"/><line x1=\"378.35\" y1=\"187.5\" x2=\"389.175\" y2=\"193.75\" stroke-linecap=\"round\" style=\"stroke:yellow;stroke-width:4\"/><line x1=\"389.175\" y1=\"193.75\" x2=\"400.0\" y2=\"200.0\" stroke-linecap=\"round\" style=\"stroke:yellow;stroke-width:4\"/><line x1=\"400.0\" y1=\"200.0\" x2=\"400.0\" y2=\"175.0\" stroke-linecap=\"round\" style=\"stroke:yellow;stroke-width:4\"/><line x1=\"400.0\" y1=\"175.0\" x2=\"400.0\" y2=\"162.5\" stroke-linecap=\"round\" style=\"stroke:yellow;stroke-width:4\"/><line x1=\"400.0\" y1=\"162.5\" x2=\"389.175\" y2=\"168.75\" stroke-linecap=\"round\" style=\"stroke:yellow;stroke-width:4\"/><line x1=\"389.175\" y1=\"168.75\" x2=\"400.0\" y2=\"175.0\" stroke-linecap=\"round\" style=\"stroke:yellow;stroke-width:4\"/><line x1=\"400.0\" y1=\"175.0\" x2=\"400.0\" y2=\"162.5\" stroke-linecap=\"round\" style=\"stroke:yellow;stroke-width:4\"/><line x1=\"400.0\" y1=\"162.5\" x2=\"400.0\" y2=\"150.0\" stroke-linecap=\"round\" style=\"stroke:yellow;stroke-width:4\"/><line x1=\"400.0\" y1=\"150.0\" x2=\"389.175\" y2=\"156.25\" stroke-linecap=\"round\" style=\"stroke:yellow;stroke-width:4\"/><line x1=\"389.175\" y1=\"156.25\" x2=\"400.0\" y2=\"162.5\" stroke-linecap=\"round\" style=\"stroke:yellow;stroke-width:4\"/><line x1=\"400.0\" y1=\"162.5\" x2=\"400.0\" y2=\"175.0\" stroke-linecap=\"round\" style=\"stroke:yellow;stroke-width:4\"/><line x1=\"400.0\" y1=\"175.0\" x2=\"389.175\" y2=\"168.75\" stroke-linecap=\"round\" style=\"stroke:yellow;stroke-width:4\"/><line x1=\"389.175\" y1=\"168.75\" x2=\"389.175\" y2=\"156.25\" stroke-linecap=\"round\" style=\"stroke:yellow;stroke-width:4\"/><line x1=\"389.175\" y1=\"156.25\" x2=\"378.35\" y2=\"162.5\" stroke-linecap=\"round\" style=\"stroke:yellow;stroke-width:4\"/><line x1=\"378.35\" y1=\"162.5\" x2=\"389.175\" y2=\"168.75\" stroke-linecap=\"round\" style=\"stroke:yellow;stroke-width:4\"/><line x1=\"389.175\" y1=\"168.75\" x2=\"400.0\" y2=\"175.0\" stroke-linecap=\"round\" style=\"stroke:yellow;stroke-width:4\"/><line x1=\"400.0\" y1=\"175.0\" x2=\"400.0\" y2=\"200.0\" stroke-linecap=\"round\" style=\"stroke:yellow;stroke-width:4\"/><line x1=\"400.0\" y1=\"200.0\" x2=\"378.349\" y2=\"187.5\" stroke-linecap=\"round\" style=\"stroke:yellow;stroke-width:4\"/><line x1=\"378.349\" y1=\"187.5\" x2=\"378.349\" y2=\"175.0\" stroke-linecap=\"round\" style=\"stroke:yellow;stroke-width:4\"/><line x1=\"378.349\" y1=\"175.0\" x2=\"367.524\" y2=\"181.25\" stroke-linecap=\"round\" style=\"stroke:yellow;stroke-width:4\"/><line x1=\"367.524\" y1=\"181.25\" x2=\"378.349\" y2=\"187.5\" stroke-linecap=\"round\" style=\"stroke:yellow;stroke-width:4\"/><line x1=\"378.349\" y1=\"187.5\" x2=\"378.349\" y2=\"175.0\" stroke-linecap=\"round\" style=\"stroke:yellow;stroke-width:4\"/><line x1=\"378.349\" y1=\"175.0\" x2=\"378.349\" y2=\"162.5\" stroke-linecap=\"round\" style=\"stroke:yellow;stroke-width:4\"/><line x1=\"378.349\" y1=\"162.5\" x2=\"367.524\" y2=\"168.75\" stroke-linecap=\"round\" style=\"stroke:yellow;stroke-width:4\"/><line x1=\"367.524\" y1=\"168.75\" x2=\"378.349\" y2=\"175.0\" stroke-linecap=\"round\" style=\"stroke:yellow;stroke-width:4\"/><line x1=\"378.349\" y1=\"175.0\" x2=\"378.349\" y2=\"187.5\" stroke-linecap=\"round\" style=\"stroke:yellow;stroke-width:4\"/><line x1=\"378.349\" y1=\"187.5\" x2=\"367.524\" y2=\"181.25\" stroke-linecap=\"round\" style=\"stroke:yellow;stroke-width:4\"/><line x1=\"367.524\" y1=\"181.25\" x2=\"367.524\" y2=\"168.75\" stroke-linecap=\"round\" style=\"stroke:yellow;stroke-width:4\"/><line x1=\"367.524\" y1=\"168.75\" x2=\"356.699\" y2=\"175.0\" stroke-linecap=\"round\" style=\"stroke:yellow;stroke-width:4\"/><line x1=\"356.699\" y1=\"175.0\" x2=\"367.524\" y2=\"181.25\" stroke-linecap=\"round\" style=\"stroke:yellow;stroke-width:4\"/><line x1=\"367.524\" y1=\"181.25\" x2=\"378.349\" y2=\"187.5\" stroke-linecap=\"round\" style=\"stroke:yellow;stroke-width:4\"/><line x1=\"378.349\" y1=\"187.5\" x2=\"400.0\" y2=\"200.0\" stroke-linecap=\"round\" style=\"stroke:yellow;stroke-width:4\"/><line x1=\"400.0\" y1=\"200.0\" x2=\"400.0\" y2=\"250.0\" stroke-linecap=\"round\" style=\"stroke:yellow;stroke-width:4\"/><line x1=\"400.0\" y1=\"250.0\" x2=\"356.699\" y2=\"225.0\" stroke-linecap=\"round\" style=\"stroke:yellow;stroke-width:4\"/><line x1=\"356.699\" y1=\"225.0\" x2=\"356.699\" y2=\"212.5\" stroke-linecap=\"round\" style=\"stroke:yellow;stroke-width:4\"/><line x1=\"356.699\" y1=\"212.5\" x2=\"345.874\" y2=\"218.75\" stroke-linecap=\"round\" style=\"stroke:yellow;stroke-width:4\"/><line x1=\"345.874\" y1=\"218.75\" x2=\"356.699\" y2=\"225.0\" stroke-linecap=\"round\" style=\"stroke:yellow;stroke-width:4\"/><line x1=\"356.699\" y1=\"225.0\" x2=\"356.699\" y2=\"212.5\" stroke-linecap=\"round\" style=\"stroke:yellow;stroke-width:4\"/><line x1=\"356.699\" y1=\"212.5\" x2=\"356.699\" y2=\"200.0\" stroke-linecap=\"round\" style=\"stroke:yellow;stroke-width:4\"/><line x1=\"356.699\" y1=\"200.0\" x2=\"345.874\" y2=\"206.25\" stroke-linecap=\"round\" style=\"stroke:yellow;stroke-width:4\"/><line x1=\"345.874\" y1=\"206.25\" x2=\"356.699\" y2=\"212.5\" stroke-linecap=\"round\" style=\"stroke:yellow;stroke-width:4\"/><line x1=\"356.699\" y1=\"212.5\" x2=\"356.699\" y2=\"225.0\" stroke-linecap=\"round\" style=\"stroke:yellow;stroke-width:4\"/><line x1=\"356.699\" y1=\"225.0\" x2=\"345.874\" y2=\"218.75\" stroke-linecap=\"round\" style=\"stroke:yellow;stroke-width:4\"/><line x1=\"345.874\" y1=\"218.75\" x2=\"345.874\" y2=\"206.25\" stroke-linecap=\"round\" style=\"stroke:yellow;stroke-width:4\"/><line x1=\"345.874\" y1=\"206.25\" x2=\"335.049\" y2=\"212.5\" stroke-linecap=\"round\" style=\"stroke:yellow;stroke-width:4\"/><line x1=\"335.049\" y1=\"212.5\" x2=\"345.874\" y2=\"218.75\" stroke-linecap=\"round\" style=\"stroke:yellow;stroke-width:4\"/><line x1=\"345.874\" y1=\"218.75\" x2=\"356.699\" y2=\"225.0\" stroke-linecap=\"round\" style=\"stroke:yellow;stroke-width:4\"/><line x1=\"356.699\" y1=\"225.0\" x2=\"356.699\" y2=\"200.0\" stroke-linecap=\"round\" style=\"stroke:yellow;stroke-width:4\"/><line x1=\"356.699\" y1=\"200.0\" x2=\"356.699\" y2=\"187.5\" stroke-linecap=\"round\" style=\"stroke:yellow;stroke-width:4\"/><line x1=\"356.699\" y1=\"187.5\" x2=\"345.874\" y2=\"193.75\" stroke-linecap=\"round\" style=\"stroke:yellow;stroke-width:4\"/><line x1=\"345.874\" y1=\"193.75\" x2=\"356.699\" y2=\"200.0\" stroke-linecap=\"round\" style=\"stroke:yellow;stroke-width:4\"/><line x1=\"356.699\" y1=\"200.0\" x2=\"356.699\" y2=\"187.5\" stroke-linecap=\"round\" style=\"stroke:yellow;stroke-width:4\"/><line x1=\"356.699\" y1=\"187.5\" x2=\"356.699\" y2=\"175.0\" stroke-linecap=\"round\" style=\"stroke:yellow;stroke-width:4\"/><line x1=\"356.699\" y1=\"175.0\" x2=\"345.874\" y2=\"181.25\" stroke-linecap=\"round\" style=\"stroke:yellow;stroke-width:4\"/><line x1=\"345.874\" y1=\"181.25\" x2=\"356.699\" y2=\"187.5\" stroke-linecap=\"round\" style=\"stroke:yellow;stroke-width:4\"/><line x1=\"356.699\" y1=\"187.5\" x2=\"356.699\" y2=\"200.0\" stroke-linecap=\"round\" style=\"stroke:yellow;stroke-width:4\"/><line x1=\"356.699\" y1=\"200.0\" x2=\"345.874\" y2=\"193.75\" stroke-linecap=\"round\" style=\"stroke:yellow;stroke-width:4\"/><line x1=\"345.874\" y1=\"193.75\" x2=\"345.874\" y2=\"181.25\" stroke-linecap=\"round\" style=\"stroke:yellow;stroke-width:4\"/><line x1=\"345.874\" y1=\"181.25\" x2=\"335.049\" y2=\"187.5\" stroke-linecap=\"round\" style=\"stroke:yellow;stroke-width:4\"/><line x1=\"335.049\" y1=\"187.5\" x2=\"345.874\" y2=\"193.75\" stroke-linecap=\"round\" style=\"stroke:yellow;stroke-width:4\"/><line x1=\"345.874\" y1=\"193.75\" x2=\"356.699\" y2=\"200.0\" stroke-linecap=\"round\" style=\"stroke:yellow;stroke-width:4\"/><line x1=\"356.699\" y1=\"200.0\" x2=\"356.699\" y2=\"225.0\" stroke-linecap=\"round\" style=\"stroke:yellow;stroke-width:4\"/><line x1=\"356.699\" y1=\"225.0\" x2=\"335.048\" y2=\"212.5\" stroke-linecap=\"round\" style=\"stroke:yellow;stroke-width:4\"/><line x1=\"335.048\" y1=\"212.5\" x2=\"335.048\" y2=\"200.0\" stroke-linecap=\"round\" style=\"stroke:yellow;stroke-width:4\"/><line x1=\"335.048\" y1=\"200.0\" x2=\"324.223\" y2=\"206.25\" stroke-linecap=\"round\" style=\"stroke:yellow;stroke-width:4\"/><line x1=\"324.223\" y1=\"206.25\" x2=\"335.048\" y2=\"212.5\" stroke-linecap=\"round\" style=\"stroke:yellow;stroke-width:4\"/><line x1=\"335.048\" y1=\"212.5\" x2=\"335.048\" y2=\"200.0\" stroke-linecap=\"round\" style=\"stroke:yellow;stroke-width:4\"/><line x1=\"335.048\" y1=\"200.0\" x2=\"335.048\" y2=\"187.5\" stroke-linecap=\"round\" style=\"stroke:yellow;stroke-width:4\"/><line x1=\"335.048\" y1=\"187.5\" x2=\"324.223\" y2=\"193.75\" stroke-linecap=\"round\" style=\"stroke:yellow;stroke-width:4\"/><line x1=\"324.223\" y1=\"193.75\" x2=\"335.048\" y2=\"200.0\" stroke-linecap=\"round\" style=\"stroke:yellow;stroke-width:4\"/><line x1=\"335.048\" y1=\"200.0\" x2=\"335.048\" y2=\"212.5\" stroke-linecap=\"round\" style=\"stroke:yellow;stroke-width:4\"/><line x1=\"335.048\" y1=\"212.5\" x2=\"324.223\" y2=\"206.25\" stroke-linecap=\"round\" style=\"stroke:yellow;stroke-width:4\"/><line x1=\"324.223\" y1=\"206.25\" x2=\"324.223\" y2=\"193.75\" stroke-linecap=\"round\" style=\"stroke:yellow;stroke-width:4\"/><line x1=\"324.223\" y1=\"193.75\" x2=\"313.398\" y2=\"200.0\" stroke-linecap=\"round\" style=\"stroke:yellow;stroke-width:4\"/><line x1=\"313.398\" y1=\"200.0\" x2=\"324.223\" y2=\"206.25\" stroke-linecap=\"round\" style=\"stroke:yellow;stroke-width:4\"/><line x1=\"324.223\" y1=\"206.25\" x2=\"335.048\" y2=\"212.5\" stroke-linecap=\"round\" style=\"stroke:yellow;stroke-width:4\"/><line x1=\"335.048\" y1=\"212.5\" x2=\"356.699\" y2=\"225.0\" stroke-linecap=\"round\" style=\"stroke:yellow;stroke-width:4\"/><line x1=\"356.699\" y1=\"225.0\" x2=\"400.0\" y2=\"250.0\" stroke-linecap=\"round\" style=\"stroke:yellow;stroke-width:4\"/><line x1=\"400.0\" y1=\"250.0\" x2=\"400.0\" y2=\"150.0\" stroke-linecap=\"round\" style=\"stroke:yellow;stroke-width:4\"/><line x1=\"400.0\" y1=\"150.0\" x2=\"400.0\" y2=\"137.5\" stroke-linecap=\"round\" style=\"stroke:yellow;stroke-width:4\"/><line x1=\"400.0\" y1=\"137.5\" x2=\"389.175\" y2=\"143.75\" stroke-linecap=\"round\" style=\"stroke:yellow;stroke-width:4\"/><line x1=\"389.175\" y1=\"143.75\" x2=\"400.0\" y2=\"150.0\" stroke-linecap=\"round\" style=\"stroke:yellow;stroke-width:4\"/><line x1=\"400.0\" y1=\"150.0\" x2=\"400.0\" y2=\"137.5\" stroke-linecap=\"round\" style=\"stroke:yellow;stroke-width:4\"/><line x1=\"400.0\" y1=\"137.5\" x2=\"400.0\" y2=\"125.0\" stroke-linecap=\"round\" style=\"stroke:yellow;stroke-width:4\"/><line x1=\"400.0\" y1=\"125.0\" x2=\"389.175\" y2=\"131.25\" stroke-linecap=\"round\" style=\"stroke:yellow;stroke-width:4\"/><line x1=\"389.175\" y1=\"131.25\" x2=\"400.0\" y2=\"137.5\" stroke-linecap=\"round\" style=\"stroke:yellow;stroke-width:4\"/><line x1=\"400.0\" y1=\"137.5\" x2=\"400.0\" y2=\"150.0\" stroke-linecap=\"round\" style=\"stroke:yellow;stroke-width:4\"/><line x1=\"400.0\" y1=\"150.0\" x2=\"389.175\" y2=\"143.75\" stroke-linecap=\"round\" style=\"stroke:yellow;stroke-width:4\"/><line x1=\"389.175\" y1=\"143.75\" x2=\"389.175\" y2=\"131.25\" stroke-linecap=\"round\" style=\"stroke:yellow;stroke-width:4\"/><line x1=\"389.175\" y1=\"131.25\" x2=\"378.35\" y2=\"137.5\" stroke-linecap=\"round\" style=\"stroke:yellow;stroke-width:4\"/><line x1=\"378.35\" y1=\"137.5\" x2=\"389.175\" y2=\"143.75\" stroke-linecap=\"round\" style=\"stroke:yellow;stroke-width:4\"/><line x1=\"389.175\" y1=\"143.75\" x2=\"400.0\" y2=\"150.0\" stroke-linecap=\"round\" style=\"stroke:yellow;stroke-width:4\"/><line x1=\"400.0\" y1=\"150.0\" x2=\"400.0\" y2=\"125.0\" stroke-linecap=\"round\" style=\"stroke:yellow;stroke-width:4\"/><line x1=\"400.0\" y1=\"125.0\" x2=\"400.0\" y2=\"112.5\" stroke-linecap=\"round\" style=\"stroke:yellow;stroke-width:4\"/><line x1=\"400.0\" y1=\"112.5\" x2=\"389.175\" y2=\"118.75\" stroke-linecap=\"round\" style=\"stroke:yellow;stroke-width:4\"/><line x1=\"389.175\" y1=\"118.75\" x2=\"400.0\" y2=\"125.0\" stroke-linecap=\"round\" style=\"stroke:yellow;stroke-width:4\"/><line x1=\"400.0\" y1=\"125.0\" x2=\"400.0\" y2=\"112.5\" stroke-linecap=\"round\" style=\"stroke:yellow;stroke-width:4\"/><line x1=\"400.0\" y1=\"112.5\" x2=\"400.0\" y2=\"100.0\" stroke-linecap=\"round\" style=\"stroke:yellow;stroke-width:4\"/><line x1=\"400.0\" y1=\"100.0\" x2=\"389.175\" y2=\"106.25\" stroke-linecap=\"round\" style=\"stroke:yellow;stroke-width:4\"/><line x1=\"389.175\" y1=\"106.25\" x2=\"400.0\" y2=\"112.5\" stroke-linecap=\"round\" style=\"stroke:yellow;stroke-width:4\"/><line x1=\"400.0\" y1=\"112.5\" x2=\"400.0\" y2=\"125.0\" stroke-linecap=\"round\" style=\"stroke:yellow;stroke-width:4\"/><line x1=\"400.0\" y1=\"125.0\" x2=\"389.175\" y2=\"118.75\" stroke-linecap=\"round\" style=\"stroke:yellow;stroke-width:4\"/><line x1=\"389.175\" y1=\"118.75\" x2=\"389.175\" y2=\"106.25\" stroke-linecap=\"round\" style=\"stroke:yellow;stroke-width:4\"/><line x1=\"389.175\" y1=\"106.25\" x2=\"378.35\" y2=\"112.5\" stroke-linecap=\"round\" style=\"stroke:yellow;stroke-width:4\"/><line x1=\"378.35\" y1=\"112.5\" x2=\"389.175\" y2=\"118.75\" stroke-linecap=\"round\" style=\"stroke:yellow;stroke-width:4\"/><line x1=\"389.175\" y1=\"118.75\" x2=\"400.0\" y2=\"125.0\" stroke-linecap=\"round\" style=\"stroke:yellow;stroke-width:4\"/><line x1=\"400.0\" y1=\"125.0\" x2=\"400.0\" y2=\"150.0\" stroke-linecap=\"round\" style=\"stroke:yellow;stroke-width:4\"/><line x1=\"400.0\" y1=\"150.0\" x2=\"378.349\" y2=\"137.5\" stroke-linecap=\"round\" style=\"stroke:yellow;stroke-width:4\"/><line x1=\"378.349\" y1=\"137.5\" x2=\"378.349\" y2=\"125.0\" stroke-linecap=\"round\" style=\"stroke:yellow;stroke-width:4\"/><line x1=\"378.349\" y1=\"125.0\" x2=\"367.524\" y2=\"131.25\" stroke-linecap=\"round\" style=\"stroke:yellow;stroke-width:4\"/><line x1=\"367.524\" y1=\"131.25\" x2=\"378.349\" y2=\"137.5\" stroke-linecap=\"round\" style=\"stroke:yellow;stroke-width:4\"/><line x1=\"378.349\" y1=\"137.5\" x2=\"378.349\" y2=\"125.0\" stroke-linecap=\"round\" style=\"stroke:yellow;stroke-width:4\"/><line x1=\"378.349\" y1=\"125.0\" x2=\"378.349\" y2=\"112.5\" stroke-linecap=\"round\" style=\"stroke:yellow;stroke-width:4\"/><line x1=\"378.349\" y1=\"112.5\" x2=\"367.524\" y2=\"118.75\" stroke-linecap=\"round\" style=\"stroke:yellow;stroke-width:4\"/><line x1=\"367.524\" y1=\"118.75\" x2=\"378.349\" y2=\"125.0\" stroke-linecap=\"round\" style=\"stroke:yellow;stroke-width:4\"/><line x1=\"378.349\" y1=\"125.0\" x2=\"378.349\" y2=\"137.5\" stroke-linecap=\"round\" style=\"stroke:yellow;stroke-width:4\"/><line x1=\"378.349\" y1=\"137.5\" x2=\"367.524\" y2=\"131.25\" stroke-linecap=\"round\" style=\"stroke:yellow;stroke-width:4\"/><line x1=\"367.524\" y1=\"131.25\" x2=\"367.524\" y2=\"118.75\" stroke-linecap=\"round\" style=\"stroke:yellow;stroke-width:4\"/><line x1=\"367.524\" y1=\"118.75\" x2=\"356.699\" y2=\"125.0\" stroke-linecap=\"round\" style=\"stroke:yellow;stroke-width:4\"/><line x1=\"356.699\" y1=\"125.0\" x2=\"367.524\" y2=\"131.25\" stroke-linecap=\"round\" style=\"stroke:yellow;stroke-width:4\"/><line x1=\"367.524\" y1=\"131.25\" x2=\"378.349\" y2=\"137.5\" stroke-linecap=\"round\" style=\"stroke:yellow;stroke-width:4\"/><line x1=\"378.349\" y1=\"137.5\" x2=\"400.0\" y2=\"150.0\" stroke-linecap=\"round\" style=\"stroke:yellow;stroke-width:4\"/><line x1=\"400.0\" y1=\"150.0\" x2=\"400.0\" y2=\"100.0\" stroke-linecap=\"round\" style=\"stroke:yellow;stroke-width:4\"/><line x1=\"400.0\" y1=\"100.0\" x2=\"400.0\" y2=\"87.5\" stroke-linecap=\"round\" style=\"stroke:yellow;stroke-width:4\"/><line x1=\"400.0\" y1=\"87.5\" x2=\"389.175\" y2=\"93.75\" stroke-linecap=\"round\" style=\"stroke:yellow;stroke-width:4\"/><line x1=\"389.175\" y1=\"93.75\" x2=\"400.0\" y2=\"100.0\" stroke-linecap=\"round\" style=\"stroke:yellow;stroke-width:4\"/><line x1=\"400.0\" y1=\"100.0\" x2=\"400.0\" y2=\"87.5\" stroke-linecap=\"round\" style=\"stroke:yellow;stroke-width:4\"/><line x1=\"400.0\" y1=\"87.5\" x2=\"400.0\" y2=\"75.0\" stroke-linecap=\"round\" style=\"stroke:yellow;stroke-width:4\"/><line x1=\"400.0\" y1=\"75.0\" x2=\"389.175\" y2=\"81.25\" stroke-linecap=\"round\" style=\"stroke:yellow;stroke-width:4\"/><line x1=\"389.175\" y1=\"81.25\" x2=\"400.0\" y2=\"87.5\" stroke-linecap=\"round\" style=\"stroke:yellow;stroke-width:4\"/><line x1=\"400.0\" y1=\"87.5\" x2=\"400.0\" y2=\"100.0\" stroke-linecap=\"round\" style=\"stroke:yellow;stroke-width:4\"/><line x1=\"400.0\" y1=\"100.0\" x2=\"389.175\" y2=\"93.75\" stroke-linecap=\"round\" style=\"stroke:yellow;stroke-width:4\"/><line x1=\"389.175\" y1=\"93.75\" x2=\"389.175\" y2=\"81.25\" stroke-linecap=\"round\" style=\"stroke:yellow;stroke-width:4\"/><line x1=\"389.175\" y1=\"81.25\" x2=\"378.35\" y2=\"87.5\" stroke-linecap=\"round\" style=\"stroke:yellow;stroke-width:4\"/><line x1=\"378.35\" y1=\"87.5\" x2=\"389.175\" y2=\"93.75\" stroke-linecap=\"round\" style=\"stroke:yellow;stroke-width:4\"/><line x1=\"389.175\" y1=\"93.75\" x2=\"400.0\" y2=\"100.0\" stroke-linecap=\"round\" style=\"stroke:yellow;stroke-width:4\"/><line x1=\"400.0\" y1=\"100.0\" x2=\"400.0\" y2=\"75.0\" stroke-linecap=\"round\" style=\"stroke:yellow;stroke-width:4\"/><line x1=\"400.0\" y1=\"75.0\" x2=\"400.0\" y2=\"62.5\" stroke-linecap=\"round\" style=\"stroke:yellow;stroke-width:4\"/><line x1=\"400.0\" y1=\"62.5\" x2=\"389.175\" y2=\"68.75\" stroke-linecap=\"round\" style=\"stroke:yellow;stroke-width:4\"/><line x1=\"389.175\" y1=\"68.75\" x2=\"400.0\" y2=\"75.0\" stroke-linecap=\"round\" style=\"stroke:yellow;stroke-width:4\"/><line x1=\"400.0\" y1=\"75.0\" x2=\"400.0\" y2=\"62.5\" stroke-linecap=\"round\" style=\"stroke:yellow;stroke-width:4\"/><line x1=\"400.0\" y1=\"62.5\" x2=\"400.0\" y2=\"50.0\" stroke-linecap=\"round\" style=\"stroke:yellow;stroke-width:4\"/><line x1=\"400.0\" y1=\"50.0\" x2=\"389.175\" y2=\"56.25\" stroke-linecap=\"round\" style=\"stroke:yellow;stroke-width:4\"/><line x1=\"389.175\" y1=\"56.25\" x2=\"400.0\" y2=\"62.5\" stroke-linecap=\"round\" style=\"stroke:yellow;stroke-width:4\"/><line x1=\"400.0\" y1=\"62.5\" x2=\"400.0\" y2=\"75.0\" stroke-linecap=\"round\" style=\"stroke:yellow;stroke-width:4\"/><line x1=\"400.0\" y1=\"75.0\" x2=\"389.175\" y2=\"68.75\" stroke-linecap=\"round\" style=\"stroke:yellow;stroke-width:4\"/><line x1=\"389.175\" y1=\"68.75\" x2=\"389.175\" y2=\"56.25\" stroke-linecap=\"round\" style=\"stroke:yellow;stroke-width:4\"/><line x1=\"389.175\" y1=\"56.25\" x2=\"378.35\" y2=\"62.5\" stroke-linecap=\"round\" style=\"stroke:yellow;stroke-width:4\"/><line x1=\"378.35\" y1=\"62.5\" x2=\"389.175\" y2=\"68.75\" stroke-linecap=\"round\" style=\"stroke:yellow;stroke-width:4\"/><line x1=\"389.175\" y1=\"68.75\" x2=\"400.0\" y2=\"75.0\" stroke-linecap=\"round\" style=\"stroke:yellow;stroke-width:4\"/><line x1=\"400.0\" y1=\"75.0\" x2=\"400.0\" y2=\"100.0\" stroke-linecap=\"round\" style=\"stroke:yellow;stroke-width:4\"/><line x1=\"400.0\" y1=\"100.0\" x2=\"378.349\" y2=\"87.5\" stroke-linecap=\"round\" style=\"stroke:yellow;stroke-width:4\"/><line x1=\"378.349\" y1=\"87.5\" x2=\"378.349\" y2=\"75.0\" stroke-linecap=\"round\" style=\"stroke:yellow;stroke-width:4\"/><line x1=\"378.349\" y1=\"75.0\" x2=\"367.524\" y2=\"81.25\" stroke-linecap=\"round\" style=\"stroke:yellow;stroke-width:4\"/><line x1=\"367.524\" y1=\"81.25\" x2=\"378.349\" y2=\"87.5\" stroke-linecap=\"round\" style=\"stroke:yellow;stroke-width:4\"/><line x1=\"378.349\" y1=\"87.5\" x2=\"378.349\" y2=\"75.0\" stroke-linecap=\"round\" style=\"stroke:yellow;stroke-width:4\"/><line x1=\"378.349\" y1=\"75.0\" x2=\"378.349\" y2=\"62.5\" stroke-linecap=\"round\" style=\"stroke:yellow;stroke-width:4\"/><line x1=\"378.349\" y1=\"62.5\" x2=\"367.524\" y2=\"68.75\" stroke-linecap=\"round\" style=\"stroke:yellow;stroke-width:4\"/><line x1=\"367.524\" y1=\"68.75\" x2=\"378.349\" y2=\"75.0\" stroke-linecap=\"round\" style=\"stroke:yellow;stroke-width:4\"/><line x1=\"378.349\" y1=\"75.0\" x2=\"378.349\" y2=\"87.5\" stroke-linecap=\"round\" style=\"stroke:yellow;stroke-width:4\"/><line x1=\"378.349\" y1=\"87.5\" x2=\"367.524\" y2=\"81.25\" stroke-linecap=\"round\" style=\"stroke:yellow;stroke-width:4\"/><line x1=\"367.524\" y1=\"81.25\" x2=\"367.524\" y2=\"68.75\" stroke-linecap=\"round\" style=\"stroke:yellow;stroke-width:4\"/><line x1=\"367.524\" y1=\"68.75\" x2=\"356.699\" y2=\"75.0\" stroke-linecap=\"round\" style=\"stroke:yellow;stroke-width:4\"/><line x1=\"356.699\" y1=\"75.0\" x2=\"367.524\" y2=\"81.25\" stroke-linecap=\"round\" style=\"stroke:yellow;stroke-width:4\"/><line x1=\"367.524\" y1=\"81.25\" x2=\"378.349\" y2=\"87.5\" stroke-linecap=\"round\" style=\"stroke:yellow;stroke-width:4\"/><line x1=\"378.349\" y1=\"87.5\" x2=\"400.0\" y2=\"100.0\" stroke-linecap=\"round\" style=\"stroke:yellow;stroke-width:4\"/><line x1=\"400.0\" y1=\"100.0\" x2=\"400.0\" y2=\"150.0\" stroke-linecap=\"round\" style=\"stroke:yellow;stroke-width:4\"/><line x1=\"400.0\" y1=\"150.0\" x2=\"356.699\" y2=\"125.0\" stroke-linecap=\"round\" style=\"stroke:yellow;stroke-width:4\"/><line x1=\"356.699\" y1=\"125.0\" x2=\"356.699\" y2=\"112.5\" stroke-linecap=\"round\" style=\"stroke:yellow;stroke-width:4\"/><line x1=\"356.699\" y1=\"112.5\" x2=\"345.874\" y2=\"118.75\" stroke-linecap=\"round\" style=\"stroke:yellow;stroke-width:4\"/><line x1=\"345.874\" y1=\"118.75\" x2=\"356.699\" y2=\"125.0\" stroke-linecap=\"round\" style=\"stroke:yellow;stroke-width:4\"/><line x1=\"356.699\" y1=\"125.0\" x2=\"356.699\" y2=\"112.5\" stroke-linecap=\"round\" style=\"stroke:yellow;stroke-width:4\"/><line x1=\"356.699\" y1=\"112.5\" x2=\"356.699\" y2=\"100.0\" stroke-linecap=\"round\" style=\"stroke:yellow;stroke-width:4\"/><line x1=\"356.699\" y1=\"100.0\" x2=\"345.874\" y2=\"106.25\" stroke-linecap=\"round\" style=\"stroke:yellow;stroke-width:4\"/><line x1=\"345.874\" y1=\"106.25\" x2=\"356.699\" y2=\"112.5\" stroke-linecap=\"round\" style=\"stroke:yellow;stroke-width:4\"/><line x1=\"356.699\" y1=\"112.5\" x2=\"356.699\" y2=\"125.0\" stroke-linecap=\"round\" style=\"stroke:yellow;stroke-width:4\"/><line x1=\"356.699\" y1=\"125.0\" x2=\"345.874\" y2=\"118.75\" stroke-linecap=\"round\" style=\"stroke:yellow;stroke-width:4\"/><line x1=\"345.874\" y1=\"118.75\" x2=\"345.874\" y2=\"106.25\" stroke-linecap=\"round\" style=\"stroke:yellow;stroke-width:4\"/><line x1=\"345.874\" y1=\"106.25\" x2=\"335.049\" y2=\"112.5\" stroke-linecap=\"round\" style=\"stroke:yellow;stroke-width:4\"/><line x1=\"335.049\" y1=\"112.5\" x2=\"345.874\" y2=\"118.75\" stroke-linecap=\"round\" style=\"stroke:yellow;stroke-width:4\"/><line x1=\"345.874\" y1=\"118.75\" x2=\"356.699\" y2=\"125.0\" stroke-linecap=\"round\" style=\"stroke:yellow;stroke-width:4\"/><line x1=\"356.699\" y1=\"125.0\" x2=\"356.699\" y2=\"100.0\" stroke-linecap=\"round\" style=\"stroke:yellow;stroke-width:4\"/><line x1=\"356.699\" y1=\"100.0\" x2=\"356.699\" y2=\"87.5\" stroke-linecap=\"round\" style=\"stroke:yellow;stroke-width:4\"/><line x1=\"356.699\" y1=\"87.5\" x2=\"345.874\" y2=\"93.75\" stroke-linecap=\"round\" style=\"stroke:yellow;stroke-width:4\"/><line x1=\"345.874\" y1=\"93.75\" x2=\"356.699\" y2=\"100.0\" stroke-linecap=\"round\" style=\"stroke:yellow;stroke-width:4\"/><line x1=\"356.699\" y1=\"100.0\" x2=\"356.699\" y2=\"87.5\" stroke-linecap=\"round\" style=\"stroke:yellow;stroke-width:4\"/><line x1=\"356.699\" y1=\"87.5\" x2=\"356.699\" y2=\"75.0\" stroke-linecap=\"round\" style=\"stroke:yellow;stroke-width:4\"/><line x1=\"356.699\" y1=\"75.0\" x2=\"345.874\" y2=\"81.25\" stroke-linecap=\"round\" style=\"stroke:yellow;stroke-width:4\"/><line x1=\"345.874\" y1=\"81.25\" x2=\"356.699\" y2=\"87.5\" stroke-linecap=\"round\" style=\"stroke:yellow;stroke-width:4\"/><line x1=\"356.699\" y1=\"87.5\" x2=\"356.699\" y2=\"100.0\" stroke-linecap=\"round\" style=\"stroke:yellow;stroke-width:4\"/><line x1=\"356.699\" y1=\"100.0\" x2=\"345.874\" y2=\"93.75\" stroke-linecap=\"round\" style=\"stroke:yellow;stroke-width:4\"/><line x1=\"345.874\" y1=\"93.75\" x2=\"345.874\" y2=\"81.25\" stroke-linecap=\"round\" style=\"stroke:yellow;stroke-width:4\"/><line x1=\"345.874\" y1=\"81.25\" x2=\"335.049\" y2=\"87.5\" stroke-linecap=\"round\" style=\"stroke:yellow;stroke-width:4\"/><line x1=\"335.049\" y1=\"87.5\" x2=\"345.874\" y2=\"93.75\" stroke-linecap=\"round\" style=\"stroke:yellow;stroke-width:4\"/><line x1=\"345.874\" y1=\"93.75\" x2=\"356.699\" y2=\"100.0\" stroke-linecap=\"round\" style=\"stroke:yellow;stroke-width:4\"/><line x1=\"356.699\" y1=\"100.0\" x2=\"356.699\" y2=\"125.0\" stroke-linecap=\"round\" style=\"stroke:yellow;stroke-width:4\"/><line x1=\"356.699\" y1=\"125.0\" x2=\"335.048\" y2=\"112.5\" stroke-linecap=\"round\" style=\"stroke:yellow;stroke-width:4\"/><line x1=\"335.048\" y1=\"112.5\" x2=\"335.048\" y2=\"100.0\" stroke-linecap=\"round\" style=\"stroke:yellow;stroke-width:4\"/><line x1=\"335.048\" y1=\"100.0\" x2=\"324.223\" y2=\"106.25\" stroke-linecap=\"round\" style=\"stroke:yellow;stroke-width:4\"/><line x1=\"324.223\" y1=\"106.25\" x2=\"335.048\" y2=\"112.5\" stroke-linecap=\"round\" style=\"stroke:yellow;stroke-width:4\"/><line x1=\"335.048\" y1=\"112.5\" x2=\"335.048\" y2=\"100.0\" stroke-linecap=\"round\" style=\"stroke:yellow;stroke-width:4\"/><line x1=\"335.048\" y1=\"100.0\" x2=\"335.048\" y2=\"87.5\" stroke-linecap=\"round\" style=\"stroke:yellow;stroke-width:4\"/><line x1=\"335.048\" y1=\"87.5\" x2=\"324.223\" y2=\"93.75\" stroke-linecap=\"round\" style=\"stroke:yellow;stroke-width:4\"/><line x1=\"324.223\" y1=\"93.75\" x2=\"335.048\" y2=\"100.0\" stroke-linecap=\"round\" style=\"stroke:yellow;stroke-width:4\"/><line x1=\"335.048\" y1=\"100.0\" x2=\"335.048\" y2=\"112.5\" stroke-linecap=\"round\" style=\"stroke:yellow;stroke-width:4\"/><line x1=\"335.048\" y1=\"112.5\" x2=\"324.223\" y2=\"106.25\" stroke-linecap=\"round\" style=\"stroke:yellow;stroke-width:4\"/><line x1=\"324.223\" y1=\"106.25\" x2=\"324.223\" y2=\"93.75\" stroke-linecap=\"round\" style=\"stroke:yellow;stroke-width:4\"/><line x1=\"324.223\" y1=\"93.75\" x2=\"313.398\" y2=\"100.0\" stroke-linecap=\"round\" style=\"stroke:yellow;stroke-width:4\"/><line x1=\"313.398\" y1=\"100.0\" x2=\"324.223\" y2=\"106.25\" stroke-linecap=\"round\" style=\"stroke:yellow;stroke-width:4\"/><line x1=\"324.223\" y1=\"106.25\" x2=\"335.048\" y2=\"112.5\" stroke-linecap=\"round\" style=\"stroke:yellow;stroke-width:4\"/><line x1=\"335.048\" y1=\"112.5\" x2=\"356.699\" y2=\"125.0\" stroke-linecap=\"round\" style=\"stroke:yellow;stroke-width:4\"/><line x1=\"356.699\" y1=\"125.0\" x2=\"400.0\" y2=\"150.0\" stroke-linecap=\"round\" style=\"stroke:yellow;stroke-width:4\"/><line x1=\"400.0\" y1=\"150.0\" x2=\"400.0\" y2=\"250.0\" stroke-linecap=\"round\" style=\"stroke:yellow;stroke-width:4\"/><line x1=\"400.0\" y1=\"250.0\" x2=\"313.397\" y2=\"200.0\" stroke-linecap=\"round\" style=\"stroke:yellow;stroke-width:4\"/><line x1=\"313.397\" y1=\"200.0\" x2=\"313.397\" y2=\"187.5\" stroke-linecap=\"round\" style=\"stroke:yellow;stroke-width:4\"/><line x1=\"313.397\" y1=\"187.5\" x2=\"302.572\" y2=\"193.75\" stroke-linecap=\"round\" style=\"stroke:yellow;stroke-width:4\"/><line x1=\"302.572\" y1=\"193.75\" x2=\"313.397\" y2=\"200.0\" stroke-linecap=\"round\" style=\"stroke:yellow;stroke-width:4\"/><line x1=\"313.397\" y1=\"200.0\" x2=\"313.397\" y2=\"187.5\" stroke-linecap=\"round\" style=\"stroke:yellow;stroke-width:4\"/><line x1=\"313.397\" y1=\"187.5\" x2=\"313.397\" y2=\"175.0\" stroke-linecap=\"round\" style=\"stroke:yellow;stroke-width:4\"/><line x1=\"313.397\" y1=\"175.0\" x2=\"302.572\" y2=\"181.25\" stroke-linecap=\"round\" style=\"stroke:yellow;stroke-width:4\"/><line x1=\"302.572\" y1=\"181.25\" x2=\"313.397\" y2=\"187.5\" stroke-linecap=\"round\" style=\"stroke:yellow;stroke-width:4\"/><line x1=\"313.397\" y1=\"187.5\" x2=\"313.397\" y2=\"200.0\" stroke-linecap=\"round\" style=\"stroke:yellow;stroke-width:4\"/><line x1=\"313.397\" y1=\"200.0\" x2=\"302.572\" y2=\"193.75\" stroke-linecap=\"round\" style=\"stroke:yellow;stroke-width:4\"/><line x1=\"302.572\" y1=\"193.75\" x2=\"302.572\" y2=\"181.25\" stroke-linecap=\"round\" style=\"stroke:yellow;stroke-width:4\"/><line x1=\"302.572\" y1=\"181.25\" x2=\"291.747\" y2=\"187.5\" stroke-linecap=\"round\" style=\"stroke:yellow;stroke-width:4\"/><line x1=\"291.747\" y1=\"187.5\" x2=\"302.572\" y2=\"193.75\" stroke-linecap=\"round\" style=\"stroke:yellow;stroke-width:4\"/><line x1=\"302.572\" y1=\"193.75\" x2=\"313.397\" y2=\"200.0\" stroke-linecap=\"round\" style=\"stroke:yellow;stroke-width:4\"/><line x1=\"313.397\" y1=\"200.0\" x2=\"313.397\" y2=\"175.0\" stroke-linecap=\"round\" style=\"stroke:yellow;stroke-width:4\"/><line x1=\"313.397\" y1=\"175.0\" x2=\"313.397\" y2=\"162.5\" stroke-linecap=\"round\" style=\"stroke:yellow;stroke-width:4\"/><line x1=\"313.397\" y1=\"162.5\" x2=\"302.572\" y2=\"168.75\" stroke-linecap=\"round\" style=\"stroke:yellow;stroke-width:4\"/><line x1=\"302.572\" y1=\"168.75\" x2=\"313.397\" y2=\"175.0\" stroke-linecap=\"round\" style=\"stroke:yellow;stroke-width:4\"/><line x1=\"313.397\" y1=\"175.0\" x2=\"313.397\" y2=\"162.5\" stroke-linecap=\"round\" style=\"stroke:yellow;stroke-width:4\"/><line x1=\"313.397\" y1=\"162.5\" x2=\"313.397\" y2=\"150.0\" stroke-linecap=\"round\" style=\"stroke:yellow;stroke-width:4\"/><line x1=\"313.397\" y1=\"150.0\" x2=\"302.572\" y2=\"156.25\" stroke-linecap=\"round\" style=\"stroke:yellow;stroke-width:4\"/><line x1=\"302.572\" y1=\"156.25\" x2=\"313.397\" y2=\"162.5\" stroke-linecap=\"round\" style=\"stroke:yellow;stroke-width:4\"/><line x1=\"313.397\" y1=\"162.5\" x2=\"313.397\" y2=\"175.0\" stroke-linecap=\"round\" style=\"stroke:yellow;stroke-width:4\"/><line x1=\"313.397\" y1=\"175.0\" x2=\"302.572\" y2=\"168.75\" stroke-linecap=\"round\" style=\"stroke:yellow;stroke-width:4\"/><line x1=\"302.572\" y1=\"168.75\" x2=\"302.572\" y2=\"156.25\" stroke-linecap=\"round\" style=\"stroke:yellow;stroke-width:4\"/><line x1=\"302.572\" y1=\"156.25\" x2=\"291.747\" y2=\"162.5\" stroke-linecap=\"round\" style=\"stroke:yellow;stroke-width:4\"/><line x1=\"291.747\" y1=\"162.5\" x2=\"302.572\" y2=\"168.75\" stroke-linecap=\"round\" style=\"stroke:yellow;stroke-width:4\"/><line x1=\"302.572\" y1=\"168.75\" x2=\"313.397\" y2=\"175.0\" stroke-linecap=\"round\" style=\"stroke:yellow;stroke-width:4\"/><line x1=\"313.397\" y1=\"175.0\" x2=\"313.397\" y2=\"200.0\" stroke-linecap=\"round\" style=\"stroke:yellow;stroke-width:4\"/><line x1=\"313.397\" y1=\"200.0\" x2=\"291.746\" y2=\"187.5\" stroke-linecap=\"round\" style=\"stroke:yellow;stroke-width:4\"/><line x1=\"291.746\" y1=\"187.5\" x2=\"291.746\" y2=\"175.0\" stroke-linecap=\"round\" style=\"stroke:yellow;stroke-width:4\"/><line x1=\"291.746\" y1=\"175.0\" x2=\"280.921\" y2=\"181.25\" stroke-linecap=\"round\" style=\"stroke:yellow;stroke-width:4\"/><line x1=\"280.921\" y1=\"181.25\" x2=\"291.746\" y2=\"187.5\" stroke-linecap=\"round\" style=\"stroke:yellow;stroke-width:4\"/><line x1=\"291.746\" y1=\"187.5\" x2=\"291.746\" y2=\"175.0\" stroke-linecap=\"round\" style=\"stroke:yellow;stroke-width:4\"/><line x1=\"291.746\" y1=\"175.0\" x2=\"291.746\" y2=\"162.5\" stroke-linecap=\"round\" style=\"stroke:yellow;stroke-width:4\"/><line x1=\"291.746\" y1=\"162.5\" x2=\"280.921\" y2=\"168.75\" stroke-linecap=\"round\" style=\"stroke:yellow;stroke-width:4\"/><line x1=\"280.921\" y1=\"168.75\" x2=\"291.746\" y2=\"175.0\" stroke-linecap=\"round\" style=\"stroke:yellow;stroke-width:4\"/><line x1=\"291.746\" y1=\"175.0\" x2=\"291.746\" y2=\"187.5\" stroke-linecap=\"round\" style=\"stroke:yellow;stroke-width:4\"/><line x1=\"291.746\" y1=\"187.5\" x2=\"280.921\" y2=\"181.25\" stroke-linecap=\"round\" style=\"stroke:yellow;stroke-width:4\"/><line x1=\"280.921\" y1=\"181.25\" x2=\"280.921\" y2=\"168.75\" stroke-linecap=\"round\" style=\"stroke:yellow;stroke-width:4\"/><line x1=\"280.921\" y1=\"168.75\" x2=\"270.096\" y2=\"175.0\" stroke-linecap=\"round\" style=\"stroke:yellow;stroke-width:4\"/><line x1=\"270.096\" y1=\"175.0\" x2=\"280.921\" y2=\"181.25\" stroke-linecap=\"round\" style=\"stroke:yellow;stroke-width:4\"/><line x1=\"280.921\" y1=\"181.25\" x2=\"291.746\" y2=\"187.5\" stroke-linecap=\"round\" style=\"stroke:yellow;stroke-width:4\"/><line x1=\"291.746\" y1=\"187.5\" x2=\"313.397\" y2=\"200.0\" stroke-linecap=\"round\" style=\"stroke:yellow;stroke-width:4\"/><line x1=\"313.397\" y1=\"200.0\" x2=\"313.397\" y2=\"150.0\" stroke-linecap=\"round\" style=\"stroke:yellow;stroke-width:4\"/><line x1=\"313.397\" y1=\"150.0\" x2=\"313.397\" y2=\"137.5\" stroke-linecap=\"round\" style=\"stroke:yellow;stroke-width:4\"/><line x1=\"313.397\" y1=\"137.5\" x2=\"302.572\" y2=\"143.75\" stroke-linecap=\"round\" style=\"stroke:yellow;stroke-width:4\"/><line x1=\"302.572\" y1=\"143.75\" x2=\"313.397\" y2=\"150.0\" stroke-linecap=\"round\" style=\"stroke:yellow;stroke-width:4\"/><line x1=\"313.397\" y1=\"150.0\" x2=\"313.397\" y2=\"137.5\" stroke-linecap=\"round\" style=\"stroke:yellow;stroke-width:4\"/><line x1=\"313.397\" y1=\"137.5\" x2=\"313.397\" y2=\"125.0\" stroke-linecap=\"round\" style=\"stroke:yellow;stroke-width:4\"/><line x1=\"313.397\" y1=\"125.0\" x2=\"302.572\" y2=\"131.25\" stroke-linecap=\"round\" style=\"stroke:yellow;stroke-width:4\"/><line x1=\"302.572\" y1=\"131.25\" x2=\"313.397\" y2=\"137.5\" stroke-linecap=\"round\" style=\"stroke:yellow;stroke-width:4\"/><line x1=\"313.397\" y1=\"137.5\" x2=\"313.397\" y2=\"150.0\" stroke-linecap=\"round\" style=\"stroke:yellow;stroke-width:4\"/><line x1=\"313.397\" y1=\"150.0\" x2=\"302.572\" y2=\"143.75\" stroke-linecap=\"round\" style=\"stroke:yellow;stroke-width:4\"/><line x1=\"302.572\" y1=\"143.75\" x2=\"302.572\" y2=\"131.25\" stroke-linecap=\"round\" style=\"stroke:yellow;stroke-width:4\"/><line x1=\"302.572\" y1=\"131.25\" x2=\"291.747\" y2=\"137.5\" stroke-linecap=\"round\" style=\"stroke:yellow;stroke-width:4\"/><line x1=\"291.747\" y1=\"137.5\" x2=\"302.572\" y2=\"143.75\" stroke-linecap=\"round\" style=\"stroke:yellow;stroke-width:4\"/><line x1=\"302.572\" y1=\"143.75\" x2=\"313.397\" y2=\"150.0\" stroke-linecap=\"round\" style=\"stroke:yellow;stroke-width:4\"/><line x1=\"313.397\" y1=\"150.0\" x2=\"313.397\" y2=\"125.0\" stroke-linecap=\"round\" style=\"stroke:yellow;stroke-width:4\"/><line x1=\"313.397\" y1=\"125.0\" x2=\"313.397\" y2=\"112.5\" stroke-linecap=\"round\" style=\"stroke:yellow;stroke-width:4\"/><line x1=\"313.397\" y1=\"112.5\" x2=\"302.572\" y2=\"118.75\" stroke-linecap=\"round\" style=\"stroke:yellow;stroke-width:4\"/><line x1=\"302.572\" y1=\"118.75\" x2=\"313.397\" y2=\"125.0\" stroke-linecap=\"round\" style=\"stroke:yellow;stroke-width:4\"/><line x1=\"313.397\" y1=\"125.0\" x2=\"313.397\" y2=\"112.5\" stroke-linecap=\"round\" style=\"stroke:yellow;stroke-width:4\"/><line x1=\"313.397\" y1=\"112.5\" x2=\"313.397\" y2=\"100.0\" stroke-linecap=\"round\" style=\"stroke:yellow;stroke-width:4\"/><line x1=\"313.397\" y1=\"100.0\" x2=\"302.572\" y2=\"106.25\" stroke-linecap=\"round\" style=\"stroke:yellow;stroke-width:4\"/><line x1=\"302.572\" y1=\"106.25\" x2=\"313.397\" y2=\"112.5\" stroke-linecap=\"round\" style=\"stroke:yellow;stroke-width:4\"/><line x1=\"313.397\" y1=\"112.5\" x2=\"313.397\" y2=\"125.0\" stroke-linecap=\"round\" style=\"stroke:yellow;stroke-width:4\"/><line x1=\"313.397\" y1=\"125.0\" x2=\"302.572\" y2=\"118.75\" stroke-linecap=\"round\" style=\"stroke:yellow;stroke-width:4\"/><line x1=\"302.572\" y1=\"118.75\" x2=\"302.572\" y2=\"106.25\" stroke-linecap=\"round\" style=\"stroke:yellow;stroke-width:4\"/><line x1=\"302.572\" y1=\"106.25\" x2=\"291.747\" y2=\"112.5\" stroke-linecap=\"round\" style=\"stroke:yellow;stroke-width:4\"/><line x1=\"291.747\" y1=\"112.5\" x2=\"302.572\" y2=\"118.75\" stroke-linecap=\"round\" style=\"stroke:yellow;stroke-width:4\"/><line x1=\"302.572\" y1=\"118.75\" x2=\"313.397\" y2=\"125.0\" stroke-linecap=\"round\" style=\"stroke:yellow;stroke-width:4\"/><line x1=\"313.397\" y1=\"125.0\" x2=\"313.397\" y2=\"150.0\" stroke-linecap=\"round\" style=\"stroke:yellow;stroke-width:4\"/><line x1=\"313.397\" y1=\"150.0\" x2=\"291.746\" y2=\"137.5\" stroke-linecap=\"round\" style=\"stroke:yellow;stroke-width:4\"/><line x1=\"291.746\" y1=\"137.5\" x2=\"291.746\" y2=\"125.0\" stroke-linecap=\"round\" style=\"stroke:yellow;stroke-width:4\"/><line x1=\"291.746\" y1=\"125.0\" x2=\"280.921\" y2=\"131.25\" stroke-linecap=\"round\" style=\"stroke:yellow;stroke-width:4\"/><line x1=\"280.921\" y1=\"131.25\" x2=\"291.746\" y2=\"137.5\" stroke-linecap=\"round\" style=\"stroke:yellow;stroke-width:4\"/><line x1=\"291.746\" y1=\"137.5\" x2=\"291.746\" y2=\"125.0\" stroke-linecap=\"round\" style=\"stroke:yellow;stroke-width:4\"/><line x1=\"291.746\" y1=\"125.0\" x2=\"291.746\" y2=\"112.5\" stroke-linecap=\"round\" style=\"stroke:yellow;stroke-width:4\"/><line x1=\"291.746\" y1=\"112.5\" x2=\"280.921\" y2=\"118.75\" stroke-linecap=\"round\" style=\"stroke:yellow;stroke-width:4\"/><line x1=\"280.921\" y1=\"118.75\" x2=\"291.746\" y2=\"125.0\" stroke-linecap=\"round\" style=\"stroke:yellow;stroke-width:4\"/><line x1=\"291.746\" y1=\"125.0\" x2=\"291.746\" y2=\"137.5\" stroke-linecap=\"round\" style=\"stroke:yellow;stroke-width:4\"/><line x1=\"291.746\" y1=\"137.5\" x2=\"280.921\" y2=\"131.25\" stroke-linecap=\"round\" style=\"stroke:yellow;stroke-width:4\"/><line x1=\"280.921\" y1=\"131.25\" x2=\"280.921\" y2=\"118.75\" stroke-linecap=\"round\" style=\"stroke:yellow;stroke-width:4\"/><line x1=\"280.921\" y1=\"118.75\" x2=\"270.096\" y2=\"125.0\" stroke-linecap=\"round\" style=\"stroke:yellow;stroke-width:4\"/><line x1=\"270.096\" y1=\"125.0\" x2=\"280.921\" y2=\"131.25\" stroke-linecap=\"round\" style=\"stroke:yellow;stroke-width:4\"/><line x1=\"280.921\" y1=\"131.25\" x2=\"291.746\" y2=\"137.5\" stroke-linecap=\"round\" style=\"stroke:yellow;stroke-width:4\"/><line x1=\"291.746\" y1=\"137.5\" x2=\"313.397\" y2=\"150.0\" stroke-linecap=\"round\" style=\"stroke:yellow;stroke-width:4\"/><line x1=\"313.397\" y1=\"150.0\" x2=\"313.397\" y2=\"200.0\" stroke-linecap=\"round\" style=\"stroke:yellow;stroke-width:4\"/><line x1=\"313.397\" y1=\"200.0\" x2=\"270.096\" y2=\"175.0\" stroke-linecap=\"round\" style=\"stroke:yellow;stroke-width:4\"/><line x1=\"270.096\" y1=\"175.0\" x2=\"270.096\" y2=\"162.5\" stroke-linecap=\"round\" style=\"stroke:yellow;stroke-width:4\"/><line x1=\"270.096\" y1=\"162.5\" x2=\"259.271\" y2=\"168.75\" stroke-linecap=\"round\" style=\"stroke:yellow;stroke-width:4\"/><line x1=\"259.271\" y1=\"168.75\" x2=\"270.096\" y2=\"175.0\" stroke-linecap=\"round\" style=\"stroke:yellow;stroke-width:4\"/><line x1=\"270.096\" y1=\"175.0\" x2=\"270.096\" y2=\"162.5\" stroke-linecap=\"round\" style=\"stroke:yellow;stroke-width:4\"/><line x1=\"270.096\" y1=\"162.5\" x2=\"270.096\" y2=\"150.0\" stroke-linecap=\"round\" style=\"stroke:yellow;stroke-width:4\"/><line x1=\"270.096\" y1=\"150.0\" x2=\"259.271\" y2=\"156.25\" stroke-linecap=\"round\" style=\"stroke:yellow;stroke-width:4\"/><line x1=\"259.271\" y1=\"156.25\" x2=\"270.096\" y2=\"162.5\" stroke-linecap=\"round\" style=\"stroke:yellow;stroke-width:4\"/><line x1=\"270.096\" y1=\"162.5\" x2=\"270.096\" y2=\"175.0\" stroke-linecap=\"round\" style=\"stroke:yellow;stroke-width:4\"/><line x1=\"270.096\" y1=\"175.0\" x2=\"259.271\" y2=\"168.75\" stroke-linecap=\"round\" style=\"stroke:yellow;stroke-width:4\"/><line x1=\"259.271\" y1=\"168.75\" x2=\"259.271\" y2=\"156.25\" stroke-linecap=\"round\" style=\"stroke:yellow;stroke-width:4\"/><line x1=\"259.271\" y1=\"156.25\" x2=\"248.446\" y2=\"162.5\" stroke-linecap=\"round\" style=\"stroke:yellow;stroke-width:4\"/><line x1=\"248.446\" y1=\"162.5\" x2=\"259.271\" y2=\"168.75\" stroke-linecap=\"round\" style=\"stroke:yellow;stroke-width:4\"/><line x1=\"259.271\" y1=\"168.75\" x2=\"270.096\" y2=\"175.0\" stroke-linecap=\"round\" style=\"stroke:yellow;stroke-width:4\"/><line x1=\"270.096\" y1=\"175.0\" x2=\"270.096\" y2=\"150.0\" stroke-linecap=\"round\" style=\"stroke:yellow;stroke-width:4\"/><line x1=\"270.096\" y1=\"150.0\" x2=\"270.096\" y2=\"137.5\" stroke-linecap=\"round\" style=\"stroke:yellow;stroke-width:4\"/><line x1=\"270.096\" y1=\"137.5\" x2=\"259.271\" y2=\"143.75\" stroke-linecap=\"round\" style=\"stroke:yellow;stroke-width:4\"/><line x1=\"259.271\" y1=\"143.75\" x2=\"270.096\" y2=\"150.0\" stroke-linecap=\"round\" style=\"stroke:yellow;stroke-width:4\"/><line x1=\"270.096\" y1=\"150.0\" x2=\"270.096\" y2=\"137.5\" stroke-linecap=\"round\" style=\"stroke:yellow;stroke-width:4\"/><line x1=\"270.096\" y1=\"137.5\" x2=\"270.096\" y2=\"125.0\" stroke-linecap=\"round\" style=\"stroke:yellow;stroke-width:4\"/><line x1=\"270.096\" y1=\"125.0\" x2=\"259.271\" y2=\"131.25\" stroke-linecap=\"round\" style=\"stroke:yellow;stroke-width:4\"/><line x1=\"259.271\" y1=\"131.25\" x2=\"270.096\" y2=\"137.5\" stroke-linecap=\"round\" style=\"stroke:yellow;stroke-width:4\"/><line x1=\"270.096\" y1=\"137.5\" x2=\"270.096\" y2=\"150.0\" stroke-linecap=\"round\" style=\"stroke:yellow;stroke-width:4\"/><line x1=\"270.096\" y1=\"150.0\" x2=\"259.271\" y2=\"143.75\" stroke-linecap=\"round\" style=\"stroke:yellow;stroke-width:4\"/><line x1=\"259.271\" y1=\"143.75\" x2=\"259.271\" y2=\"131.25\" stroke-linecap=\"round\" style=\"stroke:yellow;stroke-width:4\"/><line x1=\"259.271\" y1=\"131.25\" x2=\"248.446\" y2=\"137.5\" stroke-linecap=\"round\" style=\"stroke:yellow;stroke-width:4\"/><line x1=\"248.446\" y1=\"137.5\" x2=\"259.271\" y2=\"143.75\" stroke-linecap=\"round\" style=\"stroke:yellow;stroke-width:4\"/><line x1=\"259.271\" y1=\"143.75\" x2=\"270.096\" y2=\"150.0\" stroke-linecap=\"round\" style=\"stroke:yellow;stroke-width:4\"/><line x1=\"270.096\" y1=\"150.0\" x2=\"270.096\" y2=\"175.0\" stroke-linecap=\"round\" style=\"stroke:yellow;stroke-width:4\"/><line x1=\"270.096\" y1=\"175.0\" x2=\"248.445\" y2=\"162.5\" stroke-linecap=\"round\" style=\"stroke:yellow;stroke-width:4\"/><line x1=\"248.445\" y1=\"162.5\" x2=\"248.445\" y2=\"150.0\" stroke-linecap=\"round\" style=\"stroke:yellow;stroke-width:4\"/><line x1=\"248.445\" y1=\"150.0\" x2=\"237.62\" y2=\"156.25\" stroke-linecap=\"round\" style=\"stroke:yellow;stroke-width:4\"/><line x1=\"237.62\" y1=\"156.25\" x2=\"248.445\" y2=\"162.5\" stroke-linecap=\"round\" style=\"stroke:yellow;stroke-width:4\"/><line x1=\"248.445\" y1=\"162.5\" x2=\"248.445\" y2=\"150.0\" stroke-linecap=\"round\" style=\"stroke:yellow;stroke-width:4\"/><line x1=\"248.445\" y1=\"150.0\" x2=\"248.445\" y2=\"137.5\" stroke-linecap=\"round\" style=\"stroke:yellow;stroke-width:4\"/><line x1=\"248.445\" y1=\"137.5\" x2=\"237.62\" y2=\"143.75\" stroke-linecap=\"round\" style=\"stroke:yellow;stroke-width:4\"/><line x1=\"237.62\" y1=\"143.75\" x2=\"248.445\" y2=\"150.0\" stroke-linecap=\"round\" style=\"stroke:yellow;stroke-width:4\"/><line x1=\"248.445\" y1=\"150.0\" x2=\"248.445\" y2=\"162.5\" stroke-linecap=\"round\" style=\"stroke:yellow;stroke-width:4\"/><line x1=\"248.445\" y1=\"162.5\" x2=\"237.62\" y2=\"156.25\" stroke-linecap=\"round\" style=\"stroke:yellow;stroke-width:4\"/><line x1=\"237.62\" y1=\"156.25\" x2=\"237.62\" y2=\"143.75\" stroke-linecap=\"round\" style=\"stroke:yellow;stroke-width:4\"/><line x1=\"237.62\" y1=\"143.75\" x2=\"226.795\" y2=\"150.0\" stroke-linecap=\"round\" style=\"stroke:yellow;stroke-width:4\"/><line x1=\"226.795\" y1=\"150.0\" x2=\"237.62\" y2=\"156.25\" stroke-linecap=\"round\" style=\"stroke:yellow;stroke-width:4\"/><line x1=\"237.62\" y1=\"156.25\" x2=\"248.445\" y2=\"162.5\" stroke-linecap=\"round\" style=\"stroke:yellow;stroke-width:4\"/><line x1=\"248.445\" y1=\"162.5\" x2=\"270.096\" y2=\"175.0\" stroke-linecap=\"round\" style=\"stroke:yellow;stroke-width:4\"/><line x1=\"270.096\" y1=\"175.0\" x2=\"313.397\" y2=\"200.0\" stroke-linecap=\"round\" style=\"stroke:yellow;stroke-width:4\"/><line x1=\"313.397\" y1=\"200.0\" x2=\"400.0\" y2=\"250.0\" stroke-linecap=\"round\" style=\"stroke:yellow;stroke-width:4\"/>\n",
              "        <g visibility=visible transform=\"rotate(360,400.0,250.0) translate(382.0, 232.0)\">\n",
              "<path style=\" stroke:none;fill-rule:evenodd;fill:yellow;fill-opacity:1;\" d=\"M 18.214844 0.632812 C 16.109375 1.800781 15.011719 4.074219 15.074219 7.132812 L 15.085938 7.652344 L 14.785156 7.496094 C 13.476562 6.824219 11.957031 6.671875 10.40625 7.066406 C 8.46875 7.550781 6.515625 9.15625 4.394531 11.992188 C 3.0625 13.777344 2.679688 14.636719 3.042969 15.027344 L 3.15625 15.152344 L 3.519531 15.152344 C 4.238281 15.152344 4.828125 14.886719 8.1875 13.039062 C 9.386719 12.378906 10.371094 11.839844 10.378906 11.839844 C 10.386719 11.839844 10.355469 11.929688 10.304688 12.035156 C 9.832031 13.09375 9.257812 14.820312 8.96875 16.078125 C 7.914062 20.652344 8.617188 24.53125 11.070312 27.660156 C 11.351562 28.015625 11.363281 27.914062 10.972656 28.382812 C 8.925781 30.84375 7.945312 33.28125 8.238281 35.1875 C 8.289062 35.527344 8.28125 35.523438 8.917969 35.523438 C 10.941406 35.523438 13.074219 34.207031 15.136719 31.6875 C 15.359375 31.417969 15.328125 31.425781 15.5625 31.574219 C 16.292969 32.042969 18.023438 32.964844 18.175781 32.964844 C 18.335938 32.964844 19.941406 32.210938 20.828125 31.71875 C 20.996094 31.625 21.136719 31.554688 21.136719 31.558594 C 21.203125 31.664062 21.898438 32.414062 22.222656 32.730469 C 23.835938 34.300781 25.5625 35.132812 27.582031 35.300781 C 27.90625 35.328125 27.9375 35.308594 28.007812 34.984375 C 28.382812 33.242188 27.625 30.925781 25.863281 28.425781 L 25.542969 27.96875 L 25.699219 27.785156 C 28.945312 23.960938 29.132812 18.699219 26.257812 11.96875 L 26.207031 11.84375 L 27.945312 12.703125 C 31.53125 14.476562 32.316406 14.800781 33.03125 14.800781 C 33.976562 14.800781 33.78125 13.9375 32.472656 12.292969 C 28.519531 7.355469 25.394531 5.925781 21.921875 7.472656 L 21.558594 7.636719 L 21.578125 7.542969 C 21.699219 6.992188 21.761719 5.742188 21.699219 5.164062 C 21.496094 3.296875 20.664062 1.964844 19.003906 0.855469 C 18.480469 0.503906 18.457031 0.5 18.214844 0.632812\"/>\n",
              "</g>\n",
              "      </svg>\n",
              "    "
            ]
          },
          "metadata": {}
        }
      ]
    },
    {
      "cell_type": "markdown",
      "source": [
        "#Let me try a star ~~!"
      ],
      "metadata": {
        "id": "clCYzWhic6jj"
      }
    },
    {
      "cell_type": "code",
      "source": [
        "from ColabTurtle.Turtle import *\n",
        "\n",
        "initializeTurtle()\n",
        "bgcolor(\"black\")\n",
        "color(\"yellow\")\n",
        "speed(3)\n",
        "\n",
        "star_size = 200  # Adjust the size of the star\n",
        "\n",
        "for _ in range(5):\n",
        "    forward(star_size)\n",
        "    right(144)\n"
      ],
      "metadata": {
        "colab": {
          "base_uri": "https://localhost:8080/",
          "height": 520
        },
        "id": "IdnsODHb0gR7",
        "outputId": "2f8d451b-1f58-43e3-ce17-cbe8631a4e3c"
      },
      "execution_count": 56,
      "outputs": [
        {
          "output_type": "display_data",
          "data": {
            "text/plain": [
              "<IPython.core.display.HTML object>"
            ],
            "text/html": [
              "\n",
              "      <svg width=\"800\" height=\"500\">\n",
              "        <rect width=\"100%\" height=\"100%\" fill=\"black\"/>\n",
              "        <line x1=\"400\" y1=\"250\" x2=\"400.0\" y2=\"50.0\" stroke-linecap=\"round\" style=\"stroke:yellow;stroke-width:4\"/><line x1=\"400.0\" y1=\"50.0\" x2=\"517.557\" y2=\"211.803\" stroke-linecap=\"round\" style=\"stroke:yellow;stroke-width:4\"/><line x1=\"517.557\" y1=\"211.803\" x2=\"327.346\" y2=\"150.0\" stroke-linecap=\"round\" style=\"stroke:yellow;stroke-width:4\"/><line x1=\"327.346\" y1=\"150.0\" x2=\"517.557\" y2=\"88.197\" stroke-linecap=\"round\" style=\"stroke:yellow;stroke-width:4\"/><line x1=\"517.557\" y1=\"88.197\" x2=\"400.0\" y2=\"250.0\" stroke-linecap=\"round\" style=\"stroke:yellow;stroke-width:4\"/>\n",
              "        <g visibility=visible transform=\"rotate(360,400.0,250.0) translate(382.0, 232.0)\">\n",
              "<path style=\" stroke:none;fill-rule:evenodd;fill:yellow;fill-opacity:1;\" d=\"M 18.214844 0.632812 C 16.109375 1.800781 15.011719 4.074219 15.074219 7.132812 L 15.085938 7.652344 L 14.785156 7.496094 C 13.476562 6.824219 11.957031 6.671875 10.40625 7.066406 C 8.46875 7.550781 6.515625 9.15625 4.394531 11.992188 C 3.0625 13.777344 2.679688 14.636719 3.042969 15.027344 L 3.15625 15.152344 L 3.519531 15.152344 C 4.238281 15.152344 4.828125 14.886719 8.1875 13.039062 C 9.386719 12.378906 10.371094 11.839844 10.378906 11.839844 C 10.386719 11.839844 10.355469 11.929688 10.304688 12.035156 C 9.832031 13.09375 9.257812 14.820312 8.96875 16.078125 C 7.914062 20.652344 8.617188 24.53125 11.070312 27.660156 C 11.351562 28.015625 11.363281 27.914062 10.972656 28.382812 C 8.925781 30.84375 7.945312 33.28125 8.238281 35.1875 C 8.289062 35.527344 8.28125 35.523438 8.917969 35.523438 C 10.941406 35.523438 13.074219 34.207031 15.136719 31.6875 C 15.359375 31.417969 15.328125 31.425781 15.5625 31.574219 C 16.292969 32.042969 18.023438 32.964844 18.175781 32.964844 C 18.335938 32.964844 19.941406 32.210938 20.828125 31.71875 C 20.996094 31.625 21.136719 31.554688 21.136719 31.558594 C 21.203125 31.664062 21.898438 32.414062 22.222656 32.730469 C 23.835938 34.300781 25.5625 35.132812 27.582031 35.300781 C 27.90625 35.328125 27.9375 35.308594 28.007812 34.984375 C 28.382812 33.242188 27.625 30.925781 25.863281 28.425781 L 25.542969 27.96875 L 25.699219 27.785156 C 28.945312 23.960938 29.132812 18.699219 26.257812 11.96875 L 26.207031 11.84375 L 27.945312 12.703125 C 31.53125 14.476562 32.316406 14.800781 33.03125 14.800781 C 33.976562 14.800781 33.78125 13.9375 32.472656 12.292969 C 28.519531 7.355469 25.394531 5.925781 21.921875 7.472656 L 21.558594 7.636719 L 21.578125 7.542969 C 21.699219 6.992188 21.761719 5.742188 21.699219 5.164062 C 21.496094 3.296875 20.664062 1.964844 19.003906 0.855469 C 18.480469 0.503906 18.457031 0.5 18.214844 0.632812\"/>\n",
              "</g>\n",
              "      </svg>\n",
              "    "
            ]
          },
          "metadata": {}
        }
      ]
    },
    {
      "cell_type": "code",
      "source": [
        "from ColabTurtle.Turtle import *\n",
        "\n",
        "initializeTurtle()\n",
        "bgcolor(\"black\")\n",
        "color(\"yellow\")\n",
        "speed(3)\n",
        "\n",
        "star_size = 200  # Adjust the size of the star\n",
        "conditions = [\"T\", \"T\", \"T\", \"T\", \"F\"]  # Conditions for each step\n",
        "\n",
        "for i in range(5):\n",
        "    user_input = input(f\"Condition {i+1} (T/F): \")\n",
        "    if user_input.upper() == conditions[i]:\n",
        "        forward(star_size)\n",
        "        right(144)\n",
        "\n",
        "\n",
        "if num_correct == 5:\n",
        "    print(\"Congratulations! You completed the star!\")\n",
        "else:\n",
        "    print(f\"You completed {num_correct} out of 5 steps. The star is incomplete.\")\n"
      ],
      "metadata": {
        "colab": {
          "base_uri": "https://localhost:8080/",
          "height": 630
        },
        "id": "kq6kYh8O6_Pg",
        "outputId": "e1a1d95f-599c-4a56-dd66-f4c0bc772fc0"
      },
      "execution_count": 31,
      "outputs": [
        {
          "output_type": "display_data",
          "data": {
            "text/plain": [
              "<IPython.core.display.HTML object>"
            ],
            "text/html": [
              "\n",
              "      <svg width=\"800\" height=\"500\">\n",
              "        <rect width=\"100%\" height=\"100%\" fill=\"black\"/>\n",
              "        <line x1=\"400\" y1=\"250\" x2=\"400.0\" y2=\"50.0\" stroke-linecap=\"round\" style=\"stroke:yellow;stroke-width:4\"/><line x1=\"400.0\" y1=\"50.0\" x2=\"517.557\" y2=\"211.803\" stroke-linecap=\"round\" style=\"stroke:yellow;stroke-width:4\"/><line x1=\"517.557\" y1=\"211.803\" x2=\"327.346\" y2=\"150.0\" stroke-linecap=\"round\" style=\"stroke:yellow;stroke-width:4\"/><line x1=\"327.346\" y1=\"150.0\" x2=\"517.557\" y2=\"88.197\" stroke-linecap=\"round\" style=\"stroke:yellow;stroke-width:4\"/>\n",
              "        <g visibility=visible transform=\"rotate(216,517.557,88.197) translate(499.557, 70.197)\">\n",
              "<path style=\" stroke:none;fill-rule:evenodd;fill:yellow;fill-opacity:1;\" d=\"M 18.214844 0.632812 C 16.109375 1.800781 15.011719 4.074219 15.074219 7.132812 L 15.085938 7.652344 L 14.785156 7.496094 C 13.476562 6.824219 11.957031 6.671875 10.40625 7.066406 C 8.46875 7.550781 6.515625 9.15625 4.394531 11.992188 C 3.0625 13.777344 2.679688 14.636719 3.042969 15.027344 L 3.15625 15.152344 L 3.519531 15.152344 C 4.238281 15.152344 4.828125 14.886719 8.1875 13.039062 C 9.386719 12.378906 10.371094 11.839844 10.378906 11.839844 C 10.386719 11.839844 10.355469 11.929688 10.304688 12.035156 C 9.832031 13.09375 9.257812 14.820312 8.96875 16.078125 C 7.914062 20.652344 8.617188 24.53125 11.070312 27.660156 C 11.351562 28.015625 11.363281 27.914062 10.972656 28.382812 C 8.925781 30.84375 7.945312 33.28125 8.238281 35.1875 C 8.289062 35.527344 8.28125 35.523438 8.917969 35.523438 C 10.941406 35.523438 13.074219 34.207031 15.136719 31.6875 C 15.359375 31.417969 15.328125 31.425781 15.5625 31.574219 C 16.292969 32.042969 18.023438 32.964844 18.175781 32.964844 C 18.335938 32.964844 19.941406 32.210938 20.828125 31.71875 C 20.996094 31.625 21.136719 31.554688 21.136719 31.558594 C 21.203125 31.664062 21.898438 32.414062 22.222656 32.730469 C 23.835938 34.300781 25.5625 35.132812 27.582031 35.300781 C 27.90625 35.328125 27.9375 35.308594 28.007812 34.984375 C 28.382812 33.242188 27.625 30.925781 25.863281 28.425781 L 25.542969 27.96875 L 25.699219 27.785156 C 28.945312 23.960938 29.132812 18.699219 26.257812 11.96875 L 26.207031 11.84375 L 27.945312 12.703125 C 31.53125 14.476562 32.316406 14.800781 33.03125 14.800781 C 33.976562 14.800781 33.78125 13.9375 32.472656 12.292969 C 28.519531 7.355469 25.394531 5.925781 21.921875 7.472656 L 21.558594 7.636719 L 21.578125 7.542969 C 21.699219 6.992188 21.761719 5.742188 21.699219 5.164062 C 21.496094 3.296875 20.664062 1.964844 19.003906 0.855469 C 18.480469 0.503906 18.457031 0.5 18.214844 0.632812\"/>\n",
              "</g>\n",
              "      </svg>\n",
              "    "
            ]
          },
          "metadata": {}
        },
        {
          "output_type": "stream",
          "name": "stdout",
          "text": [
            "Condition 1 (T/F): T\n",
            "Condition 2 (T/F): T\n",
            "Condition 3 (T/F): T\n",
            "Condition 4 (T/F): T\n",
            "Condition 5 (T/F): T\n",
            "Congratulations! You completed the star!\n"
          ]
        }
      ]
    },
    {
      "cell_type": "code",
      "source": [
        "from ColabTurtle.Turtle import *\n",
        "\n",
        "initializeTurtle()\n",
        "bgcolor(\"black\")\n",
        "color(\"yellow\")\n",
        "speed(3)\n",
        "\n",
        "star_size = 200  # Adjust the size of the star\n",
        "conditions = [\"O\", \"X\", \"O\", \"O\", \"X\"]  # Correct conditions for each step\n",
        "questions = [\n",
        "    \"Grammatical or not? O or X?: I felt guilty: \",\n",
        "    \"Grammatical or not? O or X?: My pants felt tightly: \",\n",
        "    \"Grammatical or not? O or X?: Unwilling to lay down the gun, the convict was shot dead by the police: \",\n",
        "    \"Grammatical or not? O or X?: My aunt's oldest son's daughter is a college student: \",\n",
        "    \"Grammatical or not? O or X?: I enjoy friend's houses: \"\n",
        "]  # Questions for each step\n",
        "\n",
        "for i in range(5):\n",
        "    user_input = input(questions[i])\n",
        "    if user_input.upper() == conditions[i]:\n",
        "        forward(star_size)\n",
        "        right(144)\n"
      ],
      "metadata": {
        "colab": {
          "base_uri": "https://localhost:8080/",
          "height": 611
        },
        "id": "qGxVsncw8xtj",
        "outputId": "1dd112a2-d1ee-45a5-d849-3696570f6108"
      },
      "execution_count": 32,
      "outputs": [
        {
          "output_type": "display_data",
          "data": {
            "text/plain": [
              "<IPython.core.display.HTML object>"
            ],
            "text/html": [
              "\n",
              "      <svg width=\"800\" height=\"500\">\n",
              "        <rect width=\"100%\" height=\"100%\" fill=\"black\"/>\n",
              "        <line x1=\"400\" y1=\"250\" x2=\"400.0\" y2=\"50.0\" stroke-linecap=\"round\" style=\"stroke:yellow;stroke-width:4\"/><line x1=\"400.0\" y1=\"50.0\" x2=\"517.557\" y2=\"211.803\" stroke-linecap=\"round\" style=\"stroke:yellow;stroke-width:4\"/><line x1=\"517.557\" y1=\"211.803\" x2=\"327.346\" y2=\"150.0\" stroke-linecap=\"round\" style=\"stroke:yellow;stroke-width:4\"/><line x1=\"327.346\" y1=\"150.0\" x2=\"517.557\" y2=\"88.197\" stroke-linecap=\"round\" style=\"stroke:yellow;stroke-width:4\"/><line x1=\"517.557\" y1=\"88.197\" x2=\"400.0\" y2=\"250.0\" stroke-linecap=\"round\" style=\"stroke:yellow;stroke-width:4\"/>\n",
              "        <g visibility=visible transform=\"rotate(360,400.0,250.0) translate(382.0, 232.0)\">\n",
              "<path style=\" stroke:none;fill-rule:evenodd;fill:yellow;fill-opacity:1;\" d=\"M 18.214844 0.632812 C 16.109375 1.800781 15.011719 4.074219 15.074219 7.132812 L 15.085938 7.652344 L 14.785156 7.496094 C 13.476562 6.824219 11.957031 6.671875 10.40625 7.066406 C 8.46875 7.550781 6.515625 9.15625 4.394531 11.992188 C 3.0625 13.777344 2.679688 14.636719 3.042969 15.027344 L 3.15625 15.152344 L 3.519531 15.152344 C 4.238281 15.152344 4.828125 14.886719 8.1875 13.039062 C 9.386719 12.378906 10.371094 11.839844 10.378906 11.839844 C 10.386719 11.839844 10.355469 11.929688 10.304688 12.035156 C 9.832031 13.09375 9.257812 14.820312 8.96875 16.078125 C 7.914062 20.652344 8.617188 24.53125 11.070312 27.660156 C 11.351562 28.015625 11.363281 27.914062 10.972656 28.382812 C 8.925781 30.84375 7.945312 33.28125 8.238281 35.1875 C 8.289062 35.527344 8.28125 35.523438 8.917969 35.523438 C 10.941406 35.523438 13.074219 34.207031 15.136719 31.6875 C 15.359375 31.417969 15.328125 31.425781 15.5625 31.574219 C 16.292969 32.042969 18.023438 32.964844 18.175781 32.964844 C 18.335938 32.964844 19.941406 32.210938 20.828125 31.71875 C 20.996094 31.625 21.136719 31.554688 21.136719 31.558594 C 21.203125 31.664062 21.898438 32.414062 22.222656 32.730469 C 23.835938 34.300781 25.5625 35.132812 27.582031 35.300781 C 27.90625 35.328125 27.9375 35.308594 28.007812 34.984375 C 28.382812 33.242188 27.625 30.925781 25.863281 28.425781 L 25.542969 27.96875 L 25.699219 27.785156 C 28.945312 23.960938 29.132812 18.699219 26.257812 11.96875 L 26.207031 11.84375 L 27.945312 12.703125 C 31.53125 14.476562 32.316406 14.800781 33.03125 14.800781 C 33.976562 14.800781 33.78125 13.9375 32.472656 12.292969 C 28.519531 7.355469 25.394531 5.925781 21.921875 7.472656 L 21.558594 7.636719 L 21.578125 7.542969 C 21.699219 6.992188 21.761719 5.742188 21.699219 5.164062 C 21.496094 3.296875 20.664062 1.964844 19.003906 0.855469 C 18.480469 0.503906 18.457031 0.5 18.214844 0.632812\"/>\n",
              "</g>\n",
              "      </svg>\n",
              "    "
            ]
          },
          "metadata": {}
        },
        {
          "name": "stdout",
          "output_type": "stream",
          "text": [
            "Grammatical or not? O or X?: I felt guilty: O\n",
            "Grammatical or not? O or X?: My pants felt tightly: X\n",
            "Grammatical or not? O or X?: Unwilling to lay down the gun, the convict was shot dead by the police: O\n",
            "Grammatical or not? O or X?: My aunt's oldest son's daughter is a college student: O\n",
            "Grammatical or not? O or X?: I enjoy friend's houses: X\n"
          ]
        }
      ]
    },
    {
      "cell_type": "code",
      "source": [
        "from ColabTurtle.Turtle import *\n",
        "\n",
        "initializeTurtle()\n",
        "bgcolor(\"black\")\n",
        "color(\"yellow\")\n",
        "speed(3)\n",
        "\n",
        "star_size = 200  # Adjust the size of the star\n",
        "conditions = [\"O\", \"X\", \"O\", \"O\", \"X\"]  # Correct conditions for each step\n",
        "questions = [\n",
        "    \"Grammatical or not? O or X?: I felt guilty: \",\n",
        "    \"Grammatical or not? O or X?: My pants felt tightly: \",\n",
        "    \"Grammatical or not? O or X?: Unwilling to lay down the gun, the convict was shot dead by the police: \",\n",
        "    \"Grammatical or not? O or X?: My aunt's oldest son's daughter is a college student: \",\n",
        "    \"Grammatical or not? O or X?: I enjoy friend's houses: \"\n",
        "]  # Questions for each step\n",
        "\n",
        "score = 0\n",
        "\n",
        "for i in range(5):\n",
        "    user_input = input(questions[i])\n",
        "    if user_input.upper() == conditions[i]:\n",
        "        forward(star_size)\n",
        "        right(144)\n",
        "        score += 1\n",
        "\n",
        "if score == 5:\n",
        "    print(\"Congratulations! You completed the star!\")\n",
        "else:\n",
        "    print(f\"You scored {score} out of 5. Give it another try!\")\n",
        "\n"
      ],
      "metadata": {
        "colab": {
          "base_uri": "https://localhost:8080/",
          "height": 630
        },
        "id": "Rr_Oam_O_nCI",
        "outputId": "065ddf83-bfc2-4642-d976-738e69221c63"
      },
      "execution_count": 34,
      "outputs": [
        {
          "output_type": "display_data",
          "data": {
            "text/plain": [
              "<IPython.core.display.HTML object>"
            ],
            "text/html": [
              "\n",
              "      <svg width=\"800\" height=\"500\">\n",
              "        <rect width=\"100%\" height=\"100%\" fill=\"black\"/>\n",
              "        <line x1=\"400\" y1=\"250\" x2=\"400.0\" y2=\"50.0\" stroke-linecap=\"round\" style=\"stroke:yellow;stroke-width:4\"/><line x1=\"400.0\" y1=\"50.0\" x2=\"517.557\" y2=\"211.803\" stroke-linecap=\"round\" style=\"stroke:yellow;stroke-width:4\"/><line x1=\"517.557\" y1=\"211.803\" x2=\"327.346\" y2=\"150.0\" stroke-linecap=\"round\" style=\"stroke:yellow;stroke-width:4\"/>\n",
              "        <g visibility=visible transform=\"rotate(432,327.346,150.0) translate(309.346, 132.0)\">\n",
              "<path style=\" stroke:none;fill-rule:evenodd;fill:yellow;fill-opacity:1;\" d=\"M 18.214844 0.632812 C 16.109375 1.800781 15.011719 4.074219 15.074219 7.132812 L 15.085938 7.652344 L 14.785156 7.496094 C 13.476562 6.824219 11.957031 6.671875 10.40625 7.066406 C 8.46875 7.550781 6.515625 9.15625 4.394531 11.992188 C 3.0625 13.777344 2.679688 14.636719 3.042969 15.027344 L 3.15625 15.152344 L 3.519531 15.152344 C 4.238281 15.152344 4.828125 14.886719 8.1875 13.039062 C 9.386719 12.378906 10.371094 11.839844 10.378906 11.839844 C 10.386719 11.839844 10.355469 11.929688 10.304688 12.035156 C 9.832031 13.09375 9.257812 14.820312 8.96875 16.078125 C 7.914062 20.652344 8.617188 24.53125 11.070312 27.660156 C 11.351562 28.015625 11.363281 27.914062 10.972656 28.382812 C 8.925781 30.84375 7.945312 33.28125 8.238281 35.1875 C 8.289062 35.527344 8.28125 35.523438 8.917969 35.523438 C 10.941406 35.523438 13.074219 34.207031 15.136719 31.6875 C 15.359375 31.417969 15.328125 31.425781 15.5625 31.574219 C 16.292969 32.042969 18.023438 32.964844 18.175781 32.964844 C 18.335938 32.964844 19.941406 32.210938 20.828125 31.71875 C 20.996094 31.625 21.136719 31.554688 21.136719 31.558594 C 21.203125 31.664062 21.898438 32.414062 22.222656 32.730469 C 23.835938 34.300781 25.5625 35.132812 27.582031 35.300781 C 27.90625 35.328125 27.9375 35.308594 28.007812 34.984375 C 28.382812 33.242188 27.625 30.925781 25.863281 28.425781 L 25.542969 27.96875 L 25.699219 27.785156 C 28.945312 23.960938 29.132812 18.699219 26.257812 11.96875 L 26.207031 11.84375 L 27.945312 12.703125 C 31.53125 14.476562 32.316406 14.800781 33.03125 14.800781 C 33.976562 14.800781 33.78125 13.9375 32.472656 12.292969 C 28.519531 7.355469 25.394531 5.925781 21.921875 7.472656 L 21.558594 7.636719 L 21.578125 7.542969 C 21.699219 6.992188 21.761719 5.742188 21.699219 5.164062 C 21.496094 3.296875 20.664062 1.964844 19.003906 0.855469 C 18.480469 0.503906 18.457031 0.5 18.214844 0.632812\"/>\n",
              "</g>\n",
              "      </svg>\n",
              "    "
            ]
          },
          "metadata": {}
        },
        {
          "output_type": "stream",
          "name": "stdout",
          "text": [
            "Grammatical or not? O or X?: I felt guilty: O\n",
            "Grammatical or not? O or X?: My pants felt tightly: O\n",
            "Grammatical or not? O or X?: Unwilling to lay down the gun, the convict was shot dead by the police: O\n",
            "Grammatical or not? O or X?: My aunt's oldest son's daughter is a college student: O\n",
            "Grammatical or not? O or X?: I enjoy friend's houses: O\n",
            "You scored 3 out of 5. Give it another try!\n"
          ]
        }
      ]
    },
    {
      "cell_type": "markdown",
      "source": [
        "# Another (maybe updated?)\n",
        "\n",
        "https://pypi.org/project/ColabTurtlePlus/"
      ],
      "metadata": {
        "id": "Rkd1AVVgUnLh"
      }
    },
    {
      "cell_type": "code",
      "source": [
        "!pip install ColabTurtlePlus\n",
        "from ColabTurtlePlus.Turtle import *"
      ],
      "metadata": {
        "colab": {
          "base_uri": "https://localhost:8080/"
        },
        "id": "QwKLGuavUo1R",
        "outputId": "104b38c7-e2c8-465e-dcc6-46f113c36248"
      },
      "execution_count": 45,
      "outputs": [
        {
          "output_type": "stream",
          "name": "stdout",
          "text": [
            "Looking in indexes: https://pypi.org/simple, https://us-python.pkg.dev/colab-wheels/public/simple/\n",
            "Collecting ColabTurtlePlus\n",
            "  Downloading ColabTurtlePlus-2.0.1-py3-none-any.whl (31 kB)\n",
            "Installing collected packages: ColabTurtlePlus\n",
            "Successfully installed ColabTurtlePlus-2.0.1\n",
            "Put clearscreen() as the first line in a cell (after the import command) to re-run turtle commands in the cell\n"
          ]
        }
      ]
    },
    {
      "cell_type": "code",
      "source": [
        "from ColabTurtlePlus.Turtle import *\n",
        "clearscreen()\n",
        "setup(300,300)\n",
        "showborder()\n",
        "color(\"red\", \"yellow\")\n",
        "shape(\"turtle\")\n",
        "pensize(2)\n",
        "speed(7)\n",
        "begin_fill()\n",
        "for _ in range(4):\n",
        "  forward(100)\n",
        "  left(90)\n",
        "circle(-50)\n",
        "end_fill()\n",
        "color(\"black\",\"green\")\n",
        "saveSVG(turtle=True)"
      ],
      "metadata": {
        "colab": {
          "base_uri": "https://localhost:8080/",
          "height": 320
        },
        "id": "jWE-fo1rUyCq",
        "outputId": "99842a34-7204-49b4-b460-0c540a6b599d"
      },
      "execution_count": 46,
      "outputs": [
        {
          "output_type": "display_data",
          "data": {
            "text/plain": [
              "<IPython.core.display.HTML object>"
            ],
            "text/html": [
              "\n",
              "      <svg width=\"300\" height=\"300\">  \n",
              "        <rect width=\"100%\" height=\"100%\" style=\"fill:white;stroke:gray;stroke-width:1\"/>\n",
              "        \n",
              "        \n",
              "        <path fill-rule=\"evenodd\" fill-opacity=\"1\" d=\"M 150.0 150.0  L 250.0 150.0  L 250.0 50.0  L 150.0 50.0  L 150.0 150.0  A -50 -50 0 0 1 150.0 250.0  A -50 -50 0 0 1 150.0 150.0 \" stroke-linecap=\"round\" style=\"stroke:red;stroke-width:2\" fill=\"yellow\" />\n",
              "        \n",
              "        \n",
              "        <g id=\"turtle\" visibility=\"visible\" transform=\"rotate(90.0,150.0,150.0) translate(150.0, 150.0)\">\n",
              "<path style=\"stroke:black;fill-rule:evenodd;fill:green;fill-opacity:1;\" transform=\"skewX(0) scale(1,1)\" d=\"m 1.1536693,-18.56101 c -2.105469,1.167969 -3.203125,3.441407 -3.140625,6.5 l 0.011719,0.519532 -0.300782,-0.15625 c -1.308594,-0.671875 -2.828125,-0.824219 -4.378906,-0.429688 -1.9375,0.484375 -3.8906253,2.089844 -6.0117193,4.9257825 -1.332031,1.785156 -1.714843,2.644531 -1.351562,3.035156 l 0.113281,0.125 h 0.363281 c 0.71875,0 1.308594,-0.265625 4.6679693,-2.113282 1.199219,-0.660156 2.183594,-1.199218 2.191406,-1.199218 0.00781,0 -0.023437,0.089844 -0.074218,0.195312 -0.472657,1.058594 -1.046876,2.785156 -1.335938,4.042969 -1.054688,4.574219 -0.351562,8.453125 2.101562,11.582031 0.28125,0.355469 0.292969,0.253906 -0.097656,0.722656 -2.046875,2.4609375 -3.027344,4.8984375 -2.734375,6.8046875 0.050781,0.339844 0.042969,0.335938 0.679688,0.335938 2.023437,0 4.15625,-1.316407 6.21875,-3.835938 0.222656,-0.269531 0.191406,-0.261719 0.425781,-0.113281 0.730469,0.46875 2.460938,1.390625 2.613281,1.390625 0.160157,0 1.765625,-0.753906 2.652344,-1.246094 0.167969,-0.09375 0.308594,-0.164062 0.308594,-0.160156 0.066406,0.105468 0.761719,0.855468 1.085937,1.171875 1.613282,1.570312 3.339844,2.402343 5.3593747,2.570312 0.324219,0.02734 0.355469,0.0078 0.425781,-0.316406 0.375,-1.742187 -0.382812,-4.058594 -2.1445307,-6.5585935 l -0.320312,-0.457031 0.15625,-0.183594 c 3.2460927,-3.824218 3.4335927,-9.08593704 0.558593,-15.816406 l -0.050781,-0.125 1.7382807,0.859375 c 3.585938,1.773437 4.371094,2.097656 5.085938,2.097656 0.945312,0 0.75,-0.863281 -0.558594,-2.507812 C 11.458356,-11.838353 8.3333563,-13.268041 4.8607003,-11.721166 l -0.363281,0.164063 0.019531,-0.09375 c 0.121094,-0.550781 0.183594,-1.800781 0.121094,-2.378907 -0.203125,-1.867187 -1.035157,-3.199218 -2.695313,-4.308593 -0.523437,-0.351563 -0.546875,-0.355469 -0.789062,-0.222657\" />\n",
              "</g>\n",
              "      </svg>\n",
              "    "
            ]
          },
          "metadata": {}
        }
      ]
    },
    {
      "cell_type": "code",
      "source": [
        "from ColabTurtlePlus.Turtle import *\n",
        "clearscreen()\n",
        "setup(500,300)\n",
        "T = Turtle()\n",
        "T.color('red', 'yellow')\n",
        "T.speed(13)\n",
        "T.width(1.5)\n",
        "S = T.clone()\n",
        "T.fillrule(\"evenodd\")\n",
        "S.fillrule(\"nonzero\")\n",
        "x0 = -225\n",
        "T.jumpto(x0,0)\n",
        "S.jumpto(25,0)\n",
        "T.begin_fill()\n",
        "S.begin_fill()\n",
        "while True:\n",
        "    T.forward(200)\n",
        "    T.left(170)\n",
        "    S.forward(200)\n",
        "    S.left(170)\n",
        "    if (T.getx()-x0)**2 + T.gety()**2 < 1:\n",
        "        break\n",
        "T.end_fill()\n",
        "S.end_fill()"
      ],
      "metadata": {
        "colab": {
          "base_uri": "https://localhost:8080/",
          "height": 320
        },
        "id": "LxArSwfMU5wL",
        "outputId": "a18a0889-7f41-4245-d21f-bd15ec1dddc5"
      },
      "execution_count": 47,
      "outputs": [
        {
          "output_type": "display_data",
          "data": {
            "text/plain": [
              "<IPython.core.display.HTML object>"
            ],
            "text/html": [
              "\n",
              "      <svg width=\"500\" height=\"300\">  \n",
              "        <rect width=\"100%\" height=\"100%\" style=\"fill:white;stroke:;stroke-width:1\"/>\n",
              "        \n",
              "        \n",
              "        <path fill-rule=\"evenodd\" fill-opacity=\"1\" d=\"M 25.0 150.0  L 225.0 150.0  L 28.038 115.27  L 215.977 183.674  L 42.772 83.674  L 195.981 212.232  L 67.423 59.023  L 167.423 232.228  L 99.019 44.289  L 133.749 241.251  L 133.749 41.251  L 99.019 238.213  L 167.423 50.274  L 67.423 223.479  L 195.981 70.27  L 42.772 198.828  L 215.977 98.828  L 28.038 167.232  L 225.0 132.502  L 25.0 132.502  L 221.962 167.232  L 34.023 98.828  L 207.228 198.828  L 54.019 70.27  L 182.577 223.479  L 82.577 50.274  L 150.981 238.213  L 116.251 41.251  L 116.251 241.251  L 150.981 44.289  L 82.577 232.228  L 182.577 59.023  L 54.019 212.232  L 207.228 83.674  L 34.023 183.674  L 221.962 115.27  L 25.0 150.0 \" stroke-linecap=\"round\" style=\"stroke:red;stroke-width:1.5\" fill=\"yellow\" /><path fill-rule=\"nonzero\" fill-opacity=\"1\" d=\"M 275.0 150.0  L 475.0 150.0  L 278.038 115.27  L 465.977 183.674  L 292.772 83.674  L 445.981 212.232  L 317.423 59.023  L 417.423 232.228  L 349.019 44.289  L 383.749 241.251  L 383.749 41.251  L 349.019 238.213  L 417.423 50.274  L 317.423 223.479  L 445.981 70.27  L 292.772 198.828  L 465.977 98.828  L 278.038 167.232  L 475.0 132.502  L 275.0 132.502  L 471.962 167.232  L 284.023 98.828  L 457.228 198.828  L 304.019 70.27  L 432.577 223.479  L 332.577 50.274  L 400.981 238.213  L 366.251 41.251  L 366.251 241.251  L 400.981 44.289  L 332.577 232.228  L 432.577 59.023  L 304.019 212.232  L 457.228 83.674  L 284.023 183.674  L 471.962 115.27  L 275.0 150.0 \" stroke-linecap=\"round\" style=\"stroke:red;stroke-width:1.5\" fill=\"yellow\" />\n",
              "        \n",
              "        \n",
              "        <g id=\"classic\" visibility=\"visible\" transform=\"rotate(-90,25.0,150.0) translate(25.0, 150.0)\">\n",
              "<polygon points=\"-5,-4.5 0,-2.5 5,-4.5 0,4.5\" transform=\"skewX(0) scale(1,1)\" style=\"stroke:red;fill:yellow;stroke-width:1\" />\n",
              "</g><g id=\"classic\" visibility=\"visible\" transform=\"rotate(-90,275.0,150.0) translate(275.0, 150.0)\">\n",
              "<polygon points=\"-5,-4.5 0,-2.5 5,-4.5 0,4.5\" transform=\"skewX(0.0) scale(1,1)\" style=\"stroke:red;fill:yellow;stroke-width:1\" />\n",
              "</g>\n",
              "      </svg>\n",
              "    "
            ]
          },
          "metadata": {}
        }
      ]
    }
  ]
}