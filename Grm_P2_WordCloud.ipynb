{
  "nbformat": 4,
  "nbformat_minor": 0,
  "metadata": {
    "colab": {
      "provenance": [],
      "authorship_tag": "ABX9TyM0q5RGirN06fUd5N/fTS6S",
      "include_colab_link": true
    },
    "kernelspec": {
      "name": "python3",
      "display_name": "Python 3"
    },
    "language_info": {
      "name": "python"
    }
  },
  "cells": [
    {
      "cell_type": "markdown",
      "metadata": {
        "id": "view-in-github",
        "colab_type": "text"
      },
      "source": [
        "<a href=\"https://colab.research.google.com/github/jyoon0319/2023S/blob/main/Grm_P2_WordCloud.ipynb\" target=\"_parent\"><img src=\"https://colab.research.google.com/assets/colab-badge.svg\" alt=\"Open In Colab\"/></a>"
      ]
    },
    {
      "cell_type": "markdown",
      "source": [
        "# [Project2] Word Cloud of POS"
      ],
      "metadata": {
        "id": "1xyn838mBkUT"
      }
    },
    {
      "cell_type": "markdown",
      "source": [
        "## 1. Prepare a text."
      ],
      "metadata": {
        "id": "NJaoAQydBwwq"
      }
    },
    {
      "cell_type": "code",
      "execution_count": 1,
      "metadata": {
        "colab": {
          "base_uri": "https://localhost:8080/"
        },
        "id": "AQ7qLw4DBFVC",
        "outputId": "a7cfeaab-4712-4bb0-890b-64fb527d31f3"
      },
      "outputs": [
        {
          "output_type": "stream",
          "name": "stderr",
          "text": [
            "[nltk_data] Downloading package gutenberg to /root/nltk_data...\n",
            "[nltk_data]   Unzipping corpora/gutenberg.zip.\n"
          ]
        },
        {
          "output_type": "stream",
          "name": "stdout",
          "text": [
            "['austen-emma.txt', 'austen-persuasion.txt', 'austen-sense.txt', 'bible-kjv.txt', 'blake-poems.txt', 'bryant-stories.txt', 'burgess-busterbrown.txt', 'carroll-alice.txt', 'chesterton-ball.txt', 'chesterton-brown.txt', 'chesterton-thursday.txt', 'edgeworth-parents.txt', 'melville-moby_dick.txt', 'milton-paradise.txt', 'shakespeare-caesar.txt', 'shakespeare-hamlet.txt', 'shakespeare-macbeth.txt', 'whitman-leaves.txt']\n"
          ]
        }
      ],
      "source": [
        "import nltk\n",
        "nltk.download('gutenberg')\n",
        "\n",
        "from nltk.corpus import gutenberg\n",
        "file_names = gutenberg.fileids() #파일 제목을 읽어온다.\n",
        "print(file_names)"
      ]
    },
    {
      "cell_type": "markdown",
      "source": [
        "## 2. Select a file from Gutenberg corpus or your own's."
      ],
      "metadata": {
        "id": "RDf9hTxSBPIz"
      }
    },
    {
      "cell_type": "code",
      "source": [],
      "metadata": {
        "id": "hRYfI7o7B49E"
      },
      "execution_count": null,
      "outputs": []
    },
    {
      "cell_type": "markdown",
      "source": [
        "## 3. Create a word cloud of the file (based on the frequent words of the raw file)"
      ],
      "metadata": {
        "id": "nLbV_e_5B6Z1"
      }
    },
    {
      "cell_type": "code",
      "source": [],
      "metadata": {
        "id": "my7EyUG-CN1G"
      },
      "execution_count": null,
      "outputs": []
    },
    {
      "cell_type": "markdown",
      "source": [
        "## 4. Select a tag which belongs to open classes and create a word cloud"
      ],
      "metadata": {
        "id": "d5Ea0pecCOfr"
      }
    },
    {
      "cell_type": "code",
      "source": [],
      "metadata": {
        "id": "8oDuzD_kCj2j"
      },
      "execution_count": null,
      "outputs": []
    },
    {
      "cell_type": "markdown",
      "source": [
        "## 5. Select a tag which belongs to closed classes and create a word cloud."
      ],
      "metadata": {
        "id": "gifN4QdHDJgo"
      }
    },
    {
      "cell_type": "code",
      "source": [],
      "metadata": {
        "id": "AJOEN8GlDw4H"
      },
      "execution_count": null,
      "outputs": []
    },
    {
      "cell_type": "markdown",
      "source": [],
      "metadata": {
        "id": "9OspVDJ4Ckj5"
      }
    },
    {
      "cell_type": "markdown",
      "source": [
        "# Or compare two texts!"
      ],
      "metadata": {
        "id": "6pFmnE1KEbgF"
      }
    },
    {
      "cell_type": "markdown",
      "source": [
        "## 1. Prepare texts."
      ],
      "metadata": {
        "id": "PIExFn7VEgXk"
      }
    },
    {
      "cell_type": "markdown",
      "source": [
        "## 2. Select two texts."
      ],
      "metadata": {
        "id": "6z3Xh5J0Ennb"
      }
    },
    {
      "cell_type": "markdown",
      "source": [
        "## 3. Create a word cloud of each text."
      ],
      "metadata": {
        "id": "ET-MO8eZErtt"
      }
    },
    {
      "cell_type": "markdown",
      "source": [
        "## 4. Select tags which belong to open classes and create a word cloud of each text."
      ],
      "metadata": {
        "id": "8_ejMWH6E28_"
      }
    },
    {
      "cell_type": "markdown",
      "source": [
        "5. Create top 20 high frequency word of each text."
      ],
      "metadata": {
        "id": "c8mtucxCF9qB"
      }
    }
  ]
}