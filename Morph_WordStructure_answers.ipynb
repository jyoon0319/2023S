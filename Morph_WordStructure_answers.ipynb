{
  "nbformat": 4,
  "nbformat_minor": 0,
  "metadata": {
    "colab": {
      "provenance": [],
      "authorship_tag": "ABX9TyNi5z/ACN3ecfEgiUcR+/dp",
      "include_colab_link": true
    },
    "kernelspec": {
      "name": "python3",
      "display_name": "Python 3"
    },
    "language_info": {
      "name": "python"
    }
  },
  "cells": [
    {
      "cell_type": "markdown",
      "metadata": {
        "id": "view-in-github",
        "colab_type": "text"
      },
      "source": [
        "<a href=\"https://colab.research.google.com/github/jyoon0319/2023S/blob/main/Morph_WordStructure_answers.ipynb\" target=\"_parent\"><img src=\"https://colab.research.google.com/assets/colab-badge.svg\" alt=\"Open In Colab\"/></a>"
      ]
    },
    {
      "cell_type": "markdown",
      "source": [
        "# Morphology - Word Structure"
      ],
      "metadata": {
        "id": "fd2xbsY3I80I"
      }
    },
    {
      "cell_type": "markdown",
      "source": [
        "#1. svgling package"
      ],
      "metadata": {
        "id": "9pUXdZO1I7Sg"
      }
    },
    {
      "cell_type": "code",
      "source": [
        "#Install the package\n",
        "!pip install svgling\n",
        "\n",
        "import svgling\n",
        "from svgling.figure import Caption, SideBySide, RowByRow"
      ],
      "metadata": {
        "colab": {
          "base_uri": "https://localhost:8080/"
        },
        "id": "ll63HAlD23lV",
        "outputId": "bfe22580-6003-4b58-efc4-e96a53e00f4c"
      },
      "execution_count": 1,
      "outputs": [
        {
          "output_type": "stream",
          "name": "stdout",
          "text": [
            "Looking in indexes: https://pypi.org/simple, https://us-python.pkg.dev/colab-wheels/public/simple/\n",
            "Collecting svgling\n",
            "  Downloading svgling-0.3.1-py3-none-any.whl (21 kB)\n",
            "Collecting svgwrite\n",
            "  Downloading svgwrite-1.4.3-py3-none-any.whl (67 kB)\n",
            "\u001b[2K     \u001b[90m━━━━━━━━━━━━━━━━━━━━━━━━━━━━━━━━━━━━━━━━\u001b[0m \u001b[32m67.1/67.1 KB\u001b[0m \u001b[31m2.7 MB/s\u001b[0m eta \u001b[36m0:00:00\u001b[0m\n",
            "\u001b[?25hInstalling collected packages: svgwrite, svgling\n",
            "Successfully installed svgling-0.3.1 svgwrite-1.4.3\n"
          ]
        }
      ]
    },
    {
      "cell_type": "markdown",
      "source": [
        "## Nodes and branching"
      ],
      "metadata": {
        "id": "T2ldZR6o3OyZ"
      }
    },
    {
      "cell_type": "code",
      "source": [
        "#@markdown Show flat structure with nodes\n",
        "mystr0 = (\"top\", \"node1\", \"node2\", \"node3\")\n",
        "out1 = svgling.draw_tree(mystr0)\n",
        "\n",
        "mystr0 = (\"mother\", \"daughter\", \"daughter\", \"daughter\")\n",
        "out2 = svgling.draw_tree(mystr0)\n",
        "\n",
        "mystr0 = (\"word\", \"morph1\", \"morph2\", \"morph3\")\n",
        "out3 = svgling.draw_tree(mystr0)\n",
        "\n",
        "Caption(SideBySide(out1,out2,out3), \"Fig.1a Branches and nodes. Fig.1b Mother and daughter nodes. Fig.1c a three-morpheme word\")"
      ],
      "metadata": {
        "colab": {
          "base_uri": "https://localhost:8080/",
          "height": 124
        },
        "id": "dq3VTF4u3ONm",
        "outputId": "4e042fb2-751c-4976-d267-475d16ba1f9b"
      },
      "execution_count": null,
      "outputs": [
        {
          "output_type": "execute_result",
          "data": {
            "text/plain": [
              "<svgling.figure.Caption at 0x7f7a8aab4b50>"
            ],
            "image/svg+xml": "<svg baseProfile=\"full\" height=\"104.5px\" preserveAspectRatio=\"xMidYMid meet\" version=\"1.1\" viewBox=\"0,0,664.0,104.5\" width=\"664px\" xmlns=\"http://www.w3.org/2000/svg\" xmlns:ev=\"http://www.w3.org/2001/xml-events\" xmlns:xlink=\"http://www.w3.org/1999/xlink\"><defs /><svg height=\"72.0\" width=\"664.0\" x=\"0\" y=\"0\"><defs /><svg baseProfile=\"full\" height=\"72px\" preserveAspectRatio=\"xMidYMid meet\" version=\"1.1\" viewBox=\"0,0,664.0,72.0\" width=\"664px\" xmlns=\"http://www.w3.org/2000/svg\" xmlns:ev=\"http://www.w3.org/2001/xml-events\" xmlns:xlink=\"http://www.w3.org/1999/xlink\"><defs /><svg height=\"72.0\" width=\"168.0\" x=\"16\" y=\"0\"><defs /><svg baseProfile=\"full\" height=\"72px\" preserveAspectRatio=\"xMidYMid meet\" style=\"font-family: times, serif; font-weight:normal; font-style: normal; font-size: 16px;\" version=\"1.1\" viewBox=\"0,0,168.0,72.0\" width=\"168px\" xmlns=\"http://www.w3.org/2000/svg\" xmlns:ev=\"http://www.w3.org/2001/xml-events\" xmlns:xlink=\"http://www.w3.org/1999/xlink\"><defs /><svg width=\"100%\" x=\"0\" y=\"0em\"><defs /><text text-anchor=\"middle\" x=\"50%\" y=\"1em\">top</text></svg><svg width=\"33.3333%\" x=\"0%\" y=\"3em\"><defs /><svg width=\"100%\" x=\"0\" y=\"0em\"><defs /><text text-anchor=\"middle\" x=\"50%\" y=\"1em\">node1</text></svg></svg><line stroke=\"black\" x1=\"50%\" x2=\"16.6667%\" y1=\"1.2em\" y2=\"3em\" /><svg width=\"33.3333%\" x=\"33.3333%\" y=\"3em\"><defs /><svg width=\"100%\" x=\"0\" y=\"0em\"><defs /><text text-anchor=\"middle\" x=\"50%\" y=\"1em\">node2</text></svg></svg><line stroke=\"black\" x1=\"50%\" x2=\"50%\" y1=\"1.2em\" y2=\"3em\" /><svg width=\"33.3333%\" x=\"66.6667%\" y=\"3em\"><defs /><svg width=\"100%\" x=\"0\" y=\"0em\"><defs /><text text-anchor=\"middle\" x=\"50%\" y=\"1em\">node3</text></svg></svg><line stroke=\"black\" x1=\"50%\" x2=\"83.3333%\" y1=\"1.2em\" y2=\"3em\" /></svg></svg><svg height=\"72.0\" width=\"240.0\" x=\"200.0\" y=\"0\"><defs /><svg baseProfile=\"full\" height=\"72px\" preserveAspectRatio=\"xMidYMid meet\" style=\"font-family: times, serif; font-weight:normal; font-style: normal; font-size: 16px;\" version=\"1.1\" viewBox=\"0,0,240.0,72.0\" width=\"240px\" xmlns=\"http://www.w3.org/2000/svg\" xmlns:ev=\"http://www.w3.org/2001/xml-events\" xmlns:xlink=\"http://www.w3.org/1999/xlink\"><defs /><svg width=\"100%\" x=\"0\" y=\"0em\"><defs /><text text-anchor=\"middle\" x=\"50%\" y=\"1em\">mother</text></svg><svg width=\"33.3333%\" x=\"0%\" y=\"3em\"><defs /><svg width=\"100%\" x=\"0\" y=\"0em\"><defs /><text text-anchor=\"middle\" x=\"50%\" y=\"1em\">daughter</text></svg></svg><line stroke=\"black\" x1=\"50%\" x2=\"16.6667%\" y1=\"1.2em\" y2=\"3em\" /><svg width=\"33.3333%\" x=\"33.3333%\" y=\"3em\"><defs /><svg width=\"100%\" x=\"0\" y=\"0em\"><defs /><text text-anchor=\"middle\" x=\"50%\" y=\"1em\">daughter</text></svg></svg><line stroke=\"black\" x1=\"50%\" x2=\"50%\" y1=\"1.2em\" y2=\"3em\" /><svg width=\"33.3333%\" x=\"66.6667%\" y=\"3em\"><defs /><svg width=\"100%\" x=\"0\" y=\"0em\"><defs /><text text-anchor=\"middle\" x=\"50%\" y=\"1em\">daughter</text></svg></svg><line stroke=\"black\" x1=\"50%\" x2=\"83.3333%\" y1=\"1.2em\" y2=\"3em\" /></svg></svg><svg height=\"72.0\" width=\"192.0\" x=\"456.0\" y=\"0\"><defs /><svg baseProfile=\"full\" height=\"72px\" preserveAspectRatio=\"xMidYMid meet\" style=\"font-family: times, serif; font-weight:normal; font-style: normal; font-size: 16px;\" version=\"1.1\" viewBox=\"0,0,192.0,72.0\" width=\"192px\" xmlns=\"http://www.w3.org/2000/svg\" xmlns:ev=\"http://www.w3.org/2001/xml-events\" xmlns:xlink=\"http://www.w3.org/1999/xlink\"><defs /><svg width=\"100%\" x=\"0\" y=\"0em\"><defs /><text text-anchor=\"middle\" x=\"50%\" y=\"1em\">word</text></svg><svg width=\"33.3333%\" x=\"0%\" y=\"3em\"><defs /><svg width=\"100%\" x=\"0\" y=\"0em\"><defs /><text text-anchor=\"middle\" x=\"50%\" y=\"1em\">morph1</text></svg></svg><line stroke=\"black\" x1=\"50%\" x2=\"16.6667%\" y1=\"1.2em\" y2=\"3em\" /><svg width=\"33.3333%\" x=\"33.3333%\" y=\"3em\"><defs /><svg width=\"100%\" x=\"0\" y=\"0em\"><defs /><text text-anchor=\"middle\" x=\"50%\" y=\"1em\">morph2</text></svg></svg><line stroke=\"black\" x1=\"50%\" x2=\"50%\" y1=\"1.2em\" y2=\"3em\" /><svg width=\"33.3333%\" x=\"66.6667%\" y=\"3em\"><defs /><svg width=\"100%\" x=\"0\" y=\"0em\"><defs /><text text-anchor=\"middle\" x=\"50%\" y=\"1em\">morph3</text></svg></svg><line stroke=\"black\" x1=\"50%\" x2=\"83.3333%\" y1=\"1.2em\" y2=\"3em\" /></svg></svg></svg></svg><svg height=\"100%\" width=\"100%\" x=\"0\" y=\"78.5\"><defs /><text style=\"font-family: times, serif; font-weight:normal; font-style: italic; font-size: 13px;\" text-anchor=\"middle\" x=\"50%\" y=\"1em\">Fig.1a Branches and nodes. Fig.1b Mother and daughter nodes. Fig.1c a three-morpheme word</text></svg></svg>"
          },
          "metadata": {},
          "execution_count": 2
        }
      ]
    },
    {
      "cell_type": "markdown",
      "source": [
        "## [Practice] Show structures of two-morpheme words.\n",
        "  friendly, untie, redo, joyful, amused, invention, books"
      ],
      "metadata": {
        "id": "lYSe4D1D4V1O"
      }
    },
    {
      "cell_type": "code",
      "source": [
        "mystr0 = (\"friendly(Adj)\", \"N\\nfriend\", \"-ly\")\n",
        "svgling.draw_tree(mystr0)"
      ],
      "metadata": {
        "id": "E6x3r9fa5J0e",
        "outputId": "5db1afde-d937-4422-ca1b-4cd149439e94",
        "colab": {
          "base_uri": "https://localhost:8080/",
          "height": 108
        }
      },
      "execution_count": null,
      "outputs": [
        {
          "output_type": "execute_result",
          "data": {
            "text/plain": [
              "TreeLayout(('friendly(Adj)', 'N\\nfriend', '-ly'))"
            ],
            "image/svg+xml": "<svg baseProfile=\"full\" height=\"88px\" preserveAspectRatio=\"xMidYMid meet\" style=\"font-family: times, serif; font-weight:normal; font-style: normal; font-size: 16px;\" version=\"1.1\" viewBox=\"0,0,120.0,88.0\" width=\"120px\" xmlns=\"http://www.w3.org/2000/svg\" xmlns:ev=\"http://www.w3.org/2001/xml-events\" xmlns:xlink=\"http://www.w3.org/1999/xlink\"><defs /><svg width=\"100%\" x=\"0\" y=\"0em\"><defs /><text text-anchor=\"middle\" x=\"50%\" y=\"1em\">friendly(Adj)</text></svg><svg width=\"61.5385%\" x=\"0%\" y=\"3em\"><defs /><svg width=\"100%\" x=\"0\" y=\"0em\"><defs /><text text-anchor=\"middle\" x=\"50%\" y=\"1em\">N</text><text text-anchor=\"middle\" x=\"50%\" y=\"2em\">friend</text></svg></svg><line stroke=\"black\" x1=\"50%\" x2=\"30.7692%\" y1=\"1.2em\" y2=\"3em\" /><svg width=\"38.4615%\" x=\"61.5385%\" y=\"3em\"><defs /><svg width=\"100%\" x=\"0\" y=\"0.5em\"><defs /><text text-anchor=\"middle\" x=\"50%\" y=\"1em\">-ly</text></svg></svg><line stroke=\"black\" x1=\"50%\" x2=\"80.7692%\" y1=\"1.2em\" y2=\"3.5em\" /></svg>"
          },
          "metadata": {},
          "execution_count": 7
        }
      ]
    },
    {
      "cell_type": "code",
      "source": [],
      "metadata": {
        "id": "rx35EsQePGUd"
      },
      "execution_count": null,
      "outputs": []
    },
    {
      "cell_type": "code",
      "source": [],
      "metadata": {
        "id": "gJVCRJSaPHZ1"
      },
      "execution_count": null,
      "outputs": []
    },
    {
      "cell_type": "markdown",
      "source": [
        "##Hierarchy in word structure"
      ],
      "metadata": {
        "id": "poHYQxw55MY6"
      }
    },
    {
      "cell_type": "code",
      "source": [
        "#@markdown Binary structure\n",
        "mystr = (\"S\", (\"A\", \"B\",\"C\"), (\"D\", \"E\", (\"F\", \"1\", \"2\")))\n",
        "out = svgling.draw_tree(mystr)\n",
        "Caption(out, \"Fig. Binary Branching\")"
      ],
      "metadata": {
        "colab": {
          "base_uri": "https://localhost:8080/",
          "height": 220
        },
        "id": "iNBOWs9v5U1i",
        "outputId": "0b2f8fc3-8337-4295-b4a1-abef88f08355"
      },
      "execution_count": null,
      "outputs": [
        {
          "output_type": "execute_result",
          "data": {
            "text/plain": [
              "<svgling.figure.Caption at 0x7f7a8aa74dc0>"
            ],
            "image/svg+xml": "<svg baseProfile=\"full\" height=\"200.5px\" preserveAspectRatio=\"xMidYMid meet\" version=\"1.1\" viewBox=\"0,0,136.5,200.5\" width=\"136.5px\" xmlns=\"http://www.w3.org/2000/svg\" xmlns:ev=\"http://www.w3.org/2001/xml-events\" xmlns:xlink=\"http://www.w3.org/1999/xlink\"><defs /><svg height=\"168.0\" width=\"120.0\" x=\"8.25\" y=\"0\"><defs /><svg baseProfile=\"full\" height=\"168px\" preserveAspectRatio=\"xMidYMid meet\" style=\"font-family: times, serif; font-weight:normal; font-style: normal; font-size: 16px;\" version=\"1.1\" viewBox=\"0,0,120.0,168.0\" width=\"120px\" xmlns=\"http://www.w3.org/2000/svg\" xmlns:ev=\"http://www.w3.org/2001/xml-events\" xmlns:xlink=\"http://www.w3.org/1999/xlink\"><defs /><svg width=\"100%\" x=\"0\" y=\"0em\"><defs /><text text-anchor=\"middle\" x=\"50%\" y=\"1em\">S</text></svg><svg width=\"40%\" x=\"0%\" y=\"3em\"><defs /><svg width=\"100%\" x=\"0\" y=\"0em\"><defs /><text text-anchor=\"middle\" x=\"50%\" y=\"1em\">A</text></svg><svg width=\"50%\" x=\"0%\" y=\"3em\"><defs /><svg width=\"100%\" x=\"0\" y=\"0em\"><defs /><text text-anchor=\"middle\" x=\"50%\" y=\"1em\">B</text></svg></svg><line stroke=\"black\" x1=\"50%\" x2=\"25%\" y1=\"1.2em\" y2=\"3em\" /><svg width=\"50%\" x=\"50%\" y=\"3em\"><defs /><svg width=\"100%\" x=\"0\" y=\"0em\"><defs /><text text-anchor=\"middle\" x=\"50%\" y=\"1em\">C</text></svg></svg><line stroke=\"black\" x1=\"50%\" x2=\"75%\" y1=\"1.2em\" y2=\"3em\" /></svg><line stroke=\"black\" x1=\"50%\" x2=\"20%\" y1=\"1.2em\" y2=\"3em\" /><svg width=\"60%\" x=\"40%\" y=\"3em\"><defs /><svg width=\"100%\" x=\"0\" y=\"0em\"><defs /><text text-anchor=\"middle\" x=\"50%\" y=\"1em\">D</text></svg><svg width=\"33.3333%\" x=\"0%\" y=\"3em\"><defs /><svg width=\"100%\" x=\"0\" y=\"0em\"><defs /><text text-anchor=\"middle\" x=\"50%\" y=\"1em\">E</text></svg></svg><line stroke=\"black\" x1=\"50%\" x2=\"16.6667%\" y1=\"1.2em\" y2=\"3em\" /><svg width=\"66.6667%\" x=\"33.3333%\" y=\"3em\"><defs /><svg width=\"100%\" x=\"0\" y=\"0em\"><defs /><text text-anchor=\"middle\" x=\"50%\" y=\"1em\">F</text></svg><svg width=\"50%\" x=\"0%\" y=\"3em\"><defs /><svg width=\"100%\" x=\"0\" y=\"0em\"><defs /><text text-anchor=\"middle\" x=\"50%\" y=\"1em\">1</text></svg></svg><line stroke=\"black\" x1=\"50%\" x2=\"25%\" y1=\"1.2em\" y2=\"3em\" /><svg width=\"50%\" x=\"50%\" y=\"3em\"><defs /><svg width=\"100%\" x=\"0\" y=\"0em\"><defs /><text text-anchor=\"middle\" x=\"50%\" y=\"1em\">2</text></svg></svg><line stroke=\"black\" x1=\"50%\" x2=\"75%\" y1=\"1.2em\" y2=\"3em\" /></svg><line stroke=\"black\" x1=\"50%\" x2=\"66.6667%\" y1=\"1.2em\" y2=\"3em\" /></svg><line stroke=\"black\" x1=\"50%\" x2=\"70%\" y1=\"1.2em\" y2=\"3em\" /></svg></svg><svg height=\"100%\" width=\"100%\" x=\"0\" y=\"174.5\"><defs /><text style=\"font-family: times, serif; font-weight:normal; font-style: italic; font-size: 13px;\" text-anchor=\"middle\" x=\"50%\" y=\"1em\">Fig. Binary Branching</text></svg></svg>"
          },
          "metadata": {},
          "execution_count": 10
        }
      ]
    },
    {
      "cell_type": "markdown",
      "source": [
        "#[Practice] Create structures of words with multiple morphemes.\n",
        "lighthouses, responsibility, reusable, optionality"
      ],
      "metadata": {
        "id": "zR2ZUZpu6N7g"
      }
    },
    {
      "cell_type": "code",
      "source": [
        "mystr = (\"Noun\", (\"CompNoun\", (\"N\", \"light\"), (\"N\", \"house\")), \"-s\")\n",
        "out = svgling.draw_tree(mystr)\n",
        "Caption(out, \"Fig. light+house+s\")"
      ],
      "metadata": {
        "id": "rguypwcdRHwF",
        "outputId": "03fcb246-da5b-451a-9d4e-56a3a80b4326",
        "colab": {
          "base_uri": "https://localhost:8080/",
          "height": 220
        }
      },
      "execution_count": 5,
      "outputs": [
        {
          "output_type": "execute_result",
          "data": {
            "text/plain": [
              "<svgling.figure.Caption at 0x7f2eda64a4f0>"
            ],
            "image/svg+xml": "<svg baseProfile=\"full\" height=\"200.5px\" preserveAspectRatio=\"xMidYMid meet\" version=\"1.1\" viewBox=\"0,0,144.0,200.5\" width=\"144px\" xmlns=\"http://www.w3.org/2000/svg\" xmlns:ev=\"http://www.w3.org/2001/xml-events\" xmlns:xlink=\"http://www.w3.org/1999/xlink\"><defs /><svg height=\"168.0\" width=\"144.0\" x=\"0\" y=\"0\"><defs /><svg baseProfile=\"full\" height=\"168px\" preserveAspectRatio=\"xMidYMid meet\" style=\"font-family: times, serif; font-weight:normal; font-style: normal; font-size: 16px;\" version=\"1.1\" viewBox=\"0,0,144.0,168.0\" width=\"144px\" xmlns=\"http://www.w3.org/2000/svg\" xmlns:ev=\"http://www.w3.org/2001/xml-events\" xmlns:xlink=\"http://www.w3.org/1999/xlink\"><defs /><svg width=\"100%\" x=\"0\" y=\"0em\"><defs /><text text-anchor=\"middle\" x=\"50%\" y=\"1em\">Noun</text></svg><svg width=\"77.7778%\" x=\"0%\" y=\"3em\"><defs /><svg width=\"100%\" x=\"0\" y=\"0em\"><defs /><text text-anchor=\"middle\" x=\"50%\" y=\"1em\">CompNoun</text></svg><svg width=\"50%\" x=\"0%\" y=\"3em\"><defs /><svg width=\"100%\" x=\"0\" y=\"0em\"><defs /><text text-anchor=\"middle\" x=\"50%\" y=\"1em\">N</text></svg><svg width=\"100%\" x=\"0%\" y=\"3em\"><defs /><svg width=\"100%\" x=\"0\" y=\"0em\"><defs /><text text-anchor=\"middle\" x=\"50%\" y=\"1em\">light</text></svg></svg><line stroke=\"black\" x1=\"50%\" x2=\"50%\" y1=\"1.2em\" y2=\"3em\" /></svg><line stroke=\"black\" x1=\"50%\" x2=\"25%\" y1=\"1.2em\" y2=\"3em\" /><svg width=\"50%\" x=\"50%\" y=\"3em\"><defs /><svg width=\"100%\" x=\"0\" y=\"0em\"><defs /><text text-anchor=\"middle\" x=\"50%\" y=\"1em\">N</text></svg><svg width=\"100%\" x=\"0%\" y=\"3em\"><defs /><svg width=\"100%\" x=\"0\" y=\"0em\"><defs /><text text-anchor=\"middle\" x=\"50%\" y=\"1em\">house</text></svg></svg><line stroke=\"black\" x1=\"50%\" x2=\"50%\" y1=\"1.2em\" y2=\"3em\" /></svg><line stroke=\"black\" x1=\"50%\" x2=\"75%\" y1=\"1.2em\" y2=\"3em\" /></svg><line stroke=\"black\" x1=\"50%\" x2=\"38.8889%\" y1=\"1.2em\" y2=\"3em\" /><svg width=\"22.2222%\" x=\"77.7778%\" y=\"3em\"><defs /><svg width=\"100%\" x=\"0\" y=\"0em\"><defs /><text text-anchor=\"middle\" x=\"50%\" y=\"1em\">-s</text></svg></svg><line stroke=\"black\" x1=\"50%\" x2=\"88.8889%\" y1=\"1.2em\" y2=\"3em\" /></svg></svg><svg height=\"100%\" width=\"100%\" x=\"0\" y=\"174.5\"><defs /><text style=\"font-family: times, serif; font-weight:normal; font-style: italic; font-size: 13px;\" text-anchor=\"middle\" x=\"50%\" y=\"1em\">Fig. light+house+s</text></svg></svg>"
          },
          "metadata": {},
          "execution_count": 5
        }
      ]
    },
    {
      "cell_type": "code",
      "source": [
        "mystr = (\"Noun\", (\"Adjectie\", \"possible\"), \"-ity\")\n",
        "out = svgling.draw_tree(mystr)\n",
        "Caption(out, \"Fig. possible+ity\")"
      ],
      "metadata": {
        "id": "KEHfeHiugXC9",
        "outputId": "1d367d13-e5b1-420b-9124-bd618c42b88b",
        "colab": {
          "base_uri": "https://localhost:8080/",
          "height": 172
        }
      },
      "execution_count": 7,
      "outputs": [
        {
          "output_type": "execute_result",
          "data": {
            "text/plain": [
              "<svgling.figure.Caption at 0x7f2eda611a30>"
            ],
            "image/svg+xml": "<svg baseProfile=\"full\" height=\"152.5px\" preserveAspectRatio=\"xMidYMid meet\" version=\"1.1\" viewBox=\"0,0,128.0,152.5\" width=\"128px\" xmlns=\"http://www.w3.org/2000/svg\" xmlns:ev=\"http://www.w3.org/2001/xml-events\" xmlns:xlink=\"http://www.w3.org/1999/xlink\"><defs /><svg height=\"120.0\" width=\"128.0\" x=\"0\" y=\"0\"><defs /><svg baseProfile=\"full\" height=\"120px\" preserveAspectRatio=\"xMidYMid meet\" style=\"font-family: times, serif; font-weight:normal; font-style: normal; font-size: 16px;\" version=\"1.1\" viewBox=\"0,0,128.0,120.0\" width=\"128px\" xmlns=\"http://www.w3.org/2000/svg\" xmlns:ev=\"http://www.w3.org/2001/xml-events\" xmlns:xlink=\"http://www.w3.org/1999/xlink\"><defs /><svg width=\"100%\" x=\"0\" y=\"0em\"><defs /><text text-anchor=\"middle\" x=\"50%\" y=\"1em\">Noun</text></svg><svg width=\"62.5%\" x=\"0%\" y=\"3em\"><defs /><svg width=\"100%\" x=\"0\" y=\"0em\"><defs /><text text-anchor=\"middle\" x=\"50%\" y=\"1em\">Adjectie</text></svg><svg width=\"100%\" x=\"0%\" y=\"3em\"><defs /><svg width=\"100%\" x=\"0\" y=\"0em\"><defs /><text text-anchor=\"middle\" x=\"50%\" y=\"1em\">possible</text></svg></svg><line stroke=\"black\" x1=\"50%\" x2=\"50%\" y1=\"1.2em\" y2=\"3em\" /></svg><line stroke=\"black\" x1=\"50%\" x2=\"31.25%\" y1=\"1.2em\" y2=\"3em\" /><svg width=\"37.5%\" x=\"62.5%\" y=\"3em\"><defs /><svg width=\"100%\" x=\"0\" y=\"0em\"><defs /><text text-anchor=\"middle\" x=\"50%\" y=\"1em\">-ity</text></svg></svg><line stroke=\"black\" x1=\"50%\" x2=\"81.25%\" y1=\"1.2em\" y2=\"3em\" /></svg></svg><svg height=\"100%\" width=\"100%\" x=\"0\" y=\"126.5\"><defs /><text style=\"font-family: times, serif; font-weight:normal; font-style: italic; font-size: 13px;\" text-anchor=\"middle\" x=\"50%\" y=\"1em\">Fig. possible+ity</text></svg></svg>"
          },
          "metadata": {},
          "execution_count": 7
        }
      ]
    },
    {
      "cell_type": "code",
      "source": [
        "mystr = (\"Adjective\", (\"Verb\", \"re-\", (\"Verb\", \"use\")), \"-able\")\n",
        "out = svgling.draw_tree(mystr)\n",
        "Caption(out, \"Fig. re+use+abe\")"
      ],
      "metadata": {
        "id": "PyRRLqhxga9E",
        "outputId": "e150c2bd-635d-47ee-98a2-dc23c19e38b0",
        "colab": {
          "base_uri": "https://localhost:8080/",
          "height": 220
        }
      },
      "execution_count": 10,
      "outputs": [
        {
          "output_type": "execute_result",
          "data": {
            "text/plain": [
              "<svgling.figure.Caption at 0x7f2eda657e50>"
            ],
            "image/svg+xml": "<svg baseProfile=\"full\" height=\"200.5px\" preserveAspectRatio=\"xMidYMid meet\" version=\"1.1\" viewBox=\"0,0,144.0,200.5\" width=\"144px\" xmlns=\"http://www.w3.org/2000/svg\" xmlns:ev=\"http://www.w3.org/2001/xml-events\" xmlns:xlink=\"http://www.w3.org/1999/xlink\"><defs /><svg height=\"168.0\" width=\"144.0\" x=\"0\" y=\"0\"><defs /><svg baseProfile=\"full\" height=\"168px\" preserveAspectRatio=\"xMidYMid meet\" style=\"font-family: times, serif; font-weight:normal; font-style: normal; font-size: 16px;\" version=\"1.1\" viewBox=\"0,0,144.0,168.0\" width=\"144px\" xmlns=\"http://www.w3.org/2000/svg\" xmlns:ev=\"http://www.w3.org/2001/xml-events\" xmlns:xlink=\"http://www.w3.org/1999/xlink\"><defs /><svg width=\"100%\" x=\"0\" y=\"0em\"><defs /><text text-anchor=\"middle\" x=\"50%\" y=\"1em\">Adjective</text></svg><svg width=\"61.1111%\" x=\"0%\" y=\"3em\"><defs /><svg width=\"100%\" x=\"0\" y=\"0em\"><defs /><text text-anchor=\"middle\" x=\"50%\" y=\"1em\">Verb</text></svg><svg width=\"45.4545%\" x=\"0%\" y=\"3em\"><defs /><svg width=\"100%\" x=\"0\" y=\"0em\"><defs /><text text-anchor=\"middle\" x=\"50%\" y=\"1em\">re-</text></svg></svg><line stroke=\"black\" x1=\"50%\" x2=\"22.7273%\" y1=\"1.2em\" y2=\"3em\" /><svg width=\"54.5455%\" x=\"45.4545%\" y=\"3em\"><defs /><svg width=\"100%\" x=\"0\" y=\"0em\"><defs /><text text-anchor=\"middle\" x=\"50%\" y=\"1em\">Verb</text></svg><svg width=\"100%\" x=\"0%\" y=\"3em\"><defs /><svg width=\"100%\" x=\"0\" y=\"0em\"><defs /><text text-anchor=\"middle\" x=\"50%\" y=\"1em\">use</text></svg></svg><line stroke=\"black\" x1=\"50%\" x2=\"50%\" y1=\"1.2em\" y2=\"3em\" /></svg><line stroke=\"black\" x1=\"50%\" x2=\"72.7273%\" y1=\"1.2em\" y2=\"3em\" /></svg><line stroke=\"black\" x1=\"50%\" x2=\"30.5556%\" y1=\"1.2em\" y2=\"3em\" /><svg width=\"38.8889%\" x=\"61.1111%\" y=\"3em\"><defs /><svg width=\"100%\" x=\"0\" y=\"0em\"><defs /><text text-anchor=\"middle\" x=\"50%\" y=\"1em\">-able</text></svg></svg><line stroke=\"black\" x1=\"50%\" x2=\"80.5556%\" y1=\"1.2em\" y2=\"3em\" /></svg></svg><svg height=\"100%\" width=\"100%\" x=\"0\" y=\"174.5\"><defs /><text style=\"font-family: times, serif; font-weight:normal; font-style: italic; font-size: 13px;\" text-anchor=\"middle\" x=\"50%\" y=\"1em\">Fig. re+use+abe</text></svg></svg>"
          },
          "metadata": {},
          "execution_count": 10
        }
      ]
    },
    {
      "cell_type": "code",
      "source": [
        "mystr = (\"Noun\", (\"Adjective\", (\"Noun\", (\"Verb\", \"opt\"), \"-ion\"), \"-al\"), \"-ity\")\n",
        "out = svgling.draw_tree(mystr)\n",
        "Caption(out, \"Fig. opt+ion+al+ity\")"
      ],
      "metadata": {
        "id": "Te7aJujFgdyk",
        "outputId": "852ce68f-3a00-48b1-f925-9b7708c6c01c",
        "colab": {
          "base_uri": "https://localhost:8080/",
          "height": 268
        }
      },
      "execution_count": 16,
      "outputs": [
        {
          "output_type": "execute_result",
          "data": {
            "text/plain": [
              "<svgling.figure.Caption at 0x7f2eda657a00>"
            ],
            "image/svg+xml": "<svg baseProfile=\"full\" height=\"248.5px\" preserveAspectRatio=\"xMidYMid meet\" version=\"1.1\" viewBox=\"0,0,184.0,248.5\" width=\"184px\" xmlns=\"http://www.w3.org/2000/svg\" xmlns:ev=\"http://www.w3.org/2001/xml-events\" xmlns:xlink=\"http://www.w3.org/1999/xlink\"><defs /><svg height=\"216.0\" width=\"184.0\" x=\"0\" y=\"0\"><defs /><svg baseProfile=\"full\" height=\"216px\" preserveAspectRatio=\"xMidYMid meet\" style=\"font-family: times, serif; font-weight:normal; font-style: normal; font-size: 16px;\" version=\"1.1\" viewBox=\"0,0,184.0,216.0\" width=\"184px\" xmlns=\"http://www.w3.org/2000/svg\" xmlns:ev=\"http://www.w3.org/2001/xml-events\" xmlns:xlink=\"http://www.w3.org/1999/xlink\"><defs /><svg width=\"100%\" x=\"0\" y=\"0em\"><defs /><text text-anchor=\"middle\" x=\"50%\" y=\"1em\">Noun</text></svg><svg width=\"73.913%\" x=\"0%\" y=\"3em\"><defs /><svg width=\"100%\" x=\"0\" y=\"0em\"><defs /><text text-anchor=\"middle\" x=\"50%\" y=\"1em\">Adjective</text></svg><svg width=\"70.5882%\" x=\"0%\" y=\"3em\"><defs /><svg width=\"100%\" x=\"0\" y=\"0em\"><defs /><text text-anchor=\"middle\" x=\"50%\" y=\"1em\">Noun</text></svg><svg width=\"50%\" x=\"0%\" y=\"3em\"><defs /><svg width=\"100%\" x=\"0\" y=\"0em\"><defs /><text text-anchor=\"middle\" x=\"50%\" y=\"1em\">Verb</text></svg><svg width=\"100%\" x=\"0%\" y=\"3em\"><defs /><svg width=\"100%\" x=\"0\" y=\"0em\"><defs /><text text-anchor=\"middle\" x=\"50%\" y=\"1em\">opt</text></svg></svg><line stroke=\"black\" x1=\"50%\" x2=\"50%\" y1=\"1.2em\" y2=\"3em\" /></svg><line stroke=\"black\" x1=\"50%\" x2=\"25%\" y1=\"1.2em\" y2=\"3em\" /><svg width=\"50%\" x=\"50%\" y=\"3em\"><defs /><svg width=\"100%\" x=\"0\" y=\"0em\"><defs /><text text-anchor=\"middle\" x=\"50%\" y=\"1em\">-ion</text></svg></svg><line stroke=\"black\" x1=\"50%\" x2=\"75%\" y1=\"1.2em\" y2=\"3em\" /></svg><line stroke=\"black\" x1=\"50%\" x2=\"35.2941%\" y1=\"1.2em\" y2=\"3em\" /><svg width=\"29.4118%\" x=\"70.5882%\" y=\"3em\"><defs /><svg width=\"100%\" x=\"0\" y=\"0em\"><defs /><text text-anchor=\"middle\" x=\"50%\" y=\"1em\">-al</text></svg></svg><line stroke=\"black\" x1=\"50%\" x2=\"85.2941%\" y1=\"1.2em\" y2=\"3em\" /></svg><line stroke=\"black\" x1=\"50%\" x2=\"36.9565%\" y1=\"1.2em\" y2=\"3em\" /><svg width=\"26.087%\" x=\"73.913%\" y=\"3em\"><defs /><svg width=\"100%\" x=\"0\" y=\"0em\"><defs /><text text-anchor=\"middle\" x=\"50%\" y=\"1em\">-ity</text></svg></svg><line stroke=\"black\" x1=\"50%\" x2=\"86.9565%\" y1=\"1.2em\" y2=\"3em\" /></svg></svg><svg height=\"100%\" width=\"100%\" x=\"0\" y=\"222.5\"><defs /><text style=\"font-family: times, serif; font-weight:normal; font-style: italic; font-size: 13px;\" text-anchor=\"middle\" x=\"50%\" y=\"1em\">Fig. opt+ion+al+ity</text></svg></svg>"
          },
          "metadata": {},
          "execution_count": 16
        }
      ]
    },
    {
      "cell_type": "markdown",
      "source": [],
      "metadata": {
        "id": "2KBrRZtH7Fqz"
      }
    },
    {
      "cell_type": "markdown",
      "source": [
        "#2. graphviz\n",
        "원본코드:\n",
        "# https://graphviz.readthedocs.io/en/stable/examples.html#hello-py"
      ],
      "metadata": {
        "id": "nEc5ePDZXBwt"
      }
    },
    {
      "cell_type": "code",
      "source": [
        "import graphviz\n",
        "\n",
        "g = graphviz.Digraph('G', filename='hello.gv')\n",
        "\n",
        "g.edge('Hello', 'World')\n",
        "\n",
        "g"
      ],
      "metadata": {
        "colab": {
          "base_uri": "https://localhost:8080/",
          "height": 175
        },
        "id": "ogxi5qw9XNdf",
        "outputId": "a6d05fe3-3f8a-4d15-9056-bae57a4803e6"
      },
      "execution_count": null,
      "outputs": [
        {
          "output_type": "execute_result",
          "data": {
            "image/svg+xml": "<?xml version=\"1.0\" encoding=\"UTF-8\" standalone=\"no\"?>\n<!DOCTYPE svg PUBLIC \"-//W3C//DTD SVG 1.1//EN\"\n \"http://www.w3.org/Graphics/SVG/1.1/DTD/svg11.dtd\">\n<!-- Generated by graphviz version 2.43.0 (0)\n -->\n<!-- Title: G Pages: 1 -->\n<svg width=\"73pt\" height=\"116pt\"\n viewBox=\"0.00 0.00 72.99 116.00\" xmlns=\"http://www.w3.org/2000/svg\" xmlns:xlink=\"http://www.w3.org/1999/xlink\">\n<g id=\"graph0\" class=\"graph\" transform=\"scale(1 1) rotate(0) translate(4 112)\">\n<title>G</title>\n<polygon fill=\"white\" stroke=\"transparent\" points=\"-4,4 -4,-112 68.99,-112 68.99,4 -4,4\"/>\n<!-- Hello -->\n<g id=\"node1\" class=\"node\">\n<title>Hello</title>\n<ellipse fill=\"none\" stroke=\"black\" cx=\"32.5\" cy=\"-90\" rx=\"30.59\" ry=\"18\"/>\n<text text-anchor=\"middle\" x=\"32.5\" y=\"-86.3\" font-family=\"Times,serif\" font-size=\"14.00\">Hello</text>\n</g>\n<!-- World -->\n<g id=\"node2\" class=\"node\">\n<title>World</title>\n<ellipse fill=\"none\" stroke=\"black\" cx=\"32.5\" cy=\"-18\" rx=\"32.49\" ry=\"18\"/>\n<text text-anchor=\"middle\" x=\"32.5\" y=\"-14.3\" font-family=\"Times,serif\" font-size=\"14.00\">World</text>\n</g>\n<!-- Hello&#45;&gt;World -->\n<g id=\"edge1\" class=\"edge\">\n<title>Hello&#45;&gt;World</title>\n<path fill=\"none\" stroke=\"black\" d=\"M32.5,-71.7C32.5,-63.98 32.5,-54.71 32.5,-46.11\"/>\n<polygon fill=\"black\" stroke=\"black\" points=\"36,-46.1 32.5,-36.1 29,-46.1 36,-46.1\"/>\n</g>\n</g>\n</svg>\n",
            "text/plain": [
              "<graphviz.graphs.Digraph at 0x7fd7d74e5d90>"
            ]
          },
          "metadata": {},
          "execution_count": 36
        }
      ]
    },
    {
      "cell_type": "code",
      "source": [
        "import graphviz\n",
        "\n",
        "g = graphviz.Digraph('G', filename='hello.gv')\n",
        "\n",
        "g.edge('A', 'B')\n",
        "g.edge('B', 'C')\n",
        "g.edge('B', 'D')\n",
        "\n",
        "g"
      ],
      "metadata": {
        "colab": {
          "base_uri": "https://localhost:8080/",
          "height": 271
        },
        "id": "M56YpEfGXaXl",
        "outputId": "536dba6f-218a-4ee6-8f4e-ae3dc91324f4"
      },
      "execution_count": null,
      "outputs": [
        {
          "output_type": "execute_result",
          "data": {
            "image/svg+xml": "<?xml version=\"1.0\" encoding=\"UTF-8\" standalone=\"no\"?>\n<!DOCTYPE svg PUBLIC \"-//W3C//DTD SVG 1.1//EN\"\n \"http://www.w3.org/Graphics/SVG/1.1/DTD/svg11.dtd\">\n<!-- Generated by graphviz version 2.43.0 (0)\n -->\n<!-- Title: G Pages: 1 -->\n<svg width=\"134pt\" height=\"188pt\"\n viewBox=\"0.00 0.00 134.00 188.00\" xmlns=\"http://www.w3.org/2000/svg\" xmlns:xlink=\"http://www.w3.org/1999/xlink\">\n<g id=\"graph0\" class=\"graph\" transform=\"scale(1 1) rotate(0) translate(4 184)\">\n<title>G</title>\n<polygon fill=\"white\" stroke=\"transparent\" points=\"-4,4 -4,-184 130,-184 130,4 -4,4\"/>\n<!-- A -->\n<g id=\"node1\" class=\"node\">\n<title>A</title>\n<ellipse fill=\"none\" stroke=\"black\" cx=\"63\" cy=\"-162\" rx=\"27\" ry=\"18\"/>\n<text text-anchor=\"middle\" x=\"63\" y=\"-158.3\" font-family=\"Times,serif\" font-size=\"14.00\">A</text>\n</g>\n<!-- B -->\n<g id=\"node2\" class=\"node\">\n<title>B</title>\n<ellipse fill=\"none\" stroke=\"black\" cx=\"63\" cy=\"-90\" rx=\"27\" ry=\"18\"/>\n<text text-anchor=\"middle\" x=\"63\" y=\"-86.3\" font-family=\"Times,serif\" font-size=\"14.00\">B</text>\n</g>\n<!-- A&#45;&gt;B -->\n<g id=\"edge1\" class=\"edge\">\n<title>A&#45;&gt;B</title>\n<path fill=\"none\" stroke=\"black\" d=\"M63,-143.7C63,-135.98 63,-126.71 63,-118.11\"/>\n<polygon fill=\"black\" stroke=\"black\" points=\"66.5,-118.1 63,-108.1 59.5,-118.1 66.5,-118.1\"/>\n</g>\n<!-- C -->\n<g id=\"node3\" class=\"node\">\n<title>C</title>\n<ellipse fill=\"none\" stroke=\"black\" cx=\"27\" cy=\"-18\" rx=\"27\" ry=\"18\"/>\n<text text-anchor=\"middle\" x=\"27\" y=\"-14.3\" font-family=\"Times,serif\" font-size=\"14.00\">C</text>\n</g>\n<!-- B&#45;&gt;C -->\n<g id=\"edge2\" class=\"edge\">\n<title>B&#45;&gt;C</title>\n<path fill=\"none\" stroke=\"black\" d=\"M54.65,-72.76C50.29,-64.28 44.85,-53.71 39.96,-44.2\"/>\n<polygon fill=\"black\" stroke=\"black\" points=\"42.99,-42.44 35.3,-35.15 36.77,-45.64 42.99,-42.44\"/>\n</g>\n<!-- D -->\n<g id=\"node4\" class=\"node\">\n<title>D</title>\n<ellipse fill=\"none\" stroke=\"black\" cx=\"99\" cy=\"-18\" rx=\"27\" ry=\"18\"/>\n<text text-anchor=\"middle\" x=\"99\" y=\"-14.3\" font-family=\"Times,serif\" font-size=\"14.00\">D</text>\n</g>\n<!-- B&#45;&gt;D -->\n<g id=\"edge3\" class=\"edge\">\n<title>B&#45;&gt;D</title>\n<path fill=\"none\" stroke=\"black\" d=\"M71.35,-72.76C75.71,-64.28 81.15,-53.71 86.04,-44.2\"/>\n<polygon fill=\"black\" stroke=\"black\" points=\"89.23,-45.64 90.7,-35.15 83.01,-42.44 89.23,-45.64\"/>\n</g>\n</g>\n</svg>\n",
            "text/plain": [
              "<graphviz.graphs.Digraph at 0x7fd7d74e5130>"
            ]
          },
          "metadata": {},
          "execution_count": 37
        }
      ]
    },
    {
      "cell_type": "markdown",
      "source": [
        "### Give it a try [Top-down]\n"
      ],
      "metadata": {
        "id": "en6P1SW03PyN"
      }
    },
    {
      "cell_type": "code",
      "source": [
        "import graphviz\n",
        "\n",
        "g = graphviz.Digraph('G', filename='hello.gv')\n",
        "\n",
        "g.edge('thinkeners', 'N\\nthickener')\n",
        "g.edge('thinkeners', 's_b/s/i')\n",
        "g.edge('N\\nthickener', 'V\\nthicken')\n",
        "g.edge('N\\nthickener', 'er_b/s/d')\n",
        "g.edge('V\\nthicken', 'A\\nthick')\n",
        "g.edge('V\\nthicken', 'en_b/s/d')\n",
        "\n",
        "\n",
        "g"
      ],
      "metadata": {
        "colab": {
          "base_uri": "https://localhost:8080/",
          "height": 438
        },
        "id": "GCnlIzc14f0E",
        "outputId": "ac3be5e4-88a0-418d-e9cd-f877beb37a91"
      },
      "execution_count": null,
      "outputs": [
        {
          "output_type": "execute_result",
          "data": {
            "image/svg+xml": "<?xml version=\"1.0\" encoding=\"UTF-8\" standalone=\"no\"?>\n<!DOCTYPE svg PUBLIC \"-//W3C//DTD SVG 1.1//EN\"\n \"http://www.w3.org/Graphics/SVG/1.1/DTD/svg11.dtd\">\n<!-- Generated by graphviz version 2.43.0 (0)\n -->\n<!-- Title: G Pages: 1 -->\n<svg width=\"264pt\" height=\"313pt\"\n viewBox=\"0.00 0.00 263.91 313.22\" xmlns=\"http://www.w3.org/2000/svg\" xmlns:xlink=\"http://www.w3.org/1999/xlink\">\n<g id=\"graph0\" class=\"graph\" transform=\"scale(1 1) rotate(0) translate(4 309.22)\">\n<title>G</title>\n<polygon fill=\"white\" stroke=\"transparent\" points=\"-4,4 -4,-309.22 259.91,-309.22 259.91,4 -4,4\"/>\n<!-- thinkeners -->\n<g id=\"node1\" class=\"node\">\n<title>thinkeners</title>\n<ellipse fill=\"none\" stroke=\"black\" cx=\"172.11\" cy=\"-287.22\" rx=\"47.39\" ry=\"18\"/>\n<text text-anchor=\"middle\" x=\"172.11\" y=\"-283.52\" font-family=\"Times,serif\" font-size=\"14.00\">thinkeners</text>\n</g>\n<!-- N\nthickener -->\n<g id=\"node2\" class=\"node\">\n<title>N\nthickener</title>\n<ellipse fill=\"none\" stroke=\"black\" cx=\"123.11\" cy=\"-206.35\" rx=\"47.25\" ry=\"26.74\"/>\n<text text-anchor=\"middle\" x=\"123.11\" y=\"-210.15\" font-family=\"Times,serif\" font-size=\"14.00\">N</text>\n<text text-anchor=\"middle\" x=\"123.11\" y=\"-195.15\" font-family=\"Times,serif\" font-size=\"14.00\">thickener</text>\n</g>\n<!-- thinkeners&#45;&gt;N\nthickener -->\n<g id=\"edge1\" class=\"edge\">\n<title>thinkeners&#45;&gt;N\nthickener</title>\n<path fill=\"none\" stroke=\"black\" d=\"M161.72,-269.49C156.46,-261.03 149.89,-250.45 143.67,-240.43\"/>\n<polygon fill=\"black\" stroke=\"black\" points=\"146.58,-238.49 138.33,-231.84 140.63,-242.18 146.58,-238.49\"/>\n</g>\n<!-- s_b/s/i -->\n<g id=\"node3\" class=\"node\">\n<title>s_b/s/i</title>\n<ellipse fill=\"none\" stroke=\"black\" cx=\"222.11\" cy=\"-206.35\" rx=\"33.6\" ry=\"18\"/>\n<text text-anchor=\"middle\" x=\"222.11\" y=\"-202.65\" font-family=\"Times,serif\" font-size=\"14.00\">s_b/s/i</text>\n</g>\n<!-- thinkeners&#45;&gt;s_b/s/i -->\n<g id=\"edge2\" class=\"edge\">\n<title>thinkeners&#45;&gt;s_b/s/i</title>\n<path fill=\"none\" stroke=\"black\" d=\"M182.72,-269.49C189.57,-258.68 198.61,-244.42 206.3,-232.29\"/>\n<polygon fill=\"black\" stroke=\"black\" points=\"209.47,-233.83 211.87,-223.51 203.56,-230.08 209.47,-233.83\"/>\n</g>\n<!-- V\nthicken -->\n<g id=\"node4\" class=\"node\">\n<title>V\nthicken</title>\n<ellipse fill=\"none\" stroke=\"black\" cx=\"75.11\" cy=\"-116.61\" rx=\"39.7\" ry=\"26.74\"/>\n<text text-anchor=\"middle\" x=\"75.11\" y=\"-120.41\" font-family=\"Times,serif\" font-size=\"14.00\">V</text>\n<text text-anchor=\"middle\" x=\"75.11\" y=\"-105.41\" font-family=\"Times,serif\" font-size=\"14.00\">thicken</text>\n</g>\n<!-- N\nthickener&#45;&gt;V\nthicken -->\n<g id=\"edge3\" class=\"edge\">\n<title>N\nthickener&#45;&gt;V\nthicken</title>\n<path fill=\"none\" stroke=\"black\" d=\"M109.49,-180.44C104.49,-171.3 98.74,-160.81 93.4,-151.04\"/>\n<polygon fill=\"black\" stroke=\"black\" points=\"96.31,-149.07 88.44,-141.97 90.17,-152.43 96.31,-149.07\"/>\n</g>\n<!-- er_b/s/d -->\n<g id=\"node5\" class=\"node\">\n<title>er_b/s/d</title>\n<ellipse fill=\"none\" stroke=\"black\" cx=\"172.11\" cy=\"-116.61\" rx=\"38.99\" ry=\"18\"/>\n<text text-anchor=\"middle\" x=\"172.11\" y=\"-112.91\" font-family=\"Times,serif\" font-size=\"14.00\">er_b/s/d</text>\n</g>\n<!-- N\nthickener&#45;&gt;er_b/s/d -->\n<g id=\"edge4\" class=\"edge\">\n<title>N\nthickener&#45;&gt;er_b/s/d</title>\n<path fill=\"none\" stroke=\"black\" d=\"M137.02,-180.44C143.54,-168.77 151.3,-154.88 157.86,-143.13\"/>\n<polygon fill=\"black\" stroke=\"black\" points=\"161,-144.69 162.82,-134.25 154.89,-141.27 161,-144.69\"/>\n</g>\n<!-- A\nthick -->\n<g id=\"node6\" class=\"node\">\n<title>A\nthick</title>\n<ellipse fill=\"none\" stroke=\"black\" cx=\"31.11\" cy=\"-26.87\" rx=\"31.23\" ry=\"26.74\"/>\n<text text-anchor=\"middle\" x=\"31.11\" y=\"-30.67\" font-family=\"Times,serif\" font-size=\"14.00\">A</text>\n<text text-anchor=\"middle\" x=\"31.11\" y=\"-15.67\" font-family=\"Times,serif\" font-size=\"14.00\">thick</text>\n</g>\n<!-- V\nthicken&#45;&gt;A\nthick -->\n<g id=\"edge5\" class=\"edge\">\n<title>V\nthicken&#45;&gt;A\nthick</title>\n<path fill=\"none\" stroke=\"black\" d=\"M62.62,-90.7C58,-81.49 52.69,-70.89 47.76,-61.06\"/>\n<polygon fill=\"black\" stroke=\"black\" points=\"50.79,-59.3 43.18,-51.93 44.53,-62.44 50.79,-59.3\"/>\n</g>\n<!-- en_b/s/d -->\n<g id=\"node7\" class=\"node\">\n<title>en_b/s/d</title>\n<ellipse fill=\"none\" stroke=\"black\" cx=\"120.11\" cy=\"-26.87\" rx=\"40.09\" ry=\"18\"/>\n<text text-anchor=\"middle\" x=\"120.11\" y=\"-23.17\" font-family=\"Times,serif\" font-size=\"14.00\">en_b/s/d</text>\n</g>\n<!-- V\nthicken&#45;&gt;en_b/s/d -->\n<g id=\"edge6\" class=\"edge\">\n<title>V\nthicken&#45;&gt;en_b/s/d</title>\n<path fill=\"none\" stroke=\"black\" d=\"M87.89,-90.7C93.82,-79.14 100.86,-65.41 106.85,-53.74\"/>\n<polygon fill=\"black\" stroke=\"black\" points=\"110.13,-55 111.58,-44.51 103.9,-51.81 110.13,-55\"/>\n</g>\n</g>\n</svg>\n",
            "text/plain": [
              "<graphviz.graphs.Digraph at 0x7fd7d74fe4f0>"
            ]
          },
          "metadata": {},
          "execution_count": 38
        }
      ]
    },
    {
      "cell_type": "markdown",
      "source": [
        "# [Practice] Morphologival Analysis of Multiple-morpheme Words:\n",
        "paintings, deactivate, disappearances, irreplaceability"
      ],
      "metadata": {
        "id": "GNTD_F_B7hLg"
      }
    },
    {
      "cell_type": "code",
      "source": [
        "import graphviz\n",
        "\n",
        "g = graphviz.Digraph('G', filename='hello.gv')\n",
        "\n",
        "g.edge('paintings', 'painting')\n",
        "g.edge('paintings', '-s')\n",
        "\n",
        "g.edge('painting', 'paint')\n",
        "g.edge('painting', '-ing')\n",
        "\n",
        "g"
      ],
      "metadata": {
        "id": "-PVg8OCEmB3U",
        "outputId": "a47243ae-3974-4906-af61-76e35a02a444",
        "colab": {
          "base_uri": "https://localhost:8080/",
          "height": 270
        }
      },
      "execution_count": 18,
      "outputs": [
        {
          "output_type": "execute_result",
          "data": {
            "image/svg+xml": "<?xml version=\"1.0\" encoding=\"UTF-8\" standalone=\"no\"?>\n<!DOCTYPE svg PUBLIC \"-//W3C//DTD SVG 1.1//EN\"\n \"http://www.w3.org/Graphics/SVG/1.1/DTD/svg11.dtd\">\n<!-- Generated by graphviz version 2.43.0 (0)\n -->\n<!-- Title: G Pages: 1 -->\n<svg width=\"186pt\" height=\"188pt\"\n viewBox=\"0.00 0.00 185.60 188.00\" xmlns=\"http://www.w3.org/2000/svg\" xmlns:xlink=\"http://www.w3.org/1999/xlink\">\n<g id=\"graph0\" class=\"graph\" transform=\"scale(1 1) rotate(0) translate(4 184)\">\n<title>G</title>\n<polygon fill=\"white\" stroke=\"transparent\" points=\"-4,4 -4,-184 181.6,-184 181.6,4 -4,4\"/>\n<!-- paintings -->\n<g id=\"node1\" class=\"node\">\n<title>paintings</title>\n<ellipse fill=\"none\" stroke=\"black\" cx=\"107.6\" cy=\"-162\" rx=\"42.79\" ry=\"18\"/>\n<text text-anchor=\"middle\" x=\"107.6\" y=\"-158.3\" font-family=\"Times,serif\" font-size=\"14.00\">paintings</text>\n</g>\n<!-- painting -->\n<g id=\"node2\" class=\"node\">\n<title>painting</title>\n<ellipse fill=\"none\" stroke=\"black\" cx=\"65.6\" cy=\"-90\" rx=\"39.79\" ry=\"18\"/>\n<text text-anchor=\"middle\" x=\"65.6\" y=\"-86.3\" font-family=\"Times,serif\" font-size=\"14.00\">painting</text>\n</g>\n<!-- paintings&#45;&gt;painting -->\n<g id=\"edge1\" class=\"edge\">\n<title>paintings&#45;&gt;painting</title>\n<path fill=\"none\" stroke=\"black\" d=\"M97.64,-144.41C92.57,-135.95 86.29,-125.49 80.64,-116.08\"/>\n<polygon fill=\"black\" stroke=\"black\" points=\"83.63,-114.24 75.48,-107.47 77.62,-117.85 83.63,-114.24\"/>\n</g>\n<!-- &#45;s -->\n<g id=\"node3\" class=\"node\">\n<title>&#45;s</title>\n<ellipse fill=\"none\" stroke=\"black\" cx=\"150.6\" cy=\"-90\" rx=\"27\" ry=\"18\"/>\n<text text-anchor=\"middle\" x=\"150.6\" y=\"-86.3\" font-family=\"Times,serif\" font-size=\"14.00\">&#45;s</text>\n</g>\n<!-- paintings&#45;&gt;&#45;s -->\n<g id=\"edge2\" class=\"edge\">\n<title>paintings&#45;&gt;&#45;s</title>\n<path fill=\"none\" stroke=\"black\" d=\"M117.79,-144.41C123.06,-135.83 129.59,-125.19 135.44,-115.67\"/>\n<polygon fill=\"black\" stroke=\"black\" points=\"138.52,-117.34 140.78,-106.99 132.56,-113.68 138.52,-117.34\"/>\n</g>\n<!-- paint -->\n<g id=\"node4\" class=\"node\">\n<title>paint</title>\n<ellipse fill=\"none\" stroke=\"black\" cx=\"28.6\" cy=\"-18\" rx=\"28.7\" ry=\"18\"/>\n<text text-anchor=\"middle\" x=\"28.6\" y=\"-14.3\" font-family=\"Times,serif\" font-size=\"14.00\">paint</text>\n</g>\n<!-- painting&#45;&gt;paint -->\n<g id=\"edge3\" class=\"edge\">\n<title>painting&#45;&gt;paint</title>\n<path fill=\"none\" stroke=\"black\" d=\"M56.83,-72.41C52.41,-64.04 46.94,-53.71 42.01,-44.37\"/>\n<polygon fill=\"black\" stroke=\"black\" points=\"45.07,-42.68 37.3,-35.47 38.88,-45.95 45.07,-42.68\"/>\n</g>\n<!-- &#45;ing -->\n<g id=\"node5\" class=\"node\">\n<title>&#45;ing</title>\n<ellipse fill=\"none\" stroke=\"black\" cx=\"102.6\" cy=\"-18\" rx=\"27\" ry=\"18\"/>\n<text text-anchor=\"middle\" x=\"102.6\" y=\"-14.3\" font-family=\"Times,serif\" font-size=\"14.00\">&#45;ing</text>\n</g>\n<!-- painting&#45;&gt;&#45;ing -->\n<g id=\"edge4\" class=\"edge\">\n<title>painting&#45;&gt;&#45;ing</title>\n<path fill=\"none\" stroke=\"black\" d=\"M74.37,-72.41C78.79,-64.04 84.25,-53.71 89.19,-44.37\"/>\n<polygon fill=\"black\" stroke=\"black\" points=\"92.31,-45.95 93.89,-35.47 86.12,-42.68 92.31,-45.95\"/>\n</g>\n</g>\n</svg>\n",
            "text/plain": [
              "<graphviz.graphs.Digraph at 0x7f2ed99dcc70>"
            ]
          },
          "metadata": {},
          "execution_count": 18
        }
      ]
    },
    {
      "cell_type": "code",
      "source": [
        "import graphviz\n",
        "\n",
        "g = graphviz.Digraph('G', filename='hello.gv')\n",
        "\n",
        "g.edge('deactivate', 'de-')\n",
        "g.edge('deactivate', 'V\\nactivate')\n",
        "\n",
        "g.edge('V\\nactivate', 'A\\nactive')\n",
        "g.edge('V\\nactivate', '-ate')\n",
        "\n",
        "g.edge('A\\nactive', 'V\\nact')\n",
        "g.edge('A\\nactive', 'ive')\n",
        "g"
      ],
      "metadata": {
        "id": "t04DQ-ECnGzM",
        "outputId": "a5c743e6-206b-4c49-efd0-f2c1854c0d6c",
        "colab": {
          "base_uri": "https://localhost:8080/",
          "height": 437
        }
      },
      "execution_count": 27,
      "outputs": [
        {
          "output_type": "execute_result",
          "data": {
            "image/svg+xml": "<?xml version=\"1.0\" encoding=\"UTF-8\" standalone=\"no\"?>\n<!DOCTYPE svg PUBLIC \"-//W3C//DTD SVG 1.1//EN\"\n \"http://www.w3.org/Graphics/SVG/1.1/DTD/svg11.dtd\">\n<!-- Generated by graphviz version 2.43.0 (0)\n -->\n<!-- Title: G Pages: 1 -->\n<svg width=\"189pt\" height=\"313pt\"\n viewBox=\"0.00 0.00 189.00 313.22\" xmlns=\"http://www.w3.org/2000/svg\" xmlns:xlink=\"http://www.w3.org/1999/xlink\">\n<g id=\"graph0\" class=\"graph\" transform=\"scale(1 1) rotate(0) translate(4 309.22)\">\n<title>G</title>\n<polygon fill=\"white\" stroke=\"transparent\" points=\"-4,4 -4,-309.22 185,-309.22 185,4 -4,4\"/>\n<!-- deactivate -->\n<g id=\"node1\" class=\"node\">\n<title>deactivate</title>\n<ellipse fill=\"none\" stroke=\"black\" cx=\"70\" cy=\"-287.22\" rx=\"46.29\" ry=\"18\"/>\n<text text-anchor=\"middle\" x=\"70\" y=\"-283.52\" font-family=\"Times,serif\" font-size=\"14.00\">deactivate</text>\n</g>\n<!-- de&#45; -->\n<g id=\"node2\" class=\"node\">\n<title>de&#45;</title>\n<ellipse fill=\"none\" stroke=\"black\" cx=\"27\" cy=\"-206.35\" rx=\"27\" ry=\"18\"/>\n<text text-anchor=\"middle\" x=\"27\" y=\"-202.65\" font-family=\"Times,serif\" font-size=\"14.00\">de&#45;</text>\n</g>\n<!-- deactivate&#45;&gt;de&#45; -->\n<g id=\"edge1\" class=\"edge\">\n<title>deactivate&#45;&gt;de&#45;</title>\n<path fill=\"none\" stroke=\"black\" d=\"M60.88,-269.49C55.05,-258.79 47.36,-244.7 40.79,-232.64\"/>\n<polygon fill=\"black\" stroke=\"black\" points=\"43.67,-230.62 35.81,-223.51 37.53,-233.97 43.67,-230.62\"/>\n</g>\n<!-- V\nactivate -->\n<g id=\"node3\" class=\"node\">\n<title>V\nactivate</title>\n<ellipse fill=\"none\" stroke=\"black\" cx=\"114\" cy=\"-206.35\" rx=\"41.94\" ry=\"26.74\"/>\n<text text-anchor=\"middle\" x=\"114\" y=\"-210.15\" font-family=\"Times,serif\" font-size=\"14.00\">V</text>\n<text text-anchor=\"middle\" x=\"114\" y=\"-195.15\" font-family=\"Times,serif\" font-size=\"14.00\">activate</text>\n</g>\n<!-- deactivate&#45;&gt;V\nactivate -->\n<g id=\"edge2\" class=\"edge\">\n<title>deactivate&#45;&gt;V\nactivate</title>\n<path fill=\"none\" stroke=\"black\" d=\"M79.33,-269.49C84.01,-261.12 89.84,-250.66 95.38,-240.74\"/>\n<polygon fill=\"black\" stroke=\"black\" points=\"98.52,-242.28 100.34,-231.84 92.41,-238.87 98.52,-242.28\"/>\n</g>\n<!-- A\nactive -->\n<g id=\"node4\" class=\"node\">\n<title>A\nactive</title>\n<ellipse fill=\"none\" stroke=\"black\" cx=\"74\" cy=\"-116.61\" rx=\"34.8\" ry=\"26.74\"/>\n<text text-anchor=\"middle\" x=\"74\" y=\"-120.41\" font-family=\"Times,serif\" font-size=\"14.00\">A</text>\n<text text-anchor=\"middle\" x=\"74\" y=\"-105.41\" font-family=\"Times,serif\" font-size=\"14.00\">active</text>\n</g>\n<!-- V\nactivate&#45;&gt;A\nactive -->\n<g id=\"edge3\" class=\"edge\">\n<title>V\nactivate&#45;&gt;A\nactive</title>\n<path fill=\"none\" stroke=\"black\" d=\"M102.64,-180.44C98.56,-171.47 93.87,-161.2 89.49,-151.59\"/>\n<polygon fill=\"black\" stroke=\"black\" points=\"92.58,-149.92 85.25,-142.28 86.21,-152.83 92.58,-149.92\"/>\n</g>\n<!-- &#45;ate -->\n<g id=\"node5\" class=\"node\">\n<title>&#45;ate</title>\n<ellipse fill=\"none\" stroke=\"black\" cx=\"154\" cy=\"-116.61\" rx=\"27\" ry=\"18\"/>\n<text text-anchor=\"middle\" x=\"154\" y=\"-112.91\" font-family=\"Times,serif\" font-size=\"14.00\">&#45;ate</text>\n</g>\n<!-- V\nactivate&#45;&gt;&#45;ate -->\n<g id=\"edge4\" class=\"edge\">\n<title>V\nactivate&#45;&gt;&#45;ate</title>\n<path fill=\"none\" stroke=\"black\" d=\"M125.36,-180.44C130.66,-168.81 136.97,-154.96 142.32,-143.24\"/>\n<polygon fill=\"black\" stroke=\"black\" points=\"145.57,-144.53 146.54,-133.98 139.2,-141.63 145.57,-144.53\"/>\n</g>\n<!-- V\nact -->\n<g id=\"node6\" class=\"node\">\n<title>V\nact</title>\n<ellipse fill=\"none\" stroke=\"black\" cx=\"38\" cy=\"-26.87\" rx=\"27\" ry=\"26.74\"/>\n<text text-anchor=\"middle\" x=\"38\" y=\"-30.67\" font-family=\"Times,serif\" font-size=\"14.00\">V</text>\n<text text-anchor=\"middle\" x=\"38\" y=\"-15.67\" font-family=\"Times,serif\" font-size=\"14.00\">act</text>\n</g>\n<!-- A\nactive&#45;&gt;V\nact -->\n<g id=\"edge5\" class=\"edge\">\n<title>A\nactive&#45;&gt;V\nact</title>\n<path fill=\"none\" stroke=\"black\" d=\"M63.78,-90.7C60.04,-81.58 55.74,-71.11 51.74,-61.36\"/>\n<polygon fill=\"black\" stroke=\"black\" points=\"54.91,-59.86 47.87,-51.93 48.43,-62.51 54.91,-59.86\"/>\n</g>\n<!-- ive -->\n<g id=\"node7\" class=\"node\">\n<title>ive</title>\n<ellipse fill=\"none\" stroke=\"black\" cx=\"110\" cy=\"-26.87\" rx=\"27\" ry=\"18\"/>\n<text text-anchor=\"middle\" x=\"110\" y=\"-23.17\" font-family=\"Times,serif\" font-size=\"14.00\">ive</text>\n</g>\n<!-- A\nactive&#45;&gt;ive -->\n<g id=\"edge6\" class=\"edge\">\n<title>A\nactive&#45;&gt;ive</title>\n<path fill=\"none\" stroke=\"black\" d=\"M84.22,-90.7C88.91,-79.26 94.48,-65.69 99.24,-54.09\"/>\n<polygon fill=\"black\" stroke=\"black\" points=\"102.62,-55.09 103.17,-44.51 96.14,-52.43 102.62,-55.09\"/>\n</g>\n</g>\n</svg>\n",
            "text/plain": [
              "<graphviz.graphs.Digraph at 0x7f2f0c1b9d60>"
            ]
          },
          "metadata": {},
          "execution_count": 27
        }
      ]
    },
    {
      "cell_type": "code",
      "source": [
        "import graphviz\n",
        "\n",
        "g = graphviz.Digraph('G', filename='hello.gv')\n",
        "\n",
        "g.edge('disappearances', 'N\\ndisappearance')\n",
        "g.edge('disappearances', '-s')\n",
        "\n",
        "g.edge('N\\ndisappearance','V\\ndisappear')\n",
        "g.edge('N\\ndisappearance','-ance')\n",
        "\n",
        "g.edge('V\\ndisappear', 'dis-')\n",
        "g.edge('V\\ndisappear', 'V\\nappear')\n",
        "g"
      ],
      "metadata": {
        "id": "paBe2DXroh3N",
        "outputId": "28a347cb-f44c-4d77-b6fb-86dda0072d50",
        "colab": {
          "base_uri": "https://localhost:8080/",
          "height": 437
        }
      },
      "execution_count": 33,
      "outputs": [
        {
          "output_type": "execute_result",
          "data": {
            "image/svg+xml": "<?xml version=\"1.0\" encoding=\"UTF-8\" standalone=\"no\"?>\n<!DOCTYPE svg PUBLIC \"-//W3C//DTD SVG 1.1//EN\"\n \"http://www.w3.org/Graphics/SVG/1.1/DTD/svg11.dtd\">\n<!-- Generated by graphviz version 2.43.0 (0)\n -->\n<!-- Title: G Pages: 1 -->\n<svg width=\"262pt\" height=\"313pt\"\n viewBox=\"0.00 0.00 262.00 313.22\" xmlns=\"http://www.w3.org/2000/svg\" xmlns:xlink=\"http://www.w3.org/1999/xlink\">\n<g id=\"graph0\" class=\"graph\" transform=\"scale(1 1) rotate(0) translate(4 309.22)\">\n<title>G</title>\n<polygon fill=\"white\" stroke=\"transparent\" points=\"-4,4 -4,-309.22 258,-309.22 258,4 -4,4\"/>\n<!-- disappearances -->\n<g id=\"node1\" class=\"node\">\n<title>disappearances</title>\n<ellipse fill=\"none\" stroke=\"black\" cx=\"171\" cy=\"-287.22\" rx=\"63.89\" ry=\"18\"/>\n<text text-anchor=\"middle\" x=\"171\" y=\"-283.52\" font-family=\"Times,serif\" font-size=\"14.00\">disappearances</text>\n</g>\n<!-- N\ndisappearance -->\n<g id=\"node2\" class=\"node\">\n<title>N\ndisappearance</title>\n<ellipse fill=\"none\" stroke=\"black\" cx=\"116\" cy=\"-206.35\" rx=\"65.52\" ry=\"26.74\"/>\n<text text-anchor=\"middle\" x=\"116\" y=\"-210.15\" font-family=\"Times,serif\" font-size=\"14.00\">N</text>\n<text text-anchor=\"middle\" x=\"116\" y=\"-195.15\" font-family=\"Times,serif\" font-size=\"14.00\">disappearance</text>\n</g>\n<!-- disappearances&#45;&gt;N\ndisappearance -->\n<g id=\"edge1\" class=\"edge\">\n<title>disappearances&#45;&gt;N\ndisappearance</title>\n<path fill=\"none\" stroke=\"black\" d=\"M159.34,-269.49C153.53,-261.17 146.3,-250.8 139.42,-240.93\"/>\n<polygon fill=\"black\" stroke=\"black\" points=\"142.09,-238.65 133.5,-232.45 136.35,-242.65 142.09,-238.65\"/>\n</g>\n<!-- &#45;s -->\n<g id=\"node3\" class=\"node\">\n<title>&#45;s</title>\n<ellipse fill=\"none\" stroke=\"black\" cx=\"227\" cy=\"-206.35\" rx=\"27\" ry=\"18\"/>\n<text text-anchor=\"middle\" x=\"227\" y=\"-202.65\" font-family=\"Times,serif\" font-size=\"14.00\">&#45;s</text>\n</g>\n<!-- disappearances&#45;&gt;&#45;s -->\n<g id=\"edge2\" class=\"edge\">\n<title>disappearances&#45;&gt;&#45;s</title>\n<path fill=\"none\" stroke=\"black\" d=\"M182.88,-269.49C190.73,-258.43 201.15,-243.76 209.89,-231.44\"/>\n<polygon fill=\"black\" stroke=\"black\" points=\"212.97,-233.16 215.9,-222.98 207.26,-229.11 212.97,-233.16\"/>\n</g>\n<!-- V\ndisappear -->\n<g id=\"node4\" class=\"node\">\n<title>V\ndisappear</title>\n<ellipse fill=\"none\" stroke=\"black\" cx=\"68\" cy=\"-116.61\" rx=\"48.17\" ry=\"26.74\"/>\n<text text-anchor=\"middle\" x=\"68\" y=\"-120.41\" font-family=\"Times,serif\" font-size=\"14.00\">V</text>\n<text text-anchor=\"middle\" x=\"68\" y=\"-105.41\" font-family=\"Times,serif\" font-size=\"14.00\">disappear</text>\n</g>\n<!-- N\ndisappearance&#45;&gt;V\ndisappear -->\n<g id=\"edge3\" class=\"edge\">\n<title>N\ndisappearance&#45;&gt;V\ndisappear</title>\n<path fill=\"none\" stroke=\"black\" d=\"M102.12,-179.97C97.25,-171.07 91.7,-160.93 86.51,-151.45\"/>\n<polygon fill=\"black\" stroke=\"black\" points=\"89.56,-149.72 81.69,-142.63 83.42,-153.08 89.56,-149.72\"/>\n</g>\n<!-- &#45;ance -->\n<g id=\"node5\" class=\"node\">\n<title>&#45;ance</title>\n<ellipse fill=\"none\" stroke=\"black\" cx=\"164\" cy=\"-116.61\" rx=\"29.8\" ry=\"18\"/>\n<text text-anchor=\"middle\" x=\"164\" y=\"-112.91\" font-family=\"Times,serif\" font-size=\"14.00\">&#45;ance</text>\n</g>\n<!-- N\ndisappearance&#45;&gt;&#45;ance -->\n<g id=\"edge4\" class=\"edge\">\n<title>N\ndisappearance&#45;&gt;&#45;ance</title>\n<path fill=\"none\" stroke=\"black\" d=\"M129.88,-179.97C136.31,-168.23 143.91,-154.33 150.31,-142.63\"/>\n<polygon fill=\"black\" stroke=\"black\" points=\"153.41,-144.26 155.14,-133.81 147.27,-140.9 153.41,-144.26\"/>\n</g>\n<!-- dis&#45; -->\n<g id=\"node6\" class=\"node\">\n<title>dis&#45;</title>\n<ellipse fill=\"none\" stroke=\"black\" cx=\"27\" cy=\"-26.87\" rx=\"27\" ry=\"18\"/>\n<text text-anchor=\"middle\" x=\"27\" y=\"-23.17\" font-family=\"Times,serif\" font-size=\"14.00\">dis&#45;</text>\n</g>\n<!-- V\ndisappear&#45;&gt;dis&#45; -->\n<g id=\"edge5\" class=\"edge\">\n<title>V\ndisappear&#45;&gt;dis&#45;</title>\n<path fill=\"none\" stroke=\"black\" d=\"M56.14,-90.23C50.75,-78.69 44.37,-65.05 38.97,-53.48\"/>\n<polygon fill=\"black\" stroke=\"black\" points=\"42.1,-51.91 34.69,-44.33 35.75,-54.87 42.1,-51.91\"/>\n</g>\n<!-- V\nappear -->\n<g id=\"node7\" class=\"node\">\n<title>V\nappear</title>\n<ellipse fill=\"none\" stroke=\"black\" cx=\"109\" cy=\"-26.87\" rx=\"37.45\" ry=\"26.74\"/>\n<text text-anchor=\"middle\" x=\"109\" y=\"-30.67\" font-family=\"Times,serif\" font-size=\"14.00\">V</text>\n<text text-anchor=\"middle\" x=\"109\" y=\"-15.67\" font-family=\"Times,serif\" font-size=\"14.00\">appear</text>\n</g>\n<!-- V\ndisappear&#45;&gt;V\nappear -->\n<g id=\"edge6\" class=\"edge\">\n<title>V\ndisappear&#45;&gt;V\nappear</title>\n<path fill=\"none\" stroke=\"black\" d=\"M79.86,-90.23C84.01,-81.35 88.74,-71.23 93.16,-61.76\"/>\n<polygon fill=\"black\" stroke=\"black\" points=\"96.39,-63.13 97.45,-52.59 90.05,-60.16 96.39,-63.13\"/>\n</g>\n</g>\n</svg>\n",
            "text/plain": [
              "<graphviz.graphs.Digraph at 0x7f2ed99dcfd0>"
            ]
          },
          "metadata": {},
          "execution_count": 33
        }
      ]
    },
    {
      "cell_type": "markdown",
      "source": [
        "###Colors.py"
      ],
      "metadata": {
        "id": "bbO0Ya1_CXnZ"
      }
    },
    {
      "cell_type": "code",
      "source": [
        "import graphviz\n",
        "\n",
        "g = graphviz.Graph(filename='colors.gv')\n",
        "\n",
        "red, green, blue = 64, 224, 208\n",
        "assert f'#{red:x}{green:x}{blue:x}' == '#40e0d0'\n",
        "\n",
        "g.node('RGB: #40e0d0', style='filled', fillcolor='#40e0d0')\n",
        "\n",
        "g.node('RGBA: #ff000042', style='filled', fillcolor='#ff000042')\n",
        "\n",
        "g.node('HSV: 0.051 0.718 0.627', style='filled', fillcolor='0.051 0.718 0.627')\n",
        "\n",
        "g.node('name: deeppink', style='filled', fillcolor='deeppink')\n",
        "\n",
        "g"
      ],
      "metadata": {
        "colab": {
          "base_uri": "https://localhost:8080/",
          "height": 79
        },
        "id": "pjYbL395CaOT",
        "outputId": "04ca69fe-ca97-407f-d3cb-8e5444ae13ad"
      },
      "execution_count": null,
      "outputs": [
        {
          "output_type": "execute_result",
          "data": {
            "image/svg+xml": "<?xml version=\"1.0\" encoding=\"UTF-8\" standalone=\"no\"?>\n<!DOCTYPE svg PUBLIC \"-//W3C//DTD SVG 1.1//EN\"\n \"http://www.w3.org/Graphics/SVG/1.1/DTD/svg11.dtd\">\n<!-- Generated by graphviz version 2.43.0 (0)\n -->\n<!-- Title: %3 Pages: 1 -->\n<svg width=\"672pt\" height=\"44pt\"\n viewBox=\"0.00 0.00 672.29 44.00\" xmlns=\"http://www.w3.org/2000/svg\" xmlns:xlink=\"http://www.w3.org/1999/xlink\">\n<g id=\"graph0\" class=\"graph\" transform=\"scale(1 1) rotate(0) translate(4 40)\">\n<title>%3</title>\n<polygon fill=\"white\" stroke=\"transparent\" points=\"-4,4 -4,-40 668.29,-40 668.29,4 -4,4\"/>\n<!-- RGB: #40e0d0 -->\n<g id=\"node1\" class=\"node\">\n<title>RGB: #40e0d0</title>\n<ellipse fill=\"#40e0d0\" stroke=\"black\" cx=\"63.69\" cy=\"-18\" rx=\"63.89\" ry=\"18\"/>\n<text text-anchor=\"middle\" x=\"63.69\" y=\"-14.3\" font-family=\"Times,serif\" font-size=\"14.00\">RGB: #40e0d0</text>\n</g>\n<!-- RGBA: #ff000042 -->\n<g id=\"node2\" class=\"node\">\n<title>RGBA: #ff000042</title>\n<ellipse fill=\"#ff0000\" fill-opacity=\"0.258824\" stroke=\"black\" cx=\"221.69\" cy=\"-18\" rx=\"76.89\" ry=\"18\"/>\n<text text-anchor=\"middle\" x=\"221.69\" y=\"-14.3\" font-family=\"Times,serif\" font-size=\"14.00\">RGBA: #ff000042</text>\n</g>\n<!-- HSV: 0.051 0.718 0.627 -->\n<g id=\"node3\" class=\"node\">\n<title>HSV: 0.051 0.718 0.627</title>\n<ellipse fill=\"#9f502d\" stroke=\"black\" cx=\"413.69\" cy=\"-18\" rx=\"97.48\" ry=\"18\"/>\n<text text-anchor=\"middle\" x=\"413.69\" y=\"-14.3\" font-family=\"Times,serif\" font-size=\"14.00\">HSV: 0.051 0.718 0.627</text>\n</g>\n<!-- name: deeppink -->\n<g id=\"node4\" class=\"node\">\n<title>name: deeppink</title>\n<ellipse fill=\"deeppink\" stroke=\"black\" cx=\"596.69\" cy=\"-18\" rx=\"67.69\" ry=\"18\"/>\n<text text-anchor=\"middle\" x=\"596.69\" y=\"-14.3\" font-family=\"Times,serif\" font-size=\"14.00\">name: deeppink</text>\n</g>\n</g>\n</svg>\n",
            "text/plain": [
              "<graphviz.graphs.Graph at 0x7fd7d73c5ac0>"
            ]
          },
          "metadata": {},
          "execution_count": 39
        }
      ]
    },
    {
      "cell_type": "markdown",
      "source": [
        "Gibe it a try [Nodes colored]"
      ],
      "metadata": {
        "id": "sjNCxt5JDjsv"
      }
    },
    {
      "cell_type": "code",
      "source": [
        "import graphviz\n",
        "\n",
        "g = graphviz.Digraph('G', filename='hello.gv')\n",
        "\n",
        "g.edge('thickeners', 'N\\nthickener')\n",
        "g.edge('thickeners', 's_b/s/i')\n",
        "g.edge('N\\nthickener', 'V\\nthicken')\n",
        "g.edge('N\\nthickener', 'er_b/s/d')\n",
        "g.edge('V\\nthicken', 'A\\nthick')\n",
        "g.edge('V\\nthicken', 'en_b/s/d')\n",
        "\n",
        "g.node('thickeners', style='filled', fillcolor='#40e0d0')\n",
        "\n",
        "g.node('s_b/s/i', style='filled', fillcolor='#ff000042')\n",
        "\n",
        "g.node('er_b/s/d', style='filled', fillcolor='0.051 0.718 0.627')\n",
        "\n",
        "g.node('en_b/s/d', style='filled', fillcolor='deeppink')\n",
        "\n",
        "\n",
        "g"
      ],
      "metadata": {
        "colab": {
          "base_uri": "https://localhost:8080/",
          "height": 438
        },
        "id": "Nhn0YS2LDqxG",
        "outputId": "17b02616-886c-44e8-8cb1-cbb396cafc1e"
      },
      "execution_count": null,
      "outputs": [
        {
          "output_type": "execute_result",
          "data": {
            "image/svg+xml": "<?xml version=\"1.0\" encoding=\"UTF-8\" standalone=\"no\"?>\n<!DOCTYPE svg PUBLIC \"-//W3C//DTD SVG 1.1//EN\"\n \"http://www.w3.org/Graphics/SVG/1.1/DTD/svg11.dtd\">\n<!-- Generated by graphviz version 2.43.0 (0)\n -->\n<!-- Title: G Pages: 1 -->\n<svg width=\"264pt\" height=\"313pt\"\n viewBox=\"0.00 0.00 263.91 313.22\" xmlns=\"http://www.w3.org/2000/svg\" xmlns:xlink=\"http://www.w3.org/1999/xlink\">\n<g id=\"graph0\" class=\"graph\" transform=\"scale(1 1) rotate(0) translate(4 309.22)\">\n<title>G</title>\n<polygon fill=\"white\" stroke=\"transparent\" points=\"-4,4 -4,-309.22 259.91,-309.22 259.91,4 -4,4\"/>\n<!-- thickeners -->\n<g id=\"node1\" class=\"node\">\n<title>thickeners</title>\n<ellipse fill=\"#40e0d0\" stroke=\"black\" cx=\"172.11\" cy=\"-287.22\" rx=\"46.59\" ry=\"18\"/>\n<text text-anchor=\"middle\" x=\"172.11\" y=\"-283.52\" font-family=\"Times,serif\" font-size=\"14.00\">thickeners</text>\n</g>\n<!-- N\nthickener -->\n<g id=\"node2\" class=\"node\">\n<title>N\nthickener</title>\n<ellipse fill=\"none\" stroke=\"black\" cx=\"123.11\" cy=\"-206.35\" rx=\"47.25\" ry=\"26.74\"/>\n<text text-anchor=\"middle\" x=\"123.11\" y=\"-210.15\" font-family=\"Times,serif\" font-size=\"14.00\">N</text>\n<text text-anchor=\"middle\" x=\"123.11\" y=\"-195.15\" font-family=\"Times,serif\" font-size=\"14.00\">thickener</text>\n</g>\n<!-- thickeners&#45;&gt;N\nthickener -->\n<g id=\"edge1\" class=\"edge\">\n<title>thickeners&#45;&gt;N\nthickener</title>\n<path fill=\"none\" stroke=\"black\" d=\"M161.72,-269.49C156.46,-261.03 149.89,-250.45 143.67,-240.43\"/>\n<polygon fill=\"black\" stroke=\"black\" points=\"146.58,-238.49 138.33,-231.84 140.63,-242.18 146.58,-238.49\"/>\n</g>\n<!-- s_b/s/i -->\n<g id=\"node3\" class=\"node\">\n<title>s_b/s/i</title>\n<ellipse fill=\"#ff0000\" fill-opacity=\"0.258824\" stroke=\"black\" cx=\"222.11\" cy=\"-206.35\" rx=\"33.6\" ry=\"18\"/>\n<text text-anchor=\"middle\" x=\"222.11\" y=\"-202.65\" font-family=\"Times,serif\" font-size=\"14.00\">s_b/s/i</text>\n</g>\n<!-- thickeners&#45;&gt;s_b/s/i -->\n<g id=\"edge2\" class=\"edge\">\n<title>thickeners&#45;&gt;s_b/s/i</title>\n<path fill=\"none\" stroke=\"black\" d=\"M182.72,-269.49C189.57,-258.68 198.61,-244.42 206.3,-232.29\"/>\n<polygon fill=\"black\" stroke=\"black\" points=\"209.47,-233.83 211.87,-223.51 203.56,-230.08 209.47,-233.83\"/>\n</g>\n<!-- V\nthicken -->\n<g id=\"node4\" class=\"node\">\n<title>V\nthicken</title>\n<ellipse fill=\"none\" stroke=\"black\" cx=\"75.11\" cy=\"-116.61\" rx=\"39.7\" ry=\"26.74\"/>\n<text text-anchor=\"middle\" x=\"75.11\" y=\"-120.41\" font-family=\"Times,serif\" font-size=\"14.00\">V</text>\n<text text-anchor=\"middle\" x=\"75.11\" y=\"-105.41\" font-family=\"Times,serif\" font-size=\"14.00\">thicken</text>\n</g>\n<!-- N\nthickener&#45;&gt;V\nthicken -->\n<g id=\"edge3\" class=\"edge\">\n<title>N\nthickener&#45;&gt;V\nthicken</title>\n<path fill=\"none\" stroke=\"black\" d=\"M109.49,-180.44C104.49,-171.3 98.74,-160.81 93.4,-151.04\"/>\n<polygon fill=\"black\" stroke=\"black\" points=\"96.31,-149.07 88.44,-141.97 90.17,-152.43 96.31,-149.07\"/>\n</g>\n<!-- er_b/s/d -->\n<g id=\"node5\" class=\"node\">\n<title>er_b/s/d</title>\n<ellipse fill=\"#9f502d\" stroke=\"black\" cx=\"172.11\" cy=\"-116.61\" rx=\"38.99\" ry=\"18\"/>\n<text text-anchor=\"middle\" x=\"172.11\" y=\"-112.91\" font-family=\"Times,serif\" font-size=\"14.00\">er_b/s/d</text>\n</g>\n<!-- N\nthickener&#45;&gt;er_b/s/d -->\n<g id=\"edge4\" class=\"edge\">\n<title>N\nthickener&#45;&gt;er_b/s/d</title>\n<path fill=\"none\" stroke=\"black\" d=\"M137.02,-180.44C143.54,-168.77 151.3,-154.88 157.86,-143.13\"/>\n<polygon fill=\"black\" stroke=\"black\" points=\"161,-144.69 162.82,-134.25 154.89,-141.27 161,-144.69\"/>\n</g>\n<!-- A\nthick -->\n<g id=\"node6\" class=\"node\">\n<title>A\nthick</title>\n<ellipse fill=\"none\" stroke=\"black\" cx=\"31.11\" cy=\"-26.87\" rx=\"31.23\" ry=\"26.74\"/>\n<text text-anchor=\"middle\" x=\"31.11\" y=\"-30.67\" font-family=\"Times,serif\" font-size=\"14.00\">A</text>\n<text text-anchor=\"middle\" x=\"31.11\" y=\"-15.67\" font-family=\"Times,serif\" font-size=\"14.00\">thick</text>\n</g>\n<!-- V\nthicken&#45;&gt;A\nthick -->\n<g id=\"edge5\" class=\"edge\">\n<title>V\nthicken&#45;&gt;A\nthick</title>\n<path fill=\"none\" stroke=\"black\" d=\"M62.62,-90.7C58,-81.49 52.69,-70.89 47.76,-61.06\"/>\n<polygon fill=\"black\" stroke=\"black\" points=\"50.79,-59.3 43.18,-51.93 44.53,-62.44 50.79,-59.3\"/>\n</g>\n<!-- en_b/s/d -->\n<g id=\"node7\" class=\"node\">\n<title>en_b/s/d</title>\n<ellipse fill=\"deeppink\" stroke=\"black\" cx=\"120.11\" cy=\"-26.87\" rx=\"40.09\" ry=\"18\"/>\n<text text-anchor=\"middle\" x=\"120.11\" y=\"-23.17\" font-family=\"Times,serif\" font-size=\"14.00\">en_b/s/d</text>\n</g>\n<!-- V\nthicken&#45;&gt;en_b/s/d -->\n<g id=\"edge6\" class=\"edge\">\n<title>V\nthicken&#45;&gt;en_b/s/d</title>\n<path fill=\"none\" stroke=\"black\" d=\"M87.89,-90.7C93.82,-79.14 100.86,-65.41 106.85,-53.74\"/>\n<polygon fill=\"black\" stroke=\"black\" points=\"110.13,-55 111.58,-44.51 103.9,-51.81 110.13,-55\"/>\n</g>\n</g>\n</svg>\n",
            "text/plain": [
              "<graphviz.graphs.Digraph at 0x7fd7d74fee20>"
            ]
          },
          "metadata": {},
          "execution_count": 40
        }
      ]
    },
    {
      "cell_type": "code",
      "source": [
        "import graphviz\n",
        "\n",
        "g = graphviz.Digraph('G', filename='hello.gv')\n",
        "\n",
        "g.edge('disappearances', 'N\\ndisappearance')\n",
        "g.edge('disappearances', '-s')\n",
        "\n",
        "g.edge('N\\ndisappearance','V\\ndisappear')\n",
        "g.edge('N\\ndisappearance','-ance')\n",
        "\n",
        "g.edge('V\\ndisappear', 'dis-')\n",
        "g.edge('V\\ndisappear', 'V\\nappear')\n",
        "\n",
        "g.node('dis-', style='filled', fillcolor='lightblue2')\n",
        "g.node('V\\nappear', style='filled', fillcolor='goldenrod2')\n",
        "g.node('-ance', style='filled', fillcolor='lightblue2')\n",
        "g.node('-s', style='filled', fillcolor='lightblue2')\n",
        "g"
      ],
      "metadata": {
        "id": "MF1jDKWdpict",
        "outputId": "a3ccae0c-93e4-4a9a-93b6-05b75c4c4daf",
        "colab": {
          "base_uri": "https://localhost:8080/",
          "height": 437
        }
      },
      "execution_count": 42,
      "outputs": [
        {
          "output_type": "execute_result",
          "data": {
            "image/svg+xml": "<?xml version=\"1.0\" encoding=\"UTF-8\" standalone=\"no\"?>\n<!DOCTYPE svg PUBLIC \"-//W3C//DTD SVG 1.1//EN\"\n \"http://www.w3.org/Graphics/SVG/1.1/DTD/svg11.dtd\">\n<!-- Generated by graphviz version 2.43.0 (0)\n -->\n<!-- Title: G Pages: 1 -->\n<svg width=\"262pt\" height=\"313pt\"\n viewBox=\"0.00 0.00 262.00 313.22\" xmlns=\"http://www.w3.org/2000/svg\" xmlns:xlink=\"http://www.w3.org/1999/xlink\">\n<g id=\"graph0\" class=\"graph\" transform=\"scale(1 1) rotate(0) translate(4 309.22)\">\n<title>G</title>\n<polygon fill=\"white\" stroke=\"transparent\" points=\"-4,4 -4,-309.22 258,-309.22 258,4 -4,4\"/>\n<!-- disappearances -->\n<g id=\"node1\" class=\"node\">\n<title>disappearances</title>\n<ellipse fill=\"none\" stroke=\"black\" cx=\"171\" cy=\"-287.22\" rx=\"63.89\" ry=\"18\"/>\n<text text-anchor=\"middle\" x=\"171\" y=\"-283.52\" font-family=\"Times,serif\" font-size=\"14.00\">disappearances</text>\n</g>\n<!-- N\ndisappearance -->\n<g id=\"node2\" class=\"node\">\n<title>N\ndisappearance</title>\n<ellipse fill=\"none\" stroke=\"black\" cx=\"116\" cy=\"-206.35\" rx=\"65.52\" ry=\"26.74\"/>\n<text text-anchor=\"middle\" x=\"116\" y=\"-210.15\" font-family=\"Times,serif\" font-size=\"14.00\">N</text>\n<text text-anchor=\"middle\" x=\"116\" y=\"-195.15\" font-family=\"Times,serif\" font-size=\"14.00\">disappearance</text>\n</g>\n<!-- disappearances&#45;&gt;N\ndisappearance -->\n<g id=\"edge1\" class=\"edge\">\n<title>disappearances&#45;&gt;N\ndisappearance</title>\n<path fill=\"none\" stroke=\"black\" d=\"M159.34,-269.49C153.53,-261.17 146.3,-250.8 139.42,-240.93\"/>\n<polygon fill=\"black\" stroke=\"black\" points=\"142.09,-238.65 133.5,-232.45 136.35,-242.65 142.09,-238.65\"/>\n</g>\n<!-- &#45;s -->\n<g id=\"node3\" class=\"node\">\n<title>&#45;s</title>\n<ellipse fill=\"#b2dfee\" stroke=\"black\" cx=\"227\" cy=\"-206.35\" rx=\"27\" ry=\"18\"/>\n<text text-anchor=\"middle\" x=\"227\" y=\"-202.65\" font-family=\"Times,serif\" font-size=\"14.00\">&#45;s</text>\n</g>\n<!-- disappearances&#45;&gt;&#45;s -->\n<g id=\"edge2\" class=\"edge\">\n<title>disappearances&#45;&gt;&#45;s</title>\n<path fill=\"none\" stroke=\"black\" d=\"M182.88,-269.49C190.73,-258.43 201.15,-243.76 209.89,-231.44\"/>\n<polygon fill=\"black\" stroke=\"black\" points=\"212.97,-233.16 215.9,-222.98 207.26,-229.11 212.97,-233.16\"/>\n</g>\n<!-- V\ndisappear -->\n<g id=\"node4\" class=\"node\">\n<title>V\ndisappear</title>\n<ellipse fill=\"none\" stroke=\"black\" cx=\"68\" cy=\"-116.61\" rx=\"48.17\" ry=\"26.74\"/>\n<text text-anchor=\"middle\" x=\"68\" y=\"-120.41\" font-family=\"Times,serif\" font-size=\"14.00\">V</text>\n<text text-anchor=\"middle\" x=\"68\" y=\"-105.41\" font-family=\"Times,serif\" font-size=\"14.00\">disappear</text>\n</g>\n<!-- N\ndisappearance&#45;&gt;V\ndisappear -->\n<g id=\"edge3\" class=\"edge\">\n<title>N\ndisappearance&#45;&gt;V\ndisappear</title>\n<path fill=\"none\" stroke=\"black\" d=\"M102.12,-179.97C97.25,-171.07 91.7,-160.93 86.51,-151.45\"/>\n<polygon fill=\"black\" stroke=\"black\" points=\"89.56,-149.72 81.69,-142.63 83.42,-153.08 89.56,-149.72\"/>\n</g>\n<!-- &#45;ance -->\n<g id=\"node5\" class=\"node\">\n<title>&#45;ance</title>\n<ellipse fill=\"#b2dfee\" stroke=\"black\" cx=\"164\" cy=\"-116.61\" rx=\"29.8\" ry=\"18\"/>\n<text text-anchor=\"middle\" x=\"164\" y=\"-112.91\" font-family=\"Times,serif\" font-size=\"14.00\">&#45;ance</text>\n</g>\n<!-- N\ndisappearance&#45;&gt;&#45;ance -->\n<g id=\"edge4\" class=\"edge\">\n<title>N\ndisappearance&#45;&gt;&#45;ance</title>\n<path fill=\"none\" stroke=\"black\" d=\"M129.88,-179.97C136.31,-168.23 143.91,-154.33 150.31,-142.63\"/>\n<polygon fill=\"black\" stroke=\"black\" points=\"153.41,-144.26 155.14,-133.81 147.27,-140.9 153.41,-144.26\"/>\n</g>\n<!-- dis&#45; -->\n<g id=\"node6\" class=\"node\">\n<title>dis&#45;</title>\n<ellipse fill=\"#b2dfee\" stroke=\"black\" cx=\"27\" cy=\"-26.87\" rx=\"27\" ry=\"18\"/>\n<text text-anchor=\"middle\" x=\"27\" y=\"-23.17\" font-family=\"Times,serif\" font-size=\"14.00\">dis&#45;</text>\n</g>\n<!-- V\ndisappear&#45;&gt;dis&#45; -->\n<g id=\"edge5\" class=\"edge\">\n<title>V\ndisappear&#45;&gt;dis&#45;</title>\n<path fill=\"none\" stroke=\"black\" d=\"M56.14,-90.23C50.75,-78.69 44.37,-65.05 38.97,-53.48\"/>\n<polygon fill=\"black\" stroke=\"black\" points=\"42.1,-51.91 34.69,-44.33 35.75,-54.87 42.1,-51.91\"/>\n</g>\n<!-- V\nappear -->\n<g id=\"node7\" class=\"node\">\n<title>V\nappear</title>\n<ellipse fill=\"#eeb422\" stroke=\"black\" cx=\"109\" cy=\"-26.87\" rx=\"37.45\" ry=\"26.74\"/>\n<text text-anchor=\"middle\" x=\"109\" y=\"-30.67\" font-family=\"Times,serif\" font-size=\"14.00\">V</text>\n<text text-anchor=\"middle\" x=\"109\" y=\"-15.67\" font-family=\"Times,serif\" font-size=\"14.00\">appear</text>\n</g>\n<!-- V\ndisappear&#45;&gt;V\nappear -->\n<g id=\"edge6\" class=\"edge\">\n<title>V\ndisappear&#45;&gt;V\nappear</title>\n<path fill=\"none\" stroke=\"black\" d=\"M79.86,-90.23C84.01,-81.35 88.74,-71.23 93.16,-61.76\"/>\n<polygon fill=\"black\" stroke=\"black\" points=\"96.39,-63.13 97.45,-52.59 90.05,-60.16 96.39,-63.13\"/>\n</g>\n</g>\n</svg>\n",
            "text/plain": [
              "<graphviz.graphs.Digraph at 0x7f2ed996efa0>"
            ]
          },
          "metadata": {},
          "execution_count": 42
        }
      ]
    },
    {
      "cell_type": "markdown",
      "source": [
        "# [Practice] Morphologival Analysis of Multiple-morpheme Words.Indicate the root morpheme with a different color.\n",
        "indecipherable, redarken\n"
      ],
      "metadata": {
        "id": "ti59daN88kAo"
      }
    },
    {
      "cell_type": "markdown",
      "source": [
        "#### Unix.py"
      ],
      "metadata": {
        "id": "G0exLPLt4Ov2"
      }
    },
    {
      "cell_type": "code",
      "source": [
        "import graphviz\n",
        "\n",
        "u = graphviz.Digraph('unix', filename='unix.gv',\n",
        "                     node_attr={'color': 'lightblue2', 'style': 'filled'})\n",
        "u.attr(size='20, 10')\n",
        "\n",
        "u.edge('5th Edition', '6th Edition')\n",
        "u.edge('5th Edition', 'PWB 1.0')\n",
        "u.edge('6th Edition', 'LSX')\n",
        "u.edge('6th Edition', '1 BSD')\n",
        "u.edge('6th Edition', 'Mini Unix')\n",
        "u.edge('6th Edition', 'Wollongong')\n",
        "u.edge('6th Edition', 'Interdata')\n",
        "u.edge('Interdata', 'Unix/TS 3.0')\n",
        "u.edge('Interdata', 'PWB 2.0')\n",
        "u.edge('Interdata', '7th Edition')\n",
        "\n",
        "\n",
        "u"
      ],
      "metadata": {
        "colab": {
          "base_uri": "https://localhost:8080/",
          "height": 367
        },
        "id": "Kj3Vej1n35-A",
        "outputId": "d9f49f3c-984d-48c5-ba92-f77fa5899915"
      },
      "execution_count": null,
      "outputs": [
        {
          "output_type": "execute_result",
          "data": {
            "image/svg+xml": "<?xml version=\"1.0\" encoding=\"UTF-8\" standalone=\"no\"?>\n<!DOCTYPE svg PUBLIC \"-//W3C//DTD SVG 1.1//EN\"\n \"http://www.w3.org/Graphics/SVG/1.1/DTD/svg11.dtd\">\n<!-- Generated by graphviz version 2.43.0 (0)\n -->\n<!-- Title: unix Pages: 1 -->\n<svg width=\"612pt\" height=\"260pt\"\n viewBox=\"0.00 0.00 612.34 260.00\" xmlns=\"http://www.w3.org/2000/svg\" xmlns:xlink=\"http://www.w3.org/1999/xlink\">\n<g id=\"graph0\" class=\"graph\" transform=\"scale(1 1) rotate(0) translate(4 256)\">\n<title>unix</title>\n<polygon fill=\"white\" stroke=\"transparent\" points=\"-4,4 -4,-256 608.34,-256 608.34,4 -4,4\"/>\n<!-- 5th Edition -->\n<g id=\"node1\" class=\"node\">\n<title>5th Edition</title>\n<ellipse fill=\"#b2dfee\" stroke=\"#b2dfee\" cx=\"264.3\" cy=\"-234\" rx=\"50.09\" ry=\"18\"/>\n<text text-anchor=\"middle\" x=\"264.3\" y=\"-230.3\" font-family=\"Times,serif\" font-size=\"14.00\">5th Edition</text>\n</g>\n<!-- 6th Edition -->\n<g id=\"node2\" class=\"node\">\n<title>6th Edition</title>\n<ellipse fill=\"#b2dfee\" stroke=\"#b2dfee\" cx=\"208.3\" cy=\"-162\" rx=\"50.09\" ry=\"18\"/>\n<text text-anchor=\"middle\" x=\"208.3\" y=\"-158.3\" font-family=\"Times,serif\" font-size=\"14.00\">6th Edition</text>\n</g>\n<!-- 5th Edition&#45;&gt;6th Edition -->\n<g id=\"edge1\" class=\"edge\">\n<title>5th Edition&#45;&gt;6th Edition</title>\n<path fill=\"none\" stroke=\"black\" d=\"M251.03,-216.41C244.12,-207.78 235.55,-197.06 227.9,-187.5\"/>\n<polygon fill=\"black\" stroke=\"black\" points=\"230.45,-185.09 221.47,-179.47 224.99,-189.47 230.45,-185.09\"/>\n</g>\n<!-- PWB 1.0 -->\n<g id=\"node3\" class=\"node\">\n<title>PWB 1.0</title>\n<ellipse fill=\"#b2dfee\" stroke=\"#b2dfee\" cx=\"320.3\" cy=\"-162\" rx=\"44.39\" ry=\"18\"/>\n<text text-anchor=\"middle\" x=\"320.3\" y=\"-158.3\" font-family=\"Times,serif\" font-size=\"14.00\">PWB 1.0</text>\n</g>\n<!-- 5th Edition&#45;&gt;PWB 1.0 -->\n<g id=\"edge2\" class=\"edge\">\n<title>5th Edition&#45;&gt;PWB 1.0</title>\n<path fill=\"none\" stroke=\"black\" d=\"M277.57,-216.41C284.47,-207.78 293.05,-197.06 300.7,-187.5\"/>\n<polygon fill=\"black\" stroke=\"black\" points=\"303.61,-189.47 307.12,-179.47 298.14,-185.09 303.61,-189.47\"/>\n</g>\n<!-- LSX -->\n<g id=\"node4\" class=\"node\">\n<title>LSX</title>\n<ellipse fill=\"#b2dfee\" stroke=\"#b2dfee\" cx=\"27.3\" cy=\"-90\" rx=\"27.1\" ry=\"18\"/>\n<text text-anchor=\"middle\" x=\"27.3\" y=\"-86.3\" font-family=\"Times,serif\" font-size=\"14.00\">LSX</text>\n</g>\n<!-- 6th Edition&#45;&gt;LSX -->\n<g id=\"edge3\" class=\"edge\">\n<title>6th Edition&#45;&gt;LSX</title>\n<path fill=\"none\" stroke=\"black\" d=\"M173.38,-149.01C144.03,-138.72 101.11,-123.2 64.3,-108 62.44,-107.23 60.53,-106.42 58.61,-105.59\"/>\n<polygon fill=\"black\" stroke=\"black\" points=\"59.65,-102.22 49.09,-101.35 56.8,-108.62 59.65,-102.22\"/>\n</g>\n<!-- 1 BSD -->\n<g id=\"node5\" class=\"node\">\n<title>1 BSD</title>\n<ellipse fill=\"#b2dfee\" stroke=\"#b2dfee\" cx=\"107.3\" cy=\"-90\" rx=\"34.39\" ry=\"18\"/>\n<text text-anchor=\"middle\" x=\"107.3\" y=\"-86.3\" font-family=\"Times,serif\" font-size=\"14.00\">1 BSD</text>\n</g>\n<!-- 6th Edition&#45;&gt;1 BSD -->\n<g id=\"edge4\" class=\"edge\">\n<title>6th Edition&#45;&gt;1 BSD</title>\n<path fill=\"none\" stroke=\"black\" d=\"M186.38,-145.81C171.5,-135.5 151.68,-121.76 135.61,-110.62\"/>\n<polygon fill=\"black\" stroke=\"black\" points=\"137.33,-107.56 127.12,-104.74 133.34,-113.31 137.33,-107.56\"/>\n</g>\n<!-- Mini Unix -->\n<g id=\"node6\" class=\"node\">\n<title>Mini Unix</title>\n<ellipse fill=\"#b2dfee\" stroke=\"#b2dfee\" cx=\"208.3\" cy=\"-90\" rx=\"48.19\" ry=\"18\"/>\n<text text-anchor=\"middle\" x=\"208.3\" y=\"-86.3\" font-family=\"Times,serif\" font-size=\"14.00\">Mini Unix</text>\n</g>\n<!-- 6th Edition&#45;&gt;Mini Unix -->\n<g id=\"edge5\" class=\"edge\">\n<title>6th Edition&#45;&gt;Mini Unix</title>\n<path fill=\"none\" stroke=\"black\" d=\"M208.3,-143.7C208.3,-135.98 208.3,-126.71 208.3,-118.11\"/>\n<polygon fill=\"black\" stroke=\"black\" points=\"211.8,-118.1 208.3,-108.1 204.8,-118.1 211.8,-118.1\"/>\n</g>\n<!-- Wollongong -->\n<g id=\"node7\" class=\"node\">\n<title>Wollongong</title>\n<ellipse fill=\"#b2dfee\" stroke=\"#b2dfee\" cx=\"328.3\" cy=\"-90\" rx=\"53.89\" ry=\"18\"/>\n<text text-anchor=\"middle\" x=\"328.3\" y=\"-86.3\" font-family=\"Times,serif\" font-size=\"14.00\">Wollongong</text>\n</g>\n<!-- 6th Edition&#45;&gt;Wollongong -->\n<g id=\"edge6\" class=\"edge\">\n<title>6th Edition&#45;&gt;Wollongong</title>\n<path fill=\"none\" stroke=\"black\" d=\"M233.45,-146.33C251.02,-136.08 274.67,-122.28 293.96,-111.03\"/>\n<polygon fill=\"black\" stroke=\"black\" points=\"295.89,-113.96 302.76,-105.9 292.36,-107.91 295.89,-113.96\"/>\n</g>\n<!-- Interdata -->\n<g id=\"node8\" class=\"node\">\n<title>Interdata</title>\n<ellipse fill=\"#b2dfee\" stroke=\"#b2dfee\" cx=\"442.3\" cy=\"-90\" rx=\"42.49\" ry=\"18\"/>\n<text text-anchor=\"middle\" x=\"442.3\" y=\"-86.3\" font-family=\"Times,serif\" font-size=\"14.00\">Interdata</text>\n</g>\n<!-- 6th Edition&#45;&gt;Interdata -->\n<g id=\"edge7\" class=\"edge\">\n<title>6th Edition&#45;&gt;Interdata</title>\n<path fill=\"none\" stroke=\"black\" d=\"M246.09,-150.1C297.58,-135.24 384.23,-110.2 391.3,-108 394.37,-107.04 397.54,-106.03 400.73,-105.01\"/>\n<polygon fill=\"black\" stroke=\"black\" points=\"401.84,-108.33 410.26,-101.9 399.67,-101.67 401.84,-108.33\"/>\n</g>\n<!-- Unix/TS 3.0 -->\n<g id=\"node9\" class=\"node\">\n<title>Unix/TS 3.0</title>\n<ellipse fill=\"#b2dfee\" stroke=\"#b2dfee\" cx=\"325.3\" cy=\"-18\" rx=\"54.69\" ry=\"18\"/>\n<text text-anchor=\"middle\" x=\"325.3\" y=\"-14.3\" font-family=\"Times,serif\" font-size=\"14.00\">Unix/TS 3.0</text>\n</g>\n<!-- Interdata&#45;&gt;Unix/TS 3.0 -->\n<g id=\"edge8\" class=\"edge\">\n<title>Interdata&#45;&gt;Unix/TS 3.0</title>\n<path fill=\"none\" stroke=\"black\" d=\"M418.9,-75C401.86,-64.81 378.51,-50.84 359.4,-39.4\"/>\n<polygon fill=\"black\" stroke=\"black\" points=\"361.06,-36.32 350.68,-34.19 357.46,-42.32 361.06,-36.32\"/>\n</g>\n<!-- PWB 2.0 -->\n<g id=\"node10\" class=\"node\">\n<title>PWB 2.0</title>\n<ellipse fill=\"#b2dfee\" stroke=\"#b2dfee\" cx=\"442.3\" cy=\"-18\" rx=\"44.39\" ry=\"18\"/>\n<text text-anchor=\"middle\" x=\"442.3\" y=\"-14.3\" font-family=\"Times,serif\" font-size=\"14.00\">PWB 2.0</text>\n</g>\n<!-- Interdata&#45;&gt;PWB 2.0 -->\n<g id=\"edge9\" class=\"edge\">\n<title>Interdata&#45;&gt;PWB 2.0</title>\n<path fill=\"none\" stroke=\"black\" d=\"M442.3,-71.7C442.3,-63.98 442.3,-54.71 442.3,-46.11\"/>\n<polygon fill=\"black\" stroke=\"black\" points=\"445.8,-46.1 442.3,-36.1 438.8,-46.1 445.8,-46.1\"/>\n</g>\n<!-- 7th Edition -->\n<g id=\"node11\" class=\"node\">\n<title>7th Edition</title>\n<ellipse fill=\"#b2dfee\" stroke=\"#b2dfee\" cx=\"554.3\" cy=\"-18\" rx=\"50.09\" ry=\"18\"/>\n<text text-anchor=\"middle\" x=\"554.3\" y=\"-14.3\" font-family=\"Times,serif\" font-size=\"14.00\">7th Edition</text>\n</g>\n<!-- Interdata&#45;&gt;7th Edition -->\n<g id=\"edge10\" class=\"edge\">\n<title>Interdata&#45;&gt;7th Edition</title>\n<path fill=\"none\" stroke=\"black\" d=\"M465.23,-74.67C481.51,-64.49 503.6,-50.69 521.71,-39.37\"/>\n<polygon fill=\"black\" stroke=\"black\" points=\"523.61,-42.31 530.23,-34.04 519.9,-36.37 523.61,-42.31\"/>\n</g>\n</g>\n</svg>\n",
            "text/plain": [
              "<graphviz.graphs.Digraph at 0x7fd804158c70>"
            ]
          },
          "metadata": {},
          "execution_count": 10
        }
      ]
    },
    {
      "cell_type": "markdown",
      "source": [
        "###Give it a try [colored]"
      ],
      "metadata": {
        "id": "L5QxN0Bv7mvD"
      }
    },
    {
      "cell_type": "code",
      "source": [
        "import graphviz\n",
        "\n",
        "u = graphviz.Digraph('unix', filename='unix.gv',\n",
        "                     node_attr={'color': 'goldenrod2', 'style': 'filled'})\n",
        "u.attr(size='20, 10')\n",
        "\n",
        "u.edge('thinkeners', 'N\\nthickener')\n",
        "u.edge('thinkeners', 's_b/s/i')\n",
        "u.edge('N\\nthickener', 'V\\nthicken')\n",
        "u.edge('N\\nthickener', 'er_b/s/d')\n",
        "u.edge('V\\nthicken', 'A\\nthick')\n",
        "u.edge('V\\nthicken', 'en_b/s/d')\n",
        "\n",
        "u"
      ],
      "metadata": {
        "colab": {
          "base_uri": "https://localhost:8080/",
          "height": 438
        },
        "id": "Ytg4QtIa_M3m",
        "outputId": "d3600746-a040-4875-d171-82d4ed854e03"
      },
      "execution_count": null,
      "outputs": [
        {
          "output_type": "execute_result",
          "data": {
            "image/svg+xml": "<?xml version=\"1.0\" encoding=\"UTF-8\" standalone=\"no\"?>\n<!DOCTYPE svg PUBLIC \"-//W3C//DTD SVG 1.1//EN\"\n \"http://www.w3.org/Graphics/SVG/1.1/DTD/svg11.dtd\">\n<!-- Generated by graphviz version 2.43.0 (0)\n -->\n<!-- Title: unix Pages: 1 -->\n<svg width=\"264pt\" height=\"313pt\"\n viewBox=\"0.00 0.00 263.91 313.22\" xmlns=\"http://www.w3.org/2000/svg\" xmlns:xlink=\"http://www.w3.org/1999/xlink\">\n<g id=\"graph0\" class=\"graph\" transform=\"scale(1 1) rotate(0) translate(4 309.22)\">\n<title>unix</title>\n<polygon fill=\"white\" stroke=\"transparent\" points=\"-4,4 -4,-309.22 259.91,-309.22 259.91,4 -4,4\"/>\n<!-- thinkeners -->\n<g id=\"node1\" class=\"node\">\n<title>thinkeners</title>\n<ellipse fill=\"#eeb422\" stroke=\"#eeb422\" cx=\"172.11\" cy=\"-287.22\" rx=\"47.39\" ry=\"18\"/>\n<text text-anchor=\"middle\" x=\"172.11\" y=\"-283.52\" font-family=\"Times,serif\" font-size=\"14.00\">thinkeners</text>\n</g>\n<!-- N\nthickener -->\n<g id=\"node2\" class=\"node\">\n<title>N\nthickener</title>\n<ellipse fill=\"#eeb422\" stroke=\"#eeb422\" cx=\"123.11\" cy=\"-206.35\" rx=\"47.25\" ry=\"26.74\"/>\n<text text-anchor=\"middle\" x=\"123.11\" y=\"-210.15\" font-family=\"Times,serif\" font-size=\"14.00\">N</text>\n<text text-anchor=\"middle\" x=\"123.11\" y=\"-195.15\" font-family=\"Times,serif\" font-size=\"14.00\">thickener</text>\n</g>\n<!-- thinkeners&#45;&gt;N\nthickener -->\n<g id=\"edge1\" class=\"edge\">\n<title>thinkeners&#45;&gt;N\nthickener</title>\n<path fill=\"none\" stroke=\"black\" d=\"M161.72,-269.49C156.46,-261.03 149.89,-250.45 143.67,-240.43\"/>\n<polygon fill=\"black\" stroke=\"black\" points=\"146.58,-238.49 138.33,-231.84 140.63,-242.18 146.58,-238.49\"/>\n</g>\n<!-- s_b/s/i -->\n<g id=\"node3\" class=\"node\">\n<title>s_b/s/i</title>\n<ellipse fill=\"#eeb422\" stroke=\"#eeb422\" cx=\"222.11\" cy=\"-206.35\" rx=\"33.6\" ry=\"18\"/>\n<text text-anchor=\"middle\" x=\"222.11\" y=\"-202.65\" font-family=\"Times,serif\" font-size=\"14.00\">s_b/s/i</text>\n</g>\n<!-- thinkeners&#45;&gt;s_b/s/i -->\n<g id=\"edge2\" class=\"edge\">\n<title>thinkeners&#45;&gt;s_b/s/i</title>\n<path fill=\"none\" stroke=\"black\" d=\"M182.72,-269.49C189.57,-258.68 198.61,-244.42 206.3,-232.29\"/>\n<polygon fill=\"black\" stroke=\"black\" points=\"209.47,-233.83 211.87,-223.51 203.56,-230.08 209.47,-233.83\"/>\n</g>\n<!-- V\nthicken -->\n<g id=\"node4\" class=\"node\">\n<title>V\nthicken</title>\n<ellipse fill=\"#eeb422\" stroke=\"#eeb422\" cx=\"75.11\" cy=\"-116.61\" rx=\"39.7\" ry=\"26.74\"/>\n<text text-anchor=\"middle\" x=\"75.11\" y=\"-120.41\" font-family=\"Times,serif\" font-size=\"14.00\">V</text>\n<text text-anchor=\"middle\" x=\"75.11\" y=\"-105.41\" font-family=\"Times,serif\" font-size=\"14.00\">thicken</text>\n</g>\n<!-- N\nthickener&#45;&gt;V\nthicken -->\n<g id=\"edge3\" class=\"edge\">\n<title>N\nthickener&#45;&gt;V\nthicken</title>\n<path fill=\"none\" stroke=\"black\" d=\"M109.49,-180.44C104.49,-171.3 98.74,-160.81 93.4,-151.04\"/>\n<polygon fill=\"black\" stroke=\"black\" points=\"96.31,-149.07 88.44,-141.97 90.17,-152.43 96.31,-149.07\"/>\n</g>\n<!-- er_b/s/d -->\n<g id=\"node5\" class=\"node\">\n<title>er_b/s/d</title>\n<ellipse fill=\"#eeb422\" stroke=\"#eeb422\" cx=\"172.11\" cy=\"-116.61\" rx=\"38.99\" ry=\"18\"/>\n<text text-anchor=\"middle\" x=\"172.11\" y=\"-112.91\" font-family=\"Times,serif\" font-size=\"14.00\">er_b/s/d</text>\n</g>\n<!-- N\nthickener&#45;&gt;er_b/s/d -->\n<g id=\"edge4\" class=\"edge\">\n<title>N\nthickener&#45;&gt;er_b/s/d</title>\n<path fill=\"none\" stroke=\"black\" d=\"M137.02,-180.44C143.54,-168.77 151.3,-154.88 157.86,-143.13\"/>\n<polygon fill=\"black\" stroke=\"black\" points=\"161,-144.69 162.82,-134.25 154.89,-141.27 161,-144.69\"/>\n</g>\n<!-- A\nthick -->\n<g id=\"node6\" class=\"node\">\n<title>A\nthick</title>\n<ellipse fill=\"#eeb422\" stroke=\"#eeb422\" cx=\"31.11\" cy=\"-26.87\" rx=\"31.23\" ry=\"26.74\"/>\n<text text-anchor=\"middle\" x=\"31.11\" y=\"-30.67\" font-family=\"Times,serif\" font-size=\"14.00\">A</text>\n<text text-anchor=\"middle\" x=\"31.11\" y=\"-15.67\" font-family=\"Times,serif\" font-size=\"14.00\">thick</text>\n</g>\n<!-- V\nthicken&#45;&gt;A\nthick -->\n<g id=\"edge5\" class=\"edge\">\n<title>V\nthicken&#45;&gt;A\nthick</title>\n<path fill=\"none\" stroke=\"black\" d=\"M62.62,-90.7C58,-81.49 52.69,-70.89 47.76,-61.06\"/>\n<polygon fill=\"black\" stroke=\"black\" points=\"50.79,-59.3 43.18,-51.93 44.53,-62.44 50.79,-59.3\"/>\n</g>\n<!-- en_b/s/d -->\n<g id=\"node7\" class=\"node\">\n<title>en_b/s/d</title>\n<ellipse fill=\"#eeb422\" stroke=\"#eeb422\" cx=\"120.11\" cy=\"-26.87\" rx=\"40.09\" ry=\"18\"/>\n<text text-anchor=\"middle\" x=\"120.11\" y=\"-23.17\" font-family=\"Times,serif\" font-size=\"14.00\">en_b/s/d</text>\n</g>\n<!-- V\nthicken&#45;&gt;en_b/s/d -->\n<g id=\"edge6\" class=\"edge\">\n<title>V\nthicken&#45;&gt;en_b/s/d</title>\n<path fill=\"none\" stroke=\"black\" d=\"M87.89,-90.7C93.82,-79.14 100.86,-65.41 106.85,-53.74\"/>\n<polygon fill=\"black\" stroke=\"black\" points=\"110.13,-55 111.58,-44.51 103.9,-51.81 110.13,-55\"/>\n</g>\n</g>\n</svg>\n",
            "text/plain": [
              "<graphviz.graphs.Digraph at 0x7f4560ef0940>"
            ]
          },
          "metadata": {},
          "execution_count": 1
        }
      ]
    },
    {
      "cell_type": "markdown",
      "source": [
        "# [Practice] Morphologival Analysis of Multiple-morpheme Words. Draw two structures for *undarkenable* to reveal its two meanings: 1)'able to be less dark' and 2)'unable to be made dark.' Fill the nodes of each meaning with a different color.\n"
      ],
      "metadata": {
        "id": "WZ1og4Bb89Lv"
      }
    },
    {
      "cell_type": "code",
      "source": [],
      "metadata": {
        "id": "B7g3B_DT88oS"
      },
      "execution_count": null,
      "outputs": []
    }
  ]
}