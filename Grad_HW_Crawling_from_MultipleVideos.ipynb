{
  "nbformat": 4,
  "nbformat_minor": 0,
  "metadata": {
    "colab": {
      "provenance": [],
      "authorship_tag": "ABX9TyNUoFcCeW5h+kDxRZKc/mHs",
      "include_colab_link": true
    },
    "kernelspec": {
      "name": "python3",
      "display_name": "Python 3"
    },
    "language_info": {
      "name": "python"
    }
  },
  "cells": [
    {
      "cell_type": "markdown",
      "metadata": {
        "id": "view-in-github",
        "colab_type": "text"
      },
      "source": [
        "<a href=\"https://colab.research.google.com/github/jyoon0319/2023S/blob/main/Grad_HW_Crawling_from_MultipleVideos.ipynb\" target=\"_parent\"><img src=\"https://colab.research.google.com/assets/colab-badge.svg\" alt=\"Open In Colab\"/></a>"
      ]
    },
    {
      "cell_type": "markdown",
      "source": [
        "https://velog.io/@nellholic108/%EC%9C%A0%ED%8A%9C%EB%B8%8C-API-%EB%8C%93%EA%B8%80-%EA%B0%80%EC%A0%B8%EC%98%A4%EA%B8%B0-%ED%95%A8%EC%88%98"
      ],
      "metadata": {
        "id": "AIq3esB8mE_v"
      }
    },
    {
      "cell_type": "code",
      "execution_count": null,
      "metadata": {
        "id": "VIPh2F3pmBub"
      },
      "outputs": [],
      "source": [
        "# 필요 라이브러리 import\n",
        "\n",
        "## 데이터 프레임 다루기 위해\n",
        "import pandas as pd\n",
        "\n",
        "## 구글 api(유튜브) 연결\n",
        "from googleapiclient.discovery import build\n",
        "\n",
        "## 진행상황 파악\n",
        "from tqdm import tqdm"
      ]
    },
    {
      "cell_type": "code",
      "source": [
        "from urllib.parse import urlparse, parse_qs\n",
        "\n",
        "def collect_comments(video_list, result_list, api_key):\n",
        "    api_obj = build('youtube', 'v3', developerKey=api_key)\n",
        "    shape_count = []\n",
        "    \n",
        "    for video_url in tqdm(video_list, desc=\"Collecting Comments from YouTube...\"):\n",
        "        video_id = parse_qs(urlparse(video_url).query)['v'][0]\n",
        "        response = api_obj.commentThreads().list(\n",
        "            part='snippet,replies',\n",
        "            videoId=video_id,\n",
        "            maxResults=100\n",
        "        ).execute()\n",
        "        \n",
        "        comments = []\n",
        "        while response:\n",
        "            for item in response['items']:\n",
        "                comment = item['snippet']['topLevelComment']['snippet']\n",
        "                comments.append([comment['textDisplay'], comment['publishedAt'], comment['likeCount']])\n",
        "\n",
        "                if item['snippet']['totalReplyCount'] > 0:\n",
        "                    for reply_item in item['replies']['comments']:\n",
        "                        reply = reply_item['snippet']\n",
        "                        comments.append([reply['textDisplay'], reply['publishedAt'], reply['likeCount']])\n",
        "                        \n",
        "            if 'nextPageToken' in response:\n",
        "                response = api_obj.commentThreads().list(\n",
        "                    part='snippet,replies',\n",
        "                    videoId=video_id,\n",
        "                    pageToken=response['nextPageToken'],\n",
        "                    maxResults=100\n",
        "                ).execute()\n",
        "            else:\n",
        "                break\n",
        "        \n",
        "        df = pd.DataFrame(comments, columns=[\"comment\", \"datetime\", \"like_count\"])\n",
        "        df = df.dropna(axis=0)\n",
        "        \n",
        "        print(f\"{video_id}: {df.shape}\")\n",
        "        shape_count.append(df.shape[0])\n",
        "        result_list.append(df)\n",
        "    \n",
        "    result_list = pd.concat(result_list, ignore_index=True)\n",
        "    \n",
        "    if sum(shape_count) == result_list.shape[0]:\n",
        "        print(\"The total count matches.\")\n",
        "        return result_list\n",
        "    else:\n",
        "        print(f\"Sum: {sum(shape_count)} / {result_list.shape[0]}. The counts do not match.\")\n",
        "        return result_list"
      ],
      "metadata": {
        "id": "6SCQHp7Jt_Zd"
      },
      "execution_count": null,
      "outputs": []
    },
    {
      "cell_type": "markdown",
      "source": [
        "Your API: ?? (+ video urls)"
      ],
      "metadata": {
        "id": "tCKMy1PqmxSB"
      }
    },
    {
      "cell_type": "code",
      "source": [
        "#collect_comments (video_list, result_list, api_key)\n",
        "result_list = []\n",
        "video_list = [\"https://www.youtube.com/watch?v=614jiKgMhwg&t=2s\", \"https://www.youtube.com/watch?v=4Ze6O7CJxZY&t=46s\", \"https://www.youtube.com/watch?v=90rgSW3dDVM&t=62s\", \"https://www.youtube.com/watch?v=Do5asVYNQoQ&t=33s\", \"https://www.youtube.com/watch?v=g6pquvaqObo\"]\n",
        "api_key = ''\n",
        "df = collect_comments (video_list, result_list, api_key)"
      ],
      "metadata": {
        "colab": {
          "base_uri": "https://localhost:8080/"
        },
        "id": "CPgzBN6qmu9q",
        "outputId": "7da50caa-40a6-4b43-eaef-a8a6da7b2d48"
      },
      "execution_count": null,
      "outputs": [
        {
          "output_type": "stream",
          "name": "stderr",
          "text": [
            "Collecting Comments from YouTube...:  20%|██        | 1/5 [00:01<00:04,  1.08s/it]"
          ]
        },
        {
          "output_type": "stream",
          "name": "stdout",
          "text": [
            "614jiKgMhwg: (834, 3)\n"
          ]
        },
        {
          "output_type": "stream",
          "name": "stderr",
          "text": [
            "Collecting Comments from YouTube...:  60%|██████    | 3/5 [00:01<00:01,  1.88it/s]"
          ]
        },
        {
          "output_type": "stream",
          "name": "stdout",
          "text": [
            "4Ze6O7CJxZY: (654, 3)\n",
            "90rgSW3dDVM: (166, 3)\n"
          ]
        },
        {
          "output_type": "stream",
          "name": "stderr",
          "text": [
            "Collecting Comments from YouTube...: 100%|██████████| 5/5 [00:02<00:00,  1.76it/s]"
          ]
        },
        {
          "output_type": "stream",
          "name": "stdout",
          "text": [
            "Do5asVYNQoQ: (498, 3)\n",
            "g6pquvaqObo: (20, 3)\n",
            "The total count matches.\n"
          ]
        },
        {
          "output_type": "stream",
          "name": "stderr",
          "text": [
            "\n"
          ]
        }
      ]
    },
    {
      "cell_type": "markdown",
      "source": [
        "2. 언어별 엑셀로 저장하기"
      ],
      "metadata": {
        "id": "HjO152_nwsNl"
      }
    },
    {
      "cell_type": "code",
      "source": [
        "# Separate different language into different spread sheets\n",
        "# Installation\n",
        "import pandas as pd\n",
        "! pip install langdetect\n",
        "from langdetect import detect"
      ],
      "metadata": {
        "colab": {
          "base_uri": "https://localhost:8080/"
        },
        "id": "uapWcwYwwvpW",
        "outputId": "6a15d3cf-62df-4485-825a-1700babfcf18"
      },
      "execution_count": null,
      "outputs": [
        {
          "output_type": "stream",
          "name": "stdout",
          "text": [
            "Looking in indexes: https://pypi.org/simple, https://us-python.pkg.dev/colab-wheels/public/simple/\n",
            "Collecting langdetect\n",
            "  Downloading langdetect-1.0.9.tar.gz (981 kB)\n",
            "\u001b[2K     \u001b[90m━━━━━━━━━━━━━━━━━━━━━━━━━━━━━━━━━━━━━━\u001b[0m \u001b[32m981.5/981.5 kB\u001b[0m \u001b[31m13.2 MB/s\u001b[0m eta \u001b[36m0:00:00\u001b[0m\n",
            "\u001b[?25h  Preparing metadata (setup.py) ... \u001b[?25l\u001b[?25hdone\n",
            "Requirement already satisfied: six in /usr/local/lib/python3.10/dist-packages (from langdetect) (1.16.0)\n",
            "Building wheels for collected packages: langdetect\n",
            "  Building wheel for langdetect (setup.py) ... \u001b[?25l\u001b[?25hdone\n",
            "  Created wheel for langdetect: filename=langdetect-1.0.9-py3-none-any.whl size=993224 sha256=763c020da7aaa3744bc52eb521f49243592b61411b885dd663808c44ee01469b\n",
            "  Stored in directory: /root/.cache/pip/wheels/95/03/7d/59ea870c70ce4e5a370638b5462a7711ab78fba2f655d05106\n",
            "Successfully built langdetect\n",
            "Installing collected packages: langdetect\n",
            "Successfully installed langdetect-1.0.9\n"
          ]
        }
      ]
    },
    {
      "cell_type": "code",
      "source": [
        "df.head()"
      ],
      "metadata": {
        "colab": {
          "base_uri": "https://localhost:8080/",
          "height": 206
        },
        "id": "AQHfG-E1w3Kk",
        "outputId": "21a452e1-6c51-4ac1-b7ec-8b5e72f573a5"
      },
      "execution_count": null,
      "outputs": [
        {
          "output_type": "execute_result",
          "data": {
            "text/plain": [
              "                                             comment              datetime  \\\n",
              "0  Could be a much devotion and respect to your m...  2023-05-29T17:51:55Z   \n",
              "1  Sadly his people distrust his relationship wit...  2023-05-21T07:44:31Z   \n",
              "2  Hello im korean!<br>He was able to be presiden...  2023-05-30T06:50:57Z   \n",
              "3  99% All south korean men go to military and we...  2023-05-21T02:49:59Z   \n",
              "4  is he very much like an ship ?   !??  to usa  ...  2023-05-19T19:35:40Z   \n",
              "\n",
              "   like_count  \n",
              "0           0  \n",
              "1           0  \n",
              "2           0  \n",
              "3           1  \n",
              "4           0  "
            ],
            "text/html": [
              "\n",
              "  <div id=\"df-0d6275ee-5d4c-4673-819d-592b738e83ac\">\n",
              "    <div class=\"colab-df-container\">\n",
              "      <div>\n",
              "<style scoped>\n",
              "    .dataframe tbody tr th:only-of-type {\n",
              "        vertical-align: middle;\n",
              "    }\n",
              "\n",
              "    .dataframe tbody tr th {\n",
              "        vertical-align: top;\n",
              "    }\n",
              "\n",
              "    .dataframe thead th {\n",
              "        text-align: right;\n",
              "    }\n",
              "</style>\n",
              "<table border=\"1\" class=\"dataframe\">\n",
              "  <thead>\n",
              "    <tr style=\"text-align: right;\">\n",
              "      <th></th>\n",
              "      <th>comment</th>\n",
              "      <th>datetime</th>\n",
              "      <th>like_count</th>\n",
              "    </tr>\n",
              "  </thead>\n",
              "  <tbody>\n",
              "    <tr>\n",
              "      <th>0</th>\n",
              "      <td>Could be a much devotion and respect to your m...</td>\n",
              "      <td>2023-05-29T17:51:55Z</td>\n",
              "      <td>0</td>\n",
              "    </tr>\n",
              "    <tr>\n",
              "      <th>1</th>\n",
              "      <td>Sadly his people distrust his relationship wit...</td>\n",
              "      <td>2023-05-21T07:44:31Z</td>\n",
              "      <td>0</td>\n",
              "    </tr>\n",
              "    <tr>\n",
              "      <th>2</th>\n",
              "      <td>Hello im korean!&lt;br&gt;He was able to be presiden...</td>\n",
              "      <td>2023-05-30T06:50:57Z</td>\n",
              "      <td>0</td>\n",
              "    </tr>\n",
              "    <tr>\n",
              "      <th>3</th>\n",
              "      <td>99% All south korean men go to military and we...</td>\n",
              "      <td>2023-05-21T02:49:59Z</td>\n",
              "      <td>1</td>\n",
              "    </tr>\n",
              "    <tr>\n",
              "      <th>4</th>\n",
              "      <td>is he very much like an ship ?   !??  to usa  ...</td>\n",
              "      <td>2023-05-19T19:35:40Z</td>\n",
              "      <td>0</td>\n",
              "    </tr>\n",
              "  </tbody>\n",
              "</table>\n",
              "</div>\n",
              "      <button class=\"colab-df-convert\" onclick=\"convertToInteractive('df-0d6275ee-5d4c-4673-819d-592b738e83ac')\"\n",
              "              title=\"Convert this dataframe to an interactive table.\"\n",
              "              style=\"display:none;\">\n",
              "        \n",
              "  <svg xmlns=\"http://www.w3.org/2000/svg\" height=\"24px\"viewBox=\"0 0 24 24\"\n",
              "       width=\"24px\">\n",
              "    <path d=\"M0 0h24v24H0V0z\" fill=\"none\"/>\n",
              "    <path d=\"M18.56 5.44l.94 2.06.94-2.06 2.06-.94-2.06-.94-.94-2.06-.94 2.06-2.06.94zm-11 1L8.5 8.5l.94-2.06 2.06-.94-2.06-.94L8.5 2.5l-.94 2.06-2.06.94zm10 10l.94 2.06.94-2.06 2.06-.94-2.06-.94-.94-2.06-.94 2.06-2.06.94z\"/><path d=\"M17.41 7.96l-1.37-1.37c-.4-.4-.92-.59-1.43-.59-.52 0-1.04.2-1.43.59L10.3 9.45l-7.72 7.72c-.78.78-.78 2.05 0 2.83L4 21.41c.39.39.9.59 1.41.59.51 0 1.02-.2 1.41-.59l7.78-7.78 2.81-2.81c.8-.78.8-2.07 0-2.86zM5.41 20L4 18.59l7.72-7.72 1.47 1.35L5.41 20z\"/>\n",
              "  </svg>\n",
              "      </button>\n",
              "      \n",
              "  <style>\n",
              "    .colab-df-container {\n",
              "      display:flex;\n",
              "      flex-wrap:wrap;\n",
              "      gap: 12px;\n",
              "    }\n",
              "\n",
              "    .colab-df-convert {\n",
              "      background-color: #E8F0FE;\n",
              "      border: none;\n",
              "      border-radius: 50%;\n",
              "      cursor: pointer;\n",
              "      display: none;\n",
              "      fill: #1967D2;\n",
              "      height: 32px;\n",
              "      padding: 0 0 0 0;\n",
              "      width: 32px;\n",
              "    }\n",
              "\n",
              "    .colab-df-convert:hover {\n",
              "      background-color: #E2EBFA;\n",
              "      box-shadow: 0px 1px 2px rgba(60, 64, 67, 0.3), 0px 1px 3px 1px rgba(60, 64, 67, 0.15);\n",
              "      fill: #174EA6;\n",
              "    }\n",
              "\n",
              "    [theme=dark] .colab-df-convert {\n",
              "      background-color: #3B4455;\n",
              "      fill: #D2E3FC;\n",
              "    }\n",
              "\n",
              "    [theme=dark] .colab-df-convert:hover {\n",
              "      background-color: #434B5C;\n",
              "      box-shadow: 0px 1px 3px 1px rgba(0, 0, 0, 0.15);\n",
              "      filter: drop-shadow(0px 1px 2px rgba(0, 0, 0, 0.3));\n",
              "      fill: #FFFFFF;\n",
              "    }\n",
              "  </style>\n",
              "\n",
              "      <script>\n",
              "        const buttonEl =\n",
              "          document.querySelector('#df-0d6275ee-5d4c-4673-819d-592b738e83ac button.colab-df-convert');\n",
              "        buttonEl.style.display =\n",
              "          google.colab.kernel.accessAllowed ? 'block' : 'none';\n",
              "\n",
              "        async function convertToInteractive(key) {\n",
              "          const element = document.querySelector('#df-0d6275ee-5d4c-4673-819d-592b738e83ac');\n",
              "          const dataTable =\n",
              "            await google.colab.kernel.invokeFunction('convertToInteractive',\n",
              "                                                     [key], {});\n",
              "          if (!dataTable) return;\n",
              "\n",
              "          const docLinkHtml = 'Like what you see? Visit the ' +\n",
              "            '<a target=\"_blank\" href=https://colab.research.google.com/notebooks/data_table.ipynb>data table notebook</a>'\n",
              "            + ' to learn more about interactive tables.';\n",
              "          element.innerHTML = '';\n",
              "          dataTable['output_type'] = 'display_data';\n",
              "          await google.colab.output.renderOutput(dataTable, element);\n",
              "          const docLink = document.createElement('div');\n",
              "          docLink.innerHTML = docLinkHtml;\n",
              "          element.appendChild(docLink);\n",
              "        }\n",
              "      </script>\n",
              "    </div>\n",
              "  </div>\n",
              "  "
            ]
          },
          "metadata": {},
          "execution_count": 19
        }
      ]
    },
    {
      "cell_type": "code",
      "source": [
        "# df['comment'] 언어탐지하여 나눠서 저장\n",
        "\n",
        "\n",
        "\n",
        "\n",
        "\n",
        "\n",
        "\n",
        "\n",
        "\n"
      ],
      "metadata": {
        "colab": {
          "base_uri": "https://localhost:8080/"
        },
        "id": "mIPhN2L2w6Qi",
        "outputId": "f8989366-d330-4ff9-9e2f-168bd94a8ced"
      },
      "execution_count": null,
      "outputs": [
        {
          "output_type": "stream",
          "name": "stderr",
          "text": [
            "<ipython-input-22-b26d74da74ba>:34: FutureWarning: save is not part of the public API, usage can give unexpected results and will be removed in a future version\n",
            "  excel_file.save()\n"
          ]
        }
      ]
    },
    {
      "cell_type": "markdown",
      "source": [
        "3. 워드클라우드"
      ],
      "metadata": {
        "id": "omSniODhyAPD"
      }
    },
    {
      "cell_type": "markdown",
      "source": [
        "4. 토픽모델링 (답이 안 나올지도...)"
      ],
      "metadata": {
        "id": "XhvbfwXkyqlk"
      }
    },
    {
      "cell_type": "markdown",
      "source": [
        "5. 감성분석"
      ],
      "metadata": {
        "id": "7H4i9R2uzVOt"
      }
    }
  ]
}