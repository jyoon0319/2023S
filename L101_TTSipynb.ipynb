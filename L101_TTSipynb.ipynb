{
  "nbformat": 4,
  "nbformat_minor": 0,
  "metadata": {
    "colab": {
      "provenance": [],
      "authorship_tag": "ABX9TyOET4Al6UnUXwd7YtbGoSTR",
      "include_colab_link": true
    },
    "kernelspec": {
      "name": "python3",
      "display_name": "Python 3"
    },
    "language_info": {
      "name": "python"
    },
    "widgets": {
      "application/vnd.jupyter.widget-state+json": {
        "889b5c6faba64b6b846fe4c31179480d": {
          "model_module": "@jupyter-widgets/controls",
          "model_name": "VBoxModel",
          "model_module_version": "1.5.0",
          "state": {
            "_dom_classes": [],
            "_model_module": "@jupyter-widgets/controls",
            "_model_module_version": "1.5.0",
            "_model_name": "VBoxModel",
            "_view_count": null,
            "_view_module": "@jupyter-widgets/controls",
            "_view_module_version": "1.5.0",
            "_view_name": "VBoxView",
            "box_style": "",
            "children": [
              "IPY_MODEL_6aeb7c4ad5c14ce983c38139e7353cc7",
              "IPY_MODEL_1a2b51f1431946929a37a820a5547aeb",
              "IPY_MODEL_8911e4ea9b1f48028a2f2800bf7df824",
              "IPY_MODEL_17cf581b750940e9a353098e4ff0a9c8"
            ],
            "layout": "IPY_MODEL_43fedae0412542a0b77a9dab9f3c61c6"
          }
        },
        "6aeb7c4ad5c14ce983c38139e7353cc7": {
          "model_module": "@jupyter-widgets/controls",
          "model_name": "TextModel",
          "model_module_version": "1.5.0",
          "state": {
            "_dom_classes": [],
            "_model_module": "@jupyter-widgets/controls",
            "_model_module_version": "1.5.0",
            "_model_name": "TextModel",
            "_view_count": null,
            "_view_module": "@jupyter-widgets/controls",
            "_view_module_version": "1.5.0",
            "_view_name": "TextView",
            "continuous_update": true,
            "description": "Text:",
            "description_tooltip": null,
            "disabled": false,
            "layout": "IPY_MODEL_455a528ce2b24cc18d5a4cb77d8efbe0",
            "placeholder": "​",
            "style": "IPY_MODEL_0e54704b8b3045bcbc5e6a0b9ceb9128",
            "value": "beat bit bet bat boot put"
          }
        },
        "1a2b51f1431946929a37a820a5547aeb": {
          "model_module": "@jupyter-widgets/controls",
          "model_name": "DropdownModel",
          "model_module_version": "1.5.0",
          "state": {
            "_dom_classes": [],
            "_model_module": "@jupyter-widgets/controls",
            "_model_module_version": "1.5.0",
            "_model_name": "DropdownModel",
            "_options_labels": [
              "English",
              "French",
              "German",
              "Italian",
              "Japanese",
              "Korean",
              "Spanish",
              "Russian",
              "Chinese"
            ],
            "_view_count": null,
            "_view_module": "@jupyter-widgets/controls",
            "_view_module_version": "1.5.0",
            "_view_name": "DropdownView",
            "description": "Language:",
            "description_tooltip": null,
            "disabled": false,
            "index": 0,
            "layout": "IPY_MODEL_7318ec788b1147039b8419243df75493",
            "style": "IPY_MODEL_c0b057fffdee4b09888acc1c1663f7b5"
          }
        },
        "8911e4ea9b1f48028a2f2800bf7df824": {
          "model_module": "@jupyter-widgets/controls",
          "model_name": "CheckboxModel",
          "model_module_version": "1.5.0",
          "state": {
            "_dom_classes": [],
            "_model_module": "@jupyter-widgets/controls",
            "_model_module_version": "1.5.0",
            "_model_name": "CheckboxModel",
            "_view_count": null,
            "_view_module": "@jupyter-widgets/controls",
            "_view_module_version": "1.5.0",
            "_view_name": "CheckboxView",
            "description": "Slow",
            "description_tooltip": null,
            "disabled": false,
            "indent": true,
            "layout": "IPY_MODEL_1da73141add849988f5f3f8657524db3",
            "style": "IPY_MODEL_be5509aca3584c6e8fa9d1eb656458e5",
            "value": true
          }
        },
        "17cf581b750940e9a353098e4ff0a9c8": {
          "model_module": "@jupyter-widgets/controls",
          "model_name": "ButtonModel",
          "model_module_version": "1.5.0",
          "state": {
            "_dom_classes": [],
            "_model_module": "@jupyter-widgets/controls",
            "_model_module_version": "1.5.0",
            "_model_name": "ButtonModel",
            "_view_count": null,
            "_view_module": "@jupyter-widgets/controls",
            "_view_module_version": "1.5.0",
            "_view_name": "ButtonView",
            "button_style": "",
            "description": "Speak",
            "disabled": false,
            "icon": "",
            "layout": "IPY_MODEL_ebc4c89abe74409685b90ab83a9c6fb0",
            "style": "IPY_MODEL_be00912f2c0243dc9a9aaaf51bb03fa4",
            "tooltip": ""
          }
        },
        "43fedae0412542a0b77a9dab9f3c61c6": {
          "model_module": "@jupyter-widgets/base",
          "model_name": "LayoutModel",
          "model_module_version": "1.2.0",
          "state": {
            "_model_module": "@jupyter-widgets/base",
            "_model_module_version": "1.2.0",
            "_model_name": "LayoutModel",
            "_view_count": null,
            "_view_module": "@jupyter-widgets/base",
            "_view_module_version": "1.2.0",
            "_view_name": "LayoutView",
            "align_content": null,
            "align_items": null,
            "align_self": null,
            "border": null,
            "bottom": null,
            "display": null,
            "flex": null,
            "flex_flow": null,
            "grid_area": null,
            "grid_auto_columns": null,
            "grid_auto_flow": null,
            "grid_auto_rows": null,
            "grid_column": null,
            "grid_gap": null,
            "grid_row": null,
            "grid_template_areas": null,
            "grid_template_columns": null,
            "grid_template_rows": null,
            "height": null,
            "justify_content": null,
            "justify_items": null,
            "left": null,
            "margin": null,
            "max_height": null,
            "max_width": null,
            "min_height": null,
            "min_width": null,
            "object_fit": null,
            "object_position": null,
            "order": null,
            "overflow": null,
            "overflow_x": null,
            "overflow_y": null,
            "padding": null,
            "right": null,
            "top": null,
            "visibility": null,
            "width": null
          }
        },
        "455a528ce2b24cc18d5a4cb77d8efbe0": {
          "model_module": "@jupyter-widgets/base",
          "model_name": "LayoutModel",
          "model_module_version": "1.2.0",
          "state": {
            "_model_module": "@jupyter-widgets/base",
            "_model_module_version": "1.2.0",
            "_model_name": "LayoutModel",
            "_view_count": null,
            "_view_module": "@jupyter-widgets/base",
            "_view_module_version": "1.2.0",
            "_view_name": "LayoutView",
            "align_content": null,
            "align_items": null,
            "align_self": null,
            "border": null,
            "bottom": null,
            "display": null,
            "flex": null,
            "flex_flow": null,
            "grid_area": null,
            "grid_auto_columns": null,
            "grid_auto_flow": null,
            "grid_auto_rows": null,
            "grid_column": null,
            "grid_gap": null,
            "grid_row": null,
            "grid_template_areas": null,
            "grid_template_columns": null,
            "grid_template_rows": null,
            "height": null,
            "justify_content": null,
            "justify_items": null,
            "left": null,
            "margin": null,
            "max_height": null,
            "max_width": null,
            "min_height": null,
            "min_width": null,
            "object_fit": null,
            "object_position": null,
            "order": null,
            "overflow": null,
            "overflow_x": null,
            "overflow_y": null,
            "padding": null,
            "right": null,
            "top": null,
            "visibility": null,
            "width": null
          }
        },
        "0e54704b8b3045bcbc5e6a0b9ceb9128": {
          "model_module": "@jupyter-widgets/controls",
          "model_name": "DescriptionStyleModel",
          "model_module_version": "1.5.0",
          "state": {
            "_model_module": "@jupyter-widgets/controls",
            "_model_module_version": "1.5.0",
            "_model_name": "DescriptionStyleModel",
            "_view_count": null,
            "_view_module": "@jupyter-widgets/base",
            "_view_module_version": "1.2.0",
            "_view_name": "StyleView",
            "description_width": ""
          }
        },
        "7318ec788b1147039b8419243df75493": {
          "model_module": "@jupyter-widgets/base",
          "model_name": "LayoutModel",
          "model_module_version": "1.2.0",
          "state": {
            "_model_module": "@jupyter-widgets/base",
            "_model_module_version": "1.2.0",
            "_model_name": "LayoutModel",
            "_view_count": null,
            "_view_module": "@jupyter-widgets/base",
            "_view_module_version": "1.2.0",
            "_view_name": "LayoutView",
            "align_content": null,
            "align_items": null,
            "align_self": null,
            "border": null,
            "bottom": null,
            "display": null,
            "flex": null,
            "flex_flow": null,
            "grid_area": null,
            "grid_auto_columns": null,
            "grid_auto_flow": null,
            "grid_auto_rows": null,
            "grid_column": null,
            "grid_gap": null,
            "grid_row": null,
            "grid_template_areas": null,
            "grid_template_columns": null,
            "grid_template_rows": null,
            "height": null,
            "justify_content": null,
            "justify_items": null,
            "left": null,
            "margin": null,
            "max_height": null,
            "max_width": null,
            "min_height": null,
            "min_width": null,
            "object_fit": null,
            "object_position": null,
            "order": null,
            "overflow": null,
            "overflow_x": null,
            "overflow_y": null,
            "padding": null,
            "right": null,
            "top": null,
            "visibility": null,
            "width": null
          }
        },
        "c0b057fffdee4b09888acc1c1663f7b5": {
          "model_module": "@jupyter-widgets/controls",
          "model_name": "DescriptionStyleModel",
          "model_module_version": "1.5.0",
          "state": {
            "_model_module": "@jupyter-widgets/controls",
            "_model_module_version": "1.5.0",
            "_model_name": "DescriptionStyleModel",
            "_view_count": null,
            "_view_module": "@jupyter-widgets/base",
            "_view_module_version": "1.2.0",
            "_view_name": "StyleView",
            "description_width": ""
          }
        },
        "1da73141add849988f5f3f8657524db3": {
          "model_module": "@jupyter-widgets/base",
          "model_name": "LayoutModel",
          "model_module_version": "1.2.0",
          "state": {
            "_model_module": "@jupyter-widgets/base",
            "_model_module_version": "1.2.0",
            "_model_name": "LayoutModel",
            "_view_count": null,
            "_view_module": "@jupyter-widgets/base",
            "_view_module_version": "1.2.0",
            "_view_name": "LayoutView",
            "align_content": null,
            "align_items": null,
            "align_self": null,
            "border": null,
            "bottom": null,
            "display": null,
            "flex": null,
            "flex_flow": null,
            "grid_area": null,
            "grid_auto_columns": null,
            "grid_auto_flow": null,
            "grid_auto_rows": null,
            "grid_column": null,
            "grid_gap": null,
            "grid_row": null,
            "grid_template_areas": null,
            "grid_template_columns": null,
            "grid_template_rows": null,
            "height": null,
            "justify_content": null,
            "justify_items": null,
            "left": null,
            "margin": null,
            "max_height": null,
            "max_width": null,
            "min_height": null,
            "min_width": null,
            "object_fit": null,
            "object_position": null,
            "order": null,
            "overflow": null,
            "overflow_x": null,
            "overflow_y": null,
            "padding": null,
            "right": null,
            "top": null,
            "visibility": null,
            "width": null
          }
        },
        "be5509aca3584c6e8fa9d1eb656458e5": {
          "model_module": "@jupyter-widgets/controls",
          "model_name": "DescriptionStyleModel",
          "model_module_version": "1.5.0",
          "state": {
            "_model_module": "@jupyter-widgets/controls",
            "_model_module_version": "1.5.0",
            "_model_name": "DescriptionStyleModel",
            "_view_count": null,
            "_view_module": "@jupyter-widgets/base",
            "_view_module_version": "1.2.0",
            "_view_name": "StyleView",
            "description_width": ""
          }
        },
        "ebc4c89abe74409685b90ab83a9c6fb0": {
          "model_module": "@jupyter-widgets/base",
          "model_name": "LayoutModel",
          "model_module_version": "1.2.0",
          "state": {
            "_model_module": "@jupyter-widgets/base",
            "_model_module_version": "1.2.0",
            "_model_name": "LayoutModel",
            "_view_count": null,
            "_view_module": "@jupyter-widgets/base",
            "_view_module_version": "1.2.0",
            "_view_name": "LayoutView",
            "align_content": null,
            "align_items": null,
            "align_self": null,
            "border": null,
            "bottom": null,
            "display": null,
            "flex": null,
            "flex_flow": null,
            "grid_area": null,
            "grid_auto_columns": null,
            "grid_auto_flow": null,
            "grid_auto_rows": null,
            "grid_column": null,
            "grid_gap": null,
            "grid_row": null,
            "grid_template_areas": null,
            "grid_template_columns": null,
            "grid_template_rows": null,
            "height": null,
            "justify_content": null,
            "justify_items": null,
            "left": null,
            "margin": null,
            "max_height": null,
            "max_width": null,
            "min_height": null,
            "min_width": null,
            "object_fit": null,
            "object_position": null,
            "order": null,
            "overflow": null,
            "overflow_x": null,
            "overflow_y": null,
            "padding": null,
            "right": null,
            "top": null,
            "visibility": null,
            "width": null
          }
        },
        "be00912f2c0243dc9a9aaaf51bb03fa4": {
          "model_module": "@jupyter-widgets/controls",
          "model_name": "ButtonStyleModel",
          "model_module_version": "1.5.0",
          "state": {
            "_model_module": "@jupyter-widgets/controls",
            "_model_module_version": "1.5.0",
            "_model_name": "ButtonStyleModel",
            "_view_count": null,
            "_view_module": "@jupyter-widgets/base",
            "_view_module_version": "1.2.0",
            "_view_name": "StyleView",
            "button_color": null,
            "font_weight": ""
          }
        }
      }
    }
  },
  "cells": [
    {
      "cell_type": "markdown",
      "metadata": {
        "id": "view-in-github",
        "colab_type": "text"
      },
      "source": [
        "<a href=\"https://colab.research.google.com/github/jyoon0319/2023S/blob/main/L101_TTSipynb.ipynb\" target=\"_parent\"><img src=\"https://colab.research.google.com/assets/colab-badge.svg\" alt=\"Open In Colab\"/></a>"
      ]
    },
    {
      "cell_type": "markdown",
      "source": [
        "# Source \n",
        "https://github.com/MK316/workshops/blob/main/20230512_GNU/GNU_session03.ipynb"
      ],
      "metadata": {
        "id": "Sn1oaaOR-zq-"
      }
    },
    {
      "cell_type": "markdown",
      "source": [
        "###Text-to-Speech (TTS)"
      ],
      "metadata": {
        "id": "g3ahnvTs-6uR"
      }
    },
    {
      "cell_type": "code",
      "execution_count": 2,
      "metadata": {
        "colab": {
          "base_uri": "https://localhost:8080/",
          "height": 517,
          "referenced_widgets": [
            "889b5c6faba64b6b846fe4c31179480d",
            "6aeb7c4ad5c14ce983c38139e7353cc7",
            "1a2b51f1431946929a37a820a5547aeb",
            "8911e4ea9b1f48028a2f2800bf7df824",
            "17cf581b750940e9a353098e4ff0a9c8",
            "43fedae0412542a0b77a9dab9f3c61c6",
            "455a528ce2b24cc18d5a4cb77d8efbe0",
            "0e54704b8b3045bcbc5e6a0b9ceb9128",
            "7318ec788b1147039b8419243df75493",
            "c0b057fffdee4b09888acc1c1663f7b5",
            "1da73141add849988f5f3f8657524db3",
            "be5509aca3584c6e8fa9d1eb656458e5",
            "ebc4c89abe74409685b90ab83a9c6fb0",
            "be00912f2c0243dc9a9aaaf51bb03fa4"
          ]
        },
        "id": "_HzjMOuR9mUD",
        "outputId": "00226e5b-ec17-4649-a890-62580290088b"
      },
      "outputs": [
        {
          "output_type": "stream",
          "name": "stdout",
          "text": [
            "Looking in indexes: https://pypi.org/simple, https://us-python.pkg.dev/colab-wheels/public/simple/\n",
            "Collecting gTTS\n",
            "  Downloading gTTS-2.3.2-py3-none-any.whl (28 kB)\n",
            "Requirement already satisfied: requests<3,>=2.27 in /usr/local/lib/python3.10/dist-packages (from gTTS) (2.27.1)\n",
            "Requirement already satisfied: click<8.2,>=7.1 in /usr/local/lib/python3.10/dist-packages (from gTTS) (8.1.3)\n",
            "Requirement already satisfied: urllib3<1.27,>=1.21.1 in /usr/local/lib/python3.10/dist-packages (from requests<3,>=2.27->gTTS) (1.26.15)\n",
            "Requirement already satisfied: certifi>=2017.4.17 in /usr/local/lib/python3.10/dist-packages (from requests<3,>=2.27->gTTS) (2022.12.7)\n",
            "Requirement already satisfied: charset-normalizer~=2.0.0 in /usr/local/lib/python3.10/dist-packages (from requests<3,>=2.27->gTTS) (2.0.12)\n",
            "Requirement already satisfied: idna<4,>=2.5 in /usr/local/lib/python3.10/dist-packages (from requests<3,>=2.27->gTTS) (3.4)\n",
            "Installing collected packages: gTTS\n",
            "Successfully installed gTTS-2.3.2\n"
          ]
        },
        {
          "output_type": "display_data",
          "data": {
            "text/plain": [
              "VBox(children=(Text(value='', description='Text:'), Dropdown(description='Language:', options={'English': 'en'…"
            ],
            "application/vnd.jupyter.widget-view+json": {
              "version_major": 2,
              "version_minor": 0,
              "model_id": "889b5c6faba64b6b846fe4c31179480d"
            }
          },
          "metadata": {}
        },
        {
          "output_type": "display_data",
          "data": {
            "text/plain": [
              "<IPython.lib.display.Audio object>"
            ],
            "text/html": [
              "\n",
              "                <audio  controls=\"controls\" autoplay=\"autoplay\">\n",
              "                    <source src=\"data:audio/mpeg;base64,//NExAAAAANIAUAAAP8BFo/nuYpl/sng6Gma/7/y+Rv3xYeeGBK+YY0gTYh8xj1dTGHRp/V+SFJx7t/Y9/UcOdSX/2/jYwdh5v/8JhhzHM/+npTsWgzF+MO5M5RiZyxg//NExFMR6c5MAZk4AKpKeVRB3L1+vuVyOpnQz+VDBTbr3pqhhOrjdts3vm3kSBIbb3g7EclFmJUAcSzslvNNmDI1gTBuI5GLBwgNLjxZWES2jBYVDyFsztC3Kc/XvNlR//NExF4iCmJYAdhgAGn+L46bTV97z2SsmcYe7KbBV/LtwUmcYcxZTJ/m3uYhk+GDnrM4YLwQDFUqntIeomryTzVSkajqetIfSOKnizE1zFWh9OqzaaVcI7lh5APkiKQH//NExCga4l58AHoMuOoHBCCgcY5p4pEwDSKIhrlz4I7B673DEepykCAgLQZyFmqt7TQ1AzPrZXNe7tHMz9semjxHfNzZSUJmCt6VtSUlOc6lEf8ZEH3aaFZFkOysBBlR//NExA8UqgqUAEmMmKCSlT7jeNutwtvv/366P33COg530HCIRo6iSZR2yYxSHm0sw/W9Szs8oI1NRmV0IdjH793v7nyfrfCnDxpxKn3TRdFKvb5fgUz4TZJU/RTjK4LL//NExA8ViXacAMmSlCZeu+aKQBwGDgCx4XWt2y/2bXLz3Zf35ezuoWojYC6ZO0mRH4ROots+5ATqQlH0zUfm5Uqb5RxkSAkLiJAVCX3bkPPe7ejK1c+frYoCbS0LllSh//NExAsU+bqsAMrSlF8mJCERPyP7CUCSNAAY/7YNlU72tSVu21ua+4+DnhkvQoDBm2jI8IDD4IWE9tfvUML27+qh631mXf/zK/he15ytjJwxzk///zK9z/7eEZgYH3sr//NExAoVIbK0AMrWlaZeJgInIQAxMQ5EFiEf/BOOf7Thz91qTb9yRsWMY7sBUXA4VVOojuJZ99tRaTg9maSRseNT/Vbaf3E8Tf7bp79tJSJobs/97fldSnbrJoDuG8YF//NExAgUSbq4AIyWlEZMhoauBHBp1kyJxImrokycbpGJon1GReLdPhIlDyOsdjEySCSMQ3uWSSS0hh2GjUWkEO8dlcNbNT+2ruv90/3DmxW48BSFZnTVr5wUKEcgMQIE//NExAkT6TqwAJvYcGBrttNEZ6Bv8fDESpv3/8wVbG6Zmx0qi+Z5kxcP5n4zl8AptNHk5ipKcCyrM6cmBhzdceKkct26h8sCoNhsUCqWzv////9S5SW+dfYYKcrnzJfp//NExAwQITKYAMPScKzOwW4comKy3Rbf5oro3t/i1crf7Q1v3+SJpXI+axMmhd4xwqFTMry8ImVmrdO//yWGhCJaCFAwh0qSlYUIxTO9CTWBQNEWswy5UlluOWd3ms6W//NExB4SYdJUAVkoAPYsjoxGMZmIh0GOuyxYDCxwGGtQ0xitMPSYxW3/rWnK/bRFZ+6eoiIUpo6aF2zyEMqJ15QmrSTDZX7sfjnLa1w0PYhkFSsJbW7qeTzV88mQIxw8//NExCcZ0mJcAZhAADY3vmNBmm4NBBoQTSv/n3t/l6Z2iP5/iKrSkTMaYs04k0BH+v+/xc8X0uqr8RAbHCzseqF6UVfvFHQIHiBsUMrqBZei9pQxp5sAgIDiTDJOguqL//NExBIXGeqUAclAAJuR58i+MGwMEzIDfEAVs40RxQG+HAii4XMQBAcJSkxdEi5uXPm93apuDP4T/rm9/r+krjhIQyj2MdJDsXTvKTP//7taoYE5sMHzVVs7rJXFAGF7//NExAgPuO6kAGJGcKtsWDCsM1KDNeoNyltuvlGgiuKZgiTYCVBKqyUSYhTqJBxJGtL2+PO/nRrToUeI2O///+je9NTl7/q2BCEZ+o0FFZdHHelaJoHG/Erp6SdgJF01//NExBwUYSKkAM4YcI2b3rVallUg5nfvOjEeAGVpCQiGQwrX707kTHTbZxOvp+wfhfP1wdgc/9Qymo61qn1I0Ex5Csce/rFsAlFf1PEcsYMBgDwuHLVvPqM5lOHIaFjl//NExB0TESKwAMYecMrw209eut52wPSTD9miSNSMYl/W/R5TcHXpSlJbV+b4w9hWWxGsr0KdNCjFoD/6aqt//7yLD+5/O1lcbKHqsX6vNvWYfLixWmv48X2l1b3f/T6L//NExCMSAaKwAMZKlDr9DbwwoVZpdy59AgumEAsvxtmNEQ6ASPz/nR/ob5BEVdEPf+m53/3UHRw4qX52bNaMD6ktnsc6kwfpOvKr9L18C4jba7+HHKh7eVLy6ytpt78v//NExC4R8bawAM4KlIwvyC3zmfSIBF3TIV/nZurl+it1OM0+7Q+ulH/+9ELqlmGrN6YBDwLNs54SilCih5F0lexPVmjCRePN51mkI+71V7y4yXH//2G/OAz/J84DPLqb//NExDkQ4a6oAM5KlOhDfX6W+Jky/RlKr561KBEI8bFyyuczdMqGAUkfZdjbtxBg6eLfWdTMSEKBZUtywpWHRprUhnsu01DZy//8xvUreVG6KAibFRyl/+pvoY2ioGf///NExEgSMaqcAMYElKoiGXNcmYkxiqgcSPJfFwigIcFSGpHQBPEUuJzlgBDTQCI1PglKQLC8RTEhBUPKhsShKLXhMNHpbfZljUJJWd/9waPXrhFcbIziVwwTGL0q3w4p//NExFIQ8KJkANvYTC0Eo+nxku1wwwKsNkSXoLPEeKAIk11CDAnUR3tGrXY1BPIbrNzvCu22q9nr/6X1M+pFEchqDpvfPwy+sPR+cxpsM8MP7Uxu55WOc+jtiwdKAQ4J//NExGEP6HJIAMMMSMIHAwXKDCDhYMIONFHCAuqlbbVoR5f3r/zH9f93o396VR8BEyLDGzFi6fFLtVV5ZM5yWEB0VHGbYsPdBximiwdMLCgdB9NAuEtqaVRwhNAfQcex//NExHQQUIpUAVgYAFsQJRHFop7tjoR31L3SJV73aUWyx7oOiGGLI9Z86dKmoqR72L1CDLWZ+5nuxyTEvz1NDTRzDJRWsp9DEra9lr/r3+Kp4mf3XHJ0orjUKx14Hkys//NExIUfwyZEAZpAAC/ONZv4f+Xzl+DZdXmdzQaBgAc8XlGbYbyQGk0LMIbv0OCcNignpOlclk9jM+JLN4pHArdLSjuxnqI88+4nE04B9E+N/aju3ujmohSfNHg3sLx7//NExFkhIt50AZhIAaE4+9293N3N5h6JyS2aaPNvalUmo5f8cvd//9X/Pf3Pq9rx1NR9s6QP3YIlA6CggTBU1adR1YZHfMQ+/97uuzFQylZrVvmiqGhUVGMdJAY6LGgK//NExCcRmNZgAcsQANsLBMEwyAlFsiQPHi53SgTb3KNdCfo2uJdFuWIiItIKO9oxjC4DEIy2F0Zp/KOxNybCV36n6ucp7/N6yjXNQ0WqbJ+Uz4aE2x7j1j7Pfe3MxedN//NExDMWkV5IAVkYAfKYKmW0f+WmsnLOtfrpoO39ff+1ZyfRbihmvtbneVPN/N+Cn8XcvuoUOkps4E7/dnO5Xa1fb1u/uKeQ578xEQOShLf/1Ty6Dysr+/l7Rck8PA5Q//NExCsbeyqEAY9AAD3//MSr5Lk8sRrKEf//97/FKcwiBKYJjAlDsE////1d+j74rMaBAOBoEEQJldP/////urz7R/RP1k4XEcXixMZiIS8D+gqWrPXMqfv///m9du5L//NExBAUmsrEAYIoARroyPK7kkIMExRdjB7Le11GvFLIVSCrJQOHKNlV1KZV7OcosHxhWFg17sdVsUcbse9HnkWQmhnHiRRl1wP5VKVb/KqX0XYt6DZO8T7nEpHznftb//NExBASIfKsAc8oAPvf/Nf/+7ksrHHkFioiqKyqR0XQwxBgTLsTT7V73o6LYSFh9S2laz7CQsLArPBIcDQNHnp+j//+qsO/QqCjeqK/UeEkUBuBBHVwnr6ScnwkLJnX//NExBoQ+S6sAMMMcDMmuRkv8ve7Rd+JAacmog4DJ9NKSR646Z/LmzZBUMn0vXU4VW1qv0mGUXepMADSoT6SYDgCRmpfJ/ivxPnMVMuO8Q3jN/mHL5aNtRrwQQZkogFC//NExCkRYSa0AJPScKFoAgBvR0mi2QMipsLk6SFbadJCvduLiGtnyrq1w7/IDEnotKNy0CxQFHzDLqDqx5ZUFG/gIb9523xvTSniZ+Yaj1SGb4c7LFtUolC+iRCYElcc//NExDYRyRqwAMvecOVwsRt/7euhP/iQ8DJ6v8XHqu63kzE0gJ2LWWwknsD2r+2wD0+aux1m2/wuLWtd7nEJH8aLqdETEQgYq3ssqwF8YmqRTfUEJ9dtPoOqJxLo/6wl//NExEERgO6oAM4ecCpD9LVJlvcJWOCDOD4EcmmeA1lZp1qrNAzglbuNlbacFnvvUGRo7/2ECFS/nLAStNWM9tEkX9nMpiJKGurZy2w2W9x+p77v//2hLsVp1vUyOjC9//NExE4SAO6cANYwcPGm/dZPY3f2KQ/QPCBxRrHUdEYWS8r0AgNCq1+gUoQ1kOD7wGLtlEPZwwnje+hdhgDfY75KJd3rZ//9qi9jIWqwQH2pa/qRgadddF3wUEOmOkcA//NExFkSKNqcAM4wcCR5k1srh2md9BHNZwFYBUSymbGMZS/pcBUBKQA8XlIFsEML29UgrhujdVJdg69F3//6Ao3YnuQXq8uwQFsHGzoRAAfOg8VlEzL5BoDr0VOgAT63//NExGMSAL6cAM6eTIU6CdoNbbRC6Lq3ogpgrp2tCEI1NOmKWWFo1P9Ln0YA8tP9yc6wPw//////AqreOnrNl17NRMheJ/LMTYmYSmmzIKC8RHrHIIRMTO3MX2jwdTWW//NExG4SCNagAM5wcMlfcqLByxdSJ8GAY7idg8nGVzUpxnjCiKdbkVkSKD4eef//67GOoJMQDfYIAFyYsakoyOfYjUqWYRngb/U6lVrlZ+bWOEBzuvL57aYCSJNDoEAb//NExHgSQPKgAM6ecHyKxcWrrF57aE4hHVx5R+sVYIGJr///+iq7hXWwZAdJ2IhJauqJ6jSkHtrOra7scOPXY7/aLn7l3/3X+tnxJOVQBBHeAdv8R3fqqUucfuSEztuO//NExIIR0QqsAM5YcMOm9T77ZKRqqxts8heno6UqkDewcOqoF3T+tTDfhNw43AUNDdm8021e7O7wu0tn+1ceeniJcBg86gMYziQeFnsj0NzG6sZA9FoNQ6lxUtK3LKnV//NExI0RuTqoAM5ScHe+tQw4l44HIg2dbIBMJy4whCZnATg4DRIVARkYgmEALI4+LAprFnUDxi12rvznBlvOa9kjvps/NNYtEyRsr7CQKgrOjSyiqyXaGiLAlLdSAh1M//NExJkSITaYAM5KcOj2Mbh44QyQMCDpI6MYjUQmoyQPzHREAoSMOAQaIY0LAcSkJ4kb0tAoL1VBeKJiK8+1BF3uO2WphGOdHDEfUs0Wtt4gucakLOq2iX367t8QGRwv//NExKMTKMpkAVwwAIiw959N4//z8a3HwZOBk+aNGgKRUHATPFwsddU8hpTRNVPAimuTf+tFV7kmVZaLDERiIe7ACqqUM4BgE0ggqKQ0BFL5d2Lm6KNAPF68dTQrEhSl//NExKkguW5YAZx4ADt6T88HKVxUdPzjKfNCdr4WHtz8wC4kuTu2cuysbkrnFvYy6yr9N/gblkpQrWoSwdRWzs+ZmadNOxnTOswrs6aTWc3ppnTTqdMsxTesGs1Dxh2C//NExHkgyjagAZpgAM1vTfS0tDpl34oqsxJpQJDHVQu200RBTpFjLFUBrkgXgYfGJOW1JCJuTIKUQ7KAEXp8o+uRqbbKVTLTLCSBQUek+Oj3P0WNbY1YAGxLqIlIAiJx//NExEghieqUAdp4ACNzmQhoY2o50viEu0Lw4HwXB5HTZbD6Vq4a2POnrHDzGeazSBNrEOf5xfVN0+sX/8uKatWlfE7xdaf////11df9COIkP3AvJEujvIzEa5Xt0QI8//NExBQWkTq0AMYecCeOpMrRUoeTOae5x+3Iaj8v32VQUu1sDhXLMXOOykiLxhWoa2TytrjHxZ9DmpiO8pR7iHetIdzYACCmJN1pcMbXa02xSVrVM8mQI6auwigBAE6l//NExAwUSRK0AJYecF0QWr5wQ3UesTEl+M0HNfOzKXiYPl9Zojh94Snz1yrJvx1IyKfx1MLnRhVqr3l68xSE5TQ+DIIkgYl3rQ8vror9ML3GBiq9MPREPZyaCHjvf5li//NExA0SSRK8AI4YcBLMo8jKDuP5x4guYvHJ8NN2jdTlwzcvh0T5f0ug0LCccQROnMaOmXJqw39lzbf2svFRKTPqMfr2fve/9FWn+G4GvvLodoTe/+ApNWw41pCCcxki//NExBYRER7AAH4YcCEClvPXlTKmtz/IQ5CQ3tCSS4iZKw/hG/fVrndlXJzLXncab/WVtgTJAxu//0pVv/hJhFbgxUiA2LHcaBTJ1Ma8wXuDgSGUSqDgj7mUVyClxWNz//NExCQRiRq8AH4ecDeK8PyI9wF6HOj5W1057+I1Y+sQoe/4unlPBgQ47Qr///Uqsd/KIhnJytjZBIXNy/KqTQvUHVUhl8nrTD/i2CgNj6iyVQU3g+AFN/LK3gQQm8TY//NExDASaRqwAMYecG1Ga1Tt2f+fsfPnslMfEOBnd8S6K3V/G/9V5+rr4BU9+Z1aBCYf1913xYtnDbtm9TfZU0wFYK97rcpZLSsKAdiO1BdRhcmaWC2K2b5zH387b9bp//NExDkRkR6sAMYecKkWq6xuN2ryun+S9WSVj9jKPihx4vEx78vEMBGu4HJTb/JamECpbFcKNASWteXut3Xpy/VrnMpnpWkIKj4rOIROXLrMrXZnWXVtFzLS5d4K7n////NExEUSiQ6QAVlgAJ66LHsSqnJBQwkoaiqVYjiPt8mnGrwMEHLURpgRtr8qoZlcGh5QJR4mHFDJQeTdlHCnunlwflR2n0yBSQLLbcooQXExiGfiot7Up63RMRvbJw4c//NExE0f0hpQAZlYAX/US1iij3GyKy8PepRx59eLct1UOrX+InjZC3LgUudW33a3DH+8utj/lwTWzV/O+01lKnkwzfMst/OFkdu+l+i5cPRlmhA8lDRBRTHoSBjqqQQJ//NExCAYylqAAYxoADHGS48URaDApqWrkpvg2A5BwwMEvVW6DJqZMlEzc0My+6l1Ls96aabaCaaZutIyQP//oM//MEE0DRzAY//+kufD40vVDR4qxub8ViyVFObKXltx//NExA8SWP6MAckYAI55ErMZ/qNhhQYcm/ZUHEAQDoOlwwE0Mh0uGAWSouIxAXAAcIxYbcaCbmgqIpWShD3I66bv9G2Ndv1qB8hthbQQW6NZdQdJ/urKQj5lk6XMwlGp//NExBgRMWJoAJBGlDmpcFHrrsfk0b5sKdqAwVRIiIoCoSegKgJssVDSgqdlglhoKD1AUZpqf/kYdhpBgsUeDAxiJ9QPTFpb/X3Lne66mLeyELpQy+kkJ44d8oYOj0g7//NExCYSQQJgAU8YAE0pEZHmgOH5RptxBx18Duk1LA7XnGvACxI7r8U/+hPNEJcWEboCKyHI6my/1befjLbVHNMZgbBYHiMa5zHmhfkZGSd0VDjqOPxBi2dtOc1GmheB//NExDAcMwp0AY9QAXgsBfj8/uzPVrYiBEGFR+XHjTEvbdloqoWPEQIgWAGwKYhwKhiafslOnx4Yx8+y2J9Olv9j9ln3+Tnjwxid8DsePs5y/p5EBBAQTsG57CLttcQR//NExBIUAtq0AYYQAKJ99CHkggrNq7HPvUpUrTzqpHdjCz0NL+zSEOiHUwtwgdYpSGCl+fdvkAXarqt62IZ/7f/+jGVtBI0WreerwlsRHTQE8s54UDAMOkkjOOsnOCkR//NExBUSYL6gAdlIACKjnc2kLCO7g+79xC1GB88fYOliQKGAQUAwwRqF24a3INWUYTbbiYRHma/KDAaUmATtaGFar3upQox2bBhdLsBg55su+cWDFuSiy4yTOs1eU9mq//NExB4SmRagAMYacJd2brSHGjjgAn7pkkFRHKxiPY2TOH1rOal9evrrWcUppZy3r6ZCccz1i4s1VZZVgwgXO1nQGKJ9fZN0NINBmkyyPM74X65NSUlAqagHSl+pxfIz//NExCYSgYqcANYElIklM+0NW+ajX/u9z9f/2076tl59QzUFvU+nbT2wREvT22zCqan2SgZWm1NgaqD6cUWCXX8rhV0L6sagKMLyA1w0gqmgIckebEaLPJF2Kz0zXdt+//NExC8Q0ZagAMzElN/7d/16OimdHbfI+fnaHQc319P6Vaeo9YW7Yncko2g+UZHehN1+JGYQYIjkUGXACmdPsCOgxBvg3QBTY+yKiyS+pZg1Z7R/9f///96FPOGIoCz5//NExD4SKV6UAMzElGIBNwV+9dUhJ2Rilvz4CCDTulUcBzoaCO4ITR2X4cfjTIgJ0OwdgBlh9iZH4LCwbMC4BNwNshS5sQIdxo1FNv6v/////uyGnCkQrBqUCZ1X/3+q//NExEgR8V6QANSElGCP3HirwNmCnkqDTWzMCVzEBswjwBTnOjYYJE6itQ6oGRobyVw5EDNcEVSiQATqsyWXecRX/rb/7///8wp9KnlXEQ7/+xCKCBCDgYlaZV8RuUIG//NExFMRoU6AANTElAoEjI+MUqQzWFG8ACTCgzkTRRJa9hEWknpyltgCyhotaRchOMEJQym3rq/u1/00//1VEY3AwODBIYLqwBFhgsBiEQGBy4YxABehqQWSjayWlkEP//NExF8PWHJQAOYeSEBMMm1ytSmIV2ZwYYIFlOr3MDk3F9lfW37Pv/9le7bd9T3/R+gCpwsXkwYZ/JGDC4cNl0AgmFiaKLSdt2bcslFHnlbl28Py7tgbhcwomAizEnY7//NExHQRgIZEAOYSSEsS4b222JchjP0Wtr+9Or/b/q99HWh3hIZCtrhNeggd6gmoQTUnOPvGNz4yAmBdxyEowl4LWKS9ai4aJiNoGgtNXupBRKCYEA7fy+bp3hzxPAuA//NExIERAIpEAVsYAI2HPP/6btsFXGHHmXxxkuC2f/QQZfHggMG6YwFAc6//tqv+6ZvNC+SZLjkJRA0//+yaaddtVWyBfTRc3cuFxA3gKkdAsCfIcTyswKZJAFE2MkV4//NExJAfiyJcAZloAbB8FW0m4EMC2MsCMRPLAxx6eeDm06IJF8wEm80OUll24OceONupo15425xeXw/jtRpkDUpNG1mJXiQ8ZgKpW5Vy7Sz83K5+pfh92WawBJsvrY8x//NExGQhcdKcAZrIAPy5vmf52bGr+e729a/m/7lrDD///+p+NTg81V93wh//9aLXKrRjOVf13ZYCTwNs06XJkmuQy5rytxg7A/Jr3jhJEM8+flqBZaTEeIAIoxLTA2Pi//NExDEckZqgAdmIAHo2OSaDFZGECK4JQkS5KAuNkTQXKS7LIakVDhwWeUTMmSVQQpF/TSaitW6DvUzLmK1JHA8gXcmpBU+5zNH////6aqXPlY5q7/CT5NPmoNGoanZk//NExBEW2SqkAMZecITiNvmoLDVI5v0Zh4u1zNgN/GyyPrVYAdbTEa0CVsy5HsJuj4F1wjK2gGtN7nKqIsZxVUSeGoXDRUOWxJSfViMWEZ9W+YcZoOAFFTmZgaKbqhBI//NExAgUiSqsAJZecCPzZqiAKEcmxwwu1XvwAY8CBk7xnij1FhmolSao1BBEZ8nKcc8RiBKPJbQjzv4Shvuq5iU1dvrnLajKUteZhKWdPyNNeyiAW3W1qufugEKkU+u///NExAgUSTKsAM5ecKTlyPt0gFe3t5SopYhzG5GQ0iKTc0IEV72rMBMrd0YxPgWjhdrGUqKPhPp4W5Vx9fuWMZUuvprdXxSE4aiwWGPssH5qLedt/ZVV5RAfyIqTEgBs//NExAkRcSq0AI4acINX4n/RfSUJlcuGkh9og6GzXuthKB52qzSCkZnBYA8lZnJYIRzGFceRVI/MyhWsm6EhaJMN3OzNFX/+76k4izhmRU0UBzwPFXaTtrleAirfEc6W//NExBYSoTKwAI5ecCQZtGred0mDnc5h+nDGG4EFJOwG6Ixu1yj3/FbNfwYmtagZ/rEm/XWbapCoohU62yulqdaFlOvmAu6Yx67o36FWH3FSyOvE6IzUSyovUbXpZxuv//NExB4R4TKsAMYacOJBY/ecE1WgVistCkFiYGBKCUjy0CVas6a7uqlLugVGzz5PPU1en9e6lYxSXpEAGs1jq8FC16M+YeHBWtTQzBAJIlbQZX2QsFsWYNXM831oalzu//NExCkRSS6cAMYOcEAEhLcIQBQlYVg+B0Sv81vr2ocekeckIn3Tv/Uqj1uoxsGmlfLCJ4KemqtIKFHAs5NycZRD29P5S5ajEUnM6eV2sZozb4YcZpGjAQPChggdOewh//NExDYSMTKkAMZScAhdQh/Pz37c0nzTlE7LV1Os9C7PeUpH6Qiu4R2W62l8m/mmKCvJTNLgXsy2LeV2ST9rChlH6qqS6ReMUiplDINAudJLHPC3w9bl19q72V96umWJ//NExEAR0TaoAMaScAeYttv2Webqvc6QCBytmq9A+E7sNCF07FGT1Mndq36sNZd5GJd3ect/7i8OatQHqoHAKgXCcQwDKzlL7rM2vE959SKA0GmoEUI99molmrGA6sJh//NExEsROTaoAM5QcBbiAEOGTAP7kYKefjLEJXnD2X0MO3vj1ru5ml5+dnyjaQsFqYfW6gFBsXBqq6HXdNMFM17TYq5UHZERX1M8q0FSV+tWWNu6aMEGgVruGadSnFEX//NExFkSQTaUANZQcFhkcdKyYIFrdcqFlrKy43Dcsem9ZOdiTvAUvBITSTkYb/7kz5d/W+Zz3Jzyoao+uWekqkErbxAy7VABWDgswNFACwqgXnGQ0OYQwEUeDBlpdmw6//NExGMQqS54ANPMcLRVbtjDOviA0kAg0npAgYQ3QakD7035b4zSjjc8MAwAvEj7W/hjsrL35TGqROKp4w8gToRMMBkY4UlzRTBMVJ81CiDAxyNtCMONQyMk5DDIaJha//NExHMSaPJoAVswAWBgKDhCGS5LtDXCI/f2le0gQ57UiRs0c4lbabGJzn25P2qPPesP4hfGsbrmldWgbt7b+cb/3/E9In+fjVs2z//8Yz8/OZ9RwYD1NHWjiAy1r8UU//NExHwhIdJUAZx4AJFvbq7EpSOiBYGQOVtMEhyAebGmBrCiZAMJQJRuQEzz9nURGbafnc3LqzIyqCa+mxiV130lIX1AZKR2FRCuskjxVj+Uce+4mX6lZXs922jnHrOq//NExEogejKYAZl4AJwhs8199VK7do28KSnx/6Us8iSRPm6mcVcou9boP3n4zu3vvN/fdN4/xBtWkGk71f5kgUGOlqwkXVGkVjC3hgatmhMUWNCUFgLUQdmP9xAS1JGv//NExBsXGTKAAdp4AXp6w5bXbPIlLsdw1DFpO91mR7WaeDFZWJ9ViHKKSdLE9ZattYXjQaXhYfYvFkbma6tYawArgz/9qp+jp62Pq/prNX4eZ9SoUJuJry+UhdUMsT3V//NExBEWaXaEAMsGlMFQwMIaOETCjKticIiWAcB0Qjxw4UHduu5hwYVbMz+rs8Vp3Du4sIMBi4L+BAEDeG76n3nf33JgYFBsXGCZxNZ9jDJRzmr+Z1qPzld9w9+XTlQG//NExAoUYRKQAM4ecADLXim3gHtzUPMIACoHe5yGcK0fPtLRHyrx9gdrKykc1UzBmDpTmJE3BpS/zqmc/WdZzqb7th9oNpIm3jHqrUQU4wll/R/+qse5NFAgIT9wVciP//NExAsReLacAMYeTE2oIDLv3egACvCCQ7ECBJf1XZQhpj8dN5PiWOE6mJwo4x5IQ8iy0mNgNrEKBBZxILi4Jkg3/9a5z//VywyskKXX7psQ8KJ9qrAMHyjbMTIlA94I//NExBgSAS6oAMYacAUAqo68vXilXRzdHQtodHyCtBOByDgLxinSZOtaTLX3damVdVlMm6JxE+mv9gRKFIP+BdQOc8RsAeRJHHOVLSLvsHusCMMhClA+XOysK3JkjtsN//NExCMScSKwAH4acGCtOcSGB3BPg5IJAFoHcP48C+ZooMmtd+yu61K1quudLg8LqX9PoTmofwAwcowCIggKj2brNxC0F6LHf5YYEmADZY1fFVwfyV2yzQzaQsuTUjxw//NExCwRoL6sAI4eTKOZN5pPHu0BihVi0gN1IGE5AMhsMPZ9yloclWaswAfQOMPVl0VkDUSa1eUqNeA9yU45bTQWrCGBwPTXGVK6ZpY86EIAYo1xaDUoE9/Z5rT4KgDD//NExDgSQMaoAJ5YcIfeqWF4VCKgkaa38yKGP9PqPNVBKBO5EM2AQxoBs03LLrHDmOIjoxO5KKDQjvXvxlbwS+wpMfg5MPqNNkDpNnn0Kn0zRJ+99Cp2rPLJlFndOzEK//NExEIRKSqoAJZgcN6wGimjwhYGhtRWE8BmSq1qDBCIDVE/Ypa7CB47e7uu0lCzf/dlCvozWwvbc/v/+gO/Ua/i3oL/E31ib+30+r+IASl1Wp1f9///6ip1hNALbvMQ//NExFASAZ6oAJ6KlJcBsfMFSYC6YCp00RSRFODI5kt1kYK1VUZjPCyFHkUURwP5MfLHwF+V/I92Uj+T6N9/Chf477+INznzu///bVW3//0cMJou/jKgZcJTTfcIDEPw//NExFsR2eaoAJ0KmJ7Lt/NJUJdUfN3FoQNb5uIIYOrn+W5qd5/7yEtkYT0IKfQhvO9YQQGrOnp+xn0YCdTg18O5KhWx3DOOCjy6quq0ZM2aUZZ0DGQRIsykyru2LDZd//NExGYSUaKoAM4ElPlDIJ/XzRIA3CXmS0yea9AxbWmbP2S9S+pktNM4SWDunORiHC4R/zVvT////9CYwx01UDV20or71JaHqDqRr3kqzOzzPB4Gn5aIQKVT52Z+SKxR//NExG8SeTKsAM5acErYxhAQO08X2Hza+38MDDa2/Dxb4vS3/zi3+bf+lYuvEZIdBwnEShVzQsOFAbFzBpXLvINHt9Sv//0s/kqZjFWaWBNUDIFaUzUqCJr8yZoGtyel//NExHgYcT6gANaecP0wcc3ZJdcnVLQFCiU2ZRNhZAy2ZcNnAAFKSnp7NubEot3kriXdb1dKO9ylrSmv529yhYfAAgMAqKHnpItY0sOWMNAJ40apwbekFQ8IgIRDXlQ0//NExGkcGU6UAN6QlOV//479Nzk1/Go5YWMDWB+QI4pCgohO2iiIFj8lCgIbzYRG3ZZ8vQClSJRLJFADEw0qrEzVMchDFx5dlewXRXxzzdG7/PiFH//jf//02rvRmfQd//NExEsdGeqMAN6WmG6Vw1OMYmQn7T0fqX+mzhg9j8v3F1fnZ+DWftx3f9rv/9+8QDLW2KFyKr0tz4FGBTB7hUGXyYmvHUDquNK5MdIg1VNKvBZvzgqVLmMKoi0ZmDjw//NExCkaKZKQAN5QlK6zcjaADBmDT9A2Ga5lMSamtd/P8sor+I+Om4Li+GXgkMh1MyNS7Sp/mKhKfIFBw5I5CELFpRv///9AlBmrqJWvq3GDAzQiKKOLIJjR88FILLqc//NExBMV0YaUAN5KlGBA0g/UJsSF3RNh/cpSCWQw2Do3QEK1Wm5g3SLbzzo8O/nTd/8PIbnLq/IrZCHKUBzPkfQhnu+iiwsTd9RIu3///+r6lblmtAJh3KItBAZghhtu//NExA4SuYaYANTElBAkdjYgSE5YSYhhcAwzAZCRQmR3AT4MFykRwYBKjs48ts+tvfp7e3TwSIU4AZWYzdudNRQqU2/t/////9aEfek5oCaUVFABiRpzt5QQXZLX7J20//NExBYQkS6UANaKcGpXIQszcFpE3KzUkX7jMaWQzqpnuGxHUGNkbk9/fnXV+QtxMWCanSFdQacAqob/FsAhTGSVH3AgCcuRQ3g0QGjY1ryOq+oEWbapajwG0Wsyp9VH//NExCYV6ZKYAN5OlE6yzAOMwQuwwVTeF2JQ1y9/3Jzn/n/O7k+VfQaGXFAYV2NO5/s+nQmYxkn/2/6///yFq71ETHbbXuyAgJwZra4Fd0gqtSSFBcC5bU6T7tTM6Qhl//NExCEXCR6kAM5ecLEvjArpLxPgcSnV4h4uC+qygJYoHkZQMmcUi3+HmPiWT+jBF3mqFzERMPvvhtJeDQbp/FaCJf/////NKua5fIoPduUJpgvtjC2BGkQ3DLUB5mxV//NExBcUiYqsAMPUlDAW+86QmP/0dvOpVfM+ubyiV08Ikx+owrgMEh5YCu7KMyx9goy6KeRKsq/Tr6eZqQPGXfUM2/////0VVcu7mASY3na6UpxgwNwvBNA/mhxYe8Wk//NExBcSaS6wAMxecNIvifl0xrO1ZU//cv8tur6lcY37CZOosrCSdz+UNj6q2xq7lUs+/2wMLOQ3LvXvGFUfUsv1MirYFy3DhgtIMzITcCOZPmCAjEdmdFdHeqcG2vMi//NExCASaTq0AMTWcH35TfyST/wXfmwJ70FxsA2eqB6Oconb5JI7D8Q4mTbUculFiY4bf/r/Xd91NiBqQfK0uNOYZnsY+YDEQWoxBGE4tAlRD07ChSJuzkYg1ZLO1Zky//NExCkS2UqwAMQWlJEogmTqhVJ+jYP2yIJ7KzAn964g07UPIM5PDFNsrOQI5H0K1/O0RFfCVw4INjU8JZEKCY3tqHqHhnEFCTj1htUEfXhO4mu+Wom/BRmY/JCTibyP//NExDASeTa0AMPecJq1nEKXfzaHv5eyarBisUS4dDajR91ZnPpR3//Fyde/KXNHZRt78K76gqLzMiALy6JwiwOJBbEODttl0YO5qHgN6AakF1B+TQOvDQW34t/x/l/5//NExDkSSV6oAMyQlHKzQhX8FVEzoLLEpqjdT/WqwsfxKUP3T7YWvkyOyipx1OujBV8DLiYw8abwuW7NaxVFfdFSbnSPSLDzALAGrfROvlrncPO18T/MfzUQ1J74K1uW//NExEIR4UagAMvWcEanyVmymn4r6iIBUT3RxHIlAwoBmKh5/o0oM89E4c7S7yawHRs46u45a1uBcu5D9kjgKBd0JDvZCR3KByO3LGHe8fG64gGFirlK/9LwzWWv1DLH//NExE0R6TaIAN4QcIyIpDZpn7AQYBmzOR04YpScSJCnY5N8GGYsangT78iG6jZxPfwplMHAQnzhw/GXfdjTZq5+nIH64sHf////////1lhUYpklBTKfw5kqW6XoMrPz//NExFgRuSqEANvQcM+yNZDrjEg6KSTXpMvB0IGuxTHP7l6WP9Fr9bEq9KlBnMARI5FneHe5OOaNg6URjUf/df/0VVsPNI0RTsGU4XBfExA8pz8OZVE6R1U7C1CtY2Zm//NExGQRiP54AN4McLc6slZrOu4s4xwrWDAAjIRD6AfQQ2KnNUdLn3ZDs59F+h2c+/ZKOxIU3uyCiVJQo7DzHUrzEbr26YLkxkgAr0A2MkLaInxOIhXK/OU4WH6BUJqK//NExHASKLZ4ANPGTCxRNj1ospwID9hs5L6kMWULxh9Sjj/jJvY24QdEPj6zVpGfns8g1QhcJxJJcLsHRTTRRjikNz+dv4bA315CgNtzRo6ggJJXJQMBK+5K1Aqs0L7T//NExHoRcQqIAMBGcOaLEtuo1qbrF6bUvfJbv//6FfM+VqtLQNxBZleYQ4HEIAkVqipZr84NdEwZrYXChBay/i5EmHWjjgLoX9G5Wpm2Jt2dgT4SovMdVpy8F/A1WkP5//NExIcSMKKYAMZSTNZt6W1vPpvPvTdX8K/fxLhYE2qjr33rBwMO+lYkcHal/U8PU5TBAcvyOR8C9tSSJjCeoQqnquslbRe8UtuTbeteo3gVAxJLK0HIcKtcWOLmsetv//NExJEXMSqcAM6ecK3/rH+85ruvrrG7axaFR6YDwINSlNFBUEIv+1ldmtVRGWRI9iICHXDHHCOoJ+8lHzWhzq71BlYdyp2C3a4XK7EvTfMIG0vsA8CLSEjeR+tcV+3p//NExIcUKSakAM4ecH6X818/wzOIxjkHC7FxM4msSGSfzX9HpaSWQaQv2YzE+YpOteG5Kc8Wv9poqBF4ZiRkhiMcqsPPAt9wDOTTV6sCZgLZpdNw5zeEt538f/X/frxZ//NExIkTcUagAM4QcOnvo+u5So4GQg13MR8rXZKh0cXTZo6FcuWv+AEZE3jD+AiIyZrDUDhQFYGxyEwgaOAi6w9nFowSgoUModwxYLtaIMq5vOO833P/3e//59en9+/6//NExI4UYZaUANZKlH5xJIMIc5jzme1nOcYv9NP////6etJtM3aMY2Fnzqv+btGxWoITRs8Kmikk3idOA5SXMEuqWSiGNFV1qQzT8pbBj63vuz3/zv/nz95/6tp07du///NExI8UeZaQANZElNV6POAQ1ziBpTSmLszHH7v/lfqV//9HMX3lbwBegjhG5QGZHvshUyeVYt6CGQBpqGVjlhZUpixsE48vmDA6dwrPN+t5frDv/j/81/2069///2qH//NExJAVOaKIANZKlCoLCpo+1JVhzn//tRIf//c6tWSPNAJuoldkDMgBaz2SIY/F/LDOn2DbllMBOJ4zOABIdqY7QKcbR8vjCM0kjfdHVqR7f////VqmKCCHx/KpE1n///NExI4TIZqMANYElIxSbbUVBX//+L9KcZ1m7mzo8Gajoa4PRgjpYn1jVdZySwUgSS0RBVhs5BBSjwhHmonpv/e8VDjz1RPURegRv2sQky4+XQfNEVm1ymOm9wYZKCio//NExJQS6V6EAMxElHrg+sEAQiAMqjCBpyh1OPJoMLiFyDgwwTEgsaEQtCDzWYMU3kmjFnUlkwI9Kmtnm69pnbpbPISUbp6EZxTIDPlmh4iWMhwNsoUvTWjGUZSGqAZE//NExJsTwG6IAMPMKEcJ+f/oWbGNqKUzOVWcYzNj0NYGiAOChsbFmIW6VFDqEKay2ygVRntrLRdxJ7C2OyxgiKhFdFILBaoCQ1L620qlEfryJETJ0MXrQyOR1Ut7kytK//NExJ8PwDaQADBGBN96sZgz0sDQpWEGkr2JFKiM6E2SuSc5Nf7695MogsNa6k+Mc5J0OjQWAgfjMO4MhPOLAMySOvWQRZMCsBGCwK0gZCWGAqfSInuQGV1JdW1lEObh//NExLMRkPqMAGhGcGOtD9LDUw5woinRMn6Zm1alhp5k0DA14+oBLip3tBcEE7maOaFXfQWIBofKZebHAgJz4fBAXP2FJcafOJeD5Aafn2UygnQ4H2vQmYd6mJJ/uVeo//NExL8QgS58AEBEcCDpdLfUTg+Qcqpri6JZBIFie8m0okMLhFonvoko1KCEMQhyGM9IlgYcgINNgoQKGCVuWoxRm/DpPBpIRjwgMBAEO0YLJOPQqpoO5Jc4wRMHQHGI//NExNAQkC50AEhEAKSxynQw5SkeUhrHREGqJFFTFOc7MiJRs3q1TNUw0zSu6vu7dW/a6Pq0qGIUyUdU7NYzEPYaNnp2ruPRQSFFRepFtFZgJ7oBtxjjzMZVEWuNnsiY//NExOAQ0HKIAEDGSNXT1GRdfJ6u/WDs4K1y2l0ibynRNBa0I1dJoYxUkMhtMmRLo/lqbLMR5pmpNLob6J+5q+7mjaJ7VQbUdN3ZMnFik00k0+yFNJbr1spVM3ak4n////NExO8f4w6MAMJKuVEFtYitKRZNu//zIILZvDV+DDJ6DCADDtqAlj+c4BKRv0kK+WTnvtyOc7KyFbZEAYHQLLoxCbYuaJp0/8lk/GVxRh8yiYHrfXf16r2Y7KjCgsZP//NExMIdqhqcANPamP973+/fN6rL/5KiAYTE5qrDJKAM3ECJEO2sxAkEjeCUOos+Ej/+iSD/7SomNblAB7WDoCooEb/lP6tdXqtOkqUI4eXK6x/3X//8fVLDmHjZkxWg//NExJ4UWTq0AMrScYufW3///+/QqqLettgEEhTXLZiGlEwu4fS74e7BtAUEy5qPVuakq/SJVK86YlFJA4F5Ccl5NkTEvJNU9L0ktazIvIsx8vGy9r/+r+1cxLoQGgqS//NExJ8VIbKwANLQlIK7/m6VI//OKtUuZUBSAYqrjyusg78DBSuamkPTcdekXlv0tUCNSaNmxtHynrxmM3HUzm/f+RW5Khz2maOwkWUr+3/9//nULS3J+31fVSg+c24Z//NExJ0WYbqkAMtalLl+EX4/1kE5MJoj9xhL3e9pSCZG1DHeckCc5RChhdc2yKyddRuRQMEBKBs4jREgBDAeMrj4Bw2sCB4DYLgWjmPqipixRLF2ubF//bpUu+3t7upj//NExJYg0x6cAMDSvSsr1ViMyLfMk3Mr3UK6PT49vrf3r416fXxb4+M53/Gten1ekfN4OM4mi7ma60bHPvo7Uv0znEj/zyVg6apejH58kldUWISuPKAjYz43nFCTVJEm//NExGUhOyKYAFievAtx+qaxxCzEOgl9UJnnUPUEgGGeQMIQ0Yx0JUth1q+JLz///////09Ne3aY75u9T5mcrolGONIHj543Eaw6Ypw6QOIGkRoQQsqROLVDxLB+GRwH//NExDMO+xqwAAgOveIgBIeCBguPLh////////+v///Vf//9d/b39//PzEmvPPfblGHc88bIiCsdSTjxhBnMLJVWGzIXHBuKCgChHBaIwPRqLwKkADRYMC04lT/9n/////NExEoRKxqsAAhOvf/Lx/l///H////+y/0YxV/S6HuYmiqjHqzNVD3KFjS1xxzY2LOWKSIlDUwsYOOJikQA/FygvHhILDYHwuF41c1AGzwmMQoJ/1dnP/+f3/7n//////NExFgSqxqsAAhOvZmzkX/0//6F7Ua/0KZmWhGMJOxzrqz2FzooO04/Lc6j5QkYTCETggQOHAmIOjgw4LFXYSMLjA+CibhILHtVlvtcFwX1XALuCoH4uULL4hFK3IQp//NExGASiyKwABBKvN9cinO9kOk4d8v////pX/////L/9f06KVqOjlmV5no6ldbmMKfbVlLoGAjARxILQ1FgVdLKvy6ZgwmyZ1fQ4B5qnmTJkGokCMDKajZcO077w9rK//NExGgSWs6wAHiEuLS2l+1IM/2XHCKA8B2RiDJYyMoYvUMZe+776hjL+p5mNM3PGUVf9b3/c3/Tuf9ITXa6VGF6QxAwpENpdKFoCEsv7AirtYYQn8E54zSQAmJKiTEu//NExHESeS6kAM6WcAKKXkjIlB5aSOfbR7VopdV7OtZkxso8gxdLrBE4Vd9yJb+uhYL5pNwndygFUEyIhNAExPR75QVLRq3EhSEPduvHrkyRBebFPZQPVWljVbvxrv/j//NExHoSoSKkAM4acP/3ubv2/v21KxQgV1rK1aPrRgQo9pjpm//QmM7gwUHkX0oNEkwWDGimDhiRZc9IOnIOvGBrztz2GavwCNulVLE1dX0gXExXZ9Ov///24tBQFFBU//NExIISOY6gAMYElF3rk0l///VVjGckKjppXWfmCVo/xuGziLmSR5VE1AbWEkB0tp2OQSkBLXAHUqSjPIBl/Ms8P7Zx/+9/+fR9f6//6Xq1jAiABwCeLjEs/N////////NExIwQCUKcANYKcGrVsW4gCWQs4jaqRioyFVtlJ8W64JGo4YiMgpVkj+De1pYTKVHKIS5Rq4+kn5uz//l//r/139/0///vylVAG66F2K1hUHl9FL/VVLkl///8sVYl//NExJ4TEV6UANYElAl4YvRFkw9I5d4zawImKKL7H9oObwyocBjyg6iJB3gKpRHxOjkAHARYicBvKDcY0ycGOHekgknrQ19X9f//+/fsERQPnLRH0dTFlS7/8S/6jo4V//NExKQUgZaMANZElD/b//9ClH+hpeYBjgLy+kvEB8BKZYjMbV4GOoNuFCXmCzBaiKcS7ACpBqFQrw8vI+3re9Xv/8/6/0/////qqDmyPk//9VyYiU9H/0+rppp5VOzU//NExKUV+daEANUKmPStsQC8sOv0/LOXFlup7CoEmAlSTQIlqTHkAqq5Ob1NeXR9yssnkfFlKp07wPjOadBJ6FCcIDAyqYdwTi+Lm+eyaUjxmflG3e3KLnpTf8giDg3H//NExKAR8VqEANPElCPCZykeiE8QuaHSdJqZmZq4QWlGNiNywwRHUJQEPgkERDn9Lo9iEmyIyERFCRDZOiV0jNQjp+yegIjueCpc1L/7MhIQ6wxWyjJPcex9TRjcuRS0//NExKsdcw58AMGGuSh1rTTZ80OLu8+1coAQMbsHi4lOGycH4u+Li7ZnfEfDEYrhKWfG1Ul7qWdtIwRjlVqTKoDx0DGgqgaLD5D6QyKDBcxz7XkmqFH7G5i8UfpQLC0D//NExIgSuT6IAEBGcEGdAuJ5pQ6W2ut4rjNs8DbRHMwozdltkKX5W6usoyvFAbDZBjyrECib2lK1GyxBjrjrIVsZf5ErfpWAXFUNYJVj4kmQVFWKJNRPBJIcAFSFxUYj//NExJAQoPKAAEBGcFyQNf95X1NelJS+J//rXsYgO+yur/WV4NtlPvkjvFS+N/+Wre03vSvefPpWcd4M39f/26llPlrt2iWvL2hW0+wBIzaA8eV3ij+PI8ie9KbxSmb7//NExKARwNpwAHhEcMPB7IQ97EbEe+yHggQPTP0hnaSfMQjDEJ27bHQ+vbRJOJsnsN7Q//iM73uxGPcf+I/9/xGXu9v/98axiEe9hP7++53jHu+0ftnxv493bZHaPHaI//NExKwRsDpkAHhGBXjNvTEFe+u00xY2JmcL35BB5lCghRm4K0dCnApucYqPH3UzsJQp1obpsyt1aRGxkjoQd6lZVXiy6SrZAiLg0HBgJaSoI6LA+j0rAnPxofqB5Usa//NExLgaYxJ8AU8wAFEo5K1AT5xm2cxKfXz3sutaz9YrbNab3TVPvX/vLO/FyUqKmmWqf7h491CjQSEwSLN6EbutxUPKwyypiRKGM9v4dJD3uE4zACjpm1qmdB5u9uQD//NExKEhWc6cAZp4AG/+5Yg+bOu9L6ms6dNT7o/l85dASBohoRfFQDBtVeVDi+QvRywS43VC84pTrODy6lm3gm2MCIIBoXvzlkXoz/8F5DRFWNs8Bn4Gri1iLIfHmWVA//NExG4WQUaoAdlgACQ+Nhw3HK0jF/ufPKJytqLLcrEc8ZUqwsSxW4wR8FwQiiumh5etj9Xt6qYY9sRnsemZra/rjVNb//xfx58iI2Gj6cCCJGhdpv1dT8K2ow/CloWp//NExGgW6Z6sAMrelD5MbvGqWCjf5oBUn35B7O2H75at8Gzb9qDPl7EvuEnltOMkhKidjgONmsolaq3Op6NisdRXGFEy9bs/GN+lM5pv/++92noD74a5YGkWxdNn///9//NExF8X2aKoAMrelCrfP5ARmRMDx2HRwKbKuaUC/1LWcMdTGCR9QBL0MTMYnM5M1wz00pC3LiUf6GABhCCb7WPhhfD6FYkpa9zMurqH/+Znyqq8t8njfQ7////v/XXv//NExFIUGa6sANFSlD+XzNCHubNLnqEI0HunbubQDjOga9C/n+cN/V/3/wkr3lIIoJ55yRFEYsmlA+jNOWsff26flrWf9dfbIhzUjPqjm1f//0VN/zDCzzKIm+Q1B7Zc//NExFQSea6oANHWlN0GFz4MCZlQJMmQCt79F/3a/l2/hf4oWuEBQEAAaUFggAaHpkyIYmGSgoSAjCopyNC0hYn93////7/TjE5ugihsB7lz8bRMMPhBYUNF0FUX1yer//NExF0ROT6oAMlQcPffEUev4b/qx+x9ex55A6HsUB3nXOWLjrNFxJOvccJwSvSp9HpDSj/yv/////IqYrUiUMmTjkSBLowQkGBTaqjFizWGx+DAN5ClE/Wcw2Gua5rn//NExGsRmTKkANLWcDm09/uDn7Zp/rVYFjiRQBYQw0U9TajoKZDnGmlD4LEP7vA7dpu/jg/4MXHr6SAIQAaz7dUGN0FOCfnlYhC0fEs8TkHcdWMk14c6Okm10ajEEjDa//NExHcSQTaEANPQcAUIBKLgAFAYVFEECBHc02m9ncs8UhPBdvVIZftn9cEKsHt3///+qsu8YWYyPNZaKYxnkzUpM5B4s72bhtK1hSRi/h+VFVsUlXWoOafq8rzG2Ey7//NExIEVITaUAMvScGhAYow9mJeUVPsPPcla9RhbCqwXOOdZ/ie9l5CdM2zsRnCCyd9BA43XAYXdSHbWM3GkQ7YztQ7Zrv5a1qpvOkkiSctKUGlkAZEROjFU1Uoy2UGl//NExH8RQTKsAMYScO7yqutlRmCWA2p/T9F3qDWmxrikX9lFACkv7bRALroG4FcxJlIGmOl0pD1VM0JK0y3K2DdaOWU39zdBRqNmbEnI5pqLPme3/eYxyyEhI0VRb+5b//NExI0SeTKsAMYScLyq5uG19Nu3dWuGobYgZRIjKQHKXs/VYGEYp+oUhzMz1ZZZU7Wa07dM1q6QsaCgoKJOqf5fdd31m37Va8dwWeclX//6g6q8tAQEBtDofRT+EYOl//NExJYRKTKkAMPMcDoNhCIYQAyDLI2LmhcrusNaUe3Bjf4X3WLtAvNKydksGHE6SCFb1/57C4T97O29kpBQRQzr/TbpR//lKq/gI8GQ3gT7vYZ5wZwEShZPHC6wLW97//NExKQRATqYAMPMcF1QyBKWGXgkMw+zucrUfM0MGFzdsOi6W2R9AeI5JTHjrtd/1EXX22wLPqveuFwEJyxE1u6PbxOX/VCiCv/DNGTnX1IiX/rjwpbACwoO3TxyHmmW//NExLMSES6cAHvScGZcFtMLURi+1pxS1zjlsRLfaqB8zQinBS9GIL8/enxf3udZbDNlujxyqtc+hIl90h85tuVCMUbwmQsepG80wRJcX5k8mGc86lTfIvqxMf8kRnlT//NExL0TwSKkAH4YcCDeKgoFwuVJVlJspQqSc7lGdxqC1LKLbFezgvZ+mhuZ1+mxo1Z6iQkuHPgItk0DsdBFRo8stsBWfb1AUB0e5U+9vtVSf/CYq72KxfP6iUNZbXcZ//NExMERQS6wAMYYcCjsg2c2k90XzW1MtD2ZCFNX/t4yxqy5AiTYfhul51WOkSLM00cxKhu9L2uwvKtWanvV1/MPkgF5yKaOdAfkEieBQ9LVGt4SZ05biD9thXnKlvk4//NExM8SQT6wAMYScKEdf/8EDf//////Rcf3NAke1yaLEjT6aqzwFKyifqgHlYR/aafRb/lZeE/+oCez/CNfVoJ243B0RMr1IDeSm7MTP89ft9UcP6tlPdrnzhiY8eQO//NExNkRsTK0AMYYcEpW++xR6B9YhOOIcer/////FcuaqkCv3HB3RRPKzIhuc/OOGaki4ZVg0dlWsMW3kX/BEV/4PGLrJ8xP5xrO47yyBxTLF85mn/pm38+qVa6ZxROW//NExOUSqT60AH4WcN6xFgdy91lNG1JpDP/////6Fd/68A4tFTvuAjtCxZgmayaZkY6c90bWUNwUtisYhiDYrlTyi1UqOmS66RaioeNoBYQSwbg6rOE6H79Xn7V+Olpr//NExO0WQT6oAM5ecH68Pc4w3LmNJOYmzWhSxTsDSs94FVCoL/WKLemYyMubhA90wQLtLPcoLvUBiu2hy6pQvlGbtBS47ZoliWMobD1TMAOVMYB6cWWMb1yq9XKtjmSd//NExOcUkUaoAMYecIkqaeDcQTV/3KarlrHZlGtOHTRwdJxshQRcWBaEhEt22reA4F0oPcNyJFG2tyCxpyJ7tO48+YI62MEa8/HhAiAoACYn6sx7Imn3nbejte7tn33W//NExOcUmTqwAMYYcKI8fbhIhNo6qxrLUNEzsrMqd/////1oziwGGLwN6U0uwn4lSYEg2FgANRvcqZetmOSHuMAOzO6r2ZetxHN2NHB4BIFpIJijZhystIts8rT09o1P//NExOcTQTKsAMYScFI+hzNn8XZ0M//////Xr38w009NjH2D0SbqVktthd3PyGRA3CBgcDRaUWbzVC4Oem5VOtcTUrBPkw22GdyLvUksXUrRjuNbQolss323Y8GNrDDu//NExO0XgTaoAMYYcBvXe55jplLkzy6xRt2Kue2n9yRqVe5cIwXr61SsNiTE0aWOGBkWwGVRykjScWr1t5caGT9+DeerNZJ5G03kQg3LFAHyVuOus9e+t9erUz9mzbhc//NExOISeTqwAH4QcAh1VF2jXT3r//////rVhylfY1RYfiw5ELJwpPYuDIpOc40FVh2c5E1mv/10Xs/bvTmNBP9hwKYP6jwzmdjKIk3hp2lM63/v1/zXf39fFc1+40O0//NExOsWUT6gAMZecCNBxn25iJA1jy3/r////VQqDhFeJPqOmKuOJHKwY4QCGBqBwwFCZlCq3NZ3Hl3PzRNaYkbJUVnWVruPbZcuyEyLpUAkWss0uAuWKgKFX86EgL+e//NExOQS0TKkAMYWcPyrv//9H//8RRFXN1pR+MmbJcJ+DpkkAUFmJIGDIERB4UJLhQq816blMvq1/kussWjdGpTkhR0jErLLAoKvE7WBMQWuPguVNkQcCFJcH1g+pTCA//NExOsVSTqYAM4ecLOzigxTJq9QpbZ1/5BX++hAcHGf4m+1wRkU2fuCHaZWsR/YnPas2nitg4qIFDIFskCYUG1yYSm+Ix9mSoePJgRNcgiRtpJxwNqQXepkmGsSv5NR//NExOgTOL6EAM5YTJlrEV4QAAbxKYAhhxfFHRAxSBBIGYhqHqKHMQwiuCV2CMAKBhBFcIPpTRXQ4TnmacEU4lpGAEZgFDq58QjquCEIggyRAAg4pAApFVUliKOBScI3//NExO4WAKpcANYSTFPp6GIMiRJWrMKV4vhkk1TVHfr1sp+xSS12xYRQdHCOOHiAIB5IuKCENPD0a5h5o6h+PgpzR8WYPzijJVlGSKDRWxmg/YfSxI65pvWKnf0Fdm/p//NExOkjUxpoAMJGvadGZVXWob4i1FObrm5/pYv45Zbbru+WqFt+5WLnn9mpYGrPFZhkFRVCdkUY1qQCGYoOhVGFC5iwRhRTTYyrmHVQTcxbHmJwWhXheSWSSjmKChGj//NExK4gUvZ4AVlAASNzRepYwhHJBBYtiUWdcxaiitzZzNSCRmbORlJVo0E82RTNXWkylqS+1FBCzLc+ozMX10VP+zsaKv9qBdRuy3XVq/utqSqCJhM6eum2pzBI6AX///NExH8gEt54AZpoAAaVcGAUJoYVtX5YjDF6rLZJQ1rVnn1pulpaXK3hcZHvuhijBARgpBdVoqszvRJWq+ljMqCQu6zETe5SMuL/07XaVd/b/oo54VUkT5WlteSQaMQh//NExFERoSogAdgoAARQhV85SlA9bJEj+cNblZWMiGWGngyTBY3eKCkgcq0VHmE7X1PDJpZmub0iizS3M7rMv7P/6QbISyHMxEmDV1cWKYE9DYELNhamLzvWa5AqeYQz//NExF0QAK4YAHpGTExEgBecOKEJlbosajZ5KwiwytSVJDDFTq7Hk1nE0Cr/aLup429VdCoLBnCzE0moCsS0lFzKcTu4SjiwQM+FlCC0gVMEhFhoSrGoqTMBYVDgEXLW//NExHARCLoQAEjGTNaFJpgwTC1RcjqTg0KgeqDwOJQ1jkpZxqWDgGQ8UI0CwuMYmvZo1zT2u42tJvCoBA6TVSnNmqxr7baPTtzTSlY2jrzV1//NX9HCudiISt511QFR//NExH4SaLoEAFmGTIVCYCaeO/1FSSwEBfqVJBGaFB02KCpORoiQjaJBayBwwnSB6RAtA+kD1kC0z6QPSIFrIHIEzkD0iB6iZQwGwgOYsETwQHZIQeCA7CA4kWCGAwQw//NExIcQUbXoAGDElBwWEUWEUWEUQHYQ7I7OlNKaUnhPCeDhKLCA4CBhA8int///6uxnIWRzkUk9nf/2LI5C6gwoBQUFQUFcBBDhUFAgMllFFEsoIEhspIJAZSSUCGkk//NExJgd2g3YAEmGmbKTBkspJFjKSamCySWYqimKJZSSWYruYolsSSzFUUxRLLdv/////5U5OBTIdh+u4cDwxKV2RVncPM4iLO5c7huxCSxDBuTzsSwOEwwMHGCQeNuk//NExHMR2EHMABjGJbVsQmcbkJhE2/edOzM8nGKU1tf0sLHIhDHPJ7BYDTbTCER7ogsxB7/vfER98QxBB9MQz+MvSCD3ds9tDp5e+I92+tEZexbREfxnvYw/TEGzth+m//NExH4h8vXcAMMMuSBiDtGMQQ6PjwEkQDsDeMqM2ltQmCbw9RxWUxpO1bF9EQqJpxqSwqFQqFRMRBYVRihZlbNIsl1UKGMUJETIkSJEilcvSyICAgICWqJgY6SiV/UB//NExEkfaxHYAHpGuV4BAQpgwEGVV/4ylNVL9mNSY1bZmYMBClVVUvU9eM3qqqqqqz9jVZsbM3AJfX+BlVVUKAgqTEFNRTMuMTAwqqqqqqqqqqqqqqqqqqqqCgw8IByp//NExB4AAANIAAAAAFx2epWpamWmZRaMnxwWNmG3Pc2ghOrq5MtGjzbG49zb3NwnD////8v//8jIyMhxxhyNRxhY4h0MjS0yNWUcYYcQ6fZCPisMOOIdL8qmRqwkcYYc//NExHEAAANIAAAAAEBiwZ/9WXR0wVlVVVRCSqdHAH5TjcJZpsUEFnGQAEVzcDJzIOLRXBi4ouCKYGwimEILAQBkA+wa//z8u8mRWFhogIBYIgQpDB8uZh+Xn3CBAscK//NExKwAAANIAAAAABSGD5cywPrA8Pyj7iFRyJ414nUP0AJBOtEbCmOpmNlgYKSqnOSqjCrQrVeiYa0BICgI0SDqh9P/9lboljHFSyjzyz4dLLWdiVww6JUqDkRPPB0s//NExP8aenFAADJGufWG5UFXQVqPREWPQarDakxBTUUzLjEwMKqqqqqqqqqqqqqqqqqqqqqqqqqqqqqqqqqqqqqqqqqqqqqqqqqqqqqqqqqqqqqqqqqqqqqqTEFNRTMu//NExOgVIK3sAHjGTDEwMKqqqqqqqqqqqqqqqqqqqqqqqqqqqqqqqqqqqqqqqqqqqqqqqqqqqqqqqqqqqqqqqqqqqqqqqqqqqqqqqqqqqqqqqqqqqqqqqqqqqqqqqqqq//NExOYTmJ3cAHmGTKqqqqqqqqqqqqqqqqqqqqqqqqqqqqqqqqqqqqqqqqqqqqqqqqqqqqqqqqqqqqqqqqqqqqqqqqqqqqqqqqqqqqqqqqqqqqqqqqqqqqqqqqqqqqqq//NExKwAAANIAAAAAKqqqqqqqqqqqqqqqqqqqqqqqqqqqqqqqqqqqqqqqqqqqqqqqqqqqqqqqqqqqqqqqqqqqqqqqqqqqqqqqqqqqqqqqqqqqqqqqqqqqqqqqqqqqqqq\" type=\"audio/mpeg\" />\n",
              "                    Your browser does not support the audio element.\n",
              "                </audio>\n",
              "              "
            ]
          },
          "metadata": {}
        },
        {
          "output_type": "display_data",
          "data": {
            "text/plain": [
              "<IPython.lib.display.Audio object>"
            ],
            "text/html": [
              "\n",
              "                <audio  controls=\"controls\" autoplay=\"autoplay\">\n",
              "                    <source src=\"data:audio/mpeg;base64,//NExAAAAANIAUAAAP8DDphnyQub/afJoaZr/w3L5G/fFh7hgSvmGNIE2IfMY9XUxh0af1flxScTdv89/UcOdST/9G/kjB2Hm//xoYcxzP/+lOxaCMX4w4kzlGJnLGCq//NExFMRqc5MAZk4AEp5VEHc5fr7lcjqZ0M/lxgptzd6aoYTq43bbN75t5EgSG294OxHJRZiVAHEs7JappswZGsCYNxHIxYOEBpceLKwiW0YLCoeQtmdoW5Tn695sqLT//NExF8h6mJYAdhgAPxfHTaavveeyVkzjD3ZTYKv5e8FJnGHMWUyf5t7mIZPhg563YYLwQDFI09pD1E1eSeJVKRqOp9Ih9I4qeLMTXMVaH06q9ppVwjuWHkA+NEUUD9Q//NExCobEl58AHoMuDghAQHGOaeKRMA0iiIa5c+COweu9wxHqcpAgIC0GchZqre00NQMz62VzXu7RzM/bHpo8R3zc2UlCZgrelbUlJTnOpUR/xaIPu08VkWKdlYQQqNB//NExBAUmb6UAEmMlCUqf5XjbrcLb7/6+2j9zYRsHO+g4RCNFUSTKO2SDFIeXSfD+3qadnlBGprMyuhDsY2LnzSDo5DEkiV5GhqXH9///Wq9vl+BTPhNclj96iYfBZgg//NExBAVUXacAMmMlKA++aBEAcmDgCx4XVt2y/2K1y872X9+P7docQTQB3TSLJB4kWS1w6iAWZFS7ItPzcamT4EcZEgJC4JICp3quzCHnvd0ZWrP+ZVxQM5ou4VKq+TI//NExA0VEUaoAM5YcMQl9l9rkSdmEMvy5jcjVWxzeONasf7svOTNv29O3vwqGd3VBu4B8d318C2kTHbM3PKw9MMYPKnxdTLBhgjCL49e1Avd//QBKj3c8AvwsKpmXlDT//NExAsUiUa0AJYYcXfR2ey3hq06TE5f3/3TTMv7/zMbfzM/W9+r1YIV/wMlIlpAOFiGh0dMn771r0XrX9PYL01sxbne2aIVY3FJLj9Pjqe1uvXsVUvWPoA/C2GBcWZD//NExAsTGTq4AIyScXQFjAPwiC9RRHMJ/3MiJ/9rCox//4qo5+toVEoYxtCqAUgLk+baEsRtYmsFhcy+DugyvjSv/jZyFELXCpuf2Wybiv33+1GiliMMUf6ks+5fRCyO//NExBETqSqsAMvecY/xvCmG817//gq2fX/7E7if/5etjPve9qY5San35L3fQkTPAi+Ghp0pBqiVxQVf5Rrviu/4Wv9Mlz4dmr+V5SW72ThCIs2HTkfEhl2zsF8MEcLp//NExBUQ+S6UAMvScInts4liJ5y9s/EbOVv8UObW/yRIrhTV4KmiF0t/sKiXP40RClRpEr/+3EQFATBECHA4x0qlVjQ6WaXoaSwKBpS1l/WdSWW45Z1ea7VvcqLvSoaq//NExCQSaSJUAVlAAKiYKt9tVwbB8cDx+3EQ1SaMP4FmINH+17ktaNLKTsLAU7Y1vX9FE0y5SMqJz5Qi7YmGyu/Y+rbkNa4i+xcYVKxFtbj6PX6u+JFIC0HgHJ+tshn3//NExC0a8xpcAZhAAcRA5GCqNH7cv9/PA+225//iKSLMLcvWxqjQ5DAI1P/3/ulpSVx+CoG4dWKoTC93//x///3zf13//bnbRJk9wREvS9pQxrTYUFA4tBzaC5UVbkYf//NExBQWMeqYAclAAALuUS0CIwwO8SCKzmB+HAdwHAiHg3iAkEQaI6IWyN1+LvF83W9pxV/f/vdS/x9836S/Ei8OxA5zzr///8E/UYCxxAEcTYvzmCpyYEkV8F7CbFRK//NExA4SUeagAHmEmIZpWIxrQTWds4/lqiLsdVAiEQktFpl3QLGOjHXoyKCDIjpbLuy95O/2VttilVKtmDB0e9VC////ta561eXt/VlAVCMfcaSlsijjrQSlSfZqfu17//NExBcUuSakAM4ScDOUaH5tO307Tdxl0Ou/av20EBk29hULAKZDaOPjk0BPf30ogQb7lkiQUdpoZDCnv6BBsNIWDjN7m7QX0N49/WKyA7CF0rhnLFsAAACRUct1+waD//NExBcUwUKsAMZYcEszzxlBe96/8w/DY3Io+xsGhgB8DBbiKQgAYEoyR7Pf2U/pvHjT/zTp8vGblMtM2dnV1NxZo6lOt1beG0X1LFeAnbz5tx9zeGBLe8rsNGIIsqKz//NExBcRkQq0AJYecFP6uKqQfjjl8Is7XBhl09U4t54yW37scX/+8Obf373fPcUB1yw+dwLzPfBBH5XmaqDv/+Ki43q3nM9pB16ZVfC3RwyXnAapvrmVzT7iw6VZdy08//NExCMSUVqsAMaKlAg7TUfdcvKUN9Z3vkOG9BG3lN0iBZuEx34q3DWVy4cTW7Dzpd2GKrH//1yoSPVXuSWkZmFc10w7f58qBXQ3UO63jRFgcKjOsdSgkBTUVNzld73t//NExCwSUcKoAM4KlLX//u3xhvib/D5c8QAUv1L9f/5HqQ5xh76X0B5yqqff6qqVhZxb6E2HpVSMDUOUNya/dglPw4wSas5WM42hKge93bwCUw5U4aF5I+TJBTVXWj9F//NExDURcTagAMYgcL2SS9kn6JkXjZ//+AVu+nh2BxCt2IuAKhZnzecg0mLCaoGHCgS+hxIraxBoUFRuAaJhsw/dJ5nG6q3rCnUaN40y8xlMaSqes7qngKMyTAk8Gf/6//NExEIROJ5kAN4eTMJIIxC+JQNY98UejZ0FymWnQREqFEFkUWIICZsQJigz29hbbAEGmnGNQ4XiPPudXYikf/pp7zSHOpcK/7+rp7dWqlUlUNMcN56N/XJfqC5zGXaz//NExFAP0IpIAMpGTMMOdpL1Wv2xzn47RwdKAQMCcUBMMCMoMNOggYIJCjhAs25q00jaPW3t2fay3//V/7R6Eyj7jXF9zFkZXA6K6VLe8ddEiSxW3JqYgLjeKEFBDAcI//NExGMQaIpUAVgYAAIx4fEkKI4qLCgeORTZcoOxBogcPBoTNKYMGqa4sKJTERNiNBA4c6pG9EDok94XSEuT9HZjYWuurEYd0UdMzHrd2MHIvL89aFsJmhzFayr0RIqX//NExHQhex5AAZpAAW4mf4lZHdnn2Nr/Wsg6hSYOEyg9d15xTWK45NvDec/Y7EXXv0NwsVgIC6rtdXcArYXEdLpryyNYMKiUfZZvYbGUHSgKR+Yts5TLZ1c2GbDSU2gY//NExEEg8uJ0AZhIAUYUQVoLIckt4f1V+QrUUFYoRFWiaW71YvQ+92937ubyFEtFJTNPmEc0UvJq/f8c/////+/P2G68/HxxuVPlqnk18sERQeNU0LMLrM69gUNAsx44//NExBAPCDZkAcwYACstMDw1aoqZUGizA0Se18iAR6zICZaSNiwsaK0TI1aXC3jr9Qr0f/V/wKVGqjnOAgyKjLJa9L6yqGIvhJaLC7L9c3hU7nhzLrHzJ8tNUIpLP89f//NExCYUsTZMAVkYAEiDJS5fTSTLEIYIIhUpI6KOIDUmQ+kXXQKma2NrFi5DZMMMSHgvzDW5cwgwYhQ6TVjgZf7s6KR31fcRq4uc4cCw53IkgdExwd+RmIRxFXP+6KLv//NExCYZax6EAY8oAQkwaEjgb+LneshCDBWUV/7RAUbi5SgcDsEgHOHv/xM4u7HfyB8wcDQEDEIGFO3//s5Gnec85+yjw+cNEhzA71UDq84Bksp3Xz+rb/7/+n7/Y6IV//NExBMW6urAAYMoAYqurTNPdRowTJVyh3eR5UjxSqHuRBEVGOo0eNGIrnOUynrI5xMgfDgixg12HseUkRFTdjzkQHqNcjT5nMPcwulVLFPhkLdAviJXYQYAY/DoyQO9//NExAoSqaqsAcs4AHpR7/l0z9/zNaz9/quk5Co3HUPUxknI7THqaVUqIDs4//Pp0NY1Dr1IgIXDQwqVWCoJIErgangaBoKPT9st//9dw79CrCHr7tVIBEYhoABgj1II//NExBISUTaoAMsMcGT6VdEtdHM0ODztm7Z8toiPbJy9mAAEY44gYQZRpyJiN9AzlVB1HaHhS5W9oADAEMKeNsKDUOoV//1fMi6aN2r4IIaFl4vDfkzYtZtEL7E336sh//NExBsSCSKwAMPScM3+Zs1OaNFeTnBbToXPjBOZAsIGwSVRoyc4IVAoeXLJxm0de22mtMQj19tiiqrDveQ2NigaALLwnNkxbWxHBLb9VIqo38AyKf4Vkbf71HW+GxUw//NExCUReQKwAMPecG7ASAbV5u2GCqYz+Qz0OWtaP9aEUBPQe6neIXF3U/e8A7et3EnQIBSvvqCzqZnkDclATwnFpxThY+UhZq3UkLjfdJQ2FRXbUwCkPqocpwXk8Ky0//NExDIRQQKoAMyecDOgw3R/EKrmuW2f0//lTj/1rQiW95fVsDNsCt0nB0GdFAxbKxBYZN5d3Y4KAXtlnnKELuduVFCLWNZmA1t5eTMBCGo8G3hbvMR3jMwW4stNF3RN//NExEASMNqgANYwcEf/+ZBp3rdHocf5kKPCSuU4v0ZlKeIddwAhYPB/qV+DqkxKPsE0jqwCeB3njBZ3gEM17x1OA8BFTvII0zhvGkvBrLb////PfixNKqnezgFOFAmX//NExEoQWNagAMvecFNAI7nDEr+T4MYOg1rtyOFu0EzrbhtTNvb1VpBeBNZvpyAAMAFKZtEmGJpl8ZxkCCiY6KsutY03VvoPf//+h6P6qru6j1hdi8tI+4IEHXJOvLVO//NExFsSUMqcANZwcIGaBYg99mJlCCO2M1F5ZnKsFXNBo5yJITYOjsrTQJl5v/Hww0CP3IInA01hUfwyox////r/FSfvMogZ0U/8+FOC6FSOEIs5IkmMalIhCwXYq0CT//NExGQR+M6cANawcLO5X76OM7lDDKGTX5YygKqL9SVgagZEmkfdna5X5lD6NYh+TTDkQfybjdvkccrnNrYJA4cr2QLFqQNzMfHT5bXKuhDQZ3W6QNz7zXrPYhdw22dG//NExG8SWPKgAM6wcU7JLEUSVJABqaeXQ632iYfMOsHJwjMENpxhZhyt3/ZJzX+6hFWl/GRFO5HdbEcJxe3PABgBxlxyyN5JyiLa1Q4kqBbVoZ/qv+yZ8uAEhSLAvH2X//NExHgSSQqsAM6YcHV6aaye7+lOuqJ1ofT1MgqycF/dG1KVSuYJVRZ5Sa0xRg76l8NzKpALsJ+ci5UHalOk7lEqtTJ1sZfNNqUdcCEC6yBDEX6JNqijpi/+L5VnGObB//NExIEQ6SKsAMUScKW5+WzqzsOu8jUMNGPsyMAuzbkpDqYAEkAwNUyK7qsxC+AktDUTUrfjlvHHHVDFca2t4/ltdzratmWFEyIMOBYJgUtEp3klgkVDWty/4lUIFSRB//NExJARmTacAMyQcILCpg2Im8guYGCCqxcwWP6VINAJg0SmPAOwxwC8qn5XMuHvC5V3vkYUNvUMEyKAaWw4pxjqj2BOp/o+4hUn7f//t/+ldUeACC5hgIFsXJBaq4tA//NExJwRIMpsAN5McGbOZYuFyCKU4lFIQKx8NakItXqy/+klK/jrtVM7Bf7ppYc59v4jI3nMoIl9/9CWaJJmO3vrxm2L///2FpZM2iaOyJbGIO///8axb63De4hv/bDe//NExKoR8JZYAVwQAPXltZ/+////2qJqmdvLzU+Nb365pLYU/0H8Ew+KutrGkodltKVAAZ9Xq4r8mBwodoegYZfHYbrjkxIAeVAfA0yKAF6f7IK0OO3nR8YTUTN08455//NExLUgwmacAZl4APCUcefKuS8dPi5KVtsrT7fYa1W57gNuoFFOxw+dlGh5I91rElBgQDByUBAQC6TALDWh0XEIeSf/////0u896gN+B7FOjgPI7VISh7tPL5oArHCC//NExIUbeU6cAdp4ANTnH/LoPJnBjL4csbfXufl5OTIrnp+vsjLB+vB0CgiGgchifrKJj/9ZgpSi7m26RsPrm6djVXoPscgIn2hEN6W4ZFqr36cuw92NRgRS3DlNNIX6//NExGoWcUKwAMZYcILbsZKL/+q4SJM9jXaUpZOblMHKPe7HBTwXRO2duUowDgdQn6g+YUdWRHr2BDtVrkiVw+i8WNGUBY8jcqlDleyzcmrWt3B1DaZ1I6NGg7v3VHpb//NExGMUkSK0AMYecNnxCgD3hVmsIyI/03zTjL0324dzhjCKHG543zHvEUxYiSTakYps5xDpm1nKP8Wgx7YfWOPYovv96/h8DLi1NfE9BoCJwuAgkmz/4vS8lXdssIef//NExGMTmSa4AMYecAxdoEqWpAmOKesPz/yKfcTS+aFJpiYl8Otne2Vrne0KSmNNsD+sJ/9WboZsEWW/96PWla38p8Bo4b4pggDCo/tVLVt7dl0jCReksm44rpT1eVbZ//NExGcRoRq8AJYecEtGcRxkFR3JlUgLBWAgWIk6wzf+tPp9nqvzZrdfhZpe8ILhE2a6/0L1Kqnf+sUXtVs6iGSeHd3GMsy329GAMpilNS7HXJWVaS3MKV2tVcgTJ4RJ//NExHMSSR68AH4YcCq8FSq/fKGquvv3PP9XV8/emettMLJX/wvW/07Kvs9WikeXAFcqNTQNHByYZ3JaNdp8LcrC2XUsWc0yhItvPDsBIXXEYcorIMerYBWLVZmspkFT//NExHwSYTa0AMYecF6ah5+WJntjGkOi73rMRyn//lvvqqHLUEjNB60Vt5sHNmwdWtSO9EXCcbC+/syqWET1WlCYdmZYEonb2PJjK+JhKBsexmJNMVvTLX7VmKEx5dfj//NExIURsSKwAJYecCemQ/+hf7+iZUaXMHDDCWAQBMGMMyyByQxIYwwkmEz5dBx3smJuMpHw/CMII6cWVJ4gQ+ldpUzS7DEDojBsTzMwphaubZOeVY6Se1T3uc7SVdDZ//NExJERcRaYAVhgAF5iIh/B/Zf3Bs+HqxBKNVK5pucuK3S51sNpKjM593hovP7jlP9n2jN35m483eeV2E3ncytK79WR0G1QskZhydEGL7fEwq5fJM3JMwE28vj3KaxM//NExJ4gad5QAZpYAUlRLhNddAkyXHgO8eY5RoEFBSQ/KZPniTKZcWmC0jlH4do8Sh7ZKGkuFxkDUukikZkiXrKprtLiFTG7qL7l04k6iWS//m8vp0037GRLKSNl1It///NExG8fWyqAAYloAP/6Dar6frR0UklqNqjiSgXIKtNKvBIqUPWGaCr+GknXIz/+xsUdt4k7VtJGyE0i8T4OArGllmDOUEg0HjAcZWUrY1x0Y+WYicdvf/v/01tjVV9d//NExEQQ6PaQAcgwAAXogh0KS1F5NbLXvqZhuGXeFZE/qo50u82JjOesjGTarFwwFQEBHk2HVDwEFaxhtAlAShwMsiIClS0NMUaSgSyP86IrFne2GnSDiy6lsz+d2nw1//NExFMSAV5sAIhGlI5Y8yu/uxrljLnK2ODRsRKLuYU+w33yHDvoEIQCVGBAURtQuMGJJlKq7XvuW67CRUjj3qTu////0qUv35Qry7DkZ1pZlYjF/7G4hIfcysdg6Cxr//NExF4RIQJcAVgYAFr2W+gQCYSQQL7uIVaykKBEOJ3FvqH0+4aOhpuOhM3/prbiuO8fBvHWmHshwQ45Zf81u6ivBHLwJx1wAWXGgbt75+P7i///jD4TIHYWGg7DhoaM//NExGwgSypsAZhYAB2fH0zj//6n7vn//NMdlWTGvZb9V6pbcfmlqy7Cwa2NhbH3lkGTtlRFDom8zopIWo57u0DmOzqGNMzxldfbyGli36O/GtO2zJ0Fk4LymmprYWvp//NExD0gYyqgAYxIAMc1qCVTRTKVAnad6TXpZYo0tPPt7KNfNu+TkgkWmZf6jijLGOlKfuL5Zn/yPu9hlfzRo0mG3SWZPm0E/9x0Y7lrKxV1KsJ2mHCFzWuK6HSkR0+l//NExA4RQZKkAdg4AJKKgFO16HXDXvRacB8p6brw/UthALS4rJkywPwHiSJiAPCJJT3NSbX/X9X1S5z6///oNjf2KYmbxoCDziZ05fVLuA26GGjAolE30MIEkmMTGgVn//NExBwRkL6gAMaeTCgjknorAQfP8IGDW3DGC5eEir6+o38j0PU9D10HgROg8s/TbN2tb/cqumqMcpBCUTCW2wBZp5rzGz7NeSnVkLrxSZbiPQwlHkzaSlT7HhV3BIUN//NExCgSYUqgAM4ElAv1CO7xo9f+Xf1v6Po2nTr/KVkE5x1GVHZ4XIqcrpOpsoqV2IiBWUgbVkySaaYENIEGZTFBEkJCzmAS9WGo1QKFYLSA0oLSy6ctMludta7vDvP5//NExDESGUqcAM4ElP///v37f//l3YosGxA9UMMQFRX0p23S1YdwiZi2hfSXjNyijQATnWCN7AQjEQJXoAcEgeywINDk8EhYFRitSt1ov3LaLf1//eVAgNOEuHAkHjv///NExDsQCIqYAMayTPt////1qmwbZ8YMmCQNBKewyf0UsHAg6IdaZZV0LCcKwGeAsgwE3gAWJAuEVDMm6ItLISa7//7a///+qykTKWjZthJjv0/29s9///3rLkvWvA3E//NExE0RwY6MANzElHDCABjZjyUDxMIL0zxj4ThH5gxwqXxbs1oAPBVZtmJqSqGkdZhsKs4V5aNU5YSxU7/+wGhEsJPqxUNFvyX1VTEwHCokEAlM3b08cIQgFGPS0CkE//NExFkRCIJ0AN4wSEyzQzOTk8owADKCywKCkcRtuU47egKAkfLxxPz1+83jqdFh6l9bXMb937fX//v/////0AYMTAwJTRMNPk7EDwCChEEAMSzO4UM0LlIifFiO6AeS//NExGcRuI5MAOZYTJkBQepF5piGdTnJs4Wru3pENFj1tT13/ehXd6Oqyrdv/rntf/FaMvSkBK5TKJ86IhAwAzsWBkLmBsEgCAvppFFrf9ntX9//sT+MwoUJAaTWBTVB//NExHMRYIZEAOPSSBoccoHElEbkvS5n6dtvtFOj43/vz//RcxrqW7Hhl8ayBjuWIOGSHn7h/7BNmbIso44DNMClD50/IGQc3JsBoCuDQDG/yfcrmBoF7xCQtjNlf8+h//NExIAQ+IpEAVsYAEGjOFgT4I2IqXv5uo0N0GmzH0jQzS/6E0WmgqaJEDQLidZin/+tNk00y+9bseTNUJiqySm//9M3ZN03oITRk9I4xemRsxk+WCr5bgjsWpcWHYiR//NExI8hCxp8AZqIAVi7zEmdCG4XIEOfV2zIxnUCS1FOV8rvVIZIq7W4+8Kh5mU9nGsI9GdYlZxJFRnCgga7drOGCPrU6gjbpEAgo7W6f7VqSv93XZv+WicU/hHwtdUE//NExF0UaRaoAdh4AOy5HVrE9XayI93Ih2LMhDF56lmFCZXlVfmR/2pxj50hs+nx3Iy7CykQsSwk/n1hslNwlXDiwn80SzVD3Xy5eyuUjnuZZ+Mo+hWQZ6kpzCSDOmYi//NExF4U0TKsAMZecB7lXrohC21ekRjApzADyw03MLtELKeCAKUEi8H0kBKIzdoA9Qaa3IXYLtjnZAHt6uIpLiG+ZrVJwOLa9PqTwVQrHBrYTQbJoyeZ4/rP4WPOfwuv//NExF0bCTacAM6ecQ/p3CFnm8pLzSfpn9fA/qqa+3GQiuq2ngAGjQOJjG2xCFNB1C+hhQJxHKf2K2QuZIuC/4xfNEWtzl5TtDSexeEGAalIdO6WshdVpJDZM2kpKZZ0//NExEMcST6YANawcadVn0e25UtP1FcJqMMVtWcZ6Hb9injGfd1+HpP6J3L8T2j36/qoVpZ3hPUPzW3Vs/8rPDXP/RLsyji1XiK64a0Bo2k7ZV7+VSFiVnIvakZjx779//NExCQYITqgAMawcLL0jwyiz8QiZJZuvsRFpc7z3LhpcJt5O8ylUgpMtQDT5ZTU3lbyg2rTZ4ynv6uuvoqOSdilty4cYlpMZrXfd0AqyWYV39H3W/2tmTbryQPBA85k//NExBYR2SK0AMYecMBE4SCvUT1UnzWbI93tCGrXyBjD81lrOWfXhR9/EKJ9+Br+zP7SsL/hYOQlv6Ks+v1q7+roXPO/dQ4MQpa3VE8eVGeBpTvXYySDI4y3GCUNG27X//NExCESYSq0AMZecGl1t4Xiij71knaVexU0op/HgRrZgV15Y1dYj037ZtvUS4aUjv/ROdKas7/Rci1usOIS57MNZGFp4kwFIBqrOcgFVAzwG1Q1+TV+8IhCaR1ePpCs//NExCoRyTa0AMPecKnLecW/AVsX4mr/vX+4Gv823mt32/AqdIO/8S/HVdRDFFxFFpLQy7htYqF+FBgIkMS4kKCiztVLqlvK3J1UdmJLuUf44j7aWjrlxVEksnQcj6c3//NExDUSSTagAVhgAchdtNvzPZrWdW1muW+ZtmRrXebFKi+IZWC4IrcLqOiTFQCYZVLG+QGAxBZ0ueMGOSJsH4SluHNTv0IMgnBvA9ha4mu8U6gWWow3FHm+4PaU0hiE//NExD4fad6MAZp4AJOzLcz0iBkFvd33/9v2ezG/eNL+WNFP2J/Smrvaw4VMvHbnv2xj+997vvxo8TcKauPbyWjbgc7+5mv///f+WM3e4yODQwc40BOuPUpTKAaTAcpo//NExBMR+S6kAdpYALIcJTR5TTS529yHZ7WRaqji8ZjHEGbrPjqUcSARRnvKjfey7tzPd8WszPnDIZiTq+hgtRTUoPqDpFenw4IyKK1LJgrDA24e3KJDE5kRQ/cpPOGv//NExB4Q8TqkANSScEN9r56xr4wz9XRagAwTtJMrbSV5UZSqD8xdZqlJuLfVxZ4Dd6BeocI+Ms0LcRECNILTxZ2occCeeBt4/8/FcMK9F+Ups/XtZdyq87FbmGaWmJHB//NExC0R4TKYANYQcPCw0Hj2D4pj4s01hrXsls62Hp1lm/v8GgaB2puSNbPRwmub0w1AbmgWOBkhAgKQscIWo03F6povhsvzCh/z5/+Yzvma8u8kcMJBSTw3mW23K7zO//NExDgR+SZ8AMvMcPLdI82yxVVE6VBUBA1N1TcIAFdAAIIcwrK0UUxBxeDBZRtpJkIU0yIv2CgKizlER5zU9v87GYV2lGZr/QUaie51SjMxsvGFUlRT/X3ckjE3I+uL//NExEMPaRJwAVsYADNRs/FoMEOzrH44FJBhiaMSGHAJjxiZUYCg6LDpgYmPBIIBWpAgx3Hgvw5TIwBbyXNTdAyOOzAX4tyUDnzpkbUjNGmWmhLnDR59KupeouHnLiKa//NExFgf4l5cAZtoABfVX9iUMzc8Zpm7q1/0u3TSND5IGhKf//289NDM3L5uXZ/+/+ADgYpi6KqxDFfFATNaRFLilmDhRNWcLa0lIlG/7GrRJPkMfMRoHhyyxOuDhUXH//NExCsdYhqQAZlYANWOzCoJDVpRsIzWkO40YWex5Eea5Yw9fsJZuvX6ySbppsx9Me+3580e97oYuRh9PTUboLnf1UzFfHvg6CoHPEiBavzlnj0HlgH+mljKwKsFD49R//NExAgScaaEAdooAUfAwiZwuXqVSCBZyFbrrLe2T0XI1R6rcw3jhFjTeqPmWjIqzDRUYAAkALuPO5xEUGGYYZTCgcFBApcuif+nWqxYKnTh2JhW1M1hpZwHOrCCpDKC//NExBESiS6QAM4QcGrMRC+pfvOXTmEjlG8rOXN5Yd/PvCTpXPN3Ux6jEPJCAt1EdIW1ipSbFpLEKw8XA/3vW1AoYZ//A9Wrf6lqHTn5hKpcL5pVAFwtFHqXZz/bM7C///NExBkSkUKkAMYQcO9na+85zP+dSrZE1eZZ+WS2V3OFQPEESArEIUOFzhRTFLOGGuPcvHAcwqvdNKA6/2oV1+oJGAXu1BlCQdqCgrABTpr1Vs1F9WAZH3WUvw/Kmsc///NExCER+TKwAMYScIX+nvjU8jaUPJsw9IVCziVCWDE7pdupsp98UYnFTRkISEbY9jyX1s/+qOrgfK40Qu8/OTpAmDh6zdJerT9VYZj05urbhyxv8W9rz/8o77gvO4rE//NExCwSaTa0AMYScYZIguAgKBY6KC6NRpk299qKKwbcwYD6t++ds9U1Lef+1DR4fakECKsXo8ooCeWJqtwQJGRK1OVV3rhSs9/df2qxPfLV259oKOWEYrmZmQqMPghh//NExDUR8Tq4AMPScOcZTpR1T1R4sMeaJMGqSxo7+G3L93FG0ard2ytkBkdTPXQgSxnLcF8MR1vJutMT9OsUSZaPPmbHx45ujQTHObEV9bxycwOUsuv3Y1GxSuvdMuuv//NExEASWUK4AMPYcc2JMUX/bmXY64rfP+CR7FSm7xAUEgWN5P0NE82O+k+HIqNZOVD/vL1WpHOaMjum9hVIAVloSj9AX/rN6dObFectvbM7SmWtPbCG2nPVjtHHerrZ//NExEkROUK4AMPYcAQ7BzFPLMHANttak5usvoIkxfXat9iOWHJlrNTf/hTybmq8ph21Yu0seYlSi0eZWhgI7f83o/UEQ8WD27bW7f5FcijvV4wYO2AulR9UxS2MHBgw//NExFcRMUqsAM4ElFCPt0JHSSsgFFhozTbpYYk9nX9iuu6ckQFR1xKAX1VDl9Bdrq3FP///+rkgRDpOpFP/UAGmrW0KeibjL7I+mIQMcyDq9lbWylUDGGkcHynRpsNi//NExGUSWUKQAN5QcIRn+U+Xvtl/9zh+ky5KZPPdycFpC7OEri+DtQscZNX3/89bZMLfnf/hN1GqEQBdqGXSCwkM6Rc10JQUCmss9ChCMukg/gdt9HEdtL6Hbe6l2ls8//NExG4RsTaEAOaWcN2amWGNoTBxAdB8d0phVm2JAqWGjAJliq0f9YJHR1VYC98mMOeOWMYO6EDPC+zzA8BqCI0rub/bkMM/dL0cwQosXU8kI2z3dXBHBS9Z/kznUc9N//NExHoRSNZ8AOYGcFL5zWBHM24nfq8u35DL4gOHw+D4Py5TO3MzRUTPUsMbuyNuyli54Gnbeq9eCo/WVHUySM5QVenhui7b1FUer40vBPV2o1lLwZhPrtz1zA3XprDp//NExIcSeO58ANJEcL7B3ZIbvuT1iYhRdrvTo/3tN0YOL90qWABkxKXAeavOzVh0vtK2+T8yO8UXh2biEyqGarVHOnp5aO7NO6eBAJBkT3WMCdO7xBQa49YwAAyGoUEr//NExJAc4w6AAMpGuQuUSG/cJqLBsfgXOKtELQRGGb7djMwae/9WtLabKxYmr2We63N45TNWoiqp7Dsu3PA8F5mOgdWtHtDOf03V333cIbJipC97rzJehQviKFGqpr7f//NExG8eQdqIANYQmPWdaJ8wSEAxQoiFWs50v+akAvymTESUpOdNJO8IyBGcLj7SCMlgE06ysyT0rAwKKj7W1FEEEA1HYlIWIT3L5P8jIHCIDrViIRSHb2cro4zzdezW//NExEkiIe6MAN5SmO4o4ilH6hjBN5KREKMULkK7aC6qFw2WTnkZ5PIb+LithWWJ54+F9Pqy7R5lJsHBIPYSMiOj/+tz4xw0qASB4XqxvKZC6tA3KlkBgJztWuzIePb6//NExBMWCZagANYKlBmKlVMbs1pWvFC+phkFSu7OYpOCUX5s8dJpOOf1qLX/g+pOhVo459LyjFKygRxdBEUbOzaJ3R6jnLNx7li631hvnP//9FW7/J4xh2p0sEICxDKx//NExA0VcVqgAM4GlE2z8ydwUVnlFSBuN7TxkAFnV3QMJVcU9t6yy0Wv3pW9T9WsKm+frC0fT/rN8pfD/MuVmN4AtFYKLkIsVGC5Mh/0m/ERN////6nLeoNM86Faqg2U//NExAoTqVqgAM4ElA30fjkOnso7di6pWEKl9RPQHJbWPTJAq1Dtm6rDGcOzFnmsM+f///r/16f/+zhjDnEsDZFolLiEuCbj/qFL/lSN3///Sr26zkC22BaBTo0EddbJ//NExA4RYJKYANawTNJ02LE5gmcn7QKOx6MrBkyNmjxqZmfYHLA12JM5vYVKXhcEnsv//7FoGg0KhuTNkgmBFI/ff8GKltNMkBYBDbGDOzqjmcT6aJ9pr80xRBNYqJwi//NExBsTyi6UANTKmMHoAuYqnwahAPMMiUxzQ8Bo6BG816+vr9+n//+/Gso0LZ0Enerrqr17f/Vv/3qw5X///VRVjnaUqmgzXl0dHhHhszNVjHhlQ1Om4YhKyZMBDQKk//NExB4R8Z6QANSKlFUpB1RRhzS4LMFkshItul2/2////9t0OyggsWj/aYaz/87/Qlkr///3JX+7QDrAS1TzIgBTNqRMLHNRUuaOih6q2cAEJnqAGJ0lgKBJE510CMYK//NExCkSoH6IAM4SSIePvA5fcte5D486Y3JVSJS6anare3jLnf/FbZ9tEXJn3JUl1ACwmmDWOqmtrZkcFCci5gFm2C2BXJOLP3ex9kLX7oVcSzkuSTrqJrXc5q9in4/j//NExDEQWU6QAFhElPSpbNFKVcWZAzSR0EibwHHqAiizqo7pChvZy0z0R66v6F7UPGdimQjyiDCzCGKY40GYmSkwGnqHLWl7GGjt91jGrJY5tLRWis42m4WaRaBRyQIt//NExEIRWPaIADiEcDCJ0ZUEDxtw9aEdB5aS19TzwhdAICYQChKE51ggaOMFnui12td6r33QDbcIr46SjU1rcp7HjKRC571kBKEz4BGixVUELDhKWlrOssjm9XQfeef6//NExE8PkAqAAEhEAN/1ZmyOVSa3lJspGP+GfiScxSi07bP1GARQpVL4qEcyyXAw87e+s6q0QvF1gOAQGHIxRlhAqLIBFi3d/3dw4GLd3REREKuggAEIiIju7u7v+7u7//NExGMRqT50AGhGcLugQQT/1P/9Bbgbu7/nbXd3EAgCDCkT2LaJwPVVo8uL/3ddKEEHJesHx1WT9UUU8ykxaGVRVl7+G0UHUtYW5TKwV8SDOojyeJw9HARB3kqqPGqN//NExG8RiW6MAUMYADATQSCkP9kobSTVIlS0j0IAsHlA6O1FiiSjnZ5UTD5I/weJ65sdO01NrPu4PsPTubMqOVt9Ovc6eublkHH/Xe+vn+/2w6J/v6nj//8+1IAc1R4q//NExHsgioacAZpYAMKuSe4DLwGqmL9V9Yoa4KsSOQ+XONecA90wQVkr8xFdEs1zTC5m/rb1jjTacIedTUsmBtldJRHCxnSKJE+DQDGbFwskCFuSW6REiQJxkC6STppM//NExEshCs6gAdqAADSPFdZcGoRcvn5w4pBBavWpTMtSrTNjBBjEiKaZm553Ta2nNNlJspA0RMa06P////+3NVAaEogAdVX+fjAQNPBhClxjqmJmpJrRLU73wCkKHPhP//NExBkW4cKwANMWlE6WdWy6G/7Wi/sxp6Je2zGteDAPgJQnEgI5NJJ1R7Gy17E2rMs1K3EMUmBmkpcz/UX3//PfUxVbX0fXxxlsUZdbaVXmG8plHYRl3es2W7JuGOmK//NExBAWOcasANPWlFc9Dw3lQQ1z3nN2/H+863r5boUG2rbdrc9JjYDoQGskLpEpJGGOPOq9vLXIw42SbDLdMdT9d////93LZiXKCEKudNepf///uya5jj2CAsIeYkjp//NExAoTgTaoAM0KcGtHiqQBqkouAtmqnHPG86NNRe60m8Sm4WKOOlKLbJNt/+lDCR0g8Y//kQ6Eya6Yr4xhMu/W+s+t+XjQfe8ubWFggYKJ3/k9gTR5Vt1KhJzNNd+p//NExA8VsxqwAHhKvaL///0RCl/L//+Cv///52d3lzs7evSp0V52Vz1RimQvUphg8pxxnGuICDHUwmhziI0YHQkOdwIHQ8HRICCFyHD6h8MCAqJEUj5P4v////////////NExAsRKxq0AAhOvb/////Y686y/+lbmKmdshJ9TUd12OS5pUdH0cwqw6iKJyrFyDBzi0BxYqIxovJCSIDi4iD40KBOaF0P////X//6////8/////////+eOI+o//ri//NExBkR2xqwAAhQvdJm01ud6urmPu5tc+Wouh0G1ZpSbwUkGCKih6jy5IfBFTHAFsVDoWMEQWD0TFMKA//////////y//P///99f6N/ta52dRaN3Q05HfPRx8yXGqGI//NExCQSAyKwAAhOvHs7WkjB4bRMPohARR8Wg/B8CAuJxaLhcQGhglBANi40Jg5EZx/+X//////////z////+szT/7Uvuxx+6JNPd2cec5nMNLjYuwvWrIcaxjGkCLKx//NExC8R4xq0AAhOvYJzwsTFosAHBcJB4vFpAWD4IHBKOKGxoRoeAyTSKMH6ecv/569f5r//Qgn////0O2rf/R/ZWsdTCZXcog5GVmO1FjRKJgrGcWZZTsR0FjAELuCi//NExDoSQx60AAhKvOEg6ImFXMHjoKi7FkOo5LtaqrIjSrVDslMJwMI1yrIEIAx4b0Pe7b2dGln1HS6PYdRAs4A4F6ERwfb9V3KBRFP///+JTwlbrlRlUGtUOqlWK11n//NExEQRkKaoAMPSTEWkKqXlVbQ1Xlg3AFgw1XVwFJ0HxbrC7OeUmi2WPZNS3X3pLeEYOmrCSBISSNkTqD1qSqX0e/9ktbLmZk5m4w+r33IYk77mkN928A9lnoqGIwTE//NExFARQT6oAM6acDQ4oA9XckQ3B5ObsDUIdGiK8xYrUEPzRvIEqPhsMnVoka33F39laz7Gq6tfS9ZjLKUEIe4SI4Rqshgin0IqkmNYREER2tl21OI4z836RoHOJoxS//NExF4SEVKkAMvElKqN3EtQ9lHmSy2YRshc3kKhSRnfjEu59TLusefrHm/N+n/p1RzGdVDng/NxIOar/O3qm52DCGI3Su6JmjbN4WOATmPFcvMQAUFIJhwqxK2zl1DN//NExGgRwVakAM4ElM267Z5Den39UhDuFar3vb3/c7/9/6dtf69/76lqw8xQxWU2zKiOxxrQP0yEUQ6xbp5FqSuHDFkh6JF25GLlMkiooKIMLDIDf0HRSqQUIDoUTkOI//NExHQUqZ6UANYKlHgOQhoZBBW4GODDGl80EB0cetj2k2j0evW2rf++vXjHKcBmRhVKtVx7EMZrXv303RkQ1bdklH+H9VqvM+pgaYs9jTumHoqRiCxzy3o6/rYlF7DT//NExHQWci6MANUKmUUmgO27SvRf8DtbBrhp8j08VvW6n/zf//P/Xfo+nL2//21awkNFihMUMgs4iEQgSETmRbVtWeLPVHhwtQfJW//oUmdP1fMNTb1rih4OMsekQoLO//NExG0W6XKIANYKlCQR4rFoMU2lMZVlCCMfml0ACkKXMEHNe8KB7y4ceosvrv/6wiKBIkHB4dVsX/+rakSuTF/9/9b9FS01VjQaQkIKUOmVgN1DzwC+QcX3hQJybehV//NExGQS2JKIANaeTIrEgVSX2C2Xc3yx0I7dI0puxG1t2o5qF6viXnWCJ0UDPBUIHCGw5PEoQrwohjpEY1c0k8vrlTc2JFMI3TtIy+PW6j7rdT/c4uqRliOZ1EKnapih//NExGscmwaAAHpGuSTCBDjiOOAKC477i6smZpd43ZOYVyizZLKbOdEzTNhEECLTL2SZEoRnJR2R/9rIZ7W2a/a+XWb33R/oX90/vl/mfq1rpc53ZiMqEHRuAIq8xTW7//NExEsRMxaQAEBEuRy9ZEybyYShU5CiPPCFFczjZMQppcvaY2jcljld02bKiOky80y9tbI9V/VfYv2tpfKnmVHapi3TMqte2jEUBZflDjR+a+NcSi4ZQtzV3kWsE6Hb//NExFkRqwaAAFBEuY6LGliupTMMJCLVrG5BkiGioK3vmuhD5FDHJmUOqrbF4QHtFYu80bHLuWoKwei2TUtDZZjFaAYBsbTakir8jaO1ECcYaeIFn4OH/VbxE9JYRn6+//NExGUPGDp0AHhGBLzP/i4PX8eS78P/pe4f/vif//a777aADszL6Y6vO/683+DVgZ1I4XsRoBJQcNdayErjdoDkiMSYgzN142IZcEAPGzsvGkCQsLKHndZYvP8rdthZ//NExHsSmM5wAGhEcboliWP4gFgmA0OUVBzRsEh1t5everp3ASHS6W+ssqfsXOjnGCYkIh4WWQosxmIzKg0HKdyM5HJTp5dPaqUO5LEKn5LflvKapnOjNXKjFdnbayvE//NExIMhIxqIAMMKvRpFd2M2cAS3QN4xhJYcwETgGAQMREIoZLkPZZhyi1S1eqghcqtfJFLRo0ri5wtNR1x8wlMp2eFlwJO0ta6Ww1ApZxtZ/KxgZZkGh8aMiy+Gg1P0//NExFEfqaqYANPelKjgUDB6xvuuaTa3W+d63T6xm98Sx9biyFzQ16DAqKyYHJnIeSm6z//3SkYArVrHv7IHq/p3QoAasnhJ52aGQDNsqgOR/+yAv1TK/0q9E0+HE5/b//NExCUWCaqsAMLelGsmq5MIrYl5TMDjIWj6LpD3O+GZoYKQEdN75g21rGaU+a31/Xf+aUx4M0PYQAb9a6UI9NX+80SA17ahidEQs4QxtZ+zEhK8HRbHhe2cSM5XocY0//NExB8UKaawANHelNOV/jdMYhMz1zjJ0yR5GRGccRlY4SKJ64VkfQ8TVrfGsZrvWfn61XG8fOtwMMGepm5a1/M3BAUSDne7IBjSJH8schONNQhCTjowQ6kNTj+hXol9//NExCEUUU6sANHelPxCliUtCURoUNEkIuR4qvHb1QzxpHKVqialraPsOgNqWBRTSzThIPG1cUmv////+iqU9/6Az6V63Vpn+UtBdPW+FQGXusn5EKr+W6kr8hJPqf25//NExCIToaqkANKWlFvaH4DYaKGAfhBAbZuNh3Od087cnZg/+1SuN1fxT6a066In7az////7/2ixusO/8cNMYdt/L0tMCjD70//wlP1Juo8fp8XP0N7HPTL1pmJOHlEl//NExCYSEa6kANKalM4oN1FFFRIMg5mXy8pJnY/6d9TutbnH2Was1fyfq///9HqqjmGHREGMKDdN05GQBDhBg6cC8uOFgy11fuQ545/6Vx/vf/9//h7tdEqSilGNCINP//NExDAR2UKoANHScPNBrmipMhZvsSBYKXN3pWp5J//////9FWKy2rBxn4wcTLSkIQBHjNEQSiNKIQ4IQNZxgu37LrGcbrTWPBi/86f2qtztX/me9UWE4cSEgHe5oKEo//NExDsR0TKIANPMcJoBWCosJSKzrK/y2lV85ybcI6PTXaGjYWKnwjOCEJpG0JgjQEBs1zDfsOJFKw4WLG73nIOy9/yctEvHMCYjn79Kn/sUWV29N/r/q9+aTM0pW6zt//NExEYYSVaIAMMYlF4WBAYEAGfKA84oUUUMnz5/XWUl67Mv/ILT9armpllZHE40vJADU/QlBwTvHZkBs7dlxnlqUFqTbq3YtUuyuRYZUj3GdNr7Fmp7Dhti5hn+b5Nj//NExDcX8TacAM5ecFZmhbWIjJM5Zj3jZviLGxuMzSazEB4RlhGExIKqCl1zHvb//Q3//+miq92VQj0t9FGBjp2Dy5hwTQQOi6c7Tb2MvbW9921/x+Xbwqf7RtbN6HKi//NExCoSKTqoAMaScLYoMh55dohMzWnnnH+bOQyWzlT29ZwESA1L391C002a/JsxMLHYNBPYRMC6RaomUDTd4aWre1Yl3a8vfrOvT2dIbVIKzUi1lqC44G4C4aG2Qs6N//NExDQQoTKoAMYQcAjrFPUyl05gjWETGS/5FZRe8LwYlFVbxJLqRwliCipwIYBXFpUiUCMrJzl+UV45oqmAy2npvKTTQz6J71SFazw/iqFPLyNSyV1v8tjG4xStVk6l//NExEQSATacAMPScL/6WeuzF0/UnWVByUxYkqFX0PJ/KAAoxE6NJ6LBQCpZUcmV0cJsSOYvz/0mV3RunbN8mCIkoKgOV3WZ5/K3b89QzelHI02/jFt/11n38UVXwlon//NExE8SoTaMAMYScCE0rth+FKfxkgTDNYikc0l52biBgeR23HirzzmEikVenfuWUkCl9YcFA/LaGbLDyqtecgTHgwipBStOm0L8+2+9Wyyk3g4QVOlNvWZV6ejHHIgE//NExFcUwTKcAH4YcN/VskIYxyqMLVfDTGlNl6OSgmEKU841BTW90sMsjh+lnL9TLnj1lqRxhGaOl5sPCyIBXHQ8hZpFx8sy8TFNtmbz8goEHNcqP395dHmFtrg7j7+g//NExFcUISaoAMYYcKDWkQWVGu3pbY0ipcUwGh37EE455S1+7dyhsVpPekmTGSSkDclAqmbuTOMs19i7GNV6ouZDVOs/AYPRyGfrrcucZkLDv/ERYkvwkpdyMSuMjkJf//NExFkRMTa0AH4WcLh13kZnHy63GUcrYQrm6VF9WVn7VLSS8WQNktSPp9SYY6SzT74zO1d/suobq7ZziRpqbEf/kdfC7BPZ7YF2ov0dlmWOjAxGB3orEk5oEvXWk0mv//NExGcSgTq0AMZYcJmHMPsZKPw6rMl0RDy5VApE4ycwUllzMs851l1b6yxSjKwuKhC7/1tb0qXH/ql0b/3SBLX6m3qDB2aNhIM+Wbl28Gqxe/dfWG7f6p6S4lSeerEw//NExHAR4Sq0AH4YcKMSaCTlgBAmUdcW4VJ7EIXsKlLJJa9AkHQz//qF+tDX7oBGiWaruCU2v/sgPaZvqaI7FIOfHVcd3jNtn/9wX1jwdayog0CRBwksYJojAuuYmGpI//NExHsRuS60AMYScPLzF6kjd1oGZ7UfqbT+mVdy9FVeUwIpVpg3oOijbIEurXlCVaW7y5TMuh3mfIcl39m9bUGo9RAagmRkKSpGFyI0sw0rGGTZz3W7WVs2F1bJnU1f//NExIcRiUKwAMZacPij/pX/Qu43neiZgGyEwCeFxErrTpqZGwrDqJ6GswLJYvFH+nJRO1rduG2gis9aCMZI7GgV1AVRNzuO1Ol7zZQVmvkGmsm1N9f/9fWq5+ZYHLcH//NExJMQ4TK0AIYScEErZTbdhY6BhnUAHQMIXgNIGKaqGLl6uZ1hWwWxtrn4qXQuRLT9LdhUSy6BAWoVlfVZ/cYnvdrDfJco98WPA+eY7//Vy/FGTOoSCbzGCwgUulIq//NExKISCT60AH4ScBvlpEMBnPrFGZXuTb22cGZy2z2XdlPXDhvpPMYHC11gaj6sRI7fn3/pvScrOOPWpAJweA55Eh/MO6xb//////Qq+kgEBpUUZHRQpxqRMA4leViK//NExKwSeTK0AMPYcCuOXvAs2zWYTY111sas9/Ej22miQ92MG61wAQnG3kfLLqyvi3na81M0jy8dsZekWHu2XbWPTZr//03KxKxa1+6FG7lA6VmttbDCaSaJGPnk+DUL//NExLUTySawAMZYcPDafWdhwb/bN/6Q9mXbNnW8hk5ekDJ1hI9rbu67uP9lHZy02d9th72zg1xJH+hnAy2vgz0t5S5BeFeoIir/slUjFqemDK2OJk1dyh77z1QrHsi///NExLgS6TKsAH4YcFM8InLJJCQRQ64EkAplmK3LmtO8x/VOv2y2Kcah9g9/9+S9n/////9KTofKIGwtPBQW21F/TAomUw8d4uKC4Mk9Ssvp86r1PNnMPNyvO77eXdZb//NExL8ScTKoAMYYcC8QJKHsNacitonfb7vj//93alOlpL/8nxX//v///qqqATAaGCMockALBE9DQuAcfEhRUCBUCYgiJCXIh5yWUst3EH63cl3Ka6cTTFHQ2DwnHEix//NExMgSqS6kAMYWcChVzX98fF6/8X815VA1/////////7qaNtXOBRFjJrQBnQAlHNUQMkfYIslpsZRVjNLdhzYfDnFzCBijGeBCE+KHg1D8QQ/me5uHD89zRKU9Rz5l//NExNASUSaYAMYWcD0ZicaMpTl6/qEz54cTDhU4tr6ie/qOY7qnHOPFrtv///+JmJpH+44GRSwOVqrv7/vhuPnuUR0pjFOXzIHW7mQJ4NBkclUiTTFhKRTgHajgOaLb//NExNkSYSZ0AVpAAAmNGR9gm6fctk2TgIgJpBNQZDTMmEgUCQNCNzqSQbycsmHiA6Vse+6l9nX7FTFI3cqab66inw1l2mTS43WNTyEM989xVMlr46ttFjkmExOr5r66//NExOIgSypgAZpAAH3P7omJq9Crnne5+drYs5k3vuz9/zw3umXXx9vibNTB7KNMwOolBWdJz+QECgPgRDL3GYMDS3DCoCI0+NHy8OChA9CkA6A4Ogdo3mZ0xqjcd473//NExLMhKyqEAY9YABJx7HtMeTVrVYiSuEWk6Ge2dW32/tzmdEk2NuHO7ir20svwm+LtRzq7nmXd332xvXMN5a2JbtNd+u7/6jZEvt9TdxF/tg2h2VK9//72MmGVV/N2//NExIEiGyqAAZlYAPemw0PVa0LVBOwONCmhxsqrLeOkY1gXVBzyPLopgu8gUzmEu0H0MyKAYB8wKjyJOLg8ghFySpJ/yWXwdXNB3nyazmeJqmNTQebPUKfn+TRNMoUa//NExEsgEuJ8AZlYAda5Jxr//59rnLvzm6ZQ1DyZ7//9XdNQ63xDYbFtae3HV////+NstuFYaxpx/9Sx6RudmkUZFZW02AAGJXTVF/14ajNiNR6JRqVZdtV6kqnr/N20//NExB0XsPIUAdhIAEKmlckq5h5gU8FGKmdt+27dyaT3NQSUBnFC5NYYDIkIAs0Kzyr1DmA7ZMycX4YEFiTYu6Y0GVbMRLURsWyduFxQUS5bDkyw9SrScAxCgsBgQVtg//NExBERSTIUAEjKcHCAt4chnMIB4wsFjhQrFFRE5Ueq0W8v9dyjUNGb0SkQsnR5w8n3HZMePYYtXR/GdH9kzw0qFgayKtObak0aa3NhyngUNmUuZKilyiYpwG4yw2PA//NExB4RCL4MADmGTClhIyx5hahY7GiBrha9hMVW7ojfJGksMsSxG4aZXTkjLHMqhZrE1QYOj0LcsoJKz2GJN1xLb+fNCGiiqpuPEvm+imGDXfSs+pLlfK/0q9dQ9+uS//NExCwRgD3oADBEBZv/fvlVfqW9/+7Irbyv3mfzavm/oq4r/zcnEZZkZE/wrL/WBg4/yy1P/zaz+LJZ9lkf/mRT/2Wy/LAdQ/7L//q0s+ygo6fZZn/7Ksv9YGDj/LLS//NExDkSMrWEAAjGuf/2az+KCBUztNB//olf6p0hYIYDYQHHA2EBzSvDSmiiwhACiwRB2EUQHBgmCIXAgDINHJYFhhdBM4cf+w48apH/YOAaCBM4OAH///eOLoUBgoKg//NExEMPoJnUABjGTGBiQyCg4zCxMHFGJYxMFBcLGCoGBqDRnEh0FAWAoiOhRaWhUeWJEWuf8iTc8BIs/IsCQ8BCYkeCQ//7/+5S0oUFAkwkGJhIMeOBTA4KBLCRSAUJ//NExFcQ4KXsABjGTEAoSYkRPRJHqJFqJHWidaJ1gqRCQFIhX/tHpaAiQVAREJAUiNSLAUiFQE3//6GDUtHpYMQqCwfICc8TCkRDIyUI0DZlEQlkk0po5N+TLLAYMI4z//NExGYRyLHkADGMTCsFBAg6B4ChUWJP9QsK0jG/QPFRQSGgKKiweNDxRv//qvWKixo0FRQWDViHi5hWf5TtTcDAwMPygIDQfBCIDhQaD58ECgIHFAmoEFvB8P8H+7WD//NExHERwMFcAEpGTI7DHqBAMdTigJg+D4Pg+ciCDjoIBiXB9///hio4lZqMEgEAgESqqAgKlqvGZmVVVVL4zaqJU6oGj2oGngt8SxE/UDVYKhrKgqCoNA0DT//ywNSo//NExH0RUD3wAHsGBCoaUDQd/BkFQVBUFYilQWyNTEFNRTMuMTAwVVVVVVVVVVVVVVVVVVVVVVVVVVVVVVVVVVVVVVVVVVVVVVVVVVVVVVVVVVVVVVVVVVVVTEFNRTMu//NExIoR6LHsADDGTDEwMFVVVVVVVVVVVVVVVVVVVVVVVVVVVVVVVVVVVVVVVVVVVVVVVVVVVVVVVVVVVVVVVVVVVVVVVVVVVVVVVVVVVVVVVVVVVVVVVVVVTEFNRTMu//NExJUAAANIAAAAADEwMFVVVVVVVVVVVVVVVVVVVVVVVVVVVVVVVVVVVVVVVVVVVVVVVVVVVVVVVVVVVVVVVVVVVVVVVVVVVVVVVVVVVVVVVVVVVVVVVVVVTEFNRTMu//NExKwAAANIAAAAADEwMFVVVVVVVVVVVVVVVVVVVVVVVVVVVVVVVVVVVVVVVVVVVVVVVVVVVVVVVVVVVVVVVVVVVVVVVVVVVVVVVVVVVVVVVVVVVVVVVVVVVVVVVVVV//NExKwAAANIAAAAAFVVVVVVVVVVVVVVVVVVVVVVVVVVVVVVVVVVVVVVVVVVVVVVVVVVVVVVVVVVVVVVVVVVVVVVVVVVVVVVVVVVVVVVVVVVVVVVVVVVVVVVVVVVVVVV//NExKwAAANIAAAAAFVVVVVVVVVVVVVVVVVVVVVVVVVVVVVVVVVVVVVVVVVVVVVVVVVVVVVVVVVVVVVVVVVVVVVVVVVVVVVVVVVVVVVVVVVVVVVVVVVVVVVVVVVVVVVV\" type=\"audio/mpeg\" />\n",
              "                    Your browser does not support the audio element.\n",
              "                </audio>\n",
              "              "
            ]
          },
          "metadata": {}
        },
        {
          "output_type": "display_data",
          "data": {
            "text/plain": [
              "<IPython.lib.display.Audio object>"
            ],
            "text/html": [
              "\n",
              "                <audio  controls=\"controls\" autoplay=\"autoplay\">\n",
              "                    <source src=\"data:audio/mpeg;base64,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\" type=\"audio/mpeg\" />\n",
              "                    Your browser does not support the audio element.\n",
              "                </audio>\n",
              "              "
            ]
          },
          "metadata": {}
        }
      ],
      "source": [
        "#@markdown gTTS (multi-language)\n",
        "!pip install gTTS\n",
        "from gtts import gTTS\n",
        "from IPython.display import Audio\n",
        "import ipywidgets as widgets\n",
        "\n",
        "def etts(mytext, lang='en', dialect=None, slow=False):\n",
        "    if slow:\n",
        "        speed = 0.5\n",
        "    else:\n",
        "        speed = 1.0\n",
        "    \n",
        "    if dialect:\n",
        "        lang_code = f\"{lang}-{dialect}\"\n",
        "    else:\n",
        "        lang_code = lang\n",
        "    \n",
        "    tts = gTTS(mytext, lang=lang_code, slow=slow)\n",
        "    tts.speed = speed\n",
        "    tts.save('sample.mp3')\n",
        "    return Audio('sample.mp3', autoplay=True)\n",
        "\n",
        "# Define the language and dialect options\n",
        "languages = {\n",
        "    'English': 'en',\n",
        "    'French': 'fr',\n",
        "    'German': 'de',\n",
        "    'Italian': 'it',\n",
        "    'Japanese': 'ja',\n",
        "    'Korean': 'ko',\n",
        "    'Spanish': 'es',\n",
        "    'Russian': 'ru',\n",
        "    'Chinese': 'zh'\n",
        "}\n",
        "\n",
        "# Create the language and dialect dropdown widgets\n",
        "lang_dropdown = widgets.Dropdown(options=languages, value='en', description='Language:')\n",
        "\n",
        "# Create the slow checkbox widget\n",
        "slow_checkbox = widgets.Checkbox(value=False, description='Slow')\n",
        "\n",
        "# Define a function to handle the button click event\n",
        "def on_button_click(btn):\n",
        "    lang = lang_dropdown.value\n",
        "    display(etts(input_text.value, lang=lang, slow=False))\n",
        "\n",
        "# Create the text input widget and button\n",
        "input_text = widgets.Text(description='Text:')\n",
        "btn = widgets.Button(description='Speak')\n",
        "btn.on_click(on_button_click)\n",
        "\n",
        "# Display the widgets\n",
        "display(widgets.VBox([input_text, lang_dropdown, slow_checkbox, btn]))"
      ]
    }
  ]
}